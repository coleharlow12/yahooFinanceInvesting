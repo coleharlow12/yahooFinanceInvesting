{
 "cells": [
  {
   "cell_type": "markdown",
   "metadata": {},
   "source": [
    "## Import Yahoo Finance API\n",
    "\n",
    "## Setup\n",
    "- Really important to get things working properly [GitHub Pull](https://github.com/ranaroussi/yfinance/pull/480/files). Affects base.py  \n",
    "- General note, in order to determine the location of a python library (intalled by pip), run the command pip(3) show 'library name'\n",
    "- In addition to the pull made above I actually followed the GitHub Pull [Here](https://github.com/ranaroussi/yfinance/pull/174). The author of this pull created their own branch [Here](https://github.com/ohenley/yfinance/tree/patch-1), I copied the file [base.py](https://github.com/ohenley/yfinance/blob/patch-1/yfinance/base.py) from this branch and replaced the base.py file in the initial install. So far everything appears to work  \n",
    "## To Do  \n",
    "- Check the yahoo_fin section of this [article](https://algotrading101.com/learn/yfinance-guide/) it tells how to download all of the markers (done)\n",
    "\n",
    "\n",
    "## Gen Notes\n",
    "- Data is up to date at least within previous close"
   ]
  },
  {
   "cell_type": "markdown",
   "metadata": {},
   "source": [
    "## Things I want to Record\n",
    "- [NCAV](https://cabotwealth.com/daily/value-investing/bargain-stocks-net-current-asset-value/)\n",
    "- PE Ratio Graham liked to see it be below 9 (but positive obviously)\n",
    "- [Current Assets](https://www.investopedia.com/terms/c/currentassets.asp) :All Current assets represent all the assets of a company that are expected to be conveniently sold, consumed, used, or exhausted through standard business operations with one year. Includes cash, cash equivalents, accounts receivable, stock inventory, marketable securities, pre-paid liabilities, and other liquid assets (Available via call to Balance Sheets as 'currentAssets')\n",
    "- [Total Liabilities](https://www.investopedia.com/terms/t/total-liabilities.asp) : Total liabilities are the combined debts and obligations that an individual or company owes to outside parties. Everything the company owns is classified as an asset and all amounts the company owes for future obligations are recorded as liabilities. (Available via call to Balance Sheets as 'totalLiabilities')\n",
    "- [Current Liabilities](https://www.investopedia.com/terms/c/currentliabilities.asp) :This one is more complex as the call to balance sheet odes not include it as a column. My best guess would be to call 'Balance Sheets and then add 'accountsPayable','CurrentLongTermDebt','otherCurrentLiabilities'"
   ]
  },
  {
   "cell_type": "code",
   "execution_count": 2,
   "metadata": {},
   "outputs": [],
   "source": [
    "import yfinance as yf\n",
    "import pandas as pd\n",
    "import numpy as np\n"
   ]
  },
  {
   "cell_type": "markdown",
   "metadata": {},
   "source": [
    "## Load Balance Sheet Data and Definitions of Included Data\n",
    "- Treasury Shares (shares bought back by the company)\n",
    "- Total Stockholder Equity\n",
    "- Common Stock\n",
    "- Other StockHolder Equity\n",
    "\n",
    "# To Do\n",
    "- Using the above values I should be able to calculate the amount of preferred stock outstanding for a given company"
   ]
  },
  {
   "cell_type": "code",
   "execution_count": 9,
   "metadata": {
    "scrolled": false
   },
   "outputs": [
    {
     "name": "stdout",
     "output_type": "stream",
     "text": [
      "                             2019-12-31    2018-12-31    2017-12-31  \\\n",
      "Capital Surplus            3.793800e+08  3.712250e+08  3.601530e+08   \n",
      "Total Liab                 4.782080e+09  3.236953e+09  2.383226e+09   \n",
      "Total Stockholder Equity   2.261332e+09  1.928504e+09  1.762574e+09   \n",
      "Deferred Long Term Liab    3.616030e+08  2.490100e+08  9.991500e+07   \n",
      "Other Current Liab         3.154080e+08  2.919810e+08  2.637110e+08   \n",
      "Total Assets               7.043412e+09  5.165457e+09  4.145800e+09   \n",
      "Common Stock               7.000000e+03  7.000000e+03  7.000000e+03   \n",
      "Other Current Assets       1.052060e+08  1.069010e+08  1.756150e+08   \n",
      "Retained Earnings          1.955187e+09  1.625481e+09  1.469732e+09   \n",
      "Other Liab                 4.915690e+08  3.776440e+08  3.313950e+08   \n",
      "Treasury Stock            -7.324200e+07 -6.820900e+07 -6.731800e+07   \n",
      "Other Assets               7.581120e+08  7.039790e+08  6.252220e+08   \n",
      "Cash                       9.789570e+08  1.004733e+09  8.008490e+08   \n",
      "Total Current Liabilities  1.112044e+09  8.345350e+08  6.643330e+08   \n",
      "Short Long Term Debt       2.140560e+08  1.635570e+08  1.154300e+08   \n",
      "Other Stockholder Equity  -7.870000e+05 -1.193000e+06 -1.464000e+06   \n",
      "Property Plant Equipment   4.899857e+09  3.116012e+09  2.238468e+09   \n",
      "Total Current Assets       1.385443e+09  1.345466e+09  1.282110e+09   \n",
      "Net Tangible Assets        2.261332e+09  1.928504e+09  1.762574e+09   \n",
      "Short Term Investments     1.053210e+08  1.027890e+08  1.009370e+08   \n",
      "Net Receivables            9.482000e+07  4.766000e+07  1.191670e+08   \n",
      "Long Term Debt             1.959168e+09  2.024774e+09  1.387498e+09   \n",
      "Accounts Payable           4.360100e+07  3.932000e+07  2.282200e+07   \n",
      "\n",
      "                             2016-12-31  \n",
      "Capital Surplus            5.510040e+08  \n",
      "Total Liab                 1.757320e+09  \n",
      "Total Stockholder Equity   1.394607e+09  \n",
      "Deferred Long Term Liab    7.553400e+07  \n",
      "Other Current Liab         2.063920e+08  \n",
      "Total Assets               3.151927e+09  \n",
      "Common Stock               7.000000e+03  \n",
      "Other Current Assets       8.703500e+07  \n",
      "Retained Earnings          1.063633e+09  \n",
      "Other Liab                 3.280110e+08  \n",
      "Treasury Stock            -2.200370e+08  \n",
      "Other Assets               7.108600e+08  \n",
      "Cash                       7.009000e+08  \n",
      "Total Current Liabilities  5.319500e+08  \n",
      "Short Long Term Debt       8.435400e+07  \n",
      "Other Stockholder Equity  -1.345000e+06  \n",
      "Property Plant Equipment   1.465222e+09  \n",
      "Total Current Assets       9.758450e+08  \n",
      "Net Tangible Assets        1.394607e+09  \n",
      "Short Term Investments     1.001550e+08  \n",
      "Net Receivables            4.113600e+07  \n",
      "Long Term Debt             8.973590e+08  \n",
      "Accounts Payable           1.519300e+07  \n",
      "DatetimeIndex(['2019-12-31', '2018-12-31', '2017-12-31', '2016-12-31'], dtype='datetime64[ns]', name='', freq=None)\n",
      "DatetimeIndex(['2019-12-31', '2018-12-31', '2017-12-31', '2016-12-31'], dtype='datetime64[ns]', name='', freq=None)\n"
     ]
    }
   ],
   "source": [
    "msft = yf.Ticker(\"SAVE\")\n",
    "\n",
    "# show balance sheet\n",
    "a = msft.balance_sheet\n",
    "\n",
    "print(a)\n",
    "print(a.columns)\n",
    "\n",
    "dfa = pd.DataFrame(a) # I believe it is actaully already a pandas dataframe\n",
    "print(dfa.columns)\n",
    "\n"
   ]
  },
  {
   "cell_type": "markdown",
   "metadata": {},
   "source": [
    "## Items In Total Current Liabilities from Above List\n",
    "- Accounts Payable \n",
    "- Other Current Liabilities\n",
    "- Short Long Term Debt (long term debt due in next 12 monthes)\n",
    "- "
   ]
  },
  {
   "cell_type": "code",
   "execution_count": 8,
   "metadata": {},
   "outputs": [
    {
     "name": "stdout",
     "output_type": "stream",
     "text": [
      "Total Current Assets: 8206000000.0\n",
      "Total Current Liabs: 18311000000.0\n",
      "Total Liab 60113000000.0\n",
      "ratio of Total Liabilities to Current Assets(debt load): 7.325493541311236\n",
      "Current Ratio (Current Assets/Current Liabilities): 0.44814592321555347\n",
      "Quick Ratio ((CurrentAssets-Inventory)/Current Liabilities): 0.34705914477636396\n",
      "Net Current Assets Values -10105000000.0\n",
      "0.5499 e10\n",
      "Intangible Assets                   2.084000e+09\n",
      "Capital Surplus                     3.945000e+09\n",
      "Total Liab                          6.011300e+10\n",
      "Total Stockholder Equity           -1.180000e+08\n",
      "Other Current Liab                  8.001000e+09\n",
      "Total Assets                        5.999500e+10\n",
      "Common Stock                        4.000000e+06\n",
      "Other Current Assets                1.580000e+08\n",
      "Retained Earnings                   2.264000e+09\n",
      "Other Liab                          1.292700e+10\n",
      "Good Will                           4.091000e+09\n",
      "Treasury Stock                     -6.331000e+09\n",
      "Other Assets                        3.352000e+09\n",
      "Cash                                2.800000e+08\n",
      "Total Current Liabilities           1.831100e+10\n",
      "Deferred Long Term Asset Charges    6.450000e+08\n",
      "Short Long Term Debt                2.749000e+09\n",
      "Other Stockholder Equity           -6.331000e+09\n",
      "Property Plant Equipment            4.205800e+10\n",
      "Total Current Assets                8.206000e+09\n",
      "Long Term Investments               2.040000e+08\n",
      "Net Tangible Assets                -6.293000e+09\n",
      "Short Term Investments              3.546000e+09\n",
      "Net Receivables                     1.750000e+09\n",
      "Long Term Debt                      2.089600e+10\n",
      "Inventory                           1.851000e+09\n",
      "Accounts Payable                    2.062000e+09\n",
      "Name: 2019-12-31 00:00:00, dtype: float64\n"
     ]
    }
   ],
   "source": [
    "ts = a.columns[0] #Selects the first data for the balance data\n",
    "g = a[ts]\n",
    "print('Total Current Assets:',g['Total Current Assets'])\n",
    "print('Total Current Liabs:',g['Total Current Liabilities'])\n",
    "print('Total Liab',g['Total Liab'])\n",
    "\n",
    "debtLoad = g['Total Liab']/g['Total Current Assets']\n",
    "CurrentRat = g['Total Current Assets']/g['Total Current Liabilities']\n",
    "quickRat = (g['Total Current Assets']-g['Inventory'])/g['Total Current Liabilities']\n",
    "NCAV = g['Total Current Assets']-g['Total Current Liabilities']\n",
    "print('ratio of Total Liabilities to Current Assets(debt load):',debtLoad)\n",
    "print('Current Ratio (Current Assets/Current Liabilities):',CurrentRat)  #We want this to be at around 1.5 or greater\n",
    "print('Quick Ratio ((CurrentAssets-Inventory)/Current Liabilities):',quickRat)\n",
    "print('Net Current Assets Values',NCAV)\n",
    "      \n",
    "# For some reason I cannot figure out what all on the balance sheet goes into the calculation of the \n",
    "# Total Current Liabilities\n",
    "f = g['Total Current Liabilities']-g['Other Current Liab']-g['Accounts Payable']-g['Short Long Term Debt']\n",
    "print(f/np.power(10,10),'e10')\n",
    "\n",
    "print(g)\n"
   ]
  },
  {
   "cell_type": "code",
   "execution_count": 4,
   "metadata": {
    "scrolled": true
   },
   "outputs": [
    {
     "name": "stdout",
     "output_type": "stream",
     "text": [
      "Dividend Rate 2.24\n",
      "Annual Dividend Yield 0.009755414\n",
      "Forward PE (uses forcasted earnings) 28.69612\n",
      "Trailing PE (based on last 12 monthes of earning) 34.579773\n",
      "Price to Book Value: 13.14044\n",
      "Forward Earnings Per Share (uses forcasted earnings): 7.47\n",
      "Trailing Earning Per Share (uses last 12 monthes of earning) 6.199\n"
     ]
    }
   ],
   "source": [
    "info = msft.info\n",
    "#print(info)\n",
    "print('Dividend Rate',info['dividendRate'])\n",
    "print('Annual Dividend Yield',info['trailingAnnualDividendYield'])\n",
    "print('Forward PE (uses forcasted earnings)',info['forwardPE'])\n",
    "print('Trailing PE (based on last 12 monthes of earning)',info['trailingPE']) #ideally less than 9\n",
    "print('Price to Book Value:',info['priceToBook']) #Ideally less than 1.2 #book value is total Assets-total Liabilities\n",
    "print('Forward Earnings Per Share (uses forcasted earnings):',info['forwardEps'])\n",
    "print('Trailing Earning Per Share (uses last 12 monthes of earning)',info['trailingEps'])\n",
    "\n",
    "#print(info)"
   ]
  },
  {
   "cell_type": "markdown",
   "metadata": {},
   "source": [
    "## Practice Writing into Pandas Dataset\n",
    "- writing additional rows [tutorial](https://appdividend.com/2020/01/22/python-pandas-how-to-add-rows-in-dataframe/)"
   ]
  },
  {
   "cell_type": "code",
   "execution_count": 5,
   "metadata": {},
   "outputs": [
    {
     "name": "stdout",
     "output_type": "stream",
     "text": [
      "  Ticker P/E Dividend Price to Book\n",
      "0   MSFT  10        1             3\n"
     ]
    }
   ],
   "source": [
    "df = pd.DataFrame(columns = ['Ticker', 'P/E','Dividend','Price to Book'])\n",
    "nr = ['MSFT',10,1,3]\n",
    "\n",
    "df = df.append(pd.Series(nr,\n",
    "                         index = df.columns),\n",
    "               ignore_index=True)\n",
    "print (df)"
   ]
  },
  {
   "cell_type": "markdown",
   "metadata": {},
   "source": [
    "## Use Yahoo Finance to Get Names of All Stocks\n",
    "- Useful [tutorial](https://algotrading101.com/learn/yahoo-finance-api-guide/) on yfin\n",
    "- yfin has the dependency of requests_html which is NOT installed by default in Anaconda\n",
    "\n",
    "## Notes\n",
    "- When loading all of the others list there are many funds to invest in. I imagine all of these funds will have a PE of either 0 or NA. Since my script will not be able to evaluate funds I am going to need a way to ignore them automatically "
   ]
  },
  {
   "cell_type": "code",
   "execution_count": 3,
   "metadata": {},
   "outputs": [
    {
     "name": "stdout",
     "output_type": "stream",
     "text": [
      "Number Stocks in SP500 505\n",
      "Number Stocks in Other 5557\n",
      "Number Stocks in Nasdaq 3870\n",
      "Number Stocks in Dow 30\n"
     ]
    }
   ],
   "source": [
    "import yahoo_fin.stock_info as si\n",
    "dow_list = si.tickers_dow()\n",
    "nasdaq_list = si.tickers_nasdaq()\n",
    "other_list = si.tickers_other()\n",
    "sp500_list = si.tickers_sp500()\n",
    "\n",
    "print('Number Stocks in SP500',len(sp500_list))\n",
    "print('Number Stocks in Other',len(other_list))\n",
    "print('Number Stocks in Nasdaq',len(nasdaq_list))\n",
    "print('Number Stocks in Dow',len(dow_list))"
   ]
  },
  {
   "cell_type": "markdown",
   "metadata": {},
   "source": [
    "## Checking Outputs for a Fund\n",
    "- Looking for methods to ignore funds\n",
    "- Testing done on [DOG](https://finance.yahoo.com/quote/DOG?p=DOG&.tsrc=fin-srch)\n",
    "\n",
    "## Results\n",
    "- for dog the balance sheet returned an empty array since funds do not necessarily have a balance sheet since they are just investments in various other stocks managed by others\n",
    "- Using dog.info takes about 540 us to execute. In contrast dog.balance_sheet takes about 2.57 seconds. CORRECTION: Whichever request goes first takes a long time, whatever request is second goes fast. I imagine this has to do with how data connections are made"
   ]
  },
  {
   "cell_type": "code",
   "execution_count": 13,
   "metadata": {},
   "outputs": [
    {
     "name": "stdout",
     "output_type": "stream",
     "text": [
      "2.214624\n",
      "6.5e-05\n"
     ]
    }
   ],
   "source": [
    "import time as tm\n",
    "dog = yf.Ticker(\"DOG\")\n",
    "\n",
    "ts = tm.time_ns()\n",
    "dgInfo = dog.info\n",
    "te = tm.time_ns()\n",
    "print((te-ts)/np.power(10,9))\n",
    "\n",
    "ts = tm.time_ns()\n",
    "dgBal = dog.balance_sheet\n",
    "te = tm.time_ns()\n",
    "print((te-ts)/np.power(10,9))\n",
    "#print(dgInfo)\n",
    "\n"
   ]
  },
  {
   "cell_type": "markdown",
   "metadata": {},
   "source": [
    "## Run a Looped Script Over the DOW (30 Stocks)\n",
    "- I should store all the data of interest in a single dataframe and then loop over that later. That way I will have all of the data so that if I adjust any of my requirements I won't need to redownload everything\n",
    "\n",
    "## Notes\n",
    "- The looping through the \n",
    "- I can run through everything once and then store the names of all the actual stocks. This will speed up subsequent runs and could also be updated occasionally to stay up to date. \n",
    "- I believe that in the yfinance format that if a stock has a negative P/E ratio that a trailing EPS will not be displayed. The same might be true of a negative forward Eps. This statement can be confirmed after further experimentation\n",
    "- After iterating through multiple stocks it is possible to find ones with negative forward PE. I think this was the last thing I needed to definatively say that Forward PE can be validly used to \n",
    "- Trailing EPS can be negative but PE ratio cannot. So first check that forward PE ratio is existing to confirm it is a stock. Next confirm EPS is non-negative using either a call to stk.earnings or the EPS provided by the stock\n",
    "- Some stocks like A are missing information suchs as Assets and Liabilities I will have to see if this is also an issue in IEXtrade. This is true for a LOT of the stocks in OTHER. This is because they were never supposed to have that information. All of that info is in the balance_sheet call"
   ]
  },
  {
   "cell_type": "code",
   "execution_count": 4,
   "metadata": {
    "scrolled": true
   },
   "outputs": [
    {
     "name": "stdout",
     "output_type": "stream",
     "text": [
      "A Forward: 28.263287\n",
      "AA Forward: 54.162792\n",
      "AAN Forward: 8.835897\n",
      "AAP Forward: 16.082106\n",
      "AAT Forward: 41.083332\n"
     ]
    },
    {
     "ename": "KeyboardInterrupt",
     "evalue": "",
     "output_type": "error",
     "traceback": [
      "\u001b[0;31m---------------------------------------------------------------------------\u001b[0m",
      "\u001b[0;31mKeyboardInterrupt\u001b[0m                         Traceback (most recent call last)",
      "\u001b[0;32m<ipython-input-4-00f4d473f094>\u001b[0m in \u001b[0;36m<module>\u001b[0;34m\u001b[0m\n\u001b[1;32m      5\u001b[0m     \u001b[0mstkDat\u001b[0m \u001b[0;34m=\u001b[0m \u001b[0myf\u001b[0m\u001b[0;34m.\u001b[0m\u001b[0mTicker\u001b[0m\u001b[0;34m(\u001b[0m\u001b[0mstk\u001b[0m\u001b[0;34m)\u001b[0m\u001b[0;34m\u001b[0m\u001b[0;34m\u001b[0m\u001b[0m\n\u001b[1;32m      6\u001b[0m     \u001b[0;32mif\u001b[0m \u001b[0;34m'$'\u001b[0m \u001b[0;32mnot\u001b[0m \u001b[0;32min\u001b[0m \u001b[0mstk\u001b[0m \u001b[0;32mand\u001b[0m \u001b[0;34m'.'\u001b[0m \u001b[0;32mnot\u001b[0m \u001b[0;32min\u001b[0m \u001b[0mstk\u001b[0m\u001b[0;34m:\u001b[0m\u001b[0;34m\u001b[0m\u001b[0;34m\u001b[0m\u001b[0m\n\u001b[0;32m----> 7\u001b[0;31m         \u001b[0mstkInfo\u001b[0m \u001b[0;34m=\u001b[0m \u001b[0mstkDat\u001b[0m\u001b[0;34m.\u001b[0m\u001b[0minfo\u001b[0m\u001b[0;34m\u001b[0m\u001b[0;34m\u001b[0m\u001b[0m\n\u001b[0m\u001b[1;32m      8\u001b[0m         \u001b[0;31m#stkEarn = stkDat.quarterly_earnings\u001b[0m\u001b[0;34m\u001b[0m\u001b[0;34m\u001b[0m\u001b[0;34m\u001b[0m\u001b[0m\n\u001b[1;32m      9\u001b[0m         \u001b[0;31m#print(stkEarn['Earnings'])\u001b[0m\u001b[0;34m\u001b[0m\u001b[0;34m\u001b[0m\u001b[0;34m\u001b[0m\u001b[0m\n",
      "\u001b[0;32m~/opt/anaconda3/lib/python3.8/site-packages/yfinance/ticker.py\u001b[0m in \u001b[0;36minfo\u001b[0;34m(self)\u001b[0m\n\u001b[1;32m    136\u001b[0m     \u001b[0;34m@\u001b[0m\u001b[0mproperty\u001b[0m\u001b[0;34m\u001b[0m\u001b[0;34m\u001b[0m\u001b[0m\n\u001b[1;32m    137\u001b[0m     \u001b[0;32mdef\u001b[0m \u001b[0minfo\u001b[0m\u001b[0;34m(\u001b[0m\u001b[0mself\u001b[0m\u001b[0;34m)\u001b[0m\u001b[0;34m:\u001b[0m\u001b[0;34m\u001b[0m\u001b[0;34m\u001b[0m\u001b[0m\n\u001b[0;32m--> 138\u001b[0;31m         \u001b[0;32mreturn\u001b[0m \u001b[0mself\u001b[0m\u001b[0;34m.\u001b[0m\u001b[0mget_info\u001b[0m\u001b[0;34m(\u001b[0m\u001b[0;34m)\u001b[0m\u001b[0;34m\u001b[0m\u001b[0;34m\u001b[0m\u001b[0m\n\u001b[0m\u001b[1;32m    139\u001b[0m \u001b[0;34m\u001b[0m\u001b[0m\n\u001b[1;32m    140\u001b[0m     \u001b[0;34m@\u001b[0m\u001b[0mproperty\u001b[0m\u001b[0;34m\u001b[0m\u001b[0;34m\u001b[0m\u001b[0m\n",
      "\u001b[0;32m~/opt/anaconda3/lib/python3.8/site-packages/yfinance/base.py\u001b[0m in \u001b[0;36mget_info\u001b[0;34m(self, proxy, as_dict, *args, **kwargs)\u001b[0m\n\u001b[1;32m    424\u001b[0m \u001b[0;34m\u001b[0m\u001b[0m\n\u001b[1;32m    425\u001b[0m     \u001b[0;32mdef\u001b[0m \u001b[0mget_info\u001b[0m\u001b[0;34m(\u001b[0m\u001b[0mself\u001b[0m\u001b[0;34m,\u001b[0m \u001b[0mproxy\u001b[0m\u001b[0;34m=\u001b[0m\u001b[0;32mNone\u001b[0m\u001b[0;34m,\u001b[0m \u001b[0mas_dict\u001b[0m\u001b[0;34m=\u001b[0m\u001b[0;32mFalse\u001b[0m\u001b[0;34m,\u001b[0m \u001b[0;34m*\u001b[0m\u001b[0margs\u001b[0m\u001b[0;34m,\u001b[0m \u001b[0;34m**\u001b[0m\u001b[0mkwargs\u001b[0m\u001b[0;34m)\u001b[0m\u001b[0;34m:\u001b[0m\u001b[0;34m\u001b[0m\u001b[0;34m\u001b[0m\u001b[0m\n\u001b[0;32m--> 426\u001b[0;31m         \u001b[0mself\u001b[0m\u001b[0;34m.\u001b[0m\u001b[0m_get_fundamentals\u001b[0m\u001b[0;34m(\u001b[0m\u001b[0mproxy\u001b[0m\u001b[0;34m)\u001b[0m\u001b[0;34m\u001b[0m\u001b[0;34m\u001b[0m\u001b[0m\n\u001b[0m\u001b[1;32m    427\u001b[0m         \u001b[0mdata\u001b[0m \u001b[0;34m=\u001b[0m \u001b[0mself\u001b[0m\u001b[0;34m.\u001b[0m\u001b[0m_info\u001b[0m\u001b[0;34m\u001b[0m\u001b[0;34m\u001b[0m\u001b[0m\n\u001b[1;32m    428\u001b[0m         \u001b[0;32mif\u001b[0m \u001b[0mas_dict\u001b[0m\u001b[0;34m:\u001b[0m\u001b[0;34m\u001b[0m\u001b[0;34m\u001b[0m\u001b[0m\n",
      "\u001b[0;32m~/opt/anaconda3/lib/python3.8/site-packages/yfinance/base.py\u001b[0m in \u001b[0;36m_get_fundamentals\u001b[0;34m(self, kind, proxy)\u001b[0m\n\u001b[1;32m    373\u001b[0m                 \u001b[0mitem\u001b[0m \u001b[0;34m=\u001b[0m \u001b[0mkey\u001b[0m\u001b[0;34m[\u001b[0m\u001b[0;36m1\u001b[0m\u001b[0;34m]\u001b[0m\u001b[0;34m+\u001b[0m\u001b[0;34m'HistoryQuarterly'\u001b[0m\u001b[0;34m\u001b[0m\u001b[0;34m\u001b[0m\u001b[0m\n\u001b[1;32m    374\u001b[0m                 \u001b[0;32mif\u001b[0m \u001b[0misinstance\u001b[0m\u001b[0;34m(\u001b[0m\u001b[0mdata\u001b[0m\u001b[0;34m.\u001b[0m\u001b[0mget\u001b[0m\u001b[0;34m(\u001b[0m\u001b[0mitem\u001b[0m\u001b[0;34m)\u001b[0m\u001b[0;34m,\u001b[0m \u001b[0mdict\u001b[0m\u001b[0;34m)\u001b[0m\u001b[0;34m:\u001b[0m\u001b[0;34m\u001b[0m\u001b[0;34m\u001b[0m\u001b[0m\n\u001b[0;32m--> 375\u001b[0;31m                     \u001b[0mkey\u001b[0m\u001b[0;34m[\u001b[0m\u001b[0;36m0\u001b[0m\u001b[0;34m]\u001b[0m\u001b[0;34m[\u001b[0m\u001b[0;34m'quarterly'\u001b[0m\u001b[0;34m]\u001b[0m \u001b[0;34m=\u001b[0m \u001b[0mcleanup\u001b[0m\u001b[0;34m(\u001b[0m\u001b[0mdata\u001b[0m\u001b[0;34m[\u001b[0m\u001b[0mitem\u001b[0m\u001b[0;34m]\u001b[0m\u001b[0;34m[\u001b[0m\u001b[0mkey\u001b[0m\u001b[0;34m[\u001b[0m\u001b[0;36m2\u001b[0m\u001b[0;34m]\u001b[0m\u001b[0;34m]\u001b[0m\u001b[0;34m)\u001b[0m\u001b[0;34m\u001b[0m\u001b[0;34m\u001b[0m\u001b[0m\n\u001b[0m\u001b[1;32m    376\u001b[0m         \u001b[0;32mexcept\u001b[0m \u001b[0mException\u001b[0m\u001b[0;34m:\u001b[0m\u001b[0;34m\u001b[0m\u001b[0;34m\u001b[0m\u001b[0m\n\u001b[1;32m    377\u001b[0m             \u001b[0;32mpass\u001b[0m\u001b[0;34m\u001b[0m\u001b[0;34m\u001b[0m\u001b[0m\n",
      "\u001b[0;32m~/opt/anaconda3/lib/python3.8/site-packages/yfinance/base.py\u001b[0m in \u001b[0;36mcleanup\u001b[0;34m(data)\u001b[0m\n\u001b[1;32m    246\u001b[0m     \u001b[0;32mdef\u001b[0m \u001b[0m_get_fundamentals\u001b[0m\u001b[0;34m(\u001b[0m\u001b[0mself\u001b[0m\u001b[0;34m,\u001b[0m \u001b[0mkind\u001b[0m\u001b[0;34m=\u001b[0m\u001b[0;32mNone\u001b[0m\u001b[0;34m,\u001b[0m \u001b[0mproxy\u001b[0m\u001b[0;34m=\u001b[0m\u001b[0;32mNone\u001b[0m\u001b[0;34m)\u001b[0m\u001b[0;34m:\u001b[0m\u001b[0;34m\u001b[0m\u001b[0;34m\u001b[0m\u001b[0m\n\u001b[1;32m    247\u001b[0m         \u001b[0;32mdef\u001b[0m \u001b[0mcleanup\u001b[0m\u001b[0;34m(\u001b[0m\u001b[0mdata\u001b[0m\u001b[0;34m)\u001b[0m\u001b[0;34m:\u001b[0m\u001b[0;34m\u001b[0m\u001b[0;34m\u001b[0m\u001b[0m\n\u001b[0;32m--> 248\u001b[0;31m             \u001b[0mdf\u001b[0m \u001b[0;34m=\u001b[0m \u001b[0m_pd\u001b[0m\u001b[0;34m.\u001b[0m\u001b[0mDataFrame\u001b[0m\u001b[0;34m(\u001b[0m\u001b[0mdata\u001b[0m\u001b[0;34m)\u001b[0m\u001b[0;34m\u001b[0m\u001b[0;34m\u001b[0m\u001b[0m\n\u001b[0m\u001b[1;32m    249\u001b[0m             \u001b[0;32mif\u001b[0m \u001b[0;34m'maxAge'\u001b[0m \u001b[0;32min\u001b[0m \u001b[0mdf\u001b[0m\u001b[0;34m:\u001b[0m\u001b[0;34m\u001b[0m\u001b[0;34m\u001b[0m\u001b[0m\n\u001b[1;32m    250\u001b[0m                 \u001b[0mdf\u001b[0m \u001b[0;34m=\u001b[0m \u001b[0mdf\u001b[0m\u001b[0;34m.\u001b[0m\u001b[0mdrop\u001b[0m\u001b[0;34m(\u001b[0m\u001b[0mcolumns\u001b[0m\u001b[0;34m=\u001b[0m\u001b[0;34m[\u001b[0m\u001b[0;34m'maxAge'\u001b[0m\u001b[0;34m]\u001b[0m\u001b[0;34m)\u001b[0m\u001b[0;34m\u001b[0m\u001b[0;34m\u001b[0m\u001b[0m\n",
      "\u001b[0;32m~/opt/anaconda3/lib/python3.8/site-packages/pandas/core/frame.py\u001b[0m in \u001b[0;36m__init__\u001b[0;34m(self, data, index, columns, dtype, copy)\u001b[0m\n\u001b[1;32m    472\u001b[0m                     \u001b[0;32mif\u001b[0m \u001b[0mis_named_tuple\u001b[0m\u001b[0;34m(\u001b[0m\u001b[0mdata\u001b[0m\u001b[0;34m[\u001b[0m\u001b[0;36m0\u001b[0m\u001b[0;34m]\u001b[0m\u001b[0;34m)\u001b[0m \u001b[0;32mand\u001b[0m \u001b[0mcolumns\u001b[0m \u001b[0;32mis\u001b[0m \u001b[0;32mNone\u001b[0m\u001b[0;34m:\u001b[0m\u001b[0;34m\u001b[0m\u001b[0;34m\u001b[0m\u001b[0m\n\u001b[1;32m    473\u001b[0m                         \u001b[0mcolumns\u001b[0m \u001b[0;34m=\u001b[0m \u001b[0mdata\u001b[0m\u001b[0;34m[\u001b[0m\u001b[0;36m0\u001b[0m\u001b[0;34m]\u001b[0m\u001b[0;34m.\u001b[0m\u001b[0m_fields\u001b[0m\u001b[0;34m\u001b[0m\u001b[0;34m\u001b[0m\u001b[0m\n\u001b[0;32m--> 474\u001b[0;31m                     \u001b[0marrays\u001b[0m\u001b[0;34m,\u001b[0m \u001b[0mcolumns\u001b[0m \u001b[0;34m=\u001b[0m \u001b[0mto_arrays\u001b[0m\u001b[0;34m(\u001b[0m\u001b[0mdata\u001b[0m\u001b[0;34m,\u001b[0m \u001b[0mcolumns\u001b[0m\u001b[0;34m,\u001b[0m \u001b[0mdtype\u001b[0m\u001b[0;34m=\u001b[0m\u001b[0mdtype\u001b[0m\u001b[0;34m)\u001b[0m\u001b[0;34m\u001b[0m\u001b[0;34m\u001b[0m\u001b[0m\n\u001b[0m\u001b[1;32m    475\u001b[0m                     \u001b[0mcolumns\u001b[0m \u001b[0;34m=\u001b[0m \u001b[0mensure_index\u001b[0m\u001b[0;34m(\u001b[0m\u001b[0mcolumns\u001b[0m\u001b[0;34m)\u001b[0m\u001b[0;34m\u001b[0m\u001b[0;34m\u001b[0m\u001b[0m\n\u001b[1;32m    476\u001b[0m \u001b[0;34m\u001b[0m\u001b[0m\n",
      "\u001b[0;32m~/opt/anaconda3/lib/python3.8/site-packages/pandas/core/internals/construction.py\u001b[0m in \u001b[0;36mto_arrays\u001b[0;34m(data, columns, coerce_float, dtype)\u001b[0m\n\u001b[1;32m    461\u001b[0m         \u001b[0;32mreturn\u001b[0m \u001b[0m_list_to_arrays\u001b[0m\u001b[0;34m(\u001b[0m\u001b[0mdata\u001b[0m\u001b[0;34m,\u001b[0m \u001b[0mcolumns\u001b[0m\u001b[0;34m,\u001b[0m \u001b[0mcoerce_float\u001b[0m\u001b[0;34m=\u001b[0m\u001b[0mcoerce_float\u001b[0m\u001b[0;34m,\u001b[0m \u001b[0mdtype\u001b[0m\u001b[0;34m=\u001b[0m\u001b[0mdtype\u001b[0m\u001b[0;34m)\u001b[0m\u001b[0;34m\u001b[0m\u001b[0;34m\u001b[0m\u001b[0m\n\u001b[1;32m    462\u001b[0m     \u001b[0;32melif\u001b[0m \u001b[0misinstance\u001b[0m\u001b[0;34m(\u001b[0m\u001b[0mdata\u001b[0m\u001b[0;34m[\u001b[0m\u001b[0;36m0\u001b[0m\u001b[0;34m]\u001b[0m\u001b[0;34m,\u001b[0m \u001b[0mabc\u001b[0m\u001b[0;34m.\u001b[0m\u001b[0mMapping\u001b[0m\u001b[0;34m)\u001b[0m\u001b[0;34m:\u001b[0m\u001b[0;34m\u001b[0m\u001b[0;34m\u001b[0m\u001b[0m\n\u001b[0;32m--> 463\u001b[0;31m         return _list_of_dict_to_arrays(\n\u001b[0m\u001b[1;32m    464\u001b[0m             \u001b[0mdata\u001b[0m\u001b[0;34m,\u001b[0m \u001b[0mcolumns\u001b[0m\u001b[0;34m,\u001b[0m \u001b[0mcoerce_float\u001b[0m\u001b[0;34m=\u001b[0m\u001b[0mcoerce_float\u001b[0m\u001b[0;34m,\u001b[0m \u001b[0mdtype\u001b[0m\u001b[0;34m=\u001b[0m\u001b[0mdtype\u001b[0m\u001b[0;34m\u001b[0m\u001b[0;34m\u001b[0m\u001b[0m\n\u001b[1;32m    465\u001b[0m         )\n",
      "\u001b[0;32m~/opt/anaconda3/lib/python3.8/site-packages/pandas/core/internals/construction.py\u001b[0m in \u001b[0;36m_list_of_dict_to_arrays\u001b[0;34m(data, columns, coerce_float, dtype)\u001b[0m\n\u001b[1;32m    567\u001b[0m \u001b[0;34m\u001b[0m\u001b[0m\n\u001b[1;32m    568\u001b[0m     \u001b[0mcontent\u001b[0m \u001b[0;34m=\u001b[0m \u001b[0mlist\u001b[0m\u001b[0;34m(\u001b[0m\u001b[0mlib\u001b[0m\u001b[0;34m.\u001b[0m\u001b[0mdicts_to_array\u001b[0m\u001b[0;34m(\u001b[0m\u001b[0mdata\u001b[0m\u001b[0;34m,\u001b[0m \u001b[0mlist\u001b[0m\u001b[0;34m(\u001b[0m\u001b[0mcolumns\u001b[0m\u001b[0;34m)\u001b[0m\u001b[0;34m)\u001b[0m\u001b[0;34m.\u001b[0m\u001b[0mT\u001b[0m\u001b[0;34m)\u001b[0m\u001b[0;34m\u001b[0m\u001b[0;34m\u001b[0m\u001b[0m\n\u001b[0;32m--> 569\u001b[0;31m     return _convert_object_array(\n\u001b[0m\u001b[1;32m    570\u001b[0m         \u001b[0mcontent\u001b[0m\u001b[0;34m,\u001b[0m \u001b[0mcolumns\u001b[0m\u001b[0;34m,\u001b[0m \u001b[0mdtype\u001b[0m\u001b[0;34m=\u001b[0m\u001b[0mdtype\u001b[0m\u001b[0;34m,\u001b[0m \u001b[0mcoerce_float\u001b[0m\u001b[0;34m=\u001b[0m\u001b[0mcoerce_float\u001b[0m\u001b[0;34m\u001b[0m\u001b[0;34m\u001b[0m\u001b[0m\n\u001b[1;32m    571\u001b[0m     )\n",
      "\u001b[0;32m~/opt/anaconda3/lib/python3.8/site-packages/pandas/core/internals/construction.py\u001b[0m in \u001b[0;36m_convert_object_array\u001b[0;34m(content, columns, coerce_float, dtype)\u001b[0m\n\u001b[1;32m    590\u001b[0m         \u001b[0;32mreturn\u001b[0m \u001b[0marr\u001b[0m\u001b[0;34m\u001b[0m\u001b[0;34m\u001b[0m\u001b[0m\n\u001b[1;32m    591\u001b[0m \u001b[0;34m\u001b[0m\u001b[0m\n\u001b[0;32m--> 592\u001b[0;31m     \u001b[0marrays\u001b[0m \u001b[0;34m=\u001b[0m \u001b[0;34m[\u001b[0m\u001b[0mconvert\u001b[0m\u001b[0;34m(\u001b[0m\u001b[0marr\u001b[0m\u001b[0;34m)\u001b[0m \u001b[0;32mfor\u001b[0m \u001b[0marr\u001b[0m \u001b[0;32min\u001b[0m \u001b[0mcontent\u001b[0m\u001b[0;34m]\u001b[0m\u001b[0;34m\u001b[0m\u001b[0;34m\u001b[0m\u001b[0m\n\u001b[0m\u001b[1;32m    593\u001b[0m \u001b[0;34m\u001b[0m\u001b[0m\n\u001b[1;32m    594\u001b[0m     \u001b[0;32mreturn\u001b[0m \u001b[0marrays\u001b[0m\u001b[0;34m,\u001b[0m \u001b[0mcolumns\u001b[0m\u001b[0;34m\u001b[0m\u001b[0;34m\u001b[0m\u001b[0m\n",
      "\u001b[0;32m~/opt/anaconda3/lib/python3.8/site-packages/pandas/core/internals/construction.py\u001b[0m in \u001b[0;36m<listcomp>\u001b[0;34m(.0)\u001b[0m\n\u001b[1;32m    590\u001b[0m         \u001b[0;32mreturn\u001b[0m \u001b[0marr\u001b[0m\u001b[0;34m\u001b[0m\u001b[0;34m\u001b[0m\u001b[0m\n\u001b[1;32m    591\u001b[0m \u001b[0;34m\u001b[0m\u001b[0m\n\u001b[0;32m--> 592\u001b[0;31m     \u001b[0marrays\u001b[0m \u001b[0;34m=\u001b[0m \u001b[0;34m[\u001b[0m\u001b[0mconvert\u001b[0m\u001b[0;34m(\u001b[0m\u001b[0marr\u001b[0m\u001b[0;34m)\u001b[0m \u001b[0;32mfor\u001b[0m \u001b[0marr\u001b[0m \u001b[0;32min\u001b[0m \u001b[0mcontent\u001b[0m\u001b[0;34m]\u001b[0m\u001b[0;34m\u001b[0m\u001b[0;34m\u001b[0m\u001b[0m\n\u001b[0m\u001b[1;32m    593\u001b[0m \u001b[0;34m\u001b[0m\u001b[0m\n\u001b[1;32m    594\u001b[0m     \u001b[0;32mreturn\u001b[0m \u001b[0marrays\u001b[0m\u001b[0;34m,\u001b[0m \u001b[0mcolumns\u001b[0m\u001b[0;34m\u001b[0m\u001b[0;34m\u001b[0m\u001b[0m\n",
      "\u001b[0;32m~/opt/anaconda3/lib/python3.8/site-packages/pandas/core/internals/construction.py\u001b[0m in \u001b[0;36mconvert\u001b[0;34m(arr)\u001b[0m\n\u001b[1;32m    586\u001b[0m     \u001b[0;32mdef\u001b[0m \u001b[0mconvert\u001b[0m\u001b[0;34m(\u001b[0m\u001b[0marr\u001b[0m\u001b[0;34m)\u001b[0m\u001b[0;34m:\u001b[0m\u001b[0;34m\u001b[0m\u001b[0;34m\u001b[0m\u001b[0m\n\u001b[1;32m    587\u001b[0m         \u001b[0;32mif\u001b[0m \u001b[0mdtype\u001b[0m \u001b[0;34m!=\u001b[0m \u001b[0mobject\u001b[0m \u001b[0;32mand\u001b[0m \u001b[0mdtype\u001b[0m \u001b[0;34m!=\u001b[0m \u001b[0mnp\u001b[0m\u001b[0;34m.\u001b[0m\u001b[0mobject\u001b[0m\u001b[0;34m:\u001b[0m\u001b[0;34m\u001b[0m\u001b[0;34m\u001b[0m\u001b[0m\n\u001b[0;32m--> 588\u001b[0;31m             \u001b[0marr\u001b[0m \u001b[0;34m=\u001b[0m \u001b[0mlib\u001b[0m\u001b[0;34m.\u001b[0m\u001b[0mmaybe_convert_objects\u001b[0m\u001b[0;34m(\u001b[0m\u001b[0marr\u001b[0m\u001b[0;34m,\u001b[0m \u001b[0mtry_float\u001b[0m\u001b[0;34m=\u001b[0m\u001b[0mcoerce_float\u001b[0m\u001b[0;34m)\u001b[0m\u001b[0;34m\u001b[0m\u001b[0;34m\u001b[0m\u001b[0m\n\u001b[0m\u001b[1;32m    589\u001b[0m             \u001b[0marr\u001b[0m \u001b[0;34m=\u001b[0m \u001b[0mmaybe_cast_to_datetime\u001b[0m\u001b[0;34m(\u001b[0m\u001b[0marr\u001b[0m\u001b[0;34m,\u001b[0m \u001b[0mdtype\u001b[0m\u001b[0;34m)\u001b[0m\u001b[0;34m\u001b[0m\u001b[0;34m\u001b[0m\u001b[0m\n\u001b[1;32m    590\u001b[0m         \u001b[0;32mreturn\u001b[0m \u001b[0marr\u001b[0m\u001b[0;34m\u001b[0m\u001b[0;34m\u001b[0m\u001b[0m\n",
      "\u001b[0;32mpandas/_libs/lib.pyx\u001b[0m in \u001b[0;36mpandas._libs.lib.maybe_convert_objects\u001b[0;34m()\u001b[0m\n",
      "\u001b[0;32m~/opt/anaconda3/lib/python3.8/site-packages/numpy/core/numeric.py\u001b[0m in \u001b[0;36mfull\u001b[0;34m(shape, fill_value, dtype, order)\u001b[0m\n\u001b[1;32m    281\u001b[0m \u001b[0;34m\u001b[0m\u001b[0m\n\u001b[1;32m    282\u001b[0m \u001b[0;34m\u001b[0m\u001b[0m\n\u001b[0;32m--> 283\u001b[0;31m \u001b[0;34m@\u001b[0m\u001b[0mset_module\u001b[0m\u001b[0;34m(\u001b[0m\u001b[0;34m'numpy'\u001b[0m\u001b[0;34m)\u001b[0m\u001b[0;34m\u001b[0m\u001b[0;34m\u001b[0m\u001b[0m\n\u001b[0m\u001b[1;32m    284\u001b[0m \u001b[0;32mdef\u001b[0m \u001b[0mfull\u001b[0m\u001b[0;34m(\u001b[0m\u001b[0mshape\u001b[0m\u001b[0;34m,\u001b[0m \u001b[0mfill_value\u001b[0m\u001b[0;34m,\u001b[0m \u001b[0mdtype\u001b[0m\u001b[0;34m=\u001b[0m\u001b[0;32mNone\u001b[0m\u001b[0;34m,\u001b[0m \u001b[0morder\u001b[0m\u001b[0;34m=\u001b[0m\u001b[0;34m'C'\u001b[0m\u001b[0;34m)\u001b[0m\u001b[0;34m:\u001b[0m\u001b[0;34m\u001b[0m\u001b[0;34m\u001b[0m\u001b[0m\n\u001b[1;32m    285\u001b[0m     \"\"\"\n",
      "\u001b[0;31mKeyboardInterrupt\u001b[0m: "
     ]
    }
   ],
   "source": [
    "stkDF = pd.DataFrame(columns = ['Ticker','Forward P/E','Trailing P/E','Trailing Dividend Yield','Price to Book',\n",
    "                            'Current Assets','Current Liabilities','Total Assets','Total Liabilities','Inventory'])\n",
    "\n",
    "for stk in other_list:\n",
    "    stkDat = yf.Ticker(stk)\n",
    "    if '$' not in stk and '.' not in stk:\n",
    "        stkInfo = stkDat.info\n",
    "        #stkEarn = stkDat.quarterly_earnings\n",
    "        #print(stkEarn['Earnings'])\n",
    "        if 'forwardPE' in stkInfo and stkInfo['forwardPE'] != None:\n",
    "            #At this point I know I am dealing with an actual stock and not some kind other investment\n",
    "            print(stk,'Forward:',stkInfo['forwardPE'])\n",
    "            forPE = stkInfo['forwardPE']\n",
    "            if  stkInfo['trailingEps'] > 0:\n",
    "                #print(stk,'Traling:',stkInfo['trailingPE'])\n",
    "                trlPE = stkInfo['trailingPE'] #Reads the trailing PE ratio\n",
    "            else:\n",
    "                #print(stk,'Trailing:','Negative')\n",
    "                trlPE = -1\n",
    "            divRate = stkInfo['trailingAnnualDividendYield'] #Reads the trailing dividend info\n",
    "            p2b = stkInfo['priceToBook'] \n",
    "            stkBal = stkDat.balance_sheet\n",
    "            recBal = stkBal[stkBal.columns[0]]\n",
    "            curAsst = recBal['Total Current Assets'] if 'Total Current Assets' in recBal else 'None'\n",
    "            curLiab = recBal['Total Current Liabilities'] if 'Total Current Liabilities' in recBal else 'None'\n",
    "            totAss = recBal['Total Assets'] if 'Total Assets' in recBal else 'None'\n",
    "            totLiab = recBal['Total Liab'] if 'Total Liab' in recBal else 'None'\n",
    "            inv = recBal['Inventory'] if 'Inventory' in recBal else 'None'\n",
    "            nr = [stk,forPE,trlPE,divRate,p2b,curAsst,curLiab,totAss,totLiab,inv]\n",
    "            stkDF = stkDF.append(pd.Series(nr,\n",
    "                         index = stkDF.columns),\n",
    "               ignore_index=True)  \n",
    "            "
   ]
  },
  {
   "cell_type": "code",
   "execution_count": 6,
   "metadata": {},
   "outputs": [
    {
     "name": "stdout",
     "output_type": "stream",
     "text": [
      "  Ticker  Forward P/E  Trailing P/E  Trailing Dividend Yield  Price to Book  \\\n",
      "0      A    28.263287     50.873917                 0.006294       7.347567   \n",
      "1     AA    54.162792     -1.000000                 0.015391       1.275465   \n",
      "2    AAN     8.835897     -1.000000                 0.008533       0.710340   \n",
      "3    AAP    16.082106     22.241957                 0.005271       2.760452   \n",
      "4    AAT    41.083332     47.027027                 0.034930       1.392065   \n",
      "\n",
      "   Current Assets  Current Liabilities  Total Assets  Total Liabilities  \\\n",
      "0    3.415000e+09         1.467000e+09  9.627000e+09       4.754000e+09   \n",
      "1    3.530000e+09         2.563000e+09  1.463100e+10       8.745000e+09   \n",
      "2    9.388760e+08         4.073390e+08  1.940331e+09       1.102550e+09   \n",
      "3    5.695543e+09         4.477702e+09  1.124852e+10       7.699444e+09   \n",
      "4    1.812970e+08         6.599800e+07  2.790333e+09       1.496661e+09   \n",
      "\n",
      "     Inventory  \n",
      "0      7.2e+08  \n",
      "1    1.644e+09  \n",
      "2  7.81598e+08  \n",
      "3  4.43217e+09  \n",
      "4         None  \n",
      "['A', 'AA', 'AAA', 'AAAU', 'AADR', 'AAIC', 'AAIC$B', 'AAIC$C', 'AAMC', 'AAN', 'AAP', 'AAT', 'AAU', 'AB', 'ABB', 'ABBV', 'ABC', 'ABEQ', 'ABEV', 'ABG', 'ABM', 'ABR', 'ABR$A', 'ABR$B', 'ABR$C', 'ABT', 'AC', 'ACA', 'ACB', 'ACC', 'ACCO', 'ACEL', 'ACES', 'ACH', 'ACI', 'ACIC.U', 'ACIO', 'ACM', 'ACN', 'ACND', 'ACND.U', 'ACND.W', 'ACP', 'ACRE', 'ACSG', 'ACSI', 'ACTV', 'ACU', 'ACV', 'ACVF', 'ACWF', 'ACWV', 'ACY', 'ADC', 'ADCT', 'ADFI', 'ADM', 'ADME', 'ADNT', 'ADS', 'ADT', 'ADX', 'AE', 'AEB', 'AEE', 'AEF', 'AEFC', 'AEG', 'AEL', 'AEL$A', 'AEL$B', 'AEM', 'AENZ', 'AEO', 'AER', 'AES', 'AESR', 'AFB', 'AFC', 'AFG', 'AFGB', 'AFGC', 'AFGD', 'AFGE', 'AFI', 'AFIF', 'AFK', 'AFL', 'AFLG', 'AFMC', 'AFSM', 'AFT', 'AFTY', 'AG', 'AGCO', 'AGD', 'AGE', 'AGG', 'AGGP', 'AGGY', 'AGI', 'AGM', 'AGM$C', 'AGM$D', 'AGM$E', 'AGM$F', 'AGM.A', 'AGO', 'AGO$B', 'AGO$E', 'AGO$F', 'AGQ', 'AGR', 'AGRO', 'AGS', 'AGT', 'AGX', 'AGZ', 'AHC', 'AHH', 'AHH$A', 'AHL$C', 'AHL$D', 'AHL$E', 'AHT', 'AHT$D', 'AHT$F', 'AHT$G', 'AHT$H', 'AHT$I', 'AIC', 'AIEQ', 'AIF', 'AIG', 'AIG$A', 'AIG.W', 'AIIQ', 'AIM', 'AIN', 'AINC', 'AIO', 'AIR', 'AIRC.V', 'AIRI', 'AIT', 'AIV', 'AIV.V', 'AIW', 'AIZ', 'AIZN', 'AIZP', 'AJAX.U', 'AJG', 'AJRD', 'AJX', 'AJXA', 'AKO.A', 'AKO.B', 'AKR', 'AL', 'AL$A', 'ALB', 'ALC', 'ALE', 'ALEX', 'ALFA', 'ALG', 'ALIN$A', 'ALIN$B', 'ALIN$E', 'ALK', 'ALL', 'ALL$B', 'ALL$G', 'ALL$H', 'ALL$I', 'ALLE', 'ALLY', 'ALLY$A', 'ALP$Q', 'ALSN', 'ALTG', 'ALTG.W', 'ALTL', 'ALTS', 'ALUS', 'ALUS.U', 'ALUS.W', 'ALV', 'ALX', 'AM', 'AMBC', 'AMBC.W', 'AMBO', 'AMC', 'AMCR', 'AME', 'AMER', 'AMG', 'AMH', 'AMH$D', 'AMH$E', 'AMH$F', 'AMH$G', 'AMH$H', 'AMJ', 'AMK', 'AMLP', 'AMN', 'AMNA', 'AMND', 'AMOM', 'AMOV', 'AMP', 'AMPE', 'AMPY', 'AMRC', 'AMRX', 'AMS', 'AMT', 'AMTR', 'AMUB', 'AMWL', 'AMX', 'AMZA', 'AN', 'ANET', 'ANEW', 'ANF', 'ANH', 'ANH$A', 'ANH$B', 'ANH$C', 'ANTM', 'ANVS', 'AOA', 'AOD', 'AOK', 'AOM', 'AON', 'AONE', 'AONE.U', 'AONE.W', 'AOR', 'AOS', 'AP', 'AP.W', 'APAM', 'APD', 'APG', 'APH', 'APLE', 'APO', 'APO$A', 'APO$B', 'APRN', 'APSG', 'APSG.U', 'APSG.W', 'APT', 'APTS', 'APTV', 'APTV$A', 'AQN', 'AQNA', 'AQNB', 'AQUA', 'AR', 'ARA', 'ARB', 'ARC', 'ARCH', 'ARCM', 'ARCO', 'ARD', 'ARDC', 'ARE', 'ARES', 'ARES$A', 'ARGD', 'ARGO', 'ARGO$A', 'ARGT', 'ARI', 'ARKF', 'ARKG', 'ARKK', 'ARKQ', 'ARKW', 'ARL', 'ARLO', 'ARMK', 'ARMP', 'ARMR', 'ARNC', 'AROC', 'ARR', 'ARR$C', 'ARW', 'ASA', 'ASAN', 'ASAQ', 'ASAQ.U', 'ASAQ.W', 'ASB', 'ASB$C', 'ASB$D', 'ASB$E', 'ASB$F', 'ASC', 'ASEA', 'ASG', 'ASGI', 'ASGN', 'ASH', 'ASHR', 'ASHS', 'ASHX', 'ASIX', 'ASM', 'ASPL', 'ASPL.U', 'ASPL.W', 'ASPN', 'ASR', 'ASX', 'AT', 'ATAC.U', 'ATCO', 'ATCO$D', 'ATCO$E', 'ATCO$G', 'ATCO$H', 'ATCO$I', 'ATEN', 'ATEST', 'ATEST.A', 'ATEST.B', 'ATEST.C', 'ATGE', 'ATH', 'ATH$A', 'ATH$B', 'ATH$C', 'ATHM', 'ATI', 'ATKR', 'ATMP', 'ATNM', 'ATO', 'ATR', 'ATTO', 'ATUS', 'ATV', 'AU', 'AUGZ', 'AUMN', 'AUSF', 'AUY', 'AVA', 'AVAL', 'AVAN', 'AVAN.U', 'AVAN.W', 'AVB', 'AVD', 'AVDE', 'AVDV', 'AVEM', 'AVIG', 'AVK', 'AVLR', 'AVNS', 'AVNT', 'AVSF', 'AVTR', 'AVTR$A', 'AVUS', 'AVUV', 'AVY', 'AVYA', 'AWAY', 'AWF', 'AWI', 'AWK', 'AWP', 'AWR', 'AWTM', 'AWX', 'AX', 'AXL', 'AXO', 'AXP', 'AXR', 'AXS', 'AXS$E', 'AXTA', 'AXU', 'AYI', 'AYX', 'AZAA', 'AZAL', 'AZAO', 'AZBA', 'AZBL', 'AZBO', 'AZEK', 'AZO', 'AZRE', 'AZUL', 'AZZ', 'B', 'BA', 'BAB', 'BABA', 'BAC', 'BAC$A', 'BAC$B', 'BAC$C', 'BAC$E', 'BAC$K', 'BAC$L', 'BAC$M', 'BAC$N', 'BAC$O', 'BAF', 'BAH', 'BAK', 'BAL', 'BALY', 'BAM', 'BAMH', 'BAMI', 'BANC', 'BANC$D', 'BANC$E', 'BAP', 'BAPR', 'BAR', 'BATL', 'BATT', 'BAUG', 'BAX', 'BB', 'BBAR', 'BBAX', 'BBC', 'BBCA', 'BBD', 'BBDC', 'BBDO', 'BBEU', 'BBF', 'BBIN', 'BBJP', 'BBK', 'BBL', 'BBMC', 'BBN', 'BBP', 'BBRE', 'BBSA', 'BBSC', 'BBU', 'BBUS', 'BBVA', 'BBW', 'BBY', 'BC', 'BC$A', 'BC$B', 'BC$C', 'BCAT', 'BCC', 'BCD', 'BCE', 'BCEI', 'BCH', 'BCI', 'BCM', 'BCO', 'BCS', 'BCSF', 'BCV', 'BCV$A', 'BCX', 'BDC', 'BDCX', 'BDCY', 'BDCZ', 'BDEC', 'BDJ', 'BDL', 'BDN', 'BDR', 'BDRY', 'BDX', 'BDXB', 'BE', 'BEDU', 'BEKE', 'BEN', 'BEP', 'BEP$A', 'BEPC', 'BERY', 'BEST', 'BETZ', 'BF.A', 'BF.B', 'BFAM', 'BFEB', 'BFK', 'BFO', 'BFOR', 'BFS', 'BFS$D', 'BFS$E', 'BFT', 'BFT.U', 'BFT.W', 'BFTR', 'BFY', 'BFZ', 'BG', 'BGB', 'BGH', 'BGI', 'BGIO', 'BGR', 'BGS', 'BGSF', 'BGT', 'BGX', 'BGY', 'BH', 'BH.A', 'BHB', 'BHC', 'BHE', 'BHK', 'BHLB', 'BHP', 'BHR', 'BHR$B', 'BHR$D', 'BHV', 'BHVN', 'BIBL', 'BIF', 'BIG', 'BIL', 'BILL', 'BILS', 'BIO', 'BIO.B', 'BIOX', 'BIP', 'BIP$A', 'BIPC', 'BIT', 'BIV', 'BIZD', 'BJ', 'BJAN', 'BJUL', 'BJUN', 'BK', 'BK$C', 'BKAG', 'BKD', 'BKE', 'BKEM', 'BKF', 'BKH', 'BKHY', 'BKI', 'BKIE', 'BKK', 'BKLC', 'BKLN', 'BKMC', 'BKN', 'BKR', 'BKSB', 'BKSE', 'BKT', 'BKTI', 'BKU', 'BLD', 'BLDG', 'BLE', 'BLES', 'BLHY', 'BLK', 'BLL', 'BLOK', 'BLV', 'BLW', 'BLX', 'BMA', 'BMAR', 'BMAY', 'BME', 'BMED', 'BMEZ', 'BMI', 'BML$G', 'BML$H', 'BML$J', 'BML$L', 'BMO', 'BMY', 'BMY.R', 'BNDC', 'BNED', 'BNKD', 'BNKO', 'BNKU', 'BNKZ', 'BNL', 'BNO', 'BNOV', 'BNS', 'BNY', 'BOAC.U', 'BOCT', 'BOE', 'BOH', 'BOIL', 'BOND', 'BOOT', 'BORR', 'BOSS', 'BOUT', 'BOX', 'BP', 'BPMP', 'BPT', 'BQ', 'BR', 'BRBR', 'BRBS', 'BRC', 'BRF', 'BRFS', 'BRG', 'BRG$A', 'BRG$C', 'BRG$D', 'BRK.A', 'BRK.B', 'BRMK', 'BRMK.W', 'BRN', 'BRO', 'BRT', 'BRX', 'BRZU', 'BSA', 'BSAC', 'BSBR', 'BSD', 'BSE', 'BSEP', 'BSIG', 'BSL', 'BSM', 'BSMX', 'BSN', 'BSN.U', 'BSN.W', 'BST', 'BSTZ', 'BSV', 'BSX', 'BSX$A', 'BTA', 'BTAL', 'BTEK', 'BTG', 'BTI', 'BTN', 'BTO', 'BTT', 'BTU', 'BTYS', 'BTZ', 'BUD', 'BUFF', 'BUFR', 'BUI', 'BUL', 'BUR', 'BURL', 'BUYZ', 'BV', 'BVH', 'BVN', 'BW', 'BWA', 'BWG', 'BWL.A', 'BWX', 'BWXT', 'BWZ', 'BX', 'BXC', 'BXG', 'BXMT', 'BXMX', 'BXP', 'BXP$B', 'BXS', 'BXS$A', 'BY', 'BYD', 'BYLD', 'BYM', 'BZH', 'BZM', 'BZQ', 'C', 'C$J', 'C$K', 'C$N', 'C$S', 'CAAP', 'CABO', 'CACI', 'CADE', 'CAE', 'CAF', 'CAG', 'CAH', 'CAI', 'CAI$A', 'CAI$B', 'CAJ', 'CAL', 'CALF', 'CALX', 'CANE', 'CANF', 'CANG', 'CAP.U', 'CAPE', 'CAPL', 'CARR', 'CARS', 'CAS.U', 'CAT', 'CATO', 'CB', 'CBB', 'CBB$B', 'CBD', 'CBH', 'CBLS', 'CBO', 'CBOE', 'CBON', 'CBRE', 'CBSE', 'CBT', 'CBU', 'CBX', 'CBZ', 'CC', 'CCAC', 'CCAC.U', 'CCAC.W', 'CCC', 'CCEP', 'CCF', 'CCI', 'CCIV', 'CCIV.U', 'CCIV.W', 'CCJ', 'CCK', 'CCL', 'CCM', 'CCO', 'CCON', 'CCOR', 'CCR', 'CCRV', 'CCS', 'CCU', 'CCX', 'CCX.U', 'CCX.W', 'CCZ', 'CDAY', 'CDE', 'CDOR', 'CDR', 'CDR$B', 'CDR$C', 'CE', 'CEA', 'CEE', 'CEF', 'CEFD', 'CEFS', 'CEI', 'CEIX', 'CEL', 'CELG.R', 'CELP', 'CEM', 'CEMB', 'CEN', 'CEO', 'CEPU', 'CEQP', 'CEQP$', 'CET', 'CEV', 'CEW', 'CF', 'CFCV', 'CFG', 'CFG$D', 'CFG$E', 'CFR', 'CFR$B', 'CFX', 'CFXA', 'CGA', 'CGW', 'CHA', 'CHAD', 'CHAQ', 'CHAQ.U', 'CHAQ.W', 'CHAU', 'CHCT', 'CHD', 'CHE', 'CHEP', 'CHFW.U', 'CHGG', 'CHGX', 'CHH', 'CHIC', 'CHIE', 'CHIH', 'CHII', 'CHIK', 'CHIL', 'CHIM', 'CHIQ', 'CHIR', 'CHIS', 'CHIU', 'CHIX', 'CHL', 'CHMI', 'CHMI$A', 'CHMI$B', 'CHN', 'CHRA', 'CHS', 'CHT', 'CHU', 'CHWY', 'CHX', 'CI', 'CIA', 'CIB', 'CIEN', 'CIF', 'CIG', 'CIG.C', 'CII', 'CIK', 'CIM', 'CIM$A', 'CIM$B', 'CIM$C', 'CIM$D', 'CINR', 'CIO', 'CIO$A', 'CIR', 'CIT', 'CIT$B', 'CIX', 'CIXX', 'CKH', 'CKX', 'CL', 'CLA', 'CLA.U', 'CLA.W', 'CLB', 'CLDR', 'CLDT', 'CLF', 'CLGX', 'CLH', 'CLI', 'CLII', 'CLII.U', 'CLII.W', 'CLIX', 'CLM', 'CLNC', 'CLNY', 'CLNY$G', 'CLNY$H', 'CLNY$I', 'CLNY$J', 'CLPR', 'CLR', 'CLS', 'CLTL', 'CLW', 'CLX', 'CM', 'CMA', 'CMBS', 'CMC', 'CMCL', 'CMCM', 'CMD', 'CMDY', 'CMF', 'CMG', 'CMI', 'CMO', 'CMO$E', 'CMP', 'CMRE', 'CMRE$B', 'CMRE$C', 'CMRE$D', 'CMRE$E', 'CMS', 'CMS$B', 'CMSA', 'CMSC', 'CMSD', 'CMT', 'CMU', 'CN', 'CNA', 'CNBS', 'CNC', 'CND.U', 'CNF', 'CNHI', 'CNI', 'CNK', 'CNMD', 'CNNE', 'CNO', 'CNO$A', 'CNP', 'CNP$B', 'CNQ', 'CNR', 'CNRG', 'CNS', 'CNX', 'CNXT', 'CNYA', 'CO', 'CODI', 'CODI$A', 'CODI$B', 'CODI$C', 'COE', 'COF', 'COF$G', 'COF$H', 'COF$I', 'COF$J', 'COF$K', 'COG', 'COHN', 'COLD', 'COM', 'COMB', 'COO', 'COP', 'COPX', 'COR', 'CORN', 'CORP', 'CORR', 'CORR$A', 'COTY', 'COW', 'COWZ', 'CP', 'CPA', 'CPAC', 'CPB', 'CPE', 'CPER', 'CPF', 'CPG', 'CPHI', 'CPI', 'CPK', 'CPLG', 'CPRI', 'CPS', 'CPSR', 'CPSR.U', 'CPSR.W', 'CPT', 'CQP', 'CQQQ', 'CR', 'CRAK', 'CRBN', 'CRC', 'CRD.A', 'CRD.B', 'CRF', 'CRH', 'CRHC', 'CRHC.U', 'CRHC.W', 'CRHM', 'CRI', 'CRK', 'CRL', 'CRM', 'CRMD', 'CROC', 'CRS', 'CRT', 'CRY', 'CS', 'CSD', 'CSL', 'CSLT', 'CSM', 'CSPR', 'CSTM', 'CSU', 'CSV', 'CTA$A', 'CTA$B', 'CTAA', 'CTAC.U', 'CTB', 'CTBB', 'CTDD', 'CTEK', 'CTEST', 'CTEST.E', 'CTEST.G', 'CTEST.L', 'CTEST.O', 'CTEST.S', 'CTEST.V', 'CTK', 'CTLT', 'CTO', 'CTR', 'CTRA', 'CTS', 'CTT', 'CTVA', 'CTY', 'CUB', 'CUBB', 'CUBE', 'CUBI', 'CUBI$C', 'CUBI$D', 'CUBI$E', 'CUBI$F', 'CUK', 'CULP', 'CURE', 'CURO', 'CUT', 'CUZ', 'CVA', 'CVE', 'CVEO', 'CVI', 'CVM', 'CVNA', 'CVR', 'CVS', 'CVU', 'CVX', 'CVY', 'CW', 'CWB', 'CWEB', 'CWEN', 'CWEN.A', 'CWH', 'CWI', 'CWK', 'CWS', 'CWT', 'CX', 'CXE', 'CXH', 'CXO', 'CXP', 'CXW', 'CYB', 'CYD', 'CYH', 'CZA', 'CZZ', 'D', 'DAC', 'DAL', 'DALT', 'DAN', 'DAO', 'DAR', 'DAUG', 'DAVA', 'DB', 'DBA', 'DBAW', 'DBB', 'DBC', 'DBD', 'DBE', 'DBEF', 'DBEH', 'DBEM', 'DBEU', 'DBEZ', 'DBGR', 'DBI', 'DBJP', 'DBL', 'DBLV', 'DBMF', 'DBO', 'DBOC', 'DBP', 'DBS', 'DBV', 'DCF', 'DCI', 'DCO', 'DCP', 'DCP$B', 'DCP$C', 'DCUE', 'DD', 'DDD', 'DDF', 'DDG', 'DDLS', 'DDM', 'DDS', 'DDT', 'DDWM', 'DE', 'DEA', 'DECK', 'DECZ', 'DEED', 'DEEF', 'DEEP', 'DEF', 'DEFA', 'DEFN', 'DEH', 'DEH.U', 'DEH.W', 'DEI', 'DELL', 'DEM', 'DEN', 'DEO', 'DES', 'DESP', 'DEUS', 'DEW', 'DEX', 'DFAE', 'DFAI', 'DFAU', 'DFE', 'DFEB', 'DFEN', 'DFHY', 'DFIN', 'DFJ', 'DFND', 'DFNS', 'DFNS.U', 'DFNS.W', 'DFNV', 'DFP', 'DFS', 'DFVL', 'DFVS', 'DG', 'DGL', 'DGNR', 'DGNR.U', 'DGNR.W', 'DGP', 'DGRO', 'DGS', 'DGT', 'DGX', 'DGZ', 'DHF', 'DHI', 'DHR', 'DHR$A', 'DHR$B', 'DHS', 'DHT', 'DHX', 'DHY', 'DIA', 'DIAL', 'DIAX', 'DIG', 'DIM', 'DIN', 'DIS', 'DIT', 'DIV', 'DIVA', 'DIVB', 'DIVO', 'DJCB', 'DJCI', 'DJD', 'DJP', 'DJUL', 'DJUN', 'DK', 'DKL', 'DKS', 'DL', 'DLA', 'DLB', 'DLN', 'DLNG', 'DLNG$A', 'DLNG$B', 'DLR', 'DLR$C', 'DLR$J', 'DLR$K', 'DLR$L', 'DLS', 'DLX', 'DLY', 'DMAY', 'DMB', 'DMDV', 'DMF', 'DMO', 'DMRE', 'DMRI', 'DMRL', 'DMRM', 'DMRS', 'DMS', 'DMS.W', 'DMYD', 'DMYD.U', 'DMYD.W', 'DMYI.U', 'DMYT', 'DMYT.U', 'DMYT.W', 'DNB', 'DNK', 'DNL', 'DNN', 'DNOV', 'DNOW', 'DNP', 'DOC', 'DOCT', 'DOG', 'DOL', 'DON', 'DOO', 'DOOR', 'DOV', 'DOW', 'DPG', 'DPST', 'DPW', 'DPZ', 'DQ', 'DRD', 'DRE', 'DRH', 'DRH$A', 'DRI', 'DRIP', 'DRN', 'DRQ', 'DRSK', 'DRUA', 'DRV', 'DRW', 'DS', 'DS$B', 'DS$C', 'DS$D', 'DSE', 'DSEP', 'DSI', 'DSL', 'DSM', 'DSOC', 'DSS', 'DSSI', 'DSTL', 'DSU', 'DSX', 'DSX$B', 'DT', 'DTB', 'DTD', 'DTE', 'DTEC', 'DTF', 'DTH', 'DTJ', 'DTLA$', 'DTN', 'DTP', 'DTW', 'DTY', 'DUAL', 'DUC', 'DUG', 'DUK', 'DUK$A', 'DUKB', 'DUKH', 'DURA', 'DUSL', 'DUST', 'DVA', 'DVD', 'DVN', 'DVYA', 'DVYE', 'DWM', 'DWMF', 'DWX', 'DX', 'DX$B', 'DX$C', 'DXC', 'DXD', 'DXF', 'DXJ', 'DXR', 'DY', 'DYFN', 'DYHG', 'DYNF', 'DZZ', 'E', 'EAD', 'EAF', 'EAGG', 'EAI', 'EAOA', 'EAOK', 'EAOM', 'EAOR', 'EARN', 'EASG', 'EAT', 'EB', 'EBF', 'EBLU', 'EBND', 'EBR', 'EBR.B', 'EBS', 'EC', 'ECC', 'ECCB', 'ECCX', 'ECCY', 'ECF', 'ECF$A', 'ECH', 'ECL', 'ECLN', 'ECNS', 'ECOM', 'ECON', 'ECOZ', 'ED', 'EDC', 'EDD', 'EDEN', 'EDF', 'EDI', 'EDIV', 'EDN', 'EDOG', 'EDOW', 'EDU', 'EDV', 'EDZ', 'EEA', 'EEH', 'EELV', 'EEM', 'EEMD', 'EEMO', 'EEMS', 'EEMV', 'EEMX', 'EES', 'EET', 'EEV', 'EEX', 'EFA', 'EFAD', 'EFAV', 'EFAX', 'EFC', 'EFC$A', 'EFF', 'EFG', 'EFIV', 'EFL', 'EFNL', 'EFO', 'EFR', 'EFT', 'EFU', 'EFV', 'EFX', 'EFZ', 'EGF', 'EGHT', 'EGIS', 'EGO', 'EGP', 'EGPT', 'EGY', 'EHC', 'EHI', 'EHT', 'EIC', 'EIDO', 'EIG', 'EIM', 'EINC', 'EIRL', 'EIS', 'EIX', 'EJAN', 'EJUL', 'EKAR', 'EL', 'ELA', 'ELAN', 'ELAT', 'ELC', 'ELD', 'ELF', 'ELJ', 'ELLO', 'ELMD', 'ELP', 'ELS', 'ELU', 'ELVT', 'ELY', 'EMAG', 'EMAN', 'EMBD', 'EMBH', 'EMD', 'EMDV', 'EME', 'EMF', 'EMFM', 'EMGF', 'EMHY', 'EMLC', 'EMLP', 'EMMF', 'EMN', 'EMNT', 'EMO', 'EMP', 'EMPW', 'EMPW.U', 'EMPW.W', 'EMQQ', 'EMR', 'EMSG', 'EMSH', 'EMTL', 'EMTY', 'EMX', 'ENB', 'ENBA', 'ENBL', 'ENFR', 'ENIA', 'ENIC', 'ENJ', 'ENLC', 'ENO', 'ENOR', 'ENPC', 'ENPC.U', 'ENPC.W', 'ENR', 'ENR$A', 'ENS', 'ENSV', 'ENTR', 'ENV', 'ENVA', 'ENX', 'ENZ', 'EOD', 'EOG', 'EOI', 'EOS', 'EOT', 'EP$C', 'EPAC', 'EPAM', 'EPC', 'EPD', 'EPHE', 'EPI', 'EPM', 'EPOL', 'EPP', 'EPR', 'EPR$C', 'EPR$E', 'EPR$G', 'EPRF', 'EPRT', 'EPS', 'EPU', 'EPV', 'EQAL', 'EQC', 'EQC$D', 'EQD', 'EQD.U', 'EQD.W', 'EQH', 'EQH$A', 'EQL', 'EQNR', 'EQOP', 'EQR', 'EQS', 'EQT', 'EQWL', 'EQX', 'ERC', 'ERF', 'ERH', 'ERJ', 'ERM', 'ERSX', 'ERUS', 'ERX', 'ERY', 'ES', 'ESBA', 'ESCR', 'ESE', 'ESEB', 'ESG', 'ESGA', 'ESGC', 'ESGG', 'ESGN', 'ESGS', 'ESGV', 'ESHY', 'ESI', 'ESML', 'ESNG', 'ESNT', 'ESP', 'ESRT', 'ESS', 'ESTC', 'ESTE', 'ET', 'ETB', 'ETG', 'ETH', 'ETHO', 'ETI$', 'ETJ', 'ETM', 'ETN', 'ETO', 'ETP$C', 'ETP$D', 'ETP$E', 'ETR', 'ETRN', 'ETV', 'ETW', 'ETX', 'ETY', 'EUDG', 'EUDV', 'EUFX', 'EUM', 'EUO', 'EURL', 'EURN', 'EURZ', 'EUSA', 'EUSB', 'EUSC', 'EV', 'EVA', 'EVBN', 'EVC', 'EVF', 'EVG', 'EVH', 'EVI', 'EVM', 'EVN', 'EVR', 'EVRG', 'EVRI', 'EVT', 'EVTC', 'EVV', 'EVX', 'EVY', 'EW', 'EWA', 'EWC', 'EWCO', 'EWD', 'EWG', 'EWGS', 'EWH', 'EWI', 'EWJ', 'EWK', 'EWL', 'EWM', 'EWMC', 'EWN', 'EWO', 'EWP', 'EWQ', 'EWRE', 'EWS', 'EWSC', 'EWT', 'EWU', 'EWUS', 'EWV', 'EWW', 'EWX', 'EWY', 'EWZ', 'EXD', 'EXG', 'EXI', 'EXK', 'EXN', 'EXP', 'EXPR', 'EXR', 'EXTN', 'EYLD', 'EZA', 'EZJ', 'EZM', 'EZU', 'F', 'F$B', 'F$C', 'FAF', 'FAII', 'FAII.U', 'FAII.W', 'FAM', 'FAN', 'FAS', 'FAUG', 'FAX', 'FAZ', 'FBC', 'FBCG', 'FBCV', 'FBGX', 'FBHS', 'FBK', 'FBM', 'FBND', 'FBP', 'FBT', 'FC', 'FCAU', 'FCF', 'FCG', 'FCN', 'FCO', 'FCOM', 'FCOR', 'FCPI', 'FCPT', 'FCRW', 'FCRZ', 'FCT', 'FCTR', 'FCX', 'FDD', 'FDEM', 'FDEU', 'FDEV', 'FDG', 'FDHY', 'FDIS', 'FDL', 'FDLO', 'FDM', 'FDMO', 'FDN', 'FDP', 'FDRR', 'FDS', 'FDVV', 'FDX', 'FE', 'FEAC', 'FEAC.U', 'FEAC.W', 'FEDU', 'FEDX', 'FEI', 'FEN', 'FENG', 'FENY', 'FEO', 'FET', 'FEUL', 'FEVR', 'FEZ', 'FF', 'FFA', 'FFC', 'FFEB', 'FFEU', 'FFG', 'FFHG', 'FFIU', 'FFR', 'FFSG', 'FFTG', 'FFTI', 'FFTY', 'FGB', 'FGD', 'FGNA', 'FGNA.U', 'FGNA.W', 'FHI', 'FHLC', 'FHN', 'FHN$A', 'FHN$B', 'FHN$C', 'FHN$D', 'FHN$E', 'FI', 'FIBR', 'FICO', 'FIDI', 'FIDU', 'FIEE', 'FIF', 'FIHD', 'FILL', 'FINS', 'FINV', 'FIS', 'FISK', 'FISR', 'FIT', 'FITE', 'FIV', 'FIVA', 'FIVG', 'FIW', 'FIX', 'FIYY', 'FJNK', 'FJUL', 'FJUN', 'FL', 'FLAU', 'FLAX', 'FLBL', 'FLBR', 'FLC', 'FLCA', 'FLCB', 'FLCH', 'FLCO', 'FLDR', 'FLEE', 'FLEH', 'FLEU', 'FLFR', 'FLGB', 'FLGE', 'FLGR', 'FLGV', 'FLHK', 'FLHY', 'FLIA', 'FLIN', 'FLIY', 'FLJH', 'FLJP', 'FLKR', 'FLLA', 'FLLV', 'FLM', 'FLMB', 'FLMI', 'FLMX', 'FLNG', 'FLO', 'FLOT', 'FLOW', 'FLQD', 'FLQE', 'FLQG', 'FLQH', 'FLQL', 'FLQM', 'FLQS', 'FLR', 'FLRG', 'FLRN', 'FLRT', 'FLRU', 'FLS', 'FLSA', 'FLSP', 'FLSW', 'FLT', 'FLTB', 'FLTR', 'FLTW', 'FLUD', 'FLV', 'FLY', 'FLYT', 'FLZA', 'FM', 'FMAC', 'FMAC.U', 'FMAC.W', 'FMAT', 'FMAY', 'FMC', 'FMF', 'FMIL', 'FMN', 'FMO', 'FMS', 'FMX', 'FMY', 'FN', 'FNB', 'FNB$E', 'FNCL', 'FND', 'FNDA', 'FNDB', 'FNDC', 'FNDE', 'FNDF', 'FNDX', 'FNF', 'FNGD', 'FNGO', 'FNGS', 'FNGU', 'FNGZ', 'FNI', 'FNOV', 'FNV', 'FOCT', 'FOE', 'FOF', 'FOR', 'FOUR', 'FOVL', 'FPAC.U', 'FPE', 'FPEI', 'FPF', 'FPH', 'FPI', 'FPI$B', 'FPL', 'FPX', 'FQAL', 'FR', 'FRA', 'FRAK', 'FRC', 'FRC$G', 'FRC$H', 'FRC$I', 'FRC$J', 'FRC$K', 'FRD', 'FRDM', 'FREL', 'FRI', 'FRLG', 'FRO', 'FRT', 'FRT$C', 'FRX.U', 'FSD', 'FSEP', 'FSI', 'FSK', 'FSKR', 'FSLF', 'FSLY', 'FSM', 'FSMB', 'FSMD', 'FSP', 'FSR', 'FSR.W', 'FSS', 'FST', 'FST.U', 'FST.W', 'FSTA', 'FT', 'FTAI', 'FTAI$A', 'FTAI$B', 'FTCH', 'FTEC', 'FTF', 'FTHY', 'FTI', 'FTK', 'FTLS', 'FTS', 'FTSD', 'FTSI', 'FTV', 'FTV$A', 'FUBO', 'FUD', 'FUE', 'FUL', 'FUMB', 'FUN', 'FUNL', 'FURY', 'FUSE', 'FUSE.U', 'FUSE.W', 'FUT', 'FUTY', 'FVAL', 'FVD', 'FVL', 'FVRR', 'FWDB', 'FXA', 'FXB', 'FXC', 'FXD', 'FXE', 'FXF', 'FXG', 'FXH', 'FXI', 'FXL', 'FXN', 'FXO', 'FXP', 'FXR', 'FXU', 'FXY', 'FXZ', 'FYLD', 'G', 'GAA', 'GAB', 'GAB$G', 'GAB$H', 'GAB$J', 'GAB$K', 'GAL', 'GAM', 'GAM$B', 'GAMR', 'GATO', 'GATX', 'GAU', 'GAZ', 'GB', 'GB.W', 'GBAB', 'GBDV', 'GBF', 'GBGR', 'GBIL', 'GBL', 'GBLO', 'GBR', 'GBUG', 'GBX', 'GCC', 'GCI', 'GCO', 'GCOR', 'GCOW', 'GCP', 'GCV', 'GD', 'GDDY', 'GDL', 'GDL$C', 'GDMA', 'GDO', 'GDOT', 'GDP', 'GDV', 'GDV$G', 'GDV$H', 'GDVD', 'GDX', 'GDXD', 'GDXJ', 'GDXU', 'GE', 'GEF', 'GEF.B', 'GEL', 'GEM', 'GEN', 'GEO', 'GER', 'GERM', 'GES', 'GF', 'GFF', 'GFI', 'GFL', 'GFLU', 'GGB', 'GGG', 'GGM', 'GGN', 'GGN$B', 'GGO', 'GGO$A', 'GGT', 'GGT$E', 'GGT$G', 'GGZ', 'GGZ$A', 'GHC', 'GHG', 'GHL', 'GHLD', 'GHM', 'GHY', 'GHYB', 'GHYG', 'GIB', 'GIGB', 'GII', 'GIK', 'GIK.U', 'GIK.W', 'GIL', 'GIM', 'GINN', 'GIS', 'GIX', 'GIX.R', 'GIX.U', 'GIX.W', 'GJH', 'GJO', 'GJP', 'GJR', 'GJS', 'GJT', 'GKOS', 'GL', 'GL$C', 'GLCN', 'GLD', 'GLDG', 'GLDM', 'GLEO', 'GLEO.U', 'GLEO.W', 'GLIF', 'GLIN', 'GLL', 'GLO', 'GLOB', 'GLOG', 'GLOG$A', 'GLOP', 'GLOP$A', 'GLOP$B', 'GLOP$C', 'GLP', 'GLP$A', 'GLQ', 'GLRY', 'GLT', 'GLTR', 'GLU', 'GLU$A', 'GLU$B', 'GLV', 'GLW', 'GM', 'GME', 'GMED', 'GMF', 'GMOM', 'GMRE', 'GMRE$A', 'GMS', 'GMTA', 'GNAF', 'GNE', 'GNE$A', 'GNK', 'GNL', 'GNL$A', 'GNL$B', 'GNPK.U', 'GNR', 'GNRC', 'GNT', 'GNT$A', 'GNW', 'GOAC', 'GOAC.U', 'GOAC.W', 'GOAT', 'GOAU', 'GOED', 'GOEX', 'GOF', 'GOL', 'GOLD', 'GOLF', 'GOOS', 'GORO', 'GOVT', 'GOVZ', 'GPC', 'GPI', 'GPJA', 'GPK', 'GPL', 'GPM', 'GPMT', 'GPN', 'GPRK', 'GPS', 'GPX', 'GQRE', 'GRA', 'GRC', 'GREK', 'GRES', 'GRF', 'GRN', 'GRNB', 'GRP.U', 'GRU', 'GRUB', 'GRX', 'GRX$B', 'GS', 'GS$A', 'GS$C', 'GS$D', 'GS$J', 'GS$K', 'GS$N', 'GSAH', 'GSAH.U', 'GSAH.W', 'GSAT', 'GSBD', 'GSEE', 'GSEU', 'GSEW', 'GSG', 'GSID', 'GSIE', 'GSIG', 'GSJY', 'GSK', 'GSL', 'GSL$B', 'GSLC', 'GSLD', 'GSP', 'GSS', 'GSSC', 'GSST', 'GSUS', 'GSV', 'GSX', 'GSY', 'GTE', 'GTES', 'GTIP', 'GTN', 'GTN.A', 'GTO', 'GTS', 'GTT', 'GTY', 'GUDB', 'GUNR', 'GURU', 'GUSH', 'GUT', 'GUT$A', 'GUT$C', 'GV', 'GVA', 'GVAL', 'GVI', 'GVIP', 'GWB', 'GWRE', 'GWW', 'GWX', 'GXC', 'GXF', 'GXG', 'GYC', 'GYLD', 'H', 'HACK', 'HAE', 'HAIL', 'HAL', 'HAP', 'HASI', 'HAUZ', 'HAWX', 'HBB', 'HBI', 'HBM', 'HCA', 'HCC', 'HCFT', 'HCHC', 'HCI', 'HCRB', 'HCXY', 'HCXZ', 'HD', 'HDAW', 'HDB', 'HDEF', 'HDG', 'HDGE', 'HDIV', 'HDLB', 'HDMV', 'HDV', 'HE', 'HEDJ', 'HEEM', 'HEFA', 'HEI', 'HEI.A', 'HELX', 'HEP', 'HEQ', 'HES', 'HESM', 'HEWC', 'HEWJ', 'HEWU', 'HEWW', 'HEXO', 'HEZU', 'HFC', 'HFRO', 'HFRO$A', 'HFXI', 'HGH', 'HGLB', 'HGV', 'HHC', 'HI', 'HIBL', 'HIBS', 'HIE', 'HIG', 'HIG$G', 'HIGA.U', 'HII', 'HIL', 'HIO', 'HIPR', 'HIPS', 'HIW', 'HIX', 'HJPX', 'HKIB', 'HL', 'HL$B', 'HLF', 'HLI', 'HLM$', 'HLT', 'HLX', 'HMC', 'HMG', 'HMI', 'HMLP', 'HMLP$A', 'HMN', 'HMOP', 'HMY', 'HNGR', 'HNI', 'HNP', 'HNW', 'HOG', 'HOLD', 'HOME', 'HOMZ', 'HON', 'HOV', 'HP', 'HPE', 'HPF', 'HPI', 'HPP', 'HPQ', 'HPR', 'HPS', 'HPX', 'HPX.U', 'HPX.W', 'HQH', 'HQL', 'HR', 'HRB', 'HRC', 'HRI', 'HRL', 'HRTG', 'HSBC', 'HSBC$A', 'HSC', 'HSCZ', 'HSMV', 'HSRT', 'HSY', 'HT', 'HT$C', 'HT$D', 'HT$E', 'HTA', 'HTAB', 'HTD', 'HTEC', 'HTFA', 'HTGC', 'HTH', 'HTPA.U', 'HTRB', 'HTUS', 'HTY', 'HUBB', 'HUBS', 'HUM', 'HUN', 'HUSA', 'HUSV', 'HUYA', 'HVT', 'HVT.A', 'HWM', 'HWM$', 'HXL', 'HY', 'HYB', 'HYBB', 'HYD', 'HYDB', 'HYDW', 'HYEM', 'HYG', 'HYGH', 'HYGV', 'HYHG', 'HYI', 'HYLB', 'HYLD', 'HYLN', 'HYLN.W', 'HYLV', 'HYMB', 'HYS', 'HYT', 'HYTR', 'HYUP', 'HYXU', 'HZAC', 'HZAC.U', 'HZAC.W', 'HZN', 'HZO', 'HZON.U', 'IAA', 'IACA', 'IACA.U', 'IACA.W', 'IAE', 'IAF', 'IAG', 'IAGG', 'IAI', 'IAK', 'IAT', 'IAU', 'IAUF', 'IBA', 'IBCE', 'IBD', 'IBDD', 'IBDL', 'IBDM', 'IBDN', 'IBDO', 'IBDP', 'IBDQ', 'IBDR', 'IBDS', 'IBDT', 'IBDU', 'IBDV', 'IBHA', 'IBHB', 'IBHC', 'IBHD', 'IBHE', 'IBHF', 'IBIO', 'IBM', 'IBMJ', 'IBMK', 'IBML', 'IBMM', 'IBMN', 'IBMO', 'IBMP', 'IBMQ', 'IBN', 'IBND', 'IBO', 'IBP', 'IBUY', 'ICD', 'ICE', 'ICF', 'ICL', 'ICOL', 'ICOW', 'ICSH', 'ICVT', 'ID', 'IDA', 'IDE', 'IDEV', 'IDHD', 'IDHQ', 'IDIV', 'IDLV', 'IDMO', 'IDNA', 'IDOG', 'IDRV', 'IDT', 'IDU', 'IDV', 'IDX', 'IECS', 'IEDI', 'IEFA', 'IEFN', 'IEHS', 'IEIH', 'IEME', 'IEMG', 'IEO', 'IETC', 'IEUR', 'IEV', 'IEX', 'IEZ', 'IFF', 'IFFT', 'IFN', 'IFRA', 'IFS', 'IG', 'IGA', 'IGBH', 'IGC', 'IGD', 'IGE', 'IGEB', 'IGHG', 'IGI', 'IGLB', 'IGM', 'IGN', 'IGR', 'IGRO', 'IGT', 'IGV', 'IGZ', 'IH', 'IHAK', 'IHC', 'IHD', 'IHDG', 'IHE', 'IHF', 'IHG', 'IHI', 'IHIT', 'IHT', 'IHTA', 'IHY', 'IIAC.U', 'IID', 'IIF', 'IIGD', 'IIGV', 'IIM', 'IIPR', 'IIPR$A', 'IJAN', 'IJH', 'IJJ', 'IJK', 'IJR', 'IJS', 'IJUL', 'ILF', 'ILTB', 'IMAX', 'IMH', 'IMLP', 'IMO', 'IMOM', 'IMPX', 'IMPX.U', 'IMPX.W', 'IMTB', 'IMTM', 'INCO', 'INDA', 'INDF', 'INDL', 'INDO', 'INDS', 'INFO', 'INFU', 'INFY', 'ING', 'INGR', 'INKM', 'INN', 'INN$D', 'INN$E', 'INS', 'INSI', 'INSP', 'INSW', 'INSW$A', 'INT', 'INTF', 'INTT', 'INUV', 'INVH', 'IO', 'IOO', 'IOR', 'IP', 'IPAC', 'IPAY', 'IPB', 'IPFF', 'IPG', 'IPI', 'IPO', 'IPOB', 'IPOB.U', 'IPOB.W', 'IPOC', 'IPOC.U', 'IPOC.W', 'IPOD', 'IPOD.U', 'IPOD.W', 'IPOE', 'IPOE.U', 'IPOE.W', 'IPOF', 'IPOF.U', 'IPOF.W', 'IPOS', 'IPV', 'IPV.U', 'IPV.W', 'IQDE', 'IQDF', 'IQDG', 'IQDY', 'IQI', 'IQIN', 'IQLT', 'IQM', 'IQSI', 'IQSU', 'IQV', 'IR', 'IRBO', 'IRET', 'IRET$C', 'IRL', 'IRM', 'IRR', 'IRS', 'IRT', 'ISCF', 'ISD', 'ISDR', 'ISMD', 'ISR', 'ISRA', 'ISZE', 'IT', 'ITA', 'ITB', 'ITCB', 'ITEQ', 'ITGR', 'ITM', 'ITOT', 'ITP', 'ITRG', 'ITT', 'ITUB', 'ITW', 'IVAL', 'IVC', 'IVE', 'IVES', 'IVH', 'IVLU', 'IVOG', 'IVOL', 'IVOO', 'IVOV', 'IVR', 'IVR$A', 'IVR$B', 'IVR$C', 'IVV', 'IVW', 'IVZ', 'IWB', 'IWC', 'IWD', 'IWF', 'IWFH', 'IWL', 'IWM', 'IWN', 'IWO', 'IWP', 'IWR', 'IWS', 'IWV', 'IWX', 'IWY', 'IX', 'IXC', 'IXG', 'IXJ', 'IXN', 'IXP', 'IXSE', 'IYC', 'IYE', 'IYF', 'IYG', 'IYH', 'IYJ', 'IYK', 'IYLD', 'IYM', 'IYR', 'IYT', 'IYW', 'IYY', 'IYZ', 'IZRL', 'J', 'JAAA', 'JAGG', 'JAX', 'JBGS', 'JBK', 'JBL', 'JBT', 'JCE', 'JCI', 'JCO', 'JCPB', 'JDD', 'JDIV', 'JDST', 'JE', 'JEF', 'JELD', 'JEMD', 'JEPI', 'JEQ', 'JETS', 'JFR', 'JGH', 'JGLD', 'JHAA', 'JHB', 'JHCS', 'JHEM', 'JHG', 'JHI', 'JHMA', 'JHMC', 'JHMD', 'JHME', 'JHMF', 'JHMH', 'JHMI', 'JHML', 'JHMM', 'JHMS', 'JHMT', 'JHMU', 'JHS', 'JHSC', 'JHX', 'JIG', 'JIGB', 'JIH', 'JIH.U', 'JIH.W', 'JILL', 'JJA', 'JJC', 'JJE', 'JJG', 'JJM', 'JJN', 'JJP', 'JJS', 'JJT', 'JJU', 'JKD', 'JKE', 'JKF', 'JKG', 'JKH', 'JKJ', 'JKK', 'JKL', 'JKS', 'JLL', 'JLS', 'JMBS', 'JMIA', 'JMIN', 'JMM', 'JMOM', 'JMP', 'JMST', 'JMUB', 'JNJ', 'JNK', 'JNPR', 'JNUG', 'JO', 'JOB', 'JOE', 'JOF', 'JOYY', 'JP', 'JPC', 'JPEM', 'JPHY', 'JPI', 'JPIB', 'JPIN', 'JPM', 'JPM$C', 'JPM$D', 'JPM$G', 'JPM$H', 'JPM$J', 'JPMB', 'JPME', 'JPN', 'JPS', 'JPSE', 'JPST', 'JPT', 'JPUS', 'JPXN', 'JQC', 'JQUA', 'JRI', 'JRO', 'JRS', 'JSD', 'JT', 'JTA', 'JTD', 'JULZ', 'JUST', 'JVAL', 'JW.A', 'JW.B', 'JWN', 'JWS', 'JWS.U', 'JWS.W', 'JXI', 'K', 'KAI', 'KALL', 'KAMN', 'KAPR', 'KAR', 'KARS', 'KB', 'KBA', 'KBE', 'KBH', 'KBR', 'KCCB', 'KCE', 'KCNY', 'KDFI', 'KEMQ', 'KEMX', 'KEN', 'KEP', 'KESG', 'KEX', 'KEY', 'KEY$I', 'KEY$J', 'KEY$K', 'KEYS', 'KF', 'KFS', 'KFVG', 'KFY', 'KFYP', 'KGC', 'KGRN', 'KIE', 'KIM', 'KIM$L', 'KIM$M', 'KIO', 'KIQ', 'KJAN', 'KJUL', 'KKR', 'KKR$A', 'KKR$B', 'KKR$C', 'KL', 'KLCD', 'KLDW', 'KLR', 'KLR.W', 'KMB', 'KMED', 'KMF', 'KMI', 'KMLM', 'KMPR', 'KMT', 'KMX', 'KN', 'KNAB', 'KNG', 'KNL', 'KNOP', 'KNX', 'KO', 'KOCT', 'KODK', 'KOF', 'KOIN', 'KOKU', 'KOL', 'KOLD', 'KOMP', 'KOP', 'KORP', 'KORU', 'KOS', 'KR', 'KRA', 'KRBN', 'KRC', 'KRE', 'KREF', 'KRG', 'KRO', 'KRP', 'KSA', 'KSCD', 'KSM', 'KSS', 'KSU', 'KSU$', 'KT', 'KTB', 'KTF', 'KTH', 'KTN', 'KURE', 'KVLE', 'KW', 'KWAC.U', 'KWEB', 'KWR', 'KWT', 'KXI', 'KYN', 'L', 'LABD', 'LABU', 'LAC', 'LAD', 'LADR', 'LAIX', 'LAZ', 'LB', 'LBAY', 'LBJ', 'LBRT', 'LC', 'LCG', 'LCI', 'LCII', 'LCR', 'LCTX', 'LD', 'LDL', 'LDOS', 'LDP', 'LDRS', 'LDUR', 'LEA', 'LEAD', 'LEAF', 'LEAP', 'LEAP.U', 'LEAP.W', 'LEE', 'LEG', 'LEJU', 'LEMB', 'LEN', 'LEN.B', 'LEND', 'LEO', 'LEU', 'LEVI', 'LFC', 'LFEQ', 'LGF.A', 'LGF.B', 'LGH', 'LGI', 'LGL', 'LGL.W', 'LGLV', 'LGOV', 'LGVW', 'LGVW.U', 'LGVW.W', 'LH', 'LHX', 'LII', 'LIN', 'LINX', 'LIT', 'LITB', 'LIV', 'LKOR', 'LL', 'LLY', 'LMLB', 'LMND', 'LMT', 'LN', 'LNC', 'LND', 'LNFA.U', 'LNG', 'LNN', 'LOAK', 'LOAK.U', 'LOAK.W', 'LODE', 'LOKB.U', 'LOMA', 'LOUP', 'LOV', 'LOW', 'LOWC', 'LPG', 'LPI', 'LPL', 'LPX', 'LQD', 'LQDH', 'LQDI', 'LRGF', 'LRN', 'LRNZ', 'LSAF', 'LSAT', 'LSF', 'LSI', 'LSLT', 'LSPD', 'LSST', 'LTC', 'LTHM', 'LTL', 'LTPZ', 'LU', 'LUB', 'LUMN', 'LUV', 'LUXE', 'LVHI', 'LVS', 'LW', 'LXFR', 'LXP', 'LXP$C', 'LXU', 'LYB', 'LYFE', 'LYG', 'LYV', 'LZB', 'M', 'MA', 'MAA', 'MAA$I', 'MAAX', 'MAC', 'MAG', 'MAGA', 'MAIN', 'MAN', 'MANU', 'MARB', 'MAS', 'MATX', 'MAV', 'MAX', 'MAXR', 'MBBB', 'MBI', 'MBSD', 'MBT', 'MC', 'MCA', 'MCB', 'MCC', 'MCD', 'MCF', 'MCI', 'MCK', 'MCN', 'MCO', 'MCR', 'MCRO', 'MCS', 'MCV', 'MCY', 'MD', 'MDC', 'MDLA', 'MDLQ', 'MDLX', 'MDLY', 'MDP', 'MDT', 'MDU', 'MDY', 'MDYG', 'MDYV', 'MEAR', 'MEC', 'MED', 'MEG', 'MEI', 'MEN', 'MER$K', 'MET', 'MET$A', 'MET$E', 'MET$F', 'MEXX', 'MFA', 'MFA$B', 'MFA$C', 'MFAC', 'MFAC.U', 'MFAC.W', 'MFC', 'MFD', 'MFDX', 'MFEM', 'MFG', 'MFGP', 'MFL', 'MFM', 'MFMS', 'MFO', 'MFT', 'MFUS', 'MFV', 'MG', 'MGA', 'MGC', 'MGF', 'MGK', 'MGM', 'MGMT', 'MGP', 'MGR', 'MGRB', 'MGU', 'MGV', 'MGY', 'MH$A', 'MH$C', 'MH$D', 'MHD', 'MHE', 'MHF', 'MHH', 'MHI', 'MHK', 'MHLA', 'MHN', 'MHNC', 'MHO', 'MIC', 'MID', 'MIDF', 'MIDU', 'MIE', 'MIG', 'MIN', 'MINC', 'MINT', 'MITT', 'MITT$A', 'MITT$B', 'MITT$C', 'MIXT', 'MIY', 'MJ', 'MJJ', 'MJO', 'MKC', 'MKC.V', 'MKL', 'MLI', 'MLM', 'MLN', 'MLP', 'MLPA', 'MLPB', 'MLPO', 'MLPR', 'MLPX', 'MLPY', 'MLR', 'MLSS', 'MMC', 'MMD', 'MMI', 'MMIN', 'MMIT', 'MMLG', 'MMM', 'MMP', 'MMS', 'MMT', 'MMTM', 'MMU', 'MMX', 'MN', 'MNA', 'MNP', 'MNR', 'MNR$C', 'MNRL', 'MNSO', 'MO', 'MOAT', 'MOD', 'MODN', 'MOG.A', 'MOG.B', 'MOGU', 'MOH', 'MOM', 'MOO', 'MOON', 'MORT', 'MOS', 'MOTI', 'MOTO', 'MOV', 'MP', 'MP.W', 'MPA', 'MPC', 'MPLN', 'MPLN.W', 'MPLX', 'MPV', 'MPW', 'MPX', 'MQT', 'MQY', 'MRC', 'MRGR', 'MRK', 'MRO', 'MRSK', 'MS', 'MS$A', 'MS$E', 'MS$F', 'MS$I', 'MS$K', 'MS$L', 'MSA', 'MSB', 'MSC', 'MSCI', 'MSD', 'MSGE', 'MSGN', 'MSGS', 'MSI', 'MSM', 'MSN', 'MSOS', 'MSP', 'MSTB', 'MSVX', 'MT', 'MTA', 'MTB', 'MTCN', 'MTD', 'MTDR', 'MTG', 'MTGP', 'MTH', 'MTL', 'MTL$', 'MTN', 'MTNB', 'MTOR', 'MTR', 'MTRN', 'MTT', 'MTUM', 'MTW', 'MTX', 'MTZ', 'MUA', 'MUB', 'MUC', 'MUE', 'MUFG', 'MUH', 'MUI', 'MUJ', 'MUNI', 'MUR', 'MUS', 'MUSA', 'MUST', 'MUX', 'MVC', 'MVCD', 'MVF', 'MVIN', 'MVO', 'MVRL', 'MVT', 'MVV', 'MWA', 'MX', 'MXC', 'MXDU', 'MXE', 'MXF', 'MXI', 'MXL', 'MYC', 'MYD', 'MYE', 'MYF', 'MYI', 'MYJ', 'MYN', 'MYO', 'MYOV', 'MYY', 'MZA', 'MZZ', 'NAC', 'NACP', 'NAD', 'NAIL', 'NAK', 'NAN', 'NANR', 'NAPR', 'NAT', 'NAV', 'NAV$D', 'NAVB', 'NAZ', 'NBA', 'NBA.U', 'NBA.W', 'NBB', 'NBH', 'NBHC', 'NBO', 'NBR', 'NBR$A', 'NBW', 'NBY', 'NC', 'NCA', 'NCB', 'NCLH', 'NCR', 'NCV', 'NCV$A', 'NCZ', 'NCZ$A', 'NDMO', 'NDP', 'NEA', 'NEAR', 'NEE', 'NEE$K', 'NEE$N', 'NEE$O', 'NEE$P', 'NEE$Q', 'NEM', 'NEN', 'NEP', 'NERD', 'NES', 'NET', 'NETL', 'NEU', 'NEV', 'NEW', 'NEWR', 'NEX', 'NEXA', 'NFG', 'NFH', 'NFH.W', 'NFJ', 'NFLT', 'NFRA', 'NG', 'NGA', 'NGA.U', 'NGA.W', 'NGD', 'NGE', 'NGG', 'NGL', 'NGL$B', 'NGL$C', 'NGLS$A', 'NGS', 'NGVC', 'NGVT', 'NHA', 'NHC', 'NHF', 'NHI', 'NHS', 'NI', 'NI$B', 'NIB', 'NID', 'NIE', 'NIFE', 'NIM', 'NINE', 'NIO', 'NIQ', 'NJAN', 'NJR', 'NJUL', 'NJV', 'NKE', 'NKG', 'NKX', 'NL', 'NLR', 'NLS', 'NLSN', 'NLY', 'NLY$D', 'NLY$F', 'NLY$G', 'NLY$I', 'NM', 'NM$G', 'NM$H', 'NMCO', 'NMI', 'NMK$B', 'NMK$C', 'NML', 'NMM', 'NMR', 'NMS', 'NMT', 'NMY', 'NMZ', 'NNA', 'NNI', 'NNN', 'NNN$F', 'NNVC', 'NNY', 'NOA', 'NOAH', 'NOBL', 'NOC', 'NOCT', 'NOG', 'NOK', 'NOM', 'NOMD', 'NORW', 'NOV', 'NOVA', 'NOW', 'NP', 'NPK', 'NPN', 'NPO', 'NPTN', 'NPV', 'NQP', 'NR', 'NREF', 'NREF$A', 'NRG', 'NRGD', 'NRGO', 'NRGU', 'NRGX', 'NRGZ', 'NRK', 'NRO', 'NRP', 'NRT', 'NRUC', 'NRZ', 'NRZ$A', 'NRZ$B', 'NRZ$C', 'NS', 'NS$A', 'NS$B', 'NS$C', 'NSA', 'NSA$A', 'NSC', 'NSCO', 'NSCO.W', 'NSH', 'NSH.U', 'NSH.W', 'NSL', 'NSP', 'NSPR', 'NSPR.B', 'NSPR.W', 'NSS', 'NTB', 'NTCO', 'NTEST', 'NTEST.A', 'NTEST.B', 'NTEST.C', 'NTG', 'NTIP', 'NTN', 'NTP', 'NTR', 'NTST', 'NTSX', 'NTZ', 'NUAG', 'NUBD', 'NUDM', 'NUE', 'NUEM', 'NUGT', 'NUHY', 'NULC', 'NULG', 'NULV', 'NUM', 'NUMG', 'NUMV', 'NUO', 'NURE', 'NUS', 'NUSA', 'NUSC', 'NUSI', 'NUV', 'NUW', 'NVG', 'NVGS', 'NVMZ', 'NVO', 'NVQ', 'NVR', 'NVRO', 'NVS', 'NVST', 'NVT', 'NVTA', 'NWG', 'NWHM', 'NWN', 'NX', 'NXC', 'NXE', 'NXJ', 'NXN', 'NXP', 'NXQ', 'NXR', 'NXRT', 'NYC', 'NYCB', 'NYCB$A', 'NYCB$U', 'NYF', 'NYT', 'NYV', 'NZF', 'O', 'OAC', 'OAC.U', 'OAC.W', 'OACB', 'OACB.U', 'OACB.W', 'OAK$A', 'OAK$B', 'OBLG', 'OBOR', 'OC', 'OCA.U', 'OCFT', 'OCIO', 'OCN', 'OCTZ', 'OCX', 'ODC', 'OEC', 'OEF', 'OEUR', 'OFC', 'OFG', 'OFG$A', 'OFG$B', 'OFG$D', 'OGCP', 'OGE', 'OGEN', 'OGIG', 'OGS', 'OHI', 'OI', 'OIA', 'OIBR.C', 'OIH', 'OII', 'OIL', 'OILK', 'OIS', 'OKE', 'OLN', 'OLP', 'OMC', 'OMF', 'OMFL', 'OMFS', 'OMI', 'ONE', 'ONEO', 'ONEV', 'ONEY', 'ONLN', 'ONTO', 'OOMA', 'OPER', 'OPP', 'OPP$A', 'OPY', 'OR', 'ORA', 'ORAN', 'ORC', 'ORCC', 'ORCL', 'ORI', 'ORN', 'OSB', 'OSCV', 'OSG', 'OSH', 'OSK', 'OTIS', 'OUNZ', 'OUSA', 'OUSM', 'OUT', 'OVB', 'OVF', 'OVL', 'OVM', 'OVS', 'OVV', 'OXM', 'OXY', 'OXY.W', 'PAA', 'PAC', 'PACE', 'PACE.U', 'PACE.W', 'PACK', 'PAG', 'PAGP', 'PAGS', 'PAI', 'PAK', 'PALC', 'PALL', 'PAM', 'PAMC', 'PANA', 'PANA.U', 'PANA.W', 'PANW', 'PAPR', 'PAR', 'PARR', 'PAUG', 'PAVE', 'PAWZ', 'PAYC', 'PB', 'PBA', 'PBB', 'PBC', 'PBD', 'PBDM', 'PBE', 'PBEE', 'PBF', 'PBFX', 'PBH', 'PBI', 'PBI$B', 'PBJ', 'PBND', 'PBP', 'PBR', 'PBR.A', 'PBS', 'PBSM', 'PBT', 'PBTP', 'PBUS', 'PBW', 'PBY', 'PCEF', 'PCF', 'PCG', 'PCG$A', 'PCG$B', 'PCG$C', 'PCG$D', 'PCG$E', 'PCG$G', 'PCG$H', 'PCG$I', 'PCGU', 'PCI', 'PCK', 'PCM', 'PCN', 'PCPL', 'PCPL.U', 'PCPL.W', 'PCQ', 'PCY', 'PD', 'PDAC', 'PDAC.U', 'PDAC.W', 'PDEC', 'PDI', 'PDM', 'PDN', 'PDS', 'PDT', 'PE', 'PEAK', 'PEB', 'PEB$C', 'PEB$D', 'PEB$E', 'PEB$F', 'PED', 'PEG', 'PEI', 'PEI$B', 'PEI$C', 'PEI$D', 'PEJ', 'PEN', 'PEO', 'PEX', 'PEXL', 'PFD', 'PFE', 'PFEB', 'PFFA', 'PFFD', 'PFFL', 'PFFR', 'PFFV', 'PFGC', 'PFH', 'PFIG', 'PFL', 'PFLD', 'PFN', 'PFO', 'PFS', 'PFSI', 'PFXF', 'PG', 'PGAL', 'PGF', 'PGHY', 'PGM', 'PGP', 'PGR', 'PGRE', 'PGTI', 'PGX', 'PGZ', 'PH', 'PHB', 'PHD', 'PHDG', 'PHG', 'PHGE', 'PHGE.U', 'PHGE.W', 'PHI', 'PHK', 'PHM', 'PHR', 'PHT', 'PHX', 'PHYL', 'PHYS', 'PIAI', 'PIAI.U', 'PIAI.W', 'PIC', 'PIC.U', 'PIC.W', 'PICB', 'PICK', 'PIFI', 'PII', 'PILL', 'PIM', 'PIN', 'PINE', 'PING', 'PINS', 'PIPP.U', 'PIPR', 'PJAN', 'PJP', 'PJT', 'PJUL', 'PJUN', 'PK', 'PKB', 'PKE', 'PKG', 'PKI', 'PKO', 'PKX', 'PLAG', 'PLAN', 'PLAT', 'PLD', 'PLG', 'PLM', 'PLNT', 'PLOW', 'PLT', 'PLTM', 'PLTR', 'PLX', 'PLYM', 'PLYM$A', 'PM', 'PMAR', 'PMAY', 'PMF', 'PML', 'PMM', 'PMO', 'PMT', 'PMT$A', 'PMT$B', 'PMVC', 'PMVC.U', 'PMVC.W', 'PMX', 'PNC', 'PNC$P', 'PNF', 'PNI', 'PNM', 'PNOV', 'PNR', 'PNW', 'POCT', 'POR', 'POST', 'PPA', 'PPG', 'PPL', 'PPLT', 'PPR', 'PPT', 'PPTY', 'PPX', 'PQDI', 'PQG', 'PQIN', 'PQLC', 'PQSG', 'PQSV', 'PRA', 'PRE$G', 'PRE$H', 'PRE$I', 'PREF', 'PRF', 'PRG', 'PRGO', 'PRI', 'PRIF$A', 'PRIF$B', 'PRIF$C', 'PRIF$D', 'PRIF$E', 'PRIF$F', 'PRK', 'PRLB', 'PRMW', 'PRNT', 'PRO', 'PROS', 'PRPB', 'PRPB.U', 'PRPB.W', 'PRS', 'PRSP', 'PRT', 'PRTY', 'PRU', 'PSA', 'PSA$B', 'PSA$C', 'PSA$D', 'PSA$E', 'PSA$F', 'PSA$G', 'PSA$H', 'PSA$I', 'PSA$J', 'PSA$K', 'PSA$L', 'PSA$M', 'PSA$N', 'PSA$O', 'PSB', 'PSB$W', 'PSB$X', 'PSB$Y', 'PSB$Z', 'PSEP', 'PSF', 'PSI', 'PSJ', 'PSK', 'PSLV', 'PSMB', 'PSMC', 'PSMG', 'PSMM', 'PSN', 'PSO', 'PSP', 'PSQ', 'PSR', 'PST', 'PSTG', 'PSTH', 'PSTH.W', 'PSTL', 'PSX', 'PSXP', 'PTA', 'PTBD', 'PTEU', 'PTIN', 'PTK', 'PTK.U', 'PTK.W', 'PTLC', 'PTMC', 'PTN', 'PTNQ', 'PTR', 'PTY', 'PUK', 'PUK$', 'PUK$A', 'PULS', 'PUMP', 'PUTW', 'PVG', 'PVH', 'PVI', 'PVL', 'PW', 'PW$A', 'PWB', 'PWC', 'PWR', 'PWS', 'PWV', 'PWZ', 'PXD', 'PXE', 'PXF', 'PXH', 'PXJ', 'PXQ', 'PYN', 'PYPE', 'PYS', 'PYT', 'PZA', 'PZC', 'PZD', 'PZG', 'PZN', 'PZT', 'QAI', 'QARP', 'QD', 'QDEF', 'QDF', 'QDIV', 'QDYN', 'QED', 'QEFA', 'QEMM', 'QEP', 'QGEN', 'QGRO', 'QID', 'QINT', 'QLC', 'QLD', 'QLS', 'QLTA', 'QLV', 'QLVD', 'QLVE', 'QMJ', 'QMN', 'QMOM', 'QQH', 'QQQE', 'QRFT', 'QS', 'QS.W', 'QSR', 'QSY', 'QTS', 'QTS$A', 'QTS$B', 'QTUM', 'QTWO', 'QUAD', 'QUAL', 'QUOT', 'QUS', 'QVAL', 'QVCC', 'QVCD', 'QWLD', 'R', 'RA', 'RAAX', 'RACE', 'RAD', 'RAFE', 'RALS', 'RAMP', 'RAVI', 'RBA', 'RBAC', 'RBAC.U', 'RBAC.W', 'RBC', 'RBIN', 'RBND', 'RBUS', 'RC', 'RCA', 'RCB', 'RCD', 'RCG', 'RCI', 'RCL', 'RCP', 'RCS', 'RCUS', 'RDFI', 'RDIV', 'RDN', 'RDOG', 'RDS.A', 'RDS.B', 'RDY', 'RE', 'REC', 'RECS', 'REET', 'REGL', 'REI', 'REK', 'RELX', 'REM', 'REML', 'REMX', 'RENN', 'RES', 'RESD', 'RESE', 'RESI', 'RESP', 'RETL', 'REV', 'REVG', 'REVS', 'REW', 'REX', 'REXR', 'REXR$A', 'REXR$B', 'REXR$C', 'REZ', 'REZI', 'RF', 'RF$A', 'RF$B', 'RF$C', 'RFCI', 'RFDA', 'RFFC', 'RFG', 'RFI', 'RFL', 'RFM', 'RFP', 'RFUN', 'RFV', 'RGA', 'RGI', 'RGR', 'RGS', 'RGT', 'RH', 'RHE', 'RHE$A', 'RHI', 'RHP', 'RHS', 'RICE.U', 'RIG', 'RIGS', 'RINF', 'RIO', 'RISN', 'RIV', 'RJA', 'RJF', 'RJI', 'RJN', 'RJZ', 'RKT', 'RL', 'RLGT', 'RLGY', 'RLH', 'RLI', 'RLJ', 'RLJ$A', 'RLY', 'RM', 'RMAX', 'RMD', 'RMED', 'RMG', 'RMG.U', 'RMG.W', 'RMI', 'RMM', 'RMPL$', 'RMT', 'RNG', 'RNGR', 'RNP', 'RNR', 'RNR$E', 'RNR$F', 'ROAM', 'ROBO', 'RODE', 'RODI', 'RODM', 'ROG', 'ROK', 'ROKT', 'ROL', 'ROM', 'ROMO', 'ROOF', 'ROP', 'RORO', 'ROSC', 'ROUS', 'RPAI', 'RPAR', 'RPG', 'RPLA', 'RPLA.U', 'RPLA.W', 'RPM', 'RPT', 'RPT$D', 'RPV', 'RQI', 'RRC', 'RRD', 'RS', 'RSF', 'RSG', 'RSP', 'RSX', 'RSXJ', 'RTAI', 'RTM', 'RTP', 'RTP.U', 'RTP.W', 'RTPZ.U', 'RTX', 'RUSL', 'RVI', 'RVLV', 'RVNU', 'RVP', 'RVRS', 'RVT', 'RWGV', 'RWJ', 'RWK', 'RWL', 'RWM', 'RWO', 'RWR', 'RWT', 'RWVG', 'RWX', 'RXD', 'RXI', 'RXL', 'RXN', 'RY', 'RY$T', 'RYAM', 'RYB', 'RYE', 'RYF', 'RYH', 'RYI', 'RYJ', 'RYLD', 'RYN', 'RYT', 'RYU', 'RZA', 'RZB', 'RZG', 'RZV', 'SA', 'SAA', 'SACC', 'SACH', 'SAF', 'SAFE', 'SAH', 'SAIC', 'SAIL', 'SAK', 'SALT', 'SAM', 'SAN', 'SAND', 'SAP', 'SAR', 'SAVE', 'SB', 'SB$C', 'SB$D', 'SBB', 'SBBA', 'SBE', 'SBE.U', 'SBE.W', 'SBG', 'SBG.U', 'SBG.W', 'SBH', 'SBI', 'SBIO', 'SBM', 'SBOW', 'SBR', 'SBS', 'SBSW', 'SBUG', 'SC', 'SCA', 'SCC', 'SCCB', 'SCCC', 'SCCO', 'SCD', 'SCE$G', 'SCE$H', 'SCE$J', 'SCE$K', 'SCE$L', 'SCHA', 'SCHB', 'SCHC', 'SCHD', 'SCHE', 'SCHF', 'SCHG', 'SCHH', 'SCHI', 'SCHJ', 'SCHK', 'SCHM', 'SCHO', 'SCHP', 'SCHQ', 'SCHR', 'SCHV', 'SCHW', 'SCHW$C', 'SCHW$D', 'SCHX', 'SCHZ', 'SCI', 'SCJ', 'SCL', 'SCM', 'SCO', 'SCPE', 'SCPE.U', 'SCPE.W', 'SCS', 'SCU', 'SCVX', 'SCVX.U', 'SCVX.W', 'SCX', 'SD', 'SDCI', 'SDD', 'SDEM', 'SDGA', 'SDHY', 'SDIV', 'SDOG', 'SDOW', 'SDP', 'SDPI', 'SDS', 'SDY', 'SE', 'SEAH', 'SEAH.U', 'SEAH.W', 'SEAS', 'SEB', 'SECT', 'SEE', 'SEF', 'SEIX', 'SEM', 'SENS', 'SEPZ', 'SF', 'SF$A', 'SF$B', 'SF$C', 'SFB', 'SFE', 'SFHY', 'SFIG', 'SFL', 'SFTW', 'SFTW.U', 'SFTW.W', 'SFUN', 'SFY', 'SFYF', 'SFYX', 'SGDJ', 'SGDM', 'SGG', 'SGOL', 'SGOV', 'SGU', 'SH', 'SHAG', 'SHAK', 'SHE', 'SHG', 'SHI', 'SHLX', 'SHM', 'SHO', 'SHO$E', 'SHO$F', 'SHOP', 'SHW', 'SHYD', 'SHYG', 'SHYL', 'SI', 'SID', 'SIF', 'SIG', 'SII', 'SIJ', 'SIL', 'SILJ', 'SILV', 'SIM', 'SIMS', 'SITC', 'SITC$A', 'SITC$K', 'SITE', 'SIVR', 'SIX', 'SIXA', 'SIXH', 'SIXL', 'SIXS', 'SIZE', 'SJB', 'SJI', 'SJIJ', 'SJIU', 'SJM', 'SJNK', 'SJR', 'SJT', 'SJW', 'SKF', 'SKM', 'SKT', 'SKX', 'SKY', 'SLB', 'SLCA', 'SLF', 'SLG', 'SLG$I', 'SLQT', 'SLT', 'SLV', 'SLVP', 'SLX', 'SLY', 'SLYG', 'SLYV', 'SM', 'SMAR', 'SMB', 'SMDD', 'SMDV', 'SMDY', 'SMEZ', 'SMFG', 'SMG', 'SMHB', 'SMHI', 'SMIN', 'SMLF', 'SMLP', 'SMLV', 'SMM', 'SMMD', 'SMMU', 'SMMV', 'SMN', 'SMOG', 'SMP', 'SMTS', 'SNA', 'SNAP', 'SNDR', 'SNE', 'SNMP', 'SNN', 'SNOW', 'SNP', 'SNPE', 'SNPR', 'SNPR.U', 'SNPR.W', 'SNR', 'SNV', 'SNV$D', 'SNV$E', 'SNX', 'SO', 'SOAC', 'SOAC.U', 'SOAC.W', 'SOGO', 'SOI', 'SOJB', 'SOJC', 'SOJD', 'SOJE', 'SOL', 'SOLN', 'SON', 'SOR', 'SOS', 'SOVB', 'SOXL', 'SOXS', 'SOYB', 'SPAB', 'SPAK', 'SPB', 'SPBO', 'SPCE', 'SPD', 'SPDN', 'SPDV', 'SPDW', 'SPE', 'SPE$B', 'SPEM', 'SPEU', 'SPFF', 'SPFR.U', 'SPG', 'SPG$J', 'SPGI', 'SPGM', 'SPGP', 'SPH', 'SPHB', 'SPHD', 'SPHQ', 'SPHY', 'SPIB', 'SPIP', 'SPLB', 'SPLG', 'SPLP', 'SPLP$A', 'SPLV', 'SPMB', 'SPMD', 'SPMO', 'SPMV', 'SPNV.U', 'SPOT', 'SPPP', 'SPR', 'SPRQ.U', 'SPSB', 'SPSK', 'SPSM', 'SPTI', 'SPTL', 'SPTM', 'SPTS', 'SPUC', 'SPUS', 'SPUU', 'SPVM', 'SPVU', 'SPXB', 'SPXC', 'SPXE', 'SPXL', 'SPXN', 'SPXS', 'SPXT', 'SPXU', 'SPXV', 'SPXX', 'SPY', 'SPYC', 'SPYD', 'SPYG', 'SPYV', 'SPYX', 'SQ', 'SQEW', 'SQM', 'SQNS', 'SQZ', 'SR', 'SR$A', 'SRC', 'SRC$A', 'SRE', 'SRE$A', 'SRE$B', 'SREA', 'SRG', 'SRG$A', 'SRI', 'SRL', 'SRLN', 'SRLP', 'SRS', 'SRT', 'SRTY', 'SRV', 'SRVR', 'SSD', 'SSG', 'SSL', 'SSLY', 'SSO', 'SSPY', 'SSTK', 'SSUS', 'SSY', 'ST', 'STAG', 'STAG$C', 'STAR', 'STAR$D', 'STAR$G', 'STAR$I', 'STC', 'STE', 'STG', 'STIC.U', 'STIP', 'STK', 'STL', 'STL$A', 'STLC', 'STLG', 'STLV', 'STM', 'STMB', 'STN', 'STNG', 'STON', 'STOR', 'STOT', 'STPK', 'STPK.U', 'STPK.W', 'STPZ', 'STSB', 'STT', 'STT$D', 'STT$G', 'STWD', 'STXS', 'STZ', 'STZ.B', 'SU', 'SUB', 'SUI', 'SULR', 'SUM', 'SUN', 'SUP', 'SUPV', 'SUSA', 'SUZ', 'SVAL', 'SVM', 'SVT', 'SVXY', 'SWAN', 'SWCH', 'SWI', 'SWK', 'SWM', 'SWN', 'SWT', 'SWX', 'SWZ', 'SXC', 'SXI', 'SXT', 'SYE', 'SYF', 'SYF$A', 'SYG', 'SYK', 'SYLD', 'SYN', 'SYV', 'SYX', 'SYY', 'SZC', 'SZK', 'SZNE', 'T', 'T$A', 'T$C', 'TAAG', 'TAC', 'TACA.U', 'TACE', 'TADS', 'TAEQ', 'TAGS', 'TAIL', 'TAK', 'TAL', 'TALO', 'TALO.W', 'TAN', 'TAP', 'TAP.A', 'TAPR', 'TARO', 'TAT', 'TAXF', 'TBB', 'TBC', 'TBF', 'TBI', 'TBJL', 'TBT', 'TBX', 'TCHP', 'TCI', 'TCO', 'TCO$J', 'TCO$K', 'TCP', 'TCS', 'TCTL', 'TD', 'TDA', 'TDC', 'TDE', 'TDF', 'TDG', 'TDI', 'TDJ', 'TDOC', 'TDS', 'TDSA', 'TDSB', 'TDSC', 'TDSD', 'TDSE', 'TDTF', 'TDTT', 'TDV', 'TDVG', 'TDW', 'TDW.A', 'TDW.B', 'TDW.W', 'TDY', 'TEAF', 'TECB', 'TECK', 'TECL', 'TECS', 'TEF', 'TEGS', 'TEI', 'TEL', 'TEN', 'TEO', 'TEQI', 'TERM', 'TEVA', 'TEX', 'TFC', 'TFC$F', 'TFC$G', 'TFC$H', 'TFC$I', 'TFC$O', 'TFC$R', 'TFI', 'TFII', 'TFIV', 'TFJL', 'TFLO', 'TFLT', 'TFX', 'TG', 'TGB', 'TGC', 'TGH', 'TGI', 'TGIF', 'TGNA', 'TGP', 'TGP$A', 'TGP$B', 'TGRW', 'TGS', 'TGT', 'THC', 'THCX', 'THD', 'THG', 'THM', 'THNQ', 'THO', 'THQ', 'THR', 'THS', 'THW', 'THY', 'TIF', 'TILT', 'TIMB', 'TINV.U', 'TIP', 'TIPX', 'TIPZ', 'TISI', 'TJX', 'TK', 'TKAT', 'TKC', 'TKR', 'TLDH', 'TLEH', 'TLH', 'TLK', 'TLTD', 'TLTE', 'TLYS', 'TM', 'TMBR', 'TMDV', 'TME', 'TMF', 'TMFC', 'TMHC', 'TMO', 'TMP', 'TMQ', 'TMST', 'TMV', 'TMX', 'TNA', 'TNC', 'TNET', 'TNK', 'TNP', 'TNP$D', 'TNP$E', 'TNP$F', 'TOK', 'TOKE', 'TOL', 'TOLZ', 'TOT', 'TOTL', 'TPAY', 'TPB', 'TPC', 'TPGY', 'TPGY.U', 'TPGY.W', 'TPH', 'TPHD', 'TPHS', 'TPIF', 'TPL', 'TPLC', 'TPOR', 'TPR', 'TPRE', 'TPSC', 'TPVG', 'TPVY', 'TPX', 'TPYP', 'TPZ', 'TR', 'TRC', 'TREB', 'TREB.U', 'TREB.W', 'TREC', 'TREX', 'TRGP', 'TRI', 'TRN', 'TRND', 'TRNE', 'TRNE.U', 'TRNE.W', 'TRNO', 'TROX', 'TRP', 'TRQ', 'TRT', 'TRTN', 'TRTN$A', 'TRTN$B', 'TRTN$C', 'TRTN$D', 'TRTX', 'TRTY', 'TRU', 'TRV', 'TRX', 'TRXC', 'TS', 'TSE', 'TSI', 'TSLX', 'TSM', 'TSN', 'TSOC', 'TSQ', 'TT', 'TTAC', 'TTAI', 'TTC', 'TTI', 'TTM', 'TTP', 'TTT', 'TU', 'TUFN', 'TUP', 'TV', 'TVC', 'TVE', 'TWI', 'TWLO', 'TWM', 'TWN', 'TWND', 'TWND.U', 'TWND.W', 'TWO', 'TWO$A', 'TWO$B', 'TWO$C', 'TWO$D', 'TWO$E', 'TWTR', 'TX', 'TXT', 'TY', 'TY$', 'TYD', 'TYG', 'TYL', 'TYO', 'TZA', 'U', 'UA', 'UAA', 'UAG', 'UAMY', 'UAN', 'UAPR', 'UAUG', 'UAVS', 'UBA', 'UBER', 'UBG', 'UBOT', 'UBP', 'UBP$H', 'UBP$K', 'UBR', 'UBS', 'UBT', 'UCC', 'UCI', 'UCIB', 'UCO', 'UCON', 'UDEC', 'UDN', 'UDOW', 'UDR', 'UE', 'UEC', 'UEVM', 'UFAB', 'UFEB', 'UFI', 'UFS', 'UGA', 'UGE', 'UGI', 'UGL', 'UGP', 'UHS', 'UHT', 'UI', 'UIS', 'UITB', 'UIVM', 'UJAN', 'UJB', 'UJUL', 'UJUN', 'UL', 'ULE', 'ULST', 'ULTR', 'ULVM', 'UMAR', 'UMAY', 'UMC', 'UMDD', 'UMH', 'UMH$C', 'UMH$D', 'UNF', 'UNFI', 'UNG', 'UNH', 'UNL', 'UNM', 'UNMA', 'UNOV', 'UNP', 'UNVR', 'UOCT', 'UPRO', 'UPS', 'UPV', 'UPW', 'URA', 'URE', 'URG', 'URI', 'URNM', 'URTH', 'URTY', 'USA', 'USAC', 'USAI', 'USAS', 'USB', 'USB$A', 'USB$H', 'USB$M', 'USB$O', 'USB$P', 'USB$Q', 'USCI', 'USD', 'USDP', 'USDU', 'USEP', 'USEQ', 'USFD', 'USFR', 'USHG', 'USHY', 'USI', 'USL', 'USM', 'USMF', 'USMV', 'USNA', 'USO', 'USPH', 'USRT', 'USSG', 'UST', 'USTB', 'USV', 'USVM', 'USX', 'UTES', 'UTF', 'UTG', 'UTI', 'UTL', 'UTRN', 'UTSL', 'UTZ', 'UTZ.W', 'UUP', 'UUU', 'UUUU', 'UUUU.W', 'UVE', 'UVV', 'UVXY', 'UWM', 'UXI', 'UYG', 'UYM', 'UZA', 'UZB', 'UZC', 'UZD', 'V', 'VAC', 'VALE', 'VALQ', 'VALT', 'VAMO', 'VAPO', 'VAR', 'VAW', 'VB', 'VBF', 'VBK', 'VBND', 'VBR', 'VCEB', 'VCF', 'VCIF', 'VCR', 'VCRA', 'VCV', 'VDC', 'VDE', 'VEA', 'VEC', 'VEDL', 'VEEV', 'VEGA', 'VEGI', 'VEGN', 'VEL', 'VER', 'VER$F', 'VERT.U', 'VET', 'VEU', 'VFC', 'VFH', 'VFL', 'VFLQ', 'VFMF', 'VFMO', 'VFMV', 'VFQY', 'VFVA', 'VGAC', 'VGAC.U', 'VGAC.W', 'VGI', 'VGK', 'VGM', 'VGR', 'VGT', 'VGZ', 'VHC', 'VHI', 'VHT', 'VIAO', 'VICE', 'VICI', 'VIDI', 'VIG', 'VIOG', 'VIOO', 'VIOV', 'VIPS', 'VIRS', 'VIS', 'VIST', 'VIV', 'VIXM', 'VIXY', 'VKI', 'VKQ', 'VLO', 'VLRS', 'VLT', 'VLU', 'VLUE', 'VMC', 'VMI', 'VMM', 'VMO', 'VMOT', 'VMW', 'VNCE', 'VNE', 'VNLA', 'VNM', 'VNMC', 'VNO', 'VNO$K', 'VNO$L', 'VNO$M', 'VNO$N', 'VNQ', 'VNRX', 'VNSE', 'VNT', 'VNTR', 'VO', 'VOC', 'VOE', 'VOLT', 'VOO', 'VOOG', 'VOOV', 'VOT', 'VOX', 'VOYA', 'VOYA$B', 'VPC', 'VPG', 'VPL', 'VPU', 'VPV', 'VRAI', 'VRP', 'VRS', 'VRT', 'VRT.W', 'VRTV', 'VSGX', 'VSH', 'VSL', 'VSS', 'VST', 'VST.A', 'VSTO', 'VT', 'VTA', 'VTEB', 'VTI', 'VTN', 'VTOL', 'VTR', 'VTV', 'VUG', 'VUSE', 'VV', 'VVI', 'VVNT', 'VVNT.W', 'VVR', 'VVV', 'VWID', 'VWO', 'VXF', 'VXX', 'VXZ', 'VYGG', 'VYGG.U', 'VYGG.W', 'VYM', 'VZ', 'W', 'WAB', 'WAL', 'WALA', 'WANT', 'WAT', 'WBAI', 'WBIE', 'WBIF', 'WBIG', 'WBII', 'WBIL', 'WBIN', 'WBIT', 'WBIY', 'WBK', 'WBS', 'WBS$F', 'WBT', 'WCC', 'WCC$A', 'WCN', 'WD', 'WDIV', 'WDR', 'WEA', 'WEAT', 'WEBL', 'WEBS', 'WEC', 'WEI', 'WELL', 'WES', 'WEX', 'WF', 'WFC', 'WFC$A', 'WFC$L', 'WFC$N', 'WFC$O', 'WFC$P', 'WFC$Q', 'WFC$R', 'WFC$T', 'WFC$V', 'WFC$W', 'WFC$X', 'WFC$Y', 'WFC$Z', 'WFH', 'WFHY', 'WFIG', 'WGO', 'WH', 'WHD', 'WHG', 'WHR', 'WIA', 'WIL', 'WIP', 'WIT', 'WIW', 'WIZ', 'WK', 'WLDR', 'WLK', 'WLKP', 'WLL', 'WM', 'WMB', 'WMC', 'WMK', 'WMS', 'WMT', 'WNC', 'WNS', 'WOMN', 'WOR', 'WORK', 'WOW', 'WPC', 'WPF', 'WPF.U', 'WPF.W', 'WPG', 'WPG$H', 'WPG$I', 'WPM', 'WPP', 'WPS', 'WPX', 'WRB', 'WRB$C', 'WRB$D', 'WRB$E', 'WRB$F', 'WRB$G', 'WRE', 'WRI', 'WRK', 'WRN', 'WSM', 'WSO', 'WSO.B', 'WSR', 'WST', 'WTI', 'WTM', 'WTMF', 'WTRG', 'WTRU', 'WTS', 'WTT', 'WTTR', 'WU', 'WUGI', 'WWE', 'WWJD', 'WWW', 'WY', 'WYND', 'WYY', 'X', 'XAN', 'XAN$C', 'XAR', 'XBI', 'XBUY', 'XCEM', 'XDIV', 'XEC', 'XES', 'XFLT', 'XHB', 'XHE', 'XHR', 'XHS', 'XIN', 'XITK', 'XJH', 'XJR', 'XLB', 'XLC', 'XLE', 'XLF', 'XLG', 'XLI', 'XLK', 'XLP', 'XLRE', 'XLSR', 'XLU', 'XLV', 'XLY', 'XME', 'XMHQ', 'XMLV', 'XMMO', 'XMPT', 'XMVM', 'XNTK', 'XOM', 'XOP', 'XOUT', 'XPEV', 'XPH', 'XPL', 'XPO', 'XPOA.U', 'XPP', 'XRLV', 'XRT', 'XRX', 'XSD', 'XSHD', 'XSHQ', 'XSLV', 'XSMO', 'XSOE', 'XSVM', 'XSW', 'XTL', 'XTN', 'XTNT', 'XVV', 'XVZ', 'XWEB', 'XXII', 'XYF', 'XYL', 'XYLD', 'XYLG', 'Y', 'YAC', 'YAC.U', 'YAC.W', 'YALA', 'YANG', 'YCBD', 'YCBD$A', 'YCL', 'YCS', 'YELP', 'YETI', 'YEXT', 'YGRN', 'YINN', 'YLD', 'YOLO', 'YPF', 'YRD', 'YSG', 'YUM', 'YUMC', 'YXI', 'YYY', 'ZBH', 'ZBZX', 'ZCAN', 'ZDEU', 'ZDGE', 'ZEN', 'ZEXIT', 'ZGBR', 'ZHOK', 'ZIEXT', 'ZIG', 'ZJPN', 'ZNH', 'ZOM', 'ZROZ', 'ZSL', 'ZTEST', 'ZTO', 'ZTR', 'ZTS', 'ZUO', 'ZVV', 'ZXIET', 'ZYME', '']\n"
     ]
    }
   ],
   "source": [
    "print(stkDF)\n",
    "#print(stkDF['Ticker','Inventory'])\n",
    "print(other_list)"
   ]
  },
  {
   "cell_type": "code",
   "execution_count": 100,
   "metadata": {
    "scrolled": true
   },
   "outputs": [
    {
     "name": "stdout",
     "output_type": "stream",
     "text": [
      "                                         2019-12-28   2018-12-29   2017-12-30  \\\n",
      "Research Development                           None         None         None   \n",
      "Effect Of Accounting Charges                   None         None         None   \n",
      "Income Before Tax                       6.37746e+08  5.55264e+08  5.20259e+08   \n",
      "Minority Interest                              None         None         None   \n",
      "Net Income                              4.86896e+08  4.23847e+08  4.75505e+08   \n",
      "Selling General Administrative          3.47381e+09  3.46259e+09  3.50154e+09   \n",
      "Gross Profit                            4.25809e+09  4.22615e+09  4.08505e+09   \n",
      "Ebit                                    7.56783e+08  7.25542e+08  5.83512e+08   \n",
      "Operating Income                        7.56783e+08  7.25542e+08  5.83512e+08   \n",
      "Other Operating Expenses                       None         None         None   \n",
      "Interest Expense                        -3.9898e+07  -5.6588e+07  -5.8801e+07   \n",
      "Extraordinary Items                            None         None         None   \n",
      "Non Recurring                                  None         None         None   \n",
      "Other Items                                    None         None         None   \n",
      "Income Tax Expense                       1.5085e+08  1.31417e+08   4.4754e+07   \n",
      "Total Revenue                             9.709e+09  9.58055e+09  9.37378e+09   \n",
      "Total Operating Expenses                8.95222e+09  8.85501e+09  8.79027e+09   \n",
      "Cost Of Revenue                         5.45091e+09   5.3544e+09  5.28874e+09   \n",
      "Total Other Income Expense Net         -1.19037e+08 -1.70278e+08  -6.3253e+07   \n",
      "Discontinued Operations                        None         None         None   \n",
      "Net Income From Continuing Ops          4.86896e+08  4.23847e+08  4.75505e+08   \n",
      "Net Income Applicable To Common Shares  4.86896e+08  4.23847e+08  4.75505e+08   \n",
      "\n",
      "                                         2016-12-31  \n",
      "Research Development                           None  \n",
      "Effect Of Accounting Charges                   None  \n",
      "Income Before Tax                       7.38835e+08  \n",
      "Minority Interest                              None  \n",
      "Net Income                              4.59622e+08  \n",
      "Selling General Administrative          3.46552e+09  \n",
      "Gross Profit                            4.25592e+09  \n",
      "Ebit                                    7.90398e+08  \n",
      "Operating Income                        7.90398e+08  \n",
      "Other Operating Expenses                       None  \n",
      "Interest Expense                         -5.991e+07  \n",
      "Extraordinary Items                            None  \n",
      "Non Recurring                                  None  \n",
      "Other Items                                    None  \n",
      "Income Tax Expense                      2.79213e+08  \n",
      "Total Revenue                           9.56768e+09  \n",
      "Total Operating Expenses                8.77728e+09  \n",
      "Cost Of Revenue                         5.31176e+09  \n",
      "Total Other Income Expense Net          -5.1563e+07  \n",
      "Discontinued Operations                        None  \n",
      "Net Income From Continuing Ops          4.59622e+08  \n",
      "Net Income Applicable To Common Shares  4.59622e+08  \n",
      "                             2019-12-28    2018-12-29    2017-12-30  \\\n",
      "Intangible Assets          7.097560e+08  5.505930e+08  5.976740e+08   \n",
      "Capital Surplus            7.351830e+08  6.947970e+08  6.646460e+08   \n",
      "Total Liab                 7.699444e+09  5.489835e+09  5.067105e+09   \n",
      "Total Stockholder Equity   3.549081e+09  3.550813e+09  3.415196e+09   \n",
      "Other Current Liab         2.017250e+08  2.696570e+08  2.279060e+08   \n",
      "Total Assets               1.124852e+10  9.040648e+09  8.482301e+09   \n",
      "Common Stock               8.000000e+03  8.000000e+03  8.000000e+03   \n",
      "Other Current Assets       1.552410e+08  1.984080e+08  1.051060e+08   \n",
      "Retained Earnings          3.772848e+09  3.326155e+09  2.920096e+09   \n",
      "Other Liab                 4.572630e+08  5.581650e+08  5.426810e+08   \n",
      "Good Will                  9.922400e+08  9.902370e+08  9.942930e+08   \n",
      "Treasury Stock            -9.589580e+08 -4.701470e+08 -1.695540e+08   \n",
      "Other Assets               5.244800e+07  4.837900e+07  6.930400e+07   \n",
      "Cash                       4.186650e+08  8.965270e+08  5.469370e+08   \n",
      "Total Current Liabilities  4.477702e+09  3.885950e+09  3.480097e+09   \n",
      "Other Stockholder Equity  -3.456900e+07 -4.419300e+07 -2.495400e+07   \n",
      "Property Plant Equipment   3.798538e+09  1.368985e+09  1.394138e+09   \n",
      "Total Current Assets       5.695543e+09  6.082454e+09  5.426892e+09   \n",
      "Net Tangible Assets        1.847085e+09  2.009983e+09  1.823229e+09   \n",
      "Net Receivables            6.894690e+08  6.249720e+08  6.063570e+08   \n",
      "Long Term Debt             7.473200e+08  1.045720e+09  1.044327e+09   \n",
      "Inventory                  4.432168e+09  4.362547e+09  4.168492e+09   \n",
      "Accounts Payable           3.421987e+09  3.172790e+09  2.894582e+09   \n",
      "Short Long Term Debt                NaN  2.100000e+05  3.500000e+05   \n",
      "\n",
      "                             2016-12-31  \n",
      "Intangible Assets          6.409030e+08  \n",
      "Capital Surplus            6.310520e+08  \n",
      "Total Liab                 5.398841e+09  \n",
      "Total Stockholder Equity   2.916192e+09  \n",
      "Other Current Liab         2.254450e+08  \n",
      "Total Assets               8.315033e+09  \n",
      "Common Stock               8.000000e+03  \n",
      "Other Current Assets       7.046600e+07  \n",
      "Retained Earnings          2.462935e+09  \n",
      "Other Liab                 6.798460e+08  \n",
      "Good Will                  9.908770e+08  \n",
      "Treasury Stock            -1.778030e+08  \n",
      "Other Assets               6.414900e+07  \n",
      "Cash                       1.351780e+08  \n",
      "Total Current Liabilities  3.676046e+09  \n",
      "Other Stockholder Equity  -3.970100e+07  \n",
      "Property Plant Equipment   1.446340e+09  \n",
      "Total Current Assets       5.172764e+09  \n",
      "Net Tangible Assets        1.284412e+09  \n",
      "Net Receivables            6.412520e+08  \n",
      "Long Term Debt             1.042949e+09  \n",
      "Inventory                  4.325868e+09  \n",
      "Accounts Payable           3.086177e+09  \n",
      "Short Long Term Debt       3.060000e+05  \n"
     ]
    }
   ],
   "source": [
    "stkDat = yf.Ticker('AAP')\n",
    "stkInfo = stkDat.info\n",
    "stkFin = stkDat.financials\n",
    "print(stkFin)\n",
    "stkBal = stkDat.balance_sheet\n",
    "print(stkBal)"
   ]
  },
  {
   "cell_type": "markdown",
   "metadata": {},
   "source": [
    "## Getting Previous Earnings Data Notes\n",
    "- Past Earnings Data can be viewed quarterly by calling msft.quarterly_earnings\n",
    "- Past Earnings Data yearly for the last four years can be obtained by calling msft.earnings"
   ]
  },
  {
   "cell_type": "code",
   "execution_count": 29,
   "metadata": {},
   "outputs": [
    {
     "name": "stdout",
     "output_type": "stream",
     "text": [
      "Quarter\n",
      "4Q2019     81214000\n",
      "1Q2020    -27828000\n",
      "2Q2020   -144428000\n",
      "3Q2020    -99140000\n",
      "Name: Earnings, dtype: int64\n",
      "81214000\n",
      "         Revenue   Earnings\n",
      "Year                       \n",
      "2016  2320021000  263483000\n",
      "2017  2643552000  415522000\n",
      "2018  3323034000  155749000\n",
      "2019  3830536000  335255000\n"
     ]
    }
   ],
   "source": [
    "save = yf.Ticker(\"SAVE\")\n",
    "\n",
    "quartDat = save.quarterly_earnings\n",
    "quartEarn = quartDat['Earnings']\n",
    "print(quartEarn)\n",
    "print(quartEarn[0])\n",
    "\n",
    "Dat = save.earnings\n",
    "print(Dat)\n"
   ]
  },
  {
   "cell_type": "markdown",
   "metadata": {},
   "source": [
    "## Getting Historical Stock Data\n",
    "- I need to get earning for multiple recent quarters\n",
    "- Requesting historical information with the hist function only returns the Price and dividend\n",
    "- I can get the required data just by using a call to earnings"
   ]
  },
  {
   "cell_type": "code",
   "execution_count": 35,
   "metadata": {},
   "outputs": [
    {
     "data": {
      "text/html": [
       "<div>\n",
       "<style scoped>\n",
       "    .dataframe tbody tr th:only-of-type {\n",
       "        vertical-align: middle;\n",
       "    }\n",
       "\n",
       "    .dataframe tbody tr th {\n",
       "        vertical-align: top;\n",
       "    }\n",
       "\n",
       "    .dataframe thead th {\n",
       "        text-align: right;\n",
       "    }\n",
       "</style>\n",
       "<table border=\"1\" class=\"dataframe\">\n",
       "  <thead>\n",
       "    <tr style=\"text-align: right;\">\n",
       "      <th></th>\n",
       "      <th>Open</th>\n",
       "      <th>High</th>\n",
       "      <th>Low</th>\n",
       "      <th>Close</th>\n",
       "      <th>Volume</th>\n",
       "      <th>Dividends</th>\n",
       "      <th>Stock Splits</th>\n",
       "    </tr>\n",
       "    <tr>\n",
       "      <th>Date</th>\n",
       "      <th></th>\n",
       "      <th></th>\n",
       "      <th></th>\n",
       "      <th></th>\n",
       "      <th></th>\n",
       "      <th></th>\n",
       "      <th></th>\n",
       "    </tr>\n",
       "  </thead>\n",
       "  <tbody>\n",
       "    <tr>\n",
       "      <th>1986-03-13</th>\n",
       "      <td>0.06</td>\n",
       "      <td>0.06</td>\n",
       "      <td>0.06</td>\n",
       "      <td>0.06</td>\n",
       "      <td>1031788800</td>\n",
       "      <td>0.0</td>\n",
       "      <td>0.0</td>\n",
       "    </tr>\n",
       "    <tr>\n",
       "      <th>1986-03-14</th>\n",
       "      <td>0.06</td>\n",
       "      <td>0.07</td>\n",
       "      <td>0.06</td>\n",
       "      <td>0.06</td>\n",
       "      <td>308160000</td>\n",
       "      <td>0.0</td>\n",
       "      <td>0.0</td>\n",
       "    </tr>\n",
       "    <tr>\n",
       "      <th>1986-03-17</th>\n",
       "      <td>0.06</td>\n",
       "      <td>0.07</td>\n",
       "      <td>0.06</td>\n",
       "      <td>0.07</td>\n",
       "      <td>133171200</td>\n",
       "      <td>0.0</td>\n",
       "      <td>0.0</td>\n",
       "    </tr>\n",
       "    <tr>\n",
       "      <th>1986-03-18</th>\n",
       "      <td>0.07</td>\n",
       "      <td>0.07</td>\n",
       "      <td>0.06</td>\n",
       "      <td>0.06</td>\n",
       "      <td>67766400</td>\n",
       "      <td>0.0</td>\n",
       "      <td>0.0</td>\n",
       "    </tr>\n",
       "    <tr>\n",
       "      <th>1986-03-19</th>\n",
       "      <td>0.06</td>\n",
       "      <td>0.06</td>\n",
       "      <td>0.06</td>\n",
       "      <td>0.06</td>\n",
       "      <td>47894400</td>\n",
       "      <td>0.0</td>\n",
       "      <td>0.0</td>\n",
       "    </tr>\n",
       "    <tr>\n",
       "      <th>...</th>\n",
       "      <td>...</td>\n",
       "      <td>...</td>\n",
       "      <td>...</td>\n",
       "      <td>...</td>\n",
       "      <td>...</td>\n",
       "      <td>...</td>\n",
       "      <td>...</td>\n",
       "    </tr>\n",
       "    <tr>\n",
       "      <th>2020-11-30</th>\n",
       "      <td>214.10</td>\n",
       "      <td>214.76</td>\n",
       "      <td>210.84</td>\n",
       "      <td>214.07</td>\n",
       "      <td>33064800</td>\n",
       "      <td>0.0</td>\n",
       "      <td>0.0</td>\n",
       "    </tr>\n",
       "    <tr>\n",
       "      <th>2020-12-01</th>\n",
       "      <td>214.51</td>\n",
       "      <td>217.32</td>\n",
       "      <td>213.35</td>\n",
       "      <td>216.21</td>\n",
       "      <td>30931300</td>\n",
       "      <td>0.0</td>\n",
       "      <td>0.0</td>\n",
       "    </tr>\n",
       "    <tr>\n",
       "      <th>2020-12-02</th>\n",
       "      <td>214.88</td>\n",
       "      <td>215.47</td>\n",
       "      <td>212.80</td>\n",
       "      <td>215.37</td>\n",
       "      <td>23724500</td>\n",
       "      <td>0.0</td>\n",
       "      <td>0.0</td>\n",
       "    </tr>\n",
       "    <tr>\n",
       "      <th>2020-12-03</th>\n",
       "      <td>214.61</td>\n",
       "      <td>216.38</td>\n",
       "      <td>213.65</td>\n",
       "      <td>214.24</td>\n",
       "      <td>25120900</td>\n",
       "      <td>0.0</td>\n",
       "      <td>0.0</td>\n",
       "    </tr>\n",
       "    <tr>\n",
       "      <th>2020-12-04</th>\n",
       "      <td>214.22</td>\n",
       "      <td>215.38</td>\n",
       "      <td>213.18</td>\n",
       "      <td>214.36</td>\n",
       "      <td>24433900</td>\n",
       "      <td>0.0</td>\n",
       "      <td>0.0</td>\n",
       "    </tr>\n",
       "  </tbody>\n",
       "</table>\n",
       "<p>8756 rows × 7 columns</p>\n",
       "</div>"
      ],
      "text/plain": [
       "              Open    High     Low   Close      Volume  Dividends  \\\n",
       "Date                                                                \n",
       "1986-03-13    0.06    0.06    0.06    0.06  1031788800        0.0   \n",
       "1986-03-14    0.06    0.07    0.06    0.06   308160000        0.0   \n",
       "1986-03-17    0.06    0.07    0.06    0.07   133171200        0.0   \n",
       "1986-03-18    0.07    0.07    0.06    0.06    67766400        0.0   \n",
       "1986-03-19    0.06    0.06    0.06    0.06    47894400        0.0   \n",
       "...            ...     ...     ...     ...         ...        ...   \n",
       "2020-11-30  214.10  214.76  210.84  214.07    33064800        0.0   \n",
       "2020-12-01  214.51  217.32  213.35  216.21    30931300        0.0   \n",
       "2020-12-02  214.88  215.47  212.80  215.37    23724500        0.0   \n",
       "2020-12-03  214.61  216.38  213.65  214.24    25120900        0.0   \n",
       "2020-12-04  214.22  215.38  213.18  214.36    24433900        0.0   \n",
       "\n",
       "            Stock Splits  \n",
       "Date                      \n",
       "1986-03-13           0.0  \n",
       "1986-03-14           0.0  \n",
       "1986-03-17           0.0  \n",
       "1986-03-18           0.0  \n",
       "1986-03-19           0.0  \n",
       "...                  ...  \n",
       "2020-11-30           0.0  \n",
       "2020-12-01           0.0  \n",
       "2020-12-02           0.0  \n",
       "2020-12-03           0.0  \n",
       "2020-12-04           0.0  \n",
       "\n",
       "[8756 rows x 7 columns]"
      ]
     },
     "execution_count": 35,
     "metadata": {},
     "output_type": "execute_result"
    }
   ],
   "source": [
    "msft = yf.Ticker(\"MSFT\")\n",
    "hist = msft.history(period=\"max\")"
   ]
  }
 ],
 "metadata": {
  "kernelspec": {
   "display_name": "Python 3",
   "language": "python",
   "name": "python3"
  },
  "language_info": {
   "codemirror_mode": {
    "name": "ipython",
    "version": 3
   },
   "file_extension": ".py",
   "mimetype": "text/x-python",
   "name": "python",
   "nbconvert_exporter": "python",
   "pygments_lexer": "ipython3",
   "version": "3.8.3"
  }
 },
 "nbformat": 4,
 "nbformat_minor": 4
}
