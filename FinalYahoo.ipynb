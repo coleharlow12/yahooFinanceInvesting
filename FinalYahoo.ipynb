{
 "cells": [
  {
   "cell_type": "markdown",
   "metadata": {},
   "source": [
    "# Purpose\n",
    "\n",
    "The purpose of this script is to analyze stock following principals outlines by Benjamin Graham. These principles involve the following guidlines\n",
    "\n",
    "- PE ratio below 9 but positivie\n",
    "- Current Ratio (Current Assets/Current Liab) greater than 1.5\n",
    "- Debt Load (Total Debt/ Current Assets) Less than or equal to 1.1\n",
    "- Positive EPS for each quarter in the last year\n",
    "- Price To Book ratio less than or equal to 1.2 \n",
    "- Look for dividends\n",
    "\n",
    "Additionally I will be calculating the following variables for my own interest\n",
    "- NCAV (Net Current Assets Value) = (Net Assets-TotalLiabilities-preferred stock)"
   ]
  },
  {
   "cell_type": "markdown",
   "metadata": {},
   "source": [
    "## Load Name of Stocks\n",
    "The section uses the yahoo finance library to get the names of many stocks. "
   ]
  },
  {
   "cell_type": "code",
   "execution_count": 1,
   "metadata": {},
   "outputs": [],
   "source": [
    "import yahoo_fin.stock_info as si\n",
    "dow_list = si.tickers_dow() #Loads Tickers in dow jones\n",
    "nasdaq_list = si.tickers_nasdaq() #Loads Tickers in NASDAQ\n",
    "sp500_list = si.tickers_sp500()\n",
    "other_list = si.tickers_other() #Loads Tickers in Other Indexes\n"
   ]
  },
  {
   "cell_type": "markdown",
   "metadata": {},
   "source": [
    "## Load yfinance\n",
    "The yfinance library is what will primarily be used to load information for each of the stock tickers. Within this libary 3 primary functions will be called they are \n",
    "\n",
    "stk.info #(used for PE, EPS, Price to Book values)\n",
    "stk.balance_sheet (used for Current Ratio, Debt Load, NCAV)\n",
    "stk.dividends (used for dividend calculations"
   ]
  },
  {
   "cell_type": "code",
   "execution_count": null,
   "metadata": {},
   "outputs": [],
   "source": []
  }
 ],
 "metadata": {
  "kernelspec": {
   "display_name": "Python 3",
   "language": "python",
   "name": "python3"
  },
  "language_info": {
   "codemirror_mode": {
    "name": "ipython",
    "version": 3
   },
   "file_extension": ".py",
   "mimetype": "text/x-python",
   "name": "python",
   "nbconvert_exporter": "python",
   "pygments_lexer": "ipython3",
   "version": "3.8.3"
  }
 },
 "nbformat": 4,
 "nbformat_minor": 4
}
