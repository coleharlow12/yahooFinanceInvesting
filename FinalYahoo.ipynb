{
 "cells": [
  {
   "cell_type": "markdown",
   "metadata": {},
   "source": [
    "# Purpose\n",
    "\n",
    "The purpose of this script is to analyze stock following principals outlines by Benjamin Graham. These principles involve the following guidlines\n",
    "\n",
    "- PE ratio below 9 but positivie\n",
    "- Current Ratio (Current Assets/Current Liab) greater than 1.5\n",
    "- Debt Load (Total Debt/ Current Assets) Less than or equal to 1.1\n",
    "- Positive EPS for each quarter in the last year\n",
    "- Price To Book ratio less than or equal to 1.2 \n",
    "- Look for dividends\n",
    "\n",
    "Additionally I will be calculating the following variables for my own interest\n",
    "- NCAV (Net Current Assets Value) = (Net Assets-TotalLiabilities-preferred stock)"
   ]
  },
  {
   "cell_type": "markdown",
   "metadata": {},
   "source": [
    "## Load Name of Stocks\n",
    "The section uses the yahoo finance library to get the names of many stocks. "
   ]
  },
  {
   "cell_type": "code",
   "execution_count": 1,
   "metadata": {},
   "outputs": [],
   "source": [
    "import yahoo_fin.stock_info as si\n",
    "dow_list = si.tickers_dow() #Loads Tickers in dow jones\n",
    "nasdaq_list = si.tickers_nasdaq() #Loads Tickers in NASDAQ\n",
    "sp500_list = si.tickers_sp500()\n",
    "other_list = si.tickers_other() #Loads Tickers in Other Indexes\n"
   ]
  },
  {
   "cell_type": "markdown",
   "metadata": {},
   "source": [
    "## Load yfinance and Create Functions To Read Data I am interested In \n",
    "The yfinance library is what will primarily be used to load information for each of the stock tickers. Within this libary 3 primary functions will be called they are   \n",
    "\n",
    "- stk.info #(used for PE, EPS, Price to Book values)\n",
    "- stk.balance_sheet (used for Current Ratio, Debt Load, NCAV)\n",
    "- stk.dividends (used for dividend calculations\n",
    "\n",
    "In order to use these functions more efficiently they will be integrated into a number of my own creation. The first of these functions is below and is used to read useful information from the stk.info call"
   ]
  },
  {
   "cell_type": "code",
   "execution_count": 35,
   "metadata": {},
   "outputs": [],
   "source": [
    "import yfinance as yf\n",
    "\n",
    "def extractInfo(Ticker):\n",
    "    commonStock = False\n",
    "    divRate = False\n",
    "    forPE = 0\n",
    "    trailPE = 0\n",
    "    forEPS = 0\n",
    "    trailEPS = 0\n",
    "    P2B = 0\n",
    "    \n",
    "    #Ticers with these values in their name were often for funds preferred stock etc\n",
    "    #So this line removes those other investment mediums\n",
    "    if '$' in Ticker or '.' in Ticker:\n",
    "        return commonStock,divRate,forPE,trailPE,forEPS,trailEPS,P2B\n",
    "    \n",
    "    stk = yf.Ticker(Ticker) #Creates object to load stock data\n",
    "    stkInfo = stk.info #Loads basic stock info \n",
    "    \n",
    "    #In yfinance all common stock have forwardPE listed but funds and other investments do not.\n",
    "    #So this line removes those other investment mediums\n",
    "    if 'forwardPE' not in stkInfo or stkInfo['forwardPE'] == None: \n",
    "        return commonStock,divRate,forPE,trailPE,forEPS,trailEPS,P2B\n",
    "    \n",
    "    commonStock = True\n",
    "    \n",
    "    #Reads stock info where it is available to be read\n",
    "    divRate = stkInfo['dividendRate'] if 'dividendRate' in stkInfo else 'None'\n",
    "    forPE = stkInfo['forwardPE']\n",
    "    trailPE = stkInfo['trailingPE'] if 'trailingPE' in stkInfo else 'Negative'\n",
    "    forEPS = stkInfo['forwardEps'] if 'forwardEps' in stkInfo else 'None'\n",
    "    trailEPS = stkInfo['trailingEps'] if 'trailingEps' in stkInfo else 'None'\n",
    "    P2B = stkInfo['priceToBook'] if 'priceToBook' in stkInfo else 'None'\n",
    "    \n",
    "    return commonStock,divRate,forPE,trailPE,forEPS,trailEPS,P2B,stk"
   ]
  },
  {
   "cell_type": "markdown",
   "metadata": {},
   "source": [
    "The second function will be responsible for reading the balance sheet for the stk. It is assumed here that the function extractInfo has already been read ahead of this function and has prevented any non-common-stock investments from progressing further into the data extraction process "
   ]
  },
  {
   "cell_type": "code",
   "execution_count": 42,
   "metadata": {},
   "outputs": [],
   "source": [
    "def extractBalSheet(stk):\n",
    "    stkBal= stk.balancesheet #Returns last four years of annual balance sheet\n",
    "    recBal = stkBal[stkBal.columns[0]] #Returns the most recent balance sheet\n",
    "    \n",
    "    curAsts = recBal['Total Current Assets'] if 'Total Current Assets' in recBal else 'None'\n",
    "    curLiabs = recBal['Total Current Liabilities'] if 'Total Current Liabilities' in recBal else 'None'\n",
    "    totAsts = recBal['Total Assets'] if 'Total Assets' in recBal else 'None'\n",
    "    totLiabs = recBal['Total Liab'] if 'Total Liab' in recBal else 'None'\n",
    "    \n",
    "    stkHoldEqty = totAsts-totLiabs if (type(totAsts)!=str and type(totLiabs)!=str) else 'None'\n",
    "    curRat = curAsts/curLiabs if (type(curAsts)!=str and type(curLiabs)!=str and curLiabs!=0) else 'None'\n",
    "    debtLoad = totLiabs/curAsts if (type(curAsts)!=str and type(totLiabs)!=str and curAsts!=0) else 'None'\n",
    "    \n",
    "    return stkHoldEqty,curRat,debtLoad,curAsts,curLiabs,totAsts,totLiabs\n",
    "    "
   ]
  },
  {
   "cell_type": "code",
   "execution_count": 44,
   "metadata": {},
   "outputs": [
    {
     "data": {
      "text/plain": [
       "(2261332000.0,\n",
       " 1.2458526820881188,\n",
       " 3.4516613097760067,\n",
       " 1385443000.0,\n",
       " 1112044000.0,\n",
       " 7043412000.0,\n",
       " 4782080000.0)"
      ]
     },
     "execution_count": 44,
     "metadata": {},
     "output_type": "execute_result"
    }
   ],
   "source": [
    "stk = yf.Ticker('SAVE')\n",
    "extractBalSheet(stk)"
   ]
  },
  {
   "cell_type": "code",
   "execution_count": 32,
   "metadata": {},
   "outputs": [
    {
     "data": {
      "text/plain": [
       "True"
      ]
     },
     "execution_count": 32,
     "metadata": {},
     "output_type": "execute_result"
    }
   ],
   "source": [
    "a = type('None')\n",
    "a==str"
   ]
  },
  {
   "cell_type": "code",
   "execution_count": null,
   "metadata": {},
   "outputs": [],
   "source": []
  }
 ],
 "metadata": {
  "kernelspec": {
   "display_name": "Python 3",
   "language": "python",
   "name": "python3"
  },
  "language_info": {
   "codemirror_mode": {
    "name": "ipython",
    "version": 3
   },
   "file_extension": ".py",
   "mimetype": "text/x-python",
   "name": "python",
   "nbconvert_exporter": "python",
   "pygments_lexer": "ipython3",
   "version": "3.8.3"
  }
 },
 "nbformat": 4,
 "nbformat_minor": 4
}
