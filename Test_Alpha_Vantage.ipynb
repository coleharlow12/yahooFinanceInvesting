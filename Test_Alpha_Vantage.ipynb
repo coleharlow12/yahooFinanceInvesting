{
 "cells": [
  {
   "cell_type": "code",
   "execution_count": 1,
   "metadata": {},
   "outputs": [],
   "source": [
    "from alpha_vantage.timeseries import TimeSeries\n",
    "from alpha_vantage.techindicators import TechIndicators\n",
    "import pandas as pd\n",
    "import requests"
   ]
  },
  {
   "cell_type": "code",
   "execution_count": 2,
   "metadata": {},
   "outputs": [
    {
     "name": "stdout",
     "output_type": "stream",
     "text": [
      "Running 'caffeinate' on MacOSX to prevent the system from sleeping\n"
     ]
    }
   ],
   "source": [
    "import sys\n",
    "import subprocess\n",
    "\n",
    "if 'darwin' in sys.platform:\n",
    "    print('Running \\'caffeinate\\' on MacOSX to prevent the system from sleeping')\n",
    "    subprocess.Popen('caffeinate')"
   ]
  },
  {
   "cell_type": "code",
   "execution_count": 3,
   "metadata": {},
   "outputs": [
    {
     "ename": "SyntaxError",
     "evalue": "invalid syntax (<ipython-input-3-33874c083bd7>, line 5)",
     "output_type": "error",
     "traceback": [
      "\u001b[0;36m  File \u001b[0;32m\"<ipython-input-3-33874c083bd7>\"\u001b[0;36m, line \u001b[0;32m5\u001b[0m\n\u001b[0;31m    'apikey': }\u001b[0m\n\u001b[0m              ^\u001b[0m\n\u001b[0;31mSyntaxError\u001b[0m\u001b[0;31m:\u001b[0m invalid syntax\n"
     ]
    }
   ],
   "source": [
    "base_url = 'https://www.alphavantage.co/query?'\n",
    "params = {'function': 'INCOME_STATEMENT',\n",
    "         'symbol': 'IBM',\n",
    "         'output_format':'pandas',\n",
    "         'apikey': }\n",
    "\n",
    "response = requests.get(base_url, params=params)\n",
    "a = response.json()\n",
    "print(a)\n",
    "\n"
   ]
  },
  {
   "cell_type": "code",
   "execution_count": 14,
   "metadata": {},
   "outputs": [],
   "source": [
    "import pandas as pd"
   ]
  },
  {
   "cell_type": "code",
   "execution_count": 16,
   "metadata": {},
   "outputs": [
    {
     "data": {
      "text/plain": [
       "[{'fiscalDateEnding': '2019-12-31',\n",
       "  'reportedCurrency': 'USD',\n",
       "  'totalRevenue': '77147000000',\n",
       "  'totalOperatingExpense': '25945000000',\n",
       "  'costOfRevenue': '40659000000',\n",
       "  'grossProfit': '36488000000',\n",
       "  'ebit': '11511000000',\n",
       "  'netIncome': '9431000000',\n",
       "  'researchAndDevelopment': '5989000000',\n",
       "  'effectOfAccountingCharges': 'None',\n",
       "  'incomeBeforeTax': '10166000000',\n",
       "  'minorityInterest': '144000000',\n",
       "  'sellingGeneralAdministrative': '19956000000',\n",
       "  'otherNonOperatingIncome': '968000000',\n",
       "  'operatingIncome': '10543000000',\n",
       "  'otherOperatingExpense': '-614000000',\n",
       "  'interestExpense': '1344000000',\n",
       "  'taxProvision': '731000000',\n",
       "  'interestIncome': '349000000',\n",
       "  'netInterestIncome': '-995000000',\n",
       "  'extraordinaryItems': '-150000000',\n",
       "  'nonRecurring': 'None',\n",
       "  'otherItems': 'None',\n",
       "  'incomeTaxExpense': '731000000',\n",
       "  'totalOtherIncomeExpense': '529000000',\n",
       "  'discontinuedOperations': '-4000000',\n",
       "  'netIncomeFromContinuingOperations': '9435000000',\n",
       "  'netIncomeApplicableToCommonShares': '9431000000',\n",
       "  'preferredStockAndOtherAdjustments': 'None'},\n",
       " {'fiscalDateEnding': '2018-12-31',\n",
       "  'reportedCurrency': 'USD',\n",
       "  'totalRevenue': '79591000000',\n",
       "  'totalOperatingExpense': '23719000000',\n",
       "  'costOfRevenue': '42655000000',\n",
       "  'grossProfit': '36936000000',\n",
       "  'ebit': '12065000000',\n",
       "  'netIncome': '8728000000',\n",
       "  'researchAndDevelopment': '5379000000',\n",
       "  'effectOfAccountingCharges': 'None',\n",
       "  'incomeBeforeTax': '11342000000',\n",
       "  'minorityInterest': '134000000',\n",
       "  'sellingGeneralAdministrative': '18340000000',\n",
       "  'otherNonOperatingIncome': '-1152000000',\n",
       "  'operatingIncome': '13217000000',\n",
       "  'otherOperatingExpense': '-998000000',\n",
       "  'interestExpense': '723000000',\n",
       "  'taxProvision': '2619000000',\n",
       "  'interestIncome': '264000000',\n",
       "  'netInterestIncome': '-459000000',\n",
       "  'extraordinaryItems': '-2032000000',\n",
       "  'nonRecurring': 'None',\n",
       "  'otherItems': 'None',\n",
       "  'incomeTaxExpense': '2619000000',\n",
       "  'totalOtherIncomeExpense': '-1482000000',\n",
       "  'discontinuedOperations': '5000000',\n",
       "  'netIncomeFromContinuingOperations': '8723000000',\n",
       "  'netIncomeApplicableToCommonShares': '8728000000',\n",
       "  'preferredStockAndOtherAdjustments': 'None'},\n",
       " {'fiscalDateEnding': '2017-12-31',\n",
       "  'reportedCurrency': 'USD',\n",
       "  'totalRevenue': '79139000000',\n",
       "  'totalOperatingExpense': '24428000000',\n",
       "  'costOfRevenue': '42913000000',\n",
       "  'grossProfit': '36227000000',\n",
       "  'ebit': '12015000000',\n",
       "  'netIncome': '5753000000',\n",
       "  'researchAndDevelopment': '5787000000',\n",
       "  'effectOfAccountingCharges': 'None',\n",
       "  'incomeBeforeTax': '11400000000',\n",
       "  'minorityInterest': '131000000',\n",
       "  'sellingGeneralAdministrative': '18641000000',\n",
       "  'otherNonOperatingIncome': '216000000',\n",
       "  'operatingIncome': '11799000000',\n",
       "  'otherOperatingExpense': '-1466000000',\n",
       "  'interestExpense': '615000000',\n",
       "  'taxProvision': '5642000000',\n",
       "  'interestIncome': '144000000',\n",
       "  'netInterestIncome': '-471000000',\n",
       "  'extraordinaryItems': '-5480000000',\n",
       "  'nonRecurring': 'None',\n",
       "  'otherItems': 'None',\n",
       "  'incomeTaxExpense': '5642000000',\n",
       "  'totalOtherIncomeExpense': '17000000',\n",
       "  'discontinuedOperations': '-5000000',\n",
       "  'netIncomeFromContinuingOperations': '5758000000',\n",
       "  'netIncomeApplicableToCommonShares': '5753000000',\n",
       "  'preferredStockAndOtherAdjustments': 'None'},\n",
       " {'fiscalDateEnding': '2016-12-31',\n",
       "  'reportedCurrency': 'USD',\n",
       "  'totalRevenue': '79919000000',\n",
       "  'totalOperatingExpense': '25189000000',\n",
       "  'costOfRevenue': '41625000000',\n",
       "  'grossProfit': '38294000000',\n",
       "  'ebit': '12960000000',\n",
       "  'netIncome': '11872000000',\n",
       "  'researchAndDevelopment': '5751000000',\n",
       "  'effectOfAccountingCharges': 'None',\n",
       "  'incomeBeforeTax': '12330000000',\n",
       "  'minorityInterest': '146000000',\n",
       "  'sellingGeneralAdministrative': '19438000000',\n",
       "  'otherNonOperatingIncome': '-145000000',\n",
       "  'operatingIncome': '13105000000',\n",
       "  'otherOperatingExpense': '-1604000000',\n",
       "  'interestExpense': '630000000',\n",
       "  'taxProvision': '449000000',\n",
       "  'interestIncome': '108000000',\n",
       "  'netInterestIncome': '-522000000',\n",
       "  'extraordinaryItems': '-9000000',\n",
       "  'nonRecurring': 'None',\n",
       "  'otherItems': 'None',\n",
       "  'incomeTaxExpense': '449000000',\n",
       "  'totalOtherIncomeExpense': '-339000000',\n",
       "  'discontinuedOperations': '-9000000',\n",
       "  'netIncomeFromContinuingOperations': '11881000000',\n",
       "  'netIncomeApplicableToCommonShares': '11872000000',\n",
       "  'preferredStockAndOtherAdjustments': 'None'},\n",
       " {'fiscalDateEnding': '2015-12-31',\n",
       "  'reportedCurrency': 'USD',\n",
       "  'totalRevenue': '81741000000',\n",
       "  'totalOperatingExpense': '24995000000',\n",
       "  'costOfRevenue': '41057000000',\n",
       "  'grossProfit': '40684000000',\n",
       "  'ebit': '16413000000',\n",
       "  'netIncome': '13190000000',\n",
       "  'researchAndDevelopment': '5247000000',\n",
       "  'effectOfAccountingCharges': 'None',\n",
       "  'incomeBeforeTax': '15945000000',\n",
       "  'minorityInterest': '162000000',\n",
       "  'sellingGeneralAdministrative': '19748000000',\n",
       "  'otherNonOperatingIncome': '724000000',\n",
       "  'operatingIncome': '15689000000',\n",
       "  'otherOperatingExpense': '-669000000',\n",
       "  'interestExpense': '468000000',\n",
       "  'taxProvision': '2581000000',\n",
       "  'interestIncome': 'None',\n",
       "  'netInterestIncome': 'None',\n",
       "  'extraordinaryItems': '-174000000',\n",
       "  'nonRecurring': 'None',\n",
       "  'otherItems': 'None',\n",
       "  'incomeTaxExpense': '2581000000',\n",
       "  'totalOtherIncomeExpense': '-572000000',\n",
       "  'discontinuedOperations': '-174000000',\n",
       "  'netIncomeFromContinuingOperations': '13364000000',\n",
       "  'netIncomeApplicableToCommonShares': '13190000000',\n",
       "  'preferredStockAndOtherAdjustments': 'None'}]"
      ]
     },
     "execution_count": 16,
     "metadata": {},
     "output_type": "execute_result"
    }
   ],
   "source": [
    "a['annualReports']"
   ]
  },
  {
   "cell_type": "code",
   "execution_count": 25,
   "metadata": {},
   "outputs": [
    {
     "name": "stdout",
     "output_type": "stream",
     "text": [
      "{'fiscalDateEnding': '2015-09-30', 'reportedCurrency': 'USD', 'totalRevenue': '19280000000', 'totalOperatingExpense': '5830000000', 'costOfRevenue': '9844000000', 'grossProfit': '9436000000', 'ebit': '3739000000', 'netIncome': '2950000000', 'researchAndDevelopment': '1287000000', 'effectOfAccountingCharges': '0', 'incomeBeforeTax': '3621000000', 'minorityInterest': '0', 'sellingGeneralAdministrative': '4543000000', 'otherNonOperatingIncome': '133000000', 'operatingIncome': '3606000000', 'otherOperatingExpense': '0', 'interestExpense': '117000000', 'taxProvision': 'None', 'interestIncome': 'None', 'netInterestIncome': 'None', 'extraordinaryItems': '0', 'nonRecurring': '0', 'otherItems': '0', 'incomeTaxExpense': '659000000', 'totalOtherIncomeExpense': '0', 'discontinuedOperations': '-12000000', 'netIncomeFromContinuingOperations': '2962000000', 'netIncomeApplicableToCommonShares': '2950000000', 'preferredStockAndOtherAdjustments': 'None'}\n",
      "{'fiscalDateEnding': '2020-09-30', 'reportedCurrency': 'USD', 'totalRevenue': '17560000000', 'totalOperatingExpense': '15157000000', 'costOfRevenue': '9130000000', 'grossProfit': '8430000000', 'ebit': '3833000000', 'netIncome': '1698000000', 'researchAndDevelopment': '1515000000', 'effectOfAccountingCharges': 'None', 'incomeBeforeTax': '1827000000', 'minorityInterest': '126000000', 'sellingGeneralAdministrative': '4351000000', 'otherNonOperatingIncome': '-253000000', 'operatingIncome': '1827000000', 'otherOperatingExpense': '-123000000', 'interestExpense': '310000000', 'taxProvision': '149000000', 'interestIncome': '15000000', 'netInterestIncome': '-308000000', 'extraordinaryItems': '20000000', 'nonRecurring': 'None', 'otherItems': 'None', 'incomeTaxExpense': '128000000', 'totalOtherIncomeExpense': '-268000000', 'discontinuedOperations': '-1000000', 'netIncomeFromContinuingOperations': '1698000000', 'netIncomeApplicableToCommonShares': '1698000000', 'preferredStockAndOtherAdjustments': 'None'}\n"
     ]
    }
   ],
   "source": [
    "b = a['quarterlyReports']\n",
    "c = b[-1]\n",
    "d = b[0]\n",
    "print(c)\n",
    "print(d)"
   ]
  },
  {
   "cell_type": "markdown",
   "metadata": {},
   "source": [
    "## To Get All Infor I would Need\n",
    "- 'INCOME_STATEMENT' (has an asset type, we want common stock)\n",
    "- 'EARNINGS'\n",
    "- 'OVERVIEW'\n",
    "- "
   ]
  }
 ],
 "metadata": {
  "kernelspec": {
   "display_name": "Python 3",
   "language": "python",
   "name": "python3"
  },
  "language_info": {
   "codemirror_mode": {
    "name": "ipython",
    "version": 3
   },
   "file_extension": ".py",
   "mimetype": "text/x-python",
   "name": "python",
   "nbconvert_exporter": "python",
   "pygments_lexer": "ipython3",
   "version": "3.8.3"
  }
 },
 "nbformat": 4,
 "nbformat_minor": 4
}
