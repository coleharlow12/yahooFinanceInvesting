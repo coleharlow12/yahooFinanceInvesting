{
 "cells": [
  {
   "cell_type": "code",
   "execution_count": 1,
   "metadata": {},
   "outputs": [],
   "source": [
    "from alpha_vantage.timeseries import TimeSeries\n",
    "from alpha_vantage.techindicators import TechIndicators\n",
    "import pandas as pd\n",
    "import requests"
   ]
  },
  {
   "cell_type": "code",
   "execution_count": 2,
   "metadata": {},
   "outputs": [
    {
     "name": "stdout",
     "output_type": "stream",
     "text": [
      "Running 'caffeinate' on MacOSX to prevent the system from sleeping\n"
     ]
    }
   ],
   "source": [
    "import sys\n",
    "import subprocess\n",
    "\n",
    "if 'darwin' in sys.platform:\n",
    "    print('Running \\'caffeinate\\' on MacOSX to prevent the system from sleeping')\n",
    "    subprocess.Popen('caffeinate')"
   ]
  },
  {
   "cell_type": "code",
   "execution_count": 3,
   "metadata": {},
   "outputs": [],
   "source": [
    "import os\n",
    "import pandas as pd\n",
    "\n",
    "API_KEY = os.environ['ALPHAVANTAGE_API_KEY'] #Retrieves environemtnal variable holding the key location"
   ]
  },
  {
   "cell_type": "markdown",
   "metadata": {},
   "source": [
    "## To Get All Infor I would Need\n",
    "- 'INCOME_STATEMENT' (has an asset type, we want common stock)\n",
    "- 'EARNINGS'\n",
    "- 'OVERVIEW'\n",
    "- "
   ]
  },
  {
   "cell_type": "code",
   "execution_count": 31,
   "metadata": {},
   "outputs": [],
   "source": [
    "# Read the income statements\n",
    "base_url = 'https://www.alphavantage.co/query?'\n",
    "params = {'function': 'INCOME_STATEMENT',\n",
    "         'symbol': 'SAVE',\n",
    "         'output_format':'pandas',\n",
    "         'apikey':API_KEY}\n",
    "\n",
    "response = requests.get(base_url, params=params)\n",
    "saveIncome = response.json()\n",
    "\n",
    "params = {'function': 'BALANCE_SHEET',\n",
    "         'symbol': 'SAVE',\n",
    "         'output_format':'pandas',\n",
    "         'apikey':API_KEY}\n",
    "response = requests.get(base_url, params=params)\n",
    "saveBalSheet = response.json()\n",
    "\n",
    "params = {'function': 'CASH_FLOW',\n",
    "         'symbol': 'SAVE',\n",
    "         'output_format':'pandas',\n",
    "         'apikey':API_KEY}\n",
    "response = requests.get(base_url, params=params)\n",
    "saveCashFlow = response.json()"
   ]
  },
  {
   "cell_type": "code",
   "execution_count": 35,
   "metadata": {},
   "outputs": [
    {
     "name": "stdout",
     "output_type": "stream",
     "text": [
      "wait\n",
      "{'Note': 'Thank you for using Alpha Vantage! Our standard API call frequency is 5 calls per minute and 500 calls per day. Please visit https://www.alphavantage.co/premium/ if you would like to target a higher API call frequency.'}\n"
     ]
    }
   ],
   "source": [
    "if 'Note' in saveCashFlow:\n",
    "    print('wait')\n",
    "    print(saveCashFlow)"
   ]
  },
  {
   "cell_type": "code",
   "execution_count": 14,
   "metadata": {},
   "outputs": [
    {
     "name": "stdout",
     "output_type": "stream",
     "text": [
      "['2020-09-30', '2020-06-30', '2020-03-31', '2019-12-31', '2019-09-30', '2019-06-30', '2019-03-31', '2018-12-31', '2018-09-30', '2018-06-30', '2018-03-31', '2017-12-31', '2017-09-30', '2017-06-30', '2017-03-31', '2016-12-31', '2016-09-30', '2016-06-30', '2016-03-31', '2015-12-31', '2015-09-30']\n"
     ]
    }
   ],
   "source": [
    "quartIncome = saveIncome['quarterlyReports']\n",
    "quartIncome = pd.DataFrame(quartIncome)\n",
    "fDE = quartIncome['fiscalDateEnding']\n",
    "lFDE = list(fDE)\n",
    "print(lFDE)"
   ]
  },
  {
   "cell_type": "code",
   "execution_count": 29,
   "metadata": {},
   "outputs": [
    {
     "name": "stdout",
     "output_type": "stream",
     "text": [
      "Index(['fiscalDateEnding', 'reportedCurrency', 'totalRevenue',\n",
      "       'totalOperatingExpense', 'costOfRevenue', 'grossProfit', 'ebit',\n",
      "       'netIncome', 'researchAndDevelopment', 'effectOfAccountingCharges',\n",
      "       'incomeBeforeTax', 'minorityInterest', 'sellingGeneralAdministrative',\n",
      "       'otherNonOperatingIncome', 'operatingIncome', 'otherOperatingExpense',\n",
      "       'interestExpense', 'taxProvision', 'interestIncome',\n",
      "       'netInterestIncome', 'extraordinaryItems', 'nonRecurring', 'otherItems',\n",
      "       'incomeTaxExpense', 'totalOtherIncomeExpense', 'discontinuedOperations',\n",
      "       'netIncomeFromContinuingOperations',\n",
      "       'netIncomeApplicableToCommonShares',\n",
      "       'preferredStockAndOtherAdjustments'],\n",
      "      dtype='object')\n",
      "Index(['fiscalDateEnding', 'reportedCurrency', 'totalAssets',\n",
      "       'intangibleAssets', 'earningAssets', 'otherCurrentAssets',\n",
      "       'totalLiabilities', 'totalShareholderEquity',\n",
      "       'deferredLongTermLiabilities', 'otherCurrentLiabilities', 'commonStock',\n",
      "       'retainedEarnings', 'otherLiabilities', 'goodwill', 'otherAssets',\n",
      "       'cash', 'totalCurrentLiabilities', 'shortTermDebt',\n",
      "       'currentLongTermDebt', 'otherShareholderEquity',\n",
      "       'propertyPlantEquipment', 'totalCurrentAssets', 'longTermInvestments',\n",
      "       'netTangibleAssets', 'shortTermInvestments', 'netReceivables',\n",
      "       'longTermDebt', 'inventory', 'accountsPayable', 'totalPermanentEquity',\n",
      "       'additionalPaidInCapital', 'commonStockTotalEquity',\n",
      "       'preferredStockTotalEquity', 'retainedEarningsTotalEquity',\n",
      "       'treasuryStock', 'accumulatedAmortization', 'otherNonCurrrentAssets',\n",
      "       'deferredLongTermAssetCharges', 'totalNonCurrentAssets',\n",
      "       'capitalLeaseObligations', 'totalLongTermDebt',\n",
      "       'otherNonCurrentLiabilities', 'totalNonCurrentLiabilities',\n",
      "       'negativeGoodwill', 'warrants', 'preferredStockRedeemable',\n",
      "       'capitalSurplus', 'liabilitiesAndShareholderEquity',\n",
      "       'cashAndShortTermInvestments', 'accumulatedDepreciation',\n",
      "       'commonStockSharesOutstanding'],\n",
      "      dtype='object')\n",
      "Index(['fiscalDateEnding', 'reportedCurrency', 'investments',\n",
      "       'changeInLiabilities', 'cashflowFromInvestment',\n",
      "       'otherCashflowFromInvestment', 'netBorrowings', 'cashflowFromFinancing',\n",
      "       'otherCashflowFromFinancing', 'changeInOperatingActivities',\n",
      "       'netIncome', 'changeInCash', 'operatingCashflow',\n",
      "       'otherOperatingCashflow', 'depreciation', 'dividendPayout',\n",
      "       'stockSaleAndPurchase', 'changeInInventory',\n",
      "       'changeInAccountReceivables', 'changeInNetIncome',\n",
      "       'capitalExpenditures', 'changeInReceivables', 'changeInExchangeRate',\n",
      "       'changeInCashAndCashEquivalents'],\n",
      "      dtype='object')\n",
      "   fiscalDateEnding reportedCurrency investments changeInLiabilities  \\\n",
      "0        2020-09-30              USD   -55460000           -25160000   \n",
      "1        2020-06-30              USD    -3790000            41058000   \n",
      "2        2020-03-31              USD    -3296000           -60687000   \n",
      "3        2019-12-31              USD   -14773000           -46122000   \n",
      "4        2019-09-30              USD   -61597000           -42913000   \n",
      "5        2019-06-30              USD  -134508000            -8991000   \n",
      "6        2019-03-31              USD    -2667000            17169000   \n",
      "7        2018-12-31              USD    -3002000            26688000   \n",
      "8        2018-09-30              USD    -2309000          -140491000   \n",
      "9        2018-06-30              USD    -3052000           -14331000   \n",
      "10       2018-03-31              USD    -1849000           217489000   \n",
      "11       2017-12-31              USD    -4621000           -23406000   \n",
      "12       2017-09-30              USD    -2047000           -35587000   \n",
      "13       2017-06-30              USD    -5059000            14666000   \n",
      "14       2017-03-31              USD    -1918000           121442000   \n",
      "15       2016-12-31              USD    -4142000           -24250000   \n",
      "16       2016-09-30              USD  -102554000           -41588000   \n",
      "17       2016-06-30              USD    -1979000            10352000   \n",
      "18       2016-03-31              USD    -2575000            84472000   \n",
      "19       2015-12-31              USD   -10159000           -23933000   \n",
      "20       2015-09-30              USD        None           -60094000   \n",
      "\n",
      "   cashflowFromInvestment otherCashflowFromInvestment netBorrowings  \\\n",
      "0               -55460000                   -51145000     837436000   \n",
      "1              -133586000                  -129571000     380581000   \n",
      "2              -323768000                  -318415000     122725000   \n",
      "3              -156873000                  -122392000       9377000   \n",
      "4               -61597000                   -93374000    -133941000   \n",
      "5              -134508000                   -37913000     -13099000   \n",
      "6              -103951000                   -37913000      21406000   \n",
      "7              -233115000                   -43227000     265797000   \n",
      "8              -139758000                   -40092000      43915000   \n",
      "9              -130185000                   -41125000     169667000   \n",
      "10             -280650000                   -41580000     208080000   \n",
      "11             -233216000                   -27775000     176959000   \n",
      "12             -202934000                   -42345000     134724000   \n",
      "13             -196918000                   -34605000      98547000   \n",
      "14             -158935000                   -44752000     103017000   \n",
      "15             -162496000                   -64687000       3948000   \n",
      "16             -295322000                   -48488000      68024000   \n",
      "17             -155689000                   -10364000     216644000   \n",
      "18             -212762000                   -50358000      64131000   \n",
      "19             -161825000                   -54665000     109925000   \n",
      "20             -160323000                   -16687000     102908000   \n",
      "\n",
      "   cashflowFromFinancing otherCashflowFromFinancing  \\\n",
      "0              982883000                  -17570000   \n",
      "1              584362000                      53000   \n",
      "2               98454000                  -22751000   \n",
      "3                7228000                   -2066000   \n",
      "4             -130895000                    3154000   \n",
      "5              -12707000                     416000   \n",
      "6               16206000                      23000   \n",
      "7              266173000                     347000   \n",
      "8               43596000                    -163000   \n",
      "9              -35763000                 -205403000   \n",
      "10             207123000                    -201000   \n",
      "11             131617000                  -13740000   \n",
      "12             134719000                   -1732000   \n",
      "13              98393000                   -1890000   \n",
      "14             101983000                   -2274000   \n",
      "15               3855000                      27000   \n",
      "16              27926000                      14000   \n",
      "17             164238000                     267000   \n",
      "18              53840000                    -778000   \n",
      "19             109858000                      32000   \n",
      "20              70484000                     314000   \n",
      "\n",
      "   changeInOperatingActivities  ... depreciation dividendPayout  \\\n",
      "0                    -12101000  ...     71351000           None   \n",
      "1                     37180000  ...     71142000           None   \n",
      "2                   -113101000  ...     65991000           None   \n",
      "3                     71090000  ...     61913000           None   \n",
      "4                   -129275000  ...     57712000           None   \n",
      "5                    -83349000  ...     54913000           None   \n",
      "6                      4727000  ...     50726000           None   \n",
      "7                    -14163000  ...     47963000           None   \n",
      "8                    -96731000  ...     43773000           None   \n",
      "9                    -81656000  ...     45618000              0   \n",
      "10                    85423000  ...     39373000           None   \n",
      "11                  -135446000  ...     36472000           None   \n",
      "12                   -45286000  ...     36840000           None   \n",
      "13                   -14863000  ...     35331000              0   \n",
      "14                   -34774000  ...     31509000              0   \n",
      "15                   -76095000  ...     23929000              0   \n",
      "16                   -33001000  ...     26331000              0   \n",
      "17                   -33804000  ...     25799000              0   \n",
      "18                        None  ...     25077000              0   \n",
      "19                   -49317000  ...     22713000              0   \n",
      "20                        None  ...     19961000              0   \n",
      "\n",
      "   stockSaleAndPurchase changeInInventory changeInAccountReceivables  \\\n",
      "0                -43000              None                    4884000   \n",
      "1             203728000              None                  -22550000   \n",
      "2              -1520000              None                   39910000   \n",
      "3                -83000              None                   -2435000   \n",
      "4               -108000              None                    6753000   \n",
      "5                -25000              None                   -7180000   \n",
      "6              -5223000              None                  -23285000   \n",
      "7                 29000              None                   15865000   \n",
      "8               -156000              None                   -4979000   \n",
      "9                -27000                 0                   -6229000   \n",
      "10              -957000              None                   -2983000   \n",
      "11            -45342000              None                   -8134000   \n",
      "12                -5000              None                    1762000   \n",
      "13              -154000                 0                          0   \n",
      "14             -1034000                 0                          0   \n",
      "15              -120000                 0                  -12951000   \n",
      "16            -40112000                 0                          0   \n",
      "17            -52673000                 0                          0   \n",
      "18             -9513000                 0                          0   \n",
      "19               -99000                 0                   -5592000   \n",
      "20            -32738000                 0                          0   \n",
      "\n",
      "   changeInNetIncome capitalExpenditures changeInReceivables  \\\n",
      "0          -29597000            51145000             4884000   \n",
      "1           -2148000              225000           -22550000   \n",
      "2           39922000             2057000            39910000   \n",
      "3           33124000            81108000                None   \n",
      "4           57316000            34950000             6753000   \n",
      "5           36896000           132166000            -7180000   \n",
      "6           17067000            63371000           -23285000   \n",
      "7           30569000           186886000            15865000   \n",
      "8           42684000            97357000            -4979000   \n",
      "9            9635000            86008000            -6229000   \n",
      "10         -16370000           237221000            -2983000   \n",
      "11         -96550000           200820000            -3088000   \n",
      "12          43564000           158542000             1762000   \n",
      "13          48768000           157254000              718000   \n",
      "14          28254000           112265000            -7526000   \n",
      "15          18795000            93667000            -5111000   \n",
      "16          41185000           144280000             4822000   \n",
      "17          35636000           143346000            -8433000   \n",
      "18          39297000           159829000            -4229000   \n",
      "19         102673000            97001000             4782000   \n",
      "20          60898000           143636000            -2237000   \n",
      "\n",
      "   changeInExchangeRate changeInCashAndCashEquivalents  \n",
      "0                  None                      844997000  \n",
      "1                  None                      369235000  \n",
      "2                  None                     -190732000  \n",
      "3                  None                           None  \n",
      "4                  None                     -175119000  \n",
      "5                  None                      -11342000  \n",
      "6                  None                      117406000  \n",
      "7                  None                      231023000  \n",
      "8                  None                      -38652000  \n",
      "9                  None                      -86095000  \n",
      "10                 None                       97608000  \n",
      "11                 None                      -62831000  \n",
      "12                 None                       -5473000  \n",
      "13                 None                       51043000  \n",
      "14                 None                      117210000  \n",
      "15                 None                     -125004000  \n",
      "16                 None                     -188176000  \n",
      "17                 None                      111271000  \n",
      "18                 None                       99177000  \n",
      "19                 None                       54736000  \n",
      "20                 None                      -20428000  \n",
      "\n",
      "[21 rows x 24 columns]\n"
     ]
    },
    {
     "data": {
      "text/plain": [
       "'-25160000'"
      ]
     },
     "execution_count": 29,
     "metadata": {},
     "output_type": "execute_result"
    }
   ],
   "source": [
    "print(quartIncome.columns)\n",
    "\n",
    "quartBalSheet = saveBalSheet['quarterlyReports']\n",
    "quartBalSheet = pd.DataFrame(quartBalSheet)\n",
    "print(quartBalSheet.columns)\n",
    "\n",
    "quartCashFlow = saveCashFlow['quarterlyReports']\n",
    "quartCashFlow = pd.DataFrame(quartCashFlow)\n",
    "print(quartCashFlow.columns)\n",
    "print(quartCashFlow)\n",
    "quartCashFlow.index = quartCashFlow['fiscalDateEnding']\n",
    "\n",
    "#Things are actually acessed by inputting the column and then the row. Note vice versa.\n",
    "quartCashFlow['changeInLiabilities']['2020-09-30']"
   ]
  },
  {
   "cell_type": "code",
   "execution_count": 8,
   "metadata": {},
   "outputs": [
    {
     "name": "stdout",
     "output_type": "stream",
     "text": [
      "0      401922000\n",
      "1      138529000\n",
      "2      771081000\n",
      "3      969816000\n",
      "4      991968000\n",
      "5     1012956000\n",
      "6      855796000\n",
      "7      862795000\n",
      "8      904330000\n",
      "9      851771000\n",
      "10     704138000\n",
      "11     667007000\n",
      "12     687231000\n",
      "13     701682000\n",
      "14     591746000\n",
      "15     578351000\n",
      "16     621329000\n",
      "17     584133000\n",
      "18     538143000\n",
      "19     519846000\n",
      "20     574841000\n",
      "Name: totalRevenue, dtype: object\n",
      "0      -99140000\n",
      "1     -144428000\n",
      "2      -27828000\n",
      "3       81214000\n",
      "4       83464000\n",
      "5      114501000\n",
      "6       56076000\n",
      "7       91937000\n",
      "8       97480000\n",
      "9       11254000\n",
      "10     -44922000\n",
      "11     250338000\n",
      "12      60190000\n",
      "13      78143000\n",
      "14      31935000\n",
      "15      48493000\n",
      "16      81382000\n",
      "17      73084000\n",
      "18      61920000\n",
      "19      74400000\n",
      "20      97114000\n",
      "Name: netIncome, dtype: object\n"
     ]
    }
   ],
   "source": [
    "totRev = quartIncome['totalRevenue']\n",
    "netInc = quartIncome['netIncome']\n",
    "print(totRev)\n",
    "print(netInc[:])"
   ]
  },
  {
   "cell_type": "code",
   "execution_count": 12,
   "metadata": {},
   "outputs": [
    {
     "name": "stdout",
     "output_type": "stream",
     "text": [
      "Empty DataFrame\n",
      "Columns: [Earnings 2020-09-30, Earnings 2020-06-30, Earnings 2020-03-31, Earnings 2019-12-31, Earnings 2019-09-30, Earnings 2019-06-30, Earnings 2019-03-31, Earnings 2018-12-31, Earnings 2018-09-30, Earnings 2018-06-30, Earnings 2018-03-31, Earnings 2017-12-31, Earnings 2017-09-30, Earnings 2017-06-30, Earnings 2017-03-31, Earnings 2016-12-31, Earnings 2016-09-30, Earnings 2016-06-30, Earnings 2016-03-31, Earnings 2015-12-31, Earnings 2015-09-30]\n",
      "Index: []\n",
      "\n",
      "[0 rows x 21 columns]\n"
     ]
    }
   ],
   "source": [
    "appString = 'Earnings '\n",
    "lFDE = [appString+s for s in lFDE]\n",
    "stkEarn = pd.DataFrame(columns = lFDE)\n",
    "print(stkEarn)"
   ]
  },
  {
   "cell_type": "code",
   "execution_count": 13,
   "metadata": {},
   "outputs": [],
   "source": [
    "import numpy as np\n",
    "netInc = np.array(netInc)\n",
    "\n",
    "stkEarn = stkEarn.append(pd.Series(np.transpose(netInc),\n",
    "                                      index = stkEarn.columns),\n",
    "                            ignore_index=True)"
   ]
  },
  {
   "cell_type": "code",
   "execution_count": 14,
   "metadata": {},
   "outputs": [
    {
     "name": "stdout",
     "output_type": "stream",
     "text": [
      "  Earnings 2020-09-30 Earnings 2020-06-30 Earnings 2020-03-31  \\\n",
      "0           -99140000          -144428000           -27828000   \n",
      "\n",
      "  Earnings 2019-12-31 Earnings 2019-09-30 Earnings 2019-06-30  \\\n",
      "0            81214000            83464000           114501000   \n",
      "\n",
      "  Earnings 2019-03-31 Earnings 2018-12-31 Earnings 2018-09-30  \\\n",
      "0            56076000            91937000            97480000   \n",
      "\n",
      "  Earnings 2018-06-30  ... Earnings 2017-12-31 Earnings 2017-09-30  \\\n",
      "0            11254000  ...           250338000            60190000   \n",
      "\n",
      "  Earnings 2017-06-30 Earnings 2017-03-31 Earnings 2016-12-31  \\\n",
      "0            78143000            31935000            48493000   \n",
      "\n",
      "  Earnings 2016-09-30 Earnings 2016-06-30 Earnings 2016-03-31  \\\n",
      "0            81382000            73084000            61920000   \n",
      "\n",
      "  Earnings 2015-12-31 Earnings 2015-09-30  \n",
      "0            74400000            97114000  \n",
      "\n",
      "[1 rows x 21 columns]\n"
     ]
    }
   ],
   "source": [
    "print(stkEarn)"
   ]
  },
  {
   "cell_type": "code",
   "execution_count": 18,
   "metadata": {},
   "outputs": [
    {
     "name": "stdout",
     "output_type": "stream",
     "text": [
      "                 fiscalDateEnding reportedCurrency totalRevenue  \\\n",
      "fiscalDateEnding                                                  \n",
      "2020-09-30             2020-09-30              USD    401922000   \n",
      "2020-06-30             2020-06-30              USD    138529000   \n",
      "2020-03-31             2020-03-31              USD    771081000   \n",
      "2019-12-31             2019-12-31              USD    969816000   \n",
      "2019-09-30             2019-09-30              USD    991968000   \n",
      "2019-06-30             2019-06-30              USD   1012956000   \n",
      "2019-03-31             2019-03-31              USD    855796000   \n",
      "2018-12-31             2018-12-31              USD    862795000   \n",
      "2018-09-30             2018-09-30              USD    904330000   \n",
      "2018-06-30             2018-06-30              USD    851771000   \n",
      "2018-03-31             2018-03-31              USD    704138000   \n",
      "2017-12-31             2017-12-31              USD    667007000   \n",
      "2017-09-30             2017-09-30              USD    687231000   \n",
      "2017-06-30             2017-06-30              USD    701682000   \n",
      "2017-03-31             2017-03-31              USD    591746000   \n",
      "2016-12-31             2016-12-31              USD    578351000   \n",
      "2016-09-30             2016-09-30              USD    621329000   \n",
      "2016-06-30             2016-06-30              USD    584133000   \n",
      "2016-03-31             2016-03-31              USD    538143000   \n",
      "2015-12-31             2015-12-31              USD    519846000   \n",
      "2015-09-30             2015-09-30              USD    574841000   \n",
      "\n",
      "                 totalOperatingExpense costOfRevenue grossProfit        ebit  \\\n",
      "fiscalDateEnding                                                               \n",
      "2020-09-30                   649701000     548124000  -146202000   -30557000   \n",
      "2020-06-30                   480824000     328913000  -190384000  -188501000   \n",
      "2020-03-31                   829073000     829073000   -57992000   -54380000   \n",
      "2019-12-31                   843998000     681759000   288057000   180181000   \n",
      "2019-09-30                   853877000     680948000   311020000   188463000   \n",
      "2019-06-30                   847468000     682215000   330741000   225773000   \n",
      "2019-03-31                   767992000     621298000   855796000    94495000   \n",
      "2018-12-31                   726730000     557669000   862795000   141759000   \n",
      "2018-09-30                   759205000     587363000   904330000   147855000   \n",
      "2018-06-30                   743250000     575636000   851771000    33363000   \n",
      "2018-03-31                   742935000     519904000   704138000   -44065000   \n",
      "2017-12-31                   574461000     457668000   667007000    95391000   \n",
      "2017-09-30                   583127000     450179000   687231000   106595000   \n",
      "2017-06-30                   568946000     429164000   701682000   134460000   \n",
      "2017-03-31                   532341000     416522000   591746000    60715000   \n",
      "2016-12-31                   493040000     387315000   578351000    86231000   \n",
      "2016-09-30                   486113000     386754000   621329000   136258000   \n",
      "2016-06-30                   462298000     361249000   584133000   123125000   \n",
      "2016-03-31                   436844000     333274000   538143000   102795000   \n",
      "2015-12-31                   399509000     326131000   519846000   122185000   \n",
      "2015-09-30                   417622000     343629000   574841000   157286000   \n",
      "\n",
      "                   netIncome researchAndDevelopment effectOfAccountingCharges  \\\n",
      "fiscalDateEnding                                                                \n",
      "2020-09-30         -99140000                   None                      None   \n",
      "2020-06-30        -144428000                   None                      None   \n",
      "2020-03-31         -27828000                   None                      None   \n",
      "2019-12-31          81214000                   None                      None   \n",
      "2019-09-30          83464000                   None                      None   \n",
      "2019-06-30         114501000                   None                      None   \n",
      "2019-03-31          56076000                   None                      None   \n",
      "2018-12-31          91937000                      0                         0   \n",
      "2018-09-30          97480000                      0                         0   \n",
      "2018-06-30          11254000                      0                         0   \n",
      "2018-03-31         -44922000                      0                         0   \n",
      "2017-12-31         250338000                      0                         0   \n",
      "2017-09-30          60190000                      0                         0   \n",
      "2017-06-30          78143000                      0                         0   \n",
      "2017-03-31          31935000                      0                         0   \n",
      "2016-12-31          48493000                      0                         0   \n",
      "2016-09-30          81382000                      0                         0   \n",
      "2016-06-30          73084000                      0                         0   \n",
      "2016-03-31          61920000                      0                         0   \n",
      "2015-12-31          74400000                      0                         0   \n",
      "2015-09-30          97114000                      0                         0   \n",
      "\n",
      "                  ... netInterestIncome extraordinaryItems nonRecurring  \\\n",
      "fiscalDateEnding  ...                                                     \n",
      "2020-09-30        ...         -28972000               None         None   \n",
      "2020-06-30        ...         -22086000               None         None   \n",
      "2020-03-31        ...         -16621000               None         None   \n",
      "2019-12-31        ...         -17585000               None         None   \n",
      "2019-09-30        ...         -15446000               None     13410000   \n",
      "2019-06-30        ...         -15225000               None      1550000   \n",
      "2019-03-31        ...         -15490000               None      1913000   \n",
      "2018-12-31        ...              None                  0      3284000   \n",
      "2018-09-30        ...              None                  0       383000   \n",
      "2018-06-30        ...              None                  0      4818000   \n",
      "2018-03-31        ...              None                  0     90016000   \n",
      "2017-12-31        ...              None                  0      1054000   \n",
      "2017-09-30        ...              None                  0      8369000   \n",
      "2017-06-30        ...              None                  0      1493000   \n",
      "2017-03-31        ...              None                  0      5881000   \n",
      "2016-12-31        ...              None                  0      8601000   \n",
      "2016-09-30        ...              None                  0      7778000   \n",
      "2016-06-30        ...              None                  0      8581000   \n",
      "2016-03-31        ...              None                  0     16416000   \n",
      "2015-12-31        ...              None                  0       304000   \n",
      "2015-09-30        ...              None                  0       214000   \n",
      "\n",
      "                 otherItems incomeTaxExpense totalOtherIncomeExpense  \\\n",
      "fiscalDateEnding                                                       \n",
      "2020-09-30             None        -29380000               148231000   \n",
      "2020-06-30             None        -68108000               151845000   \n",
      "2020-03-31             None        -46766000                   19000   \n",
      "2019-12-31             None         25549000                -1470000   \n",
      "2019-09-30             None         25549000               -13632000   \n",
      "2019-06-30             None         34068000                -1694000   \n",
      "2019-03-31             None         16005000                -2146000   \n",
      "2018-12-31                0         28965000               -18447000   \n",
      "2018-09-30                0         31107000               -16921000   \n",
      "2018-06-30                0          3895000               -98190000   \n",
      "2018-03-31                0        -14740000              -110881000   \n",
      "2017-12-31                0       -167344000               -83032000   \n",
      "2017-09-30                0         34590000                39776000   \n",
      "2017-06-30                0         45913000                -1097000   \n",
      "2017-03-31                0         19887000                -7583000   \n",
      "2016-12-31                0         29214000               -58324000   \n",
      "2016-09-30                0         46581000                -1148000   \n",
      "2016-06-30                0         42646000                -2866000   \n",
      "2016-03-31                0         36140000                -3239000   \n",
      "2015-12-31                0         43746000                -6142000   \n",
      "2015-09-30                0         57251000                -1397000   \n",
      "\n",
      "                 discontinuedOperations netIncomeFromContinuingOperations  \\\n",
      "fiscalDateEnding                                                            \n",
      "2020-09-30                         None                         -99140000   \n",
      "2020-06-30                         None                        -144428000   \n",
      "2020-03-31                         None                         -27828000   \n",
      "2019-12-31                         None                          81214000   \n",
      "2019-09-30                         None                          83464000   \n",
      "2019-06-30                         None                         114501000   \n",
      "2019-03-31                         None                          56076000   \n",
      "2018-12-31                            0                          91937000   \n",
      "2018-09-30                            0                          97480000   \n",
      "2018-06-30                            0                          11254000   \n",
      "2018-03-31                            0                         -44922000   \n",
      "2017-12-31                            0                         250338000   \n",
      "2017-09-30                            0                          60190000   \n",
      "2017-06-30                            0                          78143000   \n",
      "2017-03-31                            0                          31935000   \n",
      "2016-12-31                            0                          48493000   \n",
      "2016-09-30                            0                          81382000   \n",
      "2016-06-30                            0                          73084000   \n",
      "2016-03-31                            0                          61920000   \n",
      "2015-12-31                            0                          74400000   \n",
      "2015-09-30                            0                          97114000   \n",
      "\n",
      "                 netIncomeApplicableToCommonShares  \\\n",
      "fiscalDateEnding                                     \n",
      "2020-09-30                               -99140000   \n",
      "2020-06-30                              -144428000   \n",
      "2020-03-31                               -27828000   \n",
      "2019-12-31                                81214000   \n",
      "2019-09-30                                83464000   \n",
      "2019-06-30                               114501000   \n",
      "2019-03-31                                56076000   \n",
      "2018-12-31                                91937000   \n",
      "2018-09-30                                97480000   \n",
      "2018-06-30                                11254000   \n",
      "2018-03-31                               -44922000   \n",
      "2017-12-31                               250338000   \n",
      "2017-09-30                                60190000   \n",
      "2017-06-30                                78143000   \n",
      "2017-03-31                                31935000   \n",
      "2016-12-31                                48493000   \n",
      "2016-09-30                                81382000   \n",
      "2016-06-30                                73084000   \n",
      "2016-03-31                                61920000   \n",
      "2015-12-31                                74400000   \n",
      "2015-09-30                                97114000   \n",
      "\n",
      "                 preferredStockAndOtherAdjustments  \n",
      "fiscalDateEnding                                    \n",
      "2020-09-30                                    None  \n",
      "2020-06-30                                    None  \n",
      "2020-03-31                                    None  \n",
      "2019-12-31                                    None  \n",
      "2019-09-30                                    None  \n",
      "2019-06-30                                    None  \n",
      "2019-03-31                                    None  \n",
      "2018-12-31                                    None  \n",
      "2018-09-30                                    None  \n",
      "2018-06-30                                    None  \n",
      "2018-03-31                                    None  \n",
      "2017-12-31                                    None  \n",
      "2017-09-30                                    None  \n",
      "2017-06-30                                    None  \n",
      "2017-03-31                                    None  \n",
      "2016-12-31                                    None  \n",
      "2016-09-30                                    None  \n",
      "2016-06-30                                    None  \n",
      "2016-03-31                                    None  \n",
      "2015-12-31                                    None  \n",
      "2015-09-30                                    None  \n",
      "\n",
      "[21 rows x 29 columns]\n"
     ]
    },
    {
     "data": {
      "text/plain": [
       "'401922000'"
      ]
     },
     "execution_count": 18,
     "metadata": {},
     "output_type": "execute_result"
    }
   ],
   "source": [
    "quartIncome.index = quartIncome['fiscalDateEnding']\n",
    "print(quartIncome)\n",
    "quartIncome['totalRevenue']['2020-09-30']"
   ]
  },
  {
   "cell_type": "code",
   "execution_count": 14,
   "metadata": {},
   "outputs": [
    {
     "name": "stdout",
     "output_type": "stream",
     "text": [
      "      A     B    C\n",
      "0     0   NaN  NaN\n",
      "1  None  36.0  NaN\n",
      "2     1  87.0  0.0\n"
     ]
    }
   ],
   "source": [
    "import pandas as pd\n",
    "A = [0,'None',1]\n",
    "B = [None,36,87]\n",
    "C = [None,None,0]\n",
    "\n",
    "#Ill just loop over all the columns in the dataset and create my dataframe this way. That way in for loops\n",
    "# I can simply \n",
    "testDF = pd.DataFrame()\n",
    "testDF['A'] = A\n",
    "testDF['B'] = B\n",
    "testDF['C'] = C\n",
    "\n",
    "print(testDF)"
   ]
  },
  {
   "cell_type": "code",
   "execution_count": 15,
   "metadata": {},
   "outputs": [
    {
     "data": {
      "text/plain": [
       "0"
      ]
     },
     "execution_count": 15,
     "metadata": {},
     "output_type": "execute_result"
    }
   ],
   "source": [
    "#More efficient way to \n",
    "testDF['A'][0]"
   ]
  },
  {
   "cell_type": "code",
   "execution_count": null,
   "metadata": {},
   "outputs": [],
   "source": [
    "# EPS increase can be a useful measure of measuring earnings growth"
   ]
  },
  {
   "cell_type": "markdown",
   "metadata": {},
   "source": [
    "# Things to Include\n",
    "- Something to quantify Free Cash Flow changes [FCF](https://www.investopedia.com/articles/fundamental-analysis/09/five-must-have-metrics-value-investors.asp) According to investopedia increases in FCF can signal a company finding cost cutting methods or increasing sales and is usually indicitive of future increases. I'll plan to look at this quarter by quarter and see how it inreases or decreases (in percentage) from quarter to quarter\n",
    "- PE in order to calculate this TTM I will need to have quarterly earnings statements for 12 monthes back\n",
    "- Debt to equity ratio [D/E](https://www.investopedia.com/terms/d/debtequityratio.asp) total liabilities/shareholder equity\n",
    "- Price to book ratio and Tangible price to book ratio [TPBR](https://www.investopedia.com/terms/p/price-to-bookratio.asp)\n",
    "- To calculate book value [Book Value Calc](https://www.investopedia.com/terms/b/bookvalue.asp) Do shareholder equity - preferred stock / total shares of common stock\n",
    "- [PEG ration](https://www.investopedia.com/terms/p/pegratio.asp)\n",
    "- PE ratio\n",
    "- Current Ratio\n",
    "- EPS\n",
    "- EPS growth\n",
    "- Current Ratio\n",
    "- Debt Load"
   ]
  },
  {
   "cell_type": "markdown",
   "metadata": {},
   "source": [
    "# Calculating TTM Earnings\n",
    "- Easiest [tutorial](https://stockanalysis.com/term/ttm-trailing-twelve-months/) I could find for doing this. All you do is add up earnings for last twelve monthes"
   ]
  },
  {
   "cell_type": "markdown",
   "metadata": {},
   "source": [
    "# Test Script\n",
    "- Step one list ten stocks in the example script"
   ]
  },
  {
   "cell_type": "code",
   "execution_count": 36,
   "metadata": {},
   "outputs": [],
   "source": [
    "stkLst = ['SAVE','DAL','MRO','MSFT','NCLH','AAL','AAPL','LUV','F','TSLA']"
   ]
  },
  {
   "cell_type": "code",
   "execution_count": 38,
   "metadata": {},
   "outputs": [],
   "source": [
    "for stk in stkLst:\n",
    "    # Read the income statements\n",
    "    base_url = 'https://www.alphavantage.co/query?'\n",
    "    params = {'function': 'INCOME_STATEMENT',\n",
    "             'symbol': stk,\n",
    "             'output_format':'pandas',\n",
    "             'apikey':API_KEY}\n",
    "\n",
    "    response = requests.get(base_url, params=params)\n",
    "    saveIncome = response.json()\n",
    "print(saveIncome)"
   ]
  },
  {
   "cell_type": "markdown",
   "metadata": {},
   "source": [
    "# API Rate Limiting\n",
    "In the cell above the final print will show a note from Alpha Vantage stating that the number of API requests for the minute has been exceeded. A simple way to get around this would be to have the computer continue requesting information again and again in the for loop but this would lead to a lot of unnecessary looping when I could just have the computer sleep after the requests per minute have been exceeded"
   ]
  },
  {
   "cell_type": "code",
   "execution_count": 62,
   "metadata": {},
   "outputs": [],
   "source": [
    "#Quick experiment with the date time library. \n",
    "import datetime\n",
    "a = datetime.datetime.now() #Returns a datetime object which gives the (year,month,day,hour,minute,second,microsecond)"
   ]
  },
  {
   "cell_type": "code",
   "execution_count": 74,
   "metadata": {},
   "outputs": [
    {
     "name": "stdout",
     "output_type": "stream",
     "text": [
      "2020-12-20 23:03:55.866867\n",
      "2020-12-20 23:23:46.742877\n",
      "a<b\n",
      "0:19:50.876010\n"
     ]
    }
   ],
   "source": [
    "b = datetime.datetime.now() #This should ideally be called a couple seconds or so after a is called\n",
    "print(a)\n",
    "print(b)\n",
    "if a < b: #The datetime objects can be compared quite easily\n",
    "    print('a<b')\n",
    "    \n",
    "c = b-a\n",
    "print(c)"
   ]
  },
  {
   "cell_type": "code",
   "execution_count": 77,
   "metadata": {},
   "outputs": [],
   "source": [
    "import time as tm\n",
    "a = tm.time_ns()\n",
    "b = tm.time_ns() #returns the time(ns) since the epoch (sometime in 1970)"
   ]
  },
  {
   "cell_type": "code",
   "execution_count": 112,
   "metadata": {},
   "outputs": [],
   "source": [
    "import time\n",
    "import datetime\n",
    "\n",
    "class Throttler(object):\n",
    "\n",
    "    def __init__(self, max_rate, window, throttle_stop=False):\n",
    "        # Dict of max number of requests of the API rate limit for each source\n",
    "        self.max_rate = max_rate\n",
    "        # Dict of duration of the API rate limit for each source in seconds\n",
    "        self.window = window\n",
    "        # Whether to throw an error (when True) if the limit is reached, or wait until another request\n",
    "        self.throttle_stop = throttle_stop\n",
    "        # Initialization\n",
    "        self.next_reset_at = dict()\n",
    "        self.num_requests = dict()\n",
    "\n",
    "        now = datetime.datetime.now()\n",
    "        #Initializes the next reset time and sets number of requests equal to 0 \n",
    "        for source in self.max_rate:\n",
    "            self.next_reset_at[source] = now + datetime.timedelta(seconds=self.window.get(source))\n",
    "            self.num_requests[source] = 0\n",
    "            \n",
    "    def request(self, source):\n",
    "            now = datetime.datetime.now()\n",
    "            \n",
    "            #Resets the count if the time limit has passed\n",
    "            if now > self.next_reset_at.get(source):\n",
    "                self.num_requests[source] = 0\n",
    "                self.next_reset_at[source] = now + datetime.timedelta(seconds=self.window.get(source))\n",
    "\n",
    "            # throttle request\n",
    "            def halt(wait_time):\n",
    "                if self.throttle_stop:\n",
    "                    # If the throttle_stop flag is true this will stop the for loop and throw an error\n",
    "                    raise TooManyRequestsError()\n",
    "                else:\n",
    "                    # Wait the required time, plus a bit of extra padding time.\n",
    "                    time.sleep(wait_time)\n",
    "\n",
    "            # if exceed max rate, need to wait\n",
    "            if self.num_requests.get(source) >= self.max_rate.get(source):\n",
    "                wait = (self.next_reset_at.get(source) - now).seconds\n",
    "                halt(wait)\n",
    "\n",
    "            self.num_requests[source] += 1\n",
    "            return \n",
    "    "
   ]
  },
  {
   "cell_type": "markdown",
   "metadata": {},
   "source": [
    "- explanation of the self keyword [self](https://www.tutorialspoint.com/self-in-python-class)"
   ]
  },
  {
   "cell_type": "code",
   "execution_count": 116,
   "metadata": {},
   "outputs": [],
   "source": [
    "SOURCE = 'AV_API'\n",
    "MAX_RATE = {SOURCE:5}\n",
    "WINDOW = {SOURCE:60}\n",
    "\n",
    "AVThrottler = Throttler(MAX_RATE,WINDOW)\n",
    "AVThrottler.request(SOURCE)\n",
    "AVThrottler.request(SOURCE)"
   ]
  },
  {
   "cell_type": "markdown",
   "metadata": {},
   "source": [
    "With  the throttler defined above I will just have to call the request function before every API request. This time when I use the same for loop as above rather than printing the Alpha Vantage Note it posts the correct stock information"
   ]
  },
  {
   "cell_type": "code",
   "execution_count": 117,
   "metadata": {},
   "outputs": [
    {
     "name": "stdout",
     "output_type": "stream",
     "text": [
      "{'symbol': 'TSLA', 'annualReports': [{'fiscalDateEnding': '2019-12-31', 'reportedCurrency': 'USD', 'totalRevenue': '24578000000', 'totalOperatingExpense': '24498000000', 'costOfRevenue': '20509000000', 'grossProfit': '4069000000', 'ebit': '2174000000', 'netIncome': '-862000000', 'researchAndDevelopment': '1343000000', 'effectOfAccountingCharges': 'None', 'incomeBeforeTax': '-665000000', 'minorityInterest': '1492000000', 'sellingGeneralAdministrative': '2646000000', 'otherNonOperatingIncome': 'None', 'operatingIncome': '80000000', 'otherOperatingExpense': 'None', 'interestExpense': '685000000', 'taxProvision': '110000000', 'interestIncome': '44000000', 'netInterestIncome': '-641000000', 'extraordinaryItems': 'None', 'nonRecurring': 'None', 'otherItems': 'None', 'incomeTaxExpense': '110000000', 'totalOtherIncomeExpense': '-104000000', 'discontinuedOperations': 'None', 'netIncomeFromContinuingOperations': '-775000000', 'netIncomeApplicableToCommonShares': '-862000000', 'preferredStockAndOtherAdjustments': 'None'}, {'fiscalDateEnding': '2018-12-31', 'reportedCurrency': 'USD', 'totalRevenue': '21461268000', 'totalOperatingExpense': '21714108000', 'costOfRevenue': '17419247000', 'grossProfit': '4042021000', 'ebit': '1559376000', 'netIncome': '-976091000', 'researchAndDevelopment': '1460370000', 'effectOfAccountingCharges': 'None', 'incomeBeforeTax': '-1004745000', 'minorityInterest': '1390000000', 'sellingGeneralAdministrative': '2834491000', 'otherNonOperatingIncome': '46399000', 'operatingIncome': '-252840000', 'otherOperatingExpense': '135233000', 'interestExpense': '663071000', 'taxProvision': '57837000', 'interestIncome': '24533000', 'netInterestIncome': '-638538000', 'extraordinaryItems': 'None', 'nonRecurring': 'None', 'otherItems': 'None', 'incomeTaxExpense': '58000000', 'totalOtherIncomeExpense': '-113367000', 'discontinuedOperations': 'None', 'netIncomeFromContinuingOperations': '-1062582000', 'netIncomeApplicableToCommonShares': '-976000000', 'preferredStockAndOtherAdjustments': 'None'}, {'fiscalDateEnding': '2017-12-31', 'reportedCurrency': 'USD', 'totalRevenue': '11758751000', 'totalOperatingExpense': '13390837000', 'costOfRevenue': '9536264000', 'grossProfit': '2222487000', 'ebit': '-101770000', 'netIncome': '-1961400000', 'researchAndDevelopment': '1378073000', 'effectOfAccountingCharges': 'None', 'incomeBeforeTax': '-2209032000', 'minorityInterest': '1395080000', 'sellingGeneralAdministrative': '2476500000', 'otherNonOperatingIncome': '-105687000', 'operatingIncome': '-1632086000', 'otherOperatingExpense': 'None', 'interestExpense': '471259000', 'taxProvision': '31546000', 'interestIncome': '19686000', 'netInterestIncome': '-451573000', 'extraordinaryItems': '-722646000', 'nonRecurring': 'None', 'otherItems': 'None', 'incomeTaxExpense': '32000000', 'totalOtherIncomeExpense': '-125373000', 'discontinuedOperations': 'None', 'netIncomeFromContinuingOperations': '-2240578000', 'netIncomeApplicableToCommonShares': '-1962000000', 'preferredStockAndOtherAdjustments': 'None'}, {'fiscalDateEnding': '2016-12-31', 'reportedCurrency': 'USD', 'totalRevenue': '7000132000', 'totalOperatingExpense': '7667472000', 'costOfRevenue': '5400875000', 'grossProfit': '1599257000', 'ebit': '399561000', 'netIncome': '-674914000', 'researchAndDevelopment': '834408000', 'effectOfAccountingCharges': 'None', 'incomeBeforeTax': '-746348000', 'minorityInterest': '1152214000', 'sellingGeneralAdministrative': '1432189000', 'otherNonOperatingIncome': '119802000', 'operatingIncome': '-667340000', 'otherOperatingExpense': 'None', 'interestExpense': '198810000', 'taxProvision': '26698000', 'interestIncome': '8530000', 'netInterestIncome': '-190280000', 'extraordinaryItems': 'None', 'nonRecurring': 'None', 'otherItems': 'None', 'incomeTaxExpense': '26698000', 'totalOtherIncomeExpense': '111272000', 'discontinuedOperations': 'None', 'netIncomeFromContinuingOperations': '-773046000', 'netIncomeApplicableToCommonShares': '-674914000', 'preferredStockAndOtherAdjustments': 'None'}, {'fiscalDateEnding': '2015-12-31', 'reportedCurrency': 'USD', 'totalRevenue': '4046025000', 'totalOperatingExpense': '1640132000', 'costOfRevenue': '3122522000', 'grossProfit': '923503000', 'ebit': '-756773000', 'netIncome': '-888663000', 'researchAndDevelopment': '717900000', 'effectOfAccountingCharges': 'None', 'incomeBeforeTax': '-875624000', 'minorityInterest': '1152214000', 'sellingGeneralAdministrative': '922232000', 'otherNonOperatingIncome': '-40144000', 'operatingIncome': '-716629000', 'otherOperatingExpense': 'None', 'interestExpense': '118851000', 'taxProvision': '13039000', 'interestIncome': '-117343000', 'netInterestIncome': 'None', 'extraordinaryItems': 'None', 'nonRecurring': 'None', 'otherItems': 'None', 'incomeTaxExpense': '13039000', 'totalOtherIncomeExpense': '-158995000', 'discontinuedOperations': 'None', 'netIncomeFromContinuingOperations': '-888663000', 'netIncomeApplicableToCommonShares': '-888663000', 'preferredStockAndOtherAdjustments': 'None'}], 'quarterlyReports': [{'fiscalDateEnding': '2020-09-30', 'reportedCurrency': 'USD', 'totalRevenue': '8771000000', 'totalOperatingExpense': '7962000000', 'costOfRevenue': '6708000000', 'grossProfit': '2063000000', 'ebit': '1302000000', 'netIncome': '331000000', 'researchAndDevelopment': '366000000', 'effectOfAccountingCharges': 'None', 'incomeBeforeTax': '555000000', 'minorityInterest': '1469000000', 'sellingGeneralAdministrative': '888000000', 'otherNonOperatingIncome': '-91000000', 'operatingIncome': '809000000', 'otherOperatingExpense': 'None', 'interestExpense': '163000000', 'taxProvision': '186000000', 'interestIncome': '6000000', 'netInterestIncome': '-157000000', 'extraordinaryItems': 'None', 'nonRecurring': 'None', 'otherItems': 'None', 'incomeTaxExpense': '186000000', 'totalOtherIncomeExpense': '-97000000', 'discontinuedOperations': 'None', 'netIncomeFromContinuingOperations': '369000000', 'netIncomeApplicableToCommonShares': '300000000', 'preferredStockAndOtherAdjustments': 'None'}, {'fiscalDateEnding': '2020-06-30', 'reportedCurrency': 'USD', 'totalRevenue': '6036000000', 'totalOperatingExpense': '940000000', 'costOfRevenue': '4769000000', 'grossProfit': '1267000000', 'ebit': '320000000', 'netIncome': '104000000', 'researchAndDevelopment': '279000000', 'effectOfAccountingCharges': 'None', 'incomeBeforeTax': '150000000', 'minorityInterest': '25000000', 'sellingGeneralAdministrative': '661000000', 'otherNonOperatingIncome': '-7000000', 'operatingIncome': '327000000', 'otherOperatingExpense': 'None', 'interestExpense': '170000000', 'taxProvision': '21000000', 'interestIncome': '8000000', 'netInterestIncome': '-162000000', 'extraordinaryItems': 'None', 'nonRecurring': 'None', 'otherItems': 'None', 'incomeTaxExpense': '21000000', 'totalOtherIncomeExpense': '-15000000', 'discontinuedOperations': 'None', 'netIncomeFromContinuingOperations': '129000000', 'netIncomeApplicableToCommonShares': '104000000', 'preferredStockAndOtherAdjustments': 'None'}, {'fiscalDateEnding': '2020-03-31', 'reportedCurrency': 'USD', 'totalRevenue': '5985000000', 'totalOperatingExpense': '951000000', 'costOfRevenue': '4751000000', 'grossProfit': '1234000000', 'ebit': '239000000', 'netIncome': '16000000', 'researchAndDevelopment': '324000000', 'effectOfAccountingCharges': 'None', 'incomeBeforeTax': '70000000', 'minorityInterest': '52000000', 'sellingGeneralAdministrative': '627000000', 'otherNonOperatingIncome': '-44000000', 'operatingIncome': '283000000', 'otherOperatingExpense': 'None', 'interestExpense': '169000000', 'taxProvision': '2000000', 'interestIncome': '10000000', 'netInterestIncome': '-159000000', 'extraordinaryItems': 'None', 'nonRecurring': 'None', 'otherItems': 'None', 'incomeTaxExpense': '2000000', 'totalOtherIncomeExpense': '-54000000', 'discontinuedOperations': 'None', 'netIncomeFromContinuingOperations': '68000000', 'netIncomeApplicableToCommonShares': '16000000', 'preferredStockAndOtherAdjustments': 'None'}, {'fiscalDateEnding': '2019-12-31', 'reportedCurrency': 'USD', 'totalRevenue': '7384000000', 'totalOperatingExpense': '7037000000', 'costOfRevenue': '5993000000', 'grossProfit': '1391000000', 'ebit': '921000000', 'netIncome': '105000000', 'researchAndDevelopment': '345000000', 'effectOfAccountingCharges': 'None', 'incomeBeforeTax': '174000000', 'minorityInterest': '1492000000', 'sellingGeneralAdministrative': '699000000', 'otherNonOperatingIncome': 'None', 'operatingIncome': '347000000', 'otherOperatingExpense': 'None', 'interestExpense': '170000000', 'taxProvision': '42000000', 'interestIncome': '10000000', 'netInterestIncome': '-160000000', 'extraordinaryItems': 'None', 'nonRecurring': 'None', 'otherItems': 'None', 'incomeTaxExpense': '42000000', 'totalOtherIncomeExpense': '-13000000', 'discontinuedOperations': 'None', 'netIncomeFromContinuingOperations': '132000000', 'netIncomeApplicableToCommonShares': '113000000', 'preferredStockAndOtherAdjustments': 'None'}, {'fiscalDateEnding': '2019-09-30', 'reportedCurrency': 'USD', 'totalRevenue': '6303000000', 'totalOperatingExpense': '6042000000', 'costOfRevenue': '5112000000', 'grossProfit': '1191000000', 'ebit': '891851000', 'netIncome': '143000000', 'researchAndDevelopment': '334000000', 'effectOfAccountingCharges': 'None', 'incomeBeforeTax': '176000000', 'minorityInterest': '1442000000', 'sellingGeneralAdministrative': '596000000', 'otherNonOperatingIncome': '100000000', 'operatingIncome': '261000000', 'otherOperatingExpense': 'None', 'interestExpense': '185000000', 'taxProvision': '26000000', 'interestIncome': '15000000', 'netInterestIncome': '-170000000', 'extraordinaryItems': 'None', 'nonRecurring': 'None', 'otherItems': 'None', 'incomeTaxExpense': '26000000', 'totalOtherIncomeExpense': '85000000', 'discontinuedOperations': 'None', 'netIncomeFromContinuingOperations': '150000000', 'netIncomeApplicableToCommonShares': '143000000', 'preferredStockAndOtherAdjustments': 'None'}, {'fiscalDateEnding': '2019-06-30', 'reportedCurrency': 'USD', 'totalRevenue': '6349676000', 'totalOperatingExpense': '6399789000', 'costOfRevenue': '5428630000', 'grossProfit': '921046000', 'ebit': '380720000', 'netIncome': '-408334000', 'researchAndDevelopment': '323898000', 'effectOfAccountingCharges': 'None', 'incomeBeforeTax': '-369831000', 'minorityInterest': '19072000', 'sellingGeneralAdministrative': '647261000', 'otherNonOperatingIncome': '-30394000', 'operatingIncome': '-50113000', 'otherOperatingExpense': '117345000', 'interestExpense': '171979000', 'taxProvision': '19431000', 'interestIncome': '10362000', 'netInterestIncome': '-161617000', 'extraordinaryItems': 'None', 'nonRecurring': 'None', 'otherItems': 'None', 'incomeTaxExpense': '19431000', 'totalOtherIncomeExpense': '-158101000', 'discontinuedOperations': 'None', 'netIncomeFromContinuingOperations': '-389262000', 'netIncomeApplicableToCommonShares': '-408334000', 'preferredStockAndOtherAdjustments': 'None'}, {'fiscalDateEnding': '2019-03-31', 'reportedCurrency': 'USD', 'totalRevenue': '4541464000', 'totalOperatingExpense': '1087574000', 'costOfRevenue': '3975721000', 'grossProfit': '565743000', 'ebit': '-487319000', 'netIncome': '-702135000', 'researchAndDevelopment': '340174000', 'effectOfAccountingCharges': 'None', 'incomeBeforeTax': '-644772000', 'minorityInterest': '34490000', 'sellingGeneralAdministrative': '703929000', 'otherNonOperatingIncome': '34512000', 'operatingIncome': '-521831000', 'otherOperatingExpense': '43471000', 'interestExpense': '157453000', 'taxProvision': '22873000', 'interestIncome': '8762000', 'netInterestIncome': '-148691000', 'extraordinaryItems': 'None', 'nonRecurring': 'None', 'otherItems': 'None', 'incomeTaxExpense': '22873000', 'totalOtherIncomeExpense': '-17721000', 'discontinuedOperations': 'None', 'netIncomeFromContinuingOperations': '-667645000', 'netIncomeApplicableToCommonShares': '-702135000', 'preferredStockAndOtherAdjustments': 'None'}, {'fiscalDateEnding': '2018-12-31', 'reportedCurrency': 'USD', 'totalRevenue': '7225873000', 'totalOperatingExpense': '1029364000', 'costOfRevenue': '5782973000', 'grossProfit': '1442900000', 'ebit': '406679000', 'netIncome': '139483000', 'researchAndDevelopment': '356297000', 'effectOfAccountingCharges': '0', 'incomeBeforeTax': '231956000', 'minorityInterest': '70595000', 'sellingGeneralAdministrative': '667452000', 'otherNonOperatingIncome': '-6857000', 'operatingIncome': '413536000', 'otherOperatingExpense': '5615000', 'interestExpense': '174723000', 'taxProvision': 'None', 'interestIncome': 'None', 'netInterestIncome': 'None', 'extraordinaryItems': '0', 'nonRecurring': '0', 'otherItems': '0', 'incomeTaxExpense': '21878000', 'totalOtherIncomeExpense': '-187195000', 'discontinuedOperations': '0', 'netIncomeFromContinuingOperations': '210078000', 'netIncomeApplicableToCommonShares': '139483000', 'preferredStockAndOtherAdjustments': 'None'}, {'fiscalDateEnding': '2018-09-30', 'reportedCurrency': 'USD', 'totalRevenue': '6824413000', 'totalOperatingExpense': '1106908000', 'costOfRevenue': '5300748000', 'grossProfit': '1523665000', 'ebit': '446540000', 'netIncome': '311516000', 'researchAndDevelopment': '350848000', 'effectOfAccountingCharges': '0', 'incomeBeforeTax': '271320000', 'minorityInterest': '-56843000', 'sellingGeneralAdministrative': '729876000', 'otherNonOperatingIncome': '29783000', 'operatingIncome': '416757000', 'otherOperatingExpense': '26184000', 'interestExpense': '175220000', 'taxProvision': 'None', 'interestIncome': 'None', 'netInterestIncome': 'None', 'extraordinaryItems': '0', 'nonRecurring': '0', 'otherItems': '0', 'incomeTaxExpense': '16647000', 'totalOtherIncomeExpense': '-171621000', 'discontinuedOperations': '0', 'netIncomeFromContinuingOperations': '254673000', 'netIncomeApplicableToCommonShares': '311516000', 'preferredStockAndOtherAdjustments': 'None'}, {'fiscalDateEnding': '2018-06-30', 'reportedCurrency': 'USD', 'totalRevenue': '4002231000', 'totalOperatingExpense': '1240322000', 'costOfRevenue': '3383301000', 'grossProfit': '618930000', 'ebit': '-565417000', 'netIncome': '-717539000', 'researchAndDevelopment': '386129000', 'effectOfAccountingCharges': '0', 'incomeBeforeTax': '-728999000', 'minorityInterest': '-25167000', 'sellingGeneralAdministrative': '750759000', 'otherNonOperatingIncome': '55975000', 'operatingIncome': '-621392000', 'otherOperatingExpense': '103434000', 'interestExpense': '163582000', 'taxProvision': 'None', 'interestIncome': 'None', 'netInterestIncome': 'None', 'extraordinaryItems': '0', 'nonRecurring': '0', 'otherItems': '0', 'incomeTaxExpense': '13707000', 'totalOtherIncomeExpense': '-211041000', 'discontinuedOperations': '0', 'netIncomeFromContinuingOperations': '-742706000', 'netIncomeApplicableToCommonShares': '-717539000', 'preferredStockAndOtherAdjustments': 'None'}, {'fiscalDateEnding': '2018-03-31', 'reportedCurrency': 'USD', 'totalRevenue': '3408751000', 'totalOperatingExpense': '1053500000', 'costOfRevenue': '2952225000', 'grossProfit': '456526000', 'ebit': '-629476000', 'netIncome': '-709551000', 'researchAndDevelopment': '367096000', 'effectOfAccountingCharges': '0', 'incomeBeforeTax': '-779022000', 'minorityInterest': '-75076000', 'sellingGeneralAdministrative': '686404000', 'otherNonOperatingIncome': '-32502000', 'operatingIncome': '-596974000', 'otherOperatingExpense': '0', 'interestExpense': '149546000', 'taxProvision': 'None', 'interestIncome': 'None', 'netInterestIncome': 'None', 'extraordinaryItems': '0', 'nonRecurring': '0', 'otherItems': '0', 'incomeTaxExpense': '5605000', 'totalOtherIncomeExpense': '-182048000', 'discontinuedOperations': '0', 'netIncomeFromContinuingOperations': '-784627000', 'netIncomeApplicableToCommonShares': '-709551000', 'preferredStockAndOtherAdjustments': 'None'}, {'fiscalDateEnding': '2017-12-31', 'reportedCurrency': 'USD', 'totalRevenue': '3288249000', 'totalOperatingExpense': '1036927000', 'costOfRevenue': '2849463000', 'grossProfit': '438786000', 'ebit': '-633538000', 'netIncome': '-675350000', 'researchAndDevelopment': '354637000', 'effectOfAccountingCharges': '0', 'incomeBeforeTax': '-779901000', 'minorityInterest': '-95457000', 'sellingGeneralAdministrative': '682290000', 'otherNonOperatingIncome': '-35397000', 'operatingIncome': '-598141000', 'otherOperatingExpense': '0', 'interestExpense': '146363000', 'taxProvision': 'None', 'interestIncome': 'None', 'netInterestIncome': 'None', 'extraordinaryItems': '0', 'nonRecurring': '0', 'otherItems': '0', 'incomeTaxExpense': '-9094000', 'totalOtherIncomeExpense': '-602746000', 'discontinuedOperations': '0', 'netIncomeFromContinuingOperations': '-770807000', 'netIncomeApplicableToCommonShares': '-675350000', 'preferredStockAndOtherAdjustments': 'None'}, {'fiscalDateEnding': '2017-09-30', 'reportedCurrency': 'USD', 'totalRevenue': '2984675000', 'totalOperatingExpense': '984620000', 'costOfRevenue': '2535535000', 'grossProfit': '449140000', 'ebit': '-554339000', 'netIncome': '-619376000', 'researchAndDevelopment': '331622000', 'effectOfAccountingCharges': '0', 'incomeBeforeTax': '-671448000', 'minorityInterest': '-51787000', 'sellingGeneralAdministrative': '652998000', 'otherNonOperatingIncome': '-18859000', 'operatingIncome': '-535480000', 'otherOperatingExpense': '0', 'interestExpense': '117109000', 'taxProvision': 'None', 'interestIncome': 'None', 'netInterestIncome': 'None', 'extraordinaryItems': '0', 'nonRecurring': '0', 'otherItems': '0', 'incomeTaxExpense': '-285000', 'totalOtherIncomeExpense': '0', 'discontinuedOperations': '0', 'netIncomeFromContinuingOperations': '-671163000', 'netIncomeApplicableToCommonShares': '-619376000', 'preferredStockAndOtherAdjustments': 'None'}, {'fiscalDateEnding': '2017-06-30', 'reportedCurrency': 'USD', 'totalRevenue': '2789557000', 'totalOperatingExpense': '907531000', 'costOfRevenue': '2122942000', 'grossProfit': '666615000', 'ebit': '-277339000', 'netIncome': '-336397000', 'researchAndDevelopment': '369774000', 'effectOfAccountingCharges': '0', 'incomeBeforeTax': '-385780000', 'minorityInterest': '-65030000', 'sellingGeneralAdministrative': '537757000', 'otherNonOperatingIncome': '-36423000', 'operatingIncome': '-240916000', 'otherOperatingExpense': '0', 'interestExpense': '108441000', 'taxProvision': 'None', 'interestIncome': 'None', 'netInterestIncome': 'None', 'extraordinaryItems': '0', 'nonRecurring': '0', 'otherItems': '0', 'incomeTaxExpense': '15647000', 'totalOtherIncomeExpense': '0', 'discontinuedOperations': '0', 'netIncomeFromContinuingOperations': '-401427000', 'netIncomeApplicableToCommonShares': '-336397000', 'preferredStockAndOtherAdjustments': 'None'}, {'fiscalDateEnding': '2017-03-31', 'reportedCurrency': 'USD', 'totalRevenue': '2696270000', 'totalOperatingExpense': '925495000', 'costOfRevenue': '2028324000', 'grossProfit': '667946000', 'ebit': '-272557000', 'netIncome': '-330277000', 'researchAndDevelopment': '322040000', 'effectOfAccountingCharges': '0', 'incomeBeforeTax': '-371903000', 'minorityInterest': '-66904000', 'sellingGeneralAdministrative': '603455000', 'otherNonOperatingIncome': '-15008000', 'operatingIncome': '-257549000', 'otherOperatingExpense': '0', 'interestExpense': '99346000', 'taxProvision': 'None', 'interestIncome': 'None', 'netInterestIncome': 'None', 'extraordinaryItems': '0', 'nonRecurring': '0', 'otherItems': '0', 'incomeTaxExpense': '25278000', 'totalOtherIncomeExpense': '0', 'discontinuedOperations': '0', 'netIncomeFromContinuingOperations': '-397181000', 'netIncomeApplicableToCommonShares': '-330277000', 'preferredStockAndOtherAdjustments': 'None'}, {'fiscalDateEnding': '2016-12-31', 'reportedCurrency': 'USD', 'totalRevenue': '2284631000', 'totalOperatingExpense': '701976000', 'costOfRevenue': '1849353000', 'grossProfit': '435278000', 'ebit': '-143295000', 'netIncome': '-121337000', 'researchAndDevelopment': '245960000', 'effectOfAccountingCharges': '0', 'incomeBeforeTax': '-208399000', 'minorityInterest': '-98132000', 'sellingGeneralAdministrative': '456016000', 'otherNonOperatingIncome': '123403000', 'operatingIncome': '-266698000', 'otherOperatingExpense': '0', 'interestExpense': '65104000', 'taxProvision': 'None', 'interestIncome': 'None', 'netInterestIncome': 'None', 'extraordinaryItems': '0', 'nonRecurring': '0', 'otherItems': '0', 'incomeTaxExpense': '11070000', 'totalOtherIncomeExpense': '-100708000', 'discontinuedOperations': '0', 'netIncomeFromContinuingOperations': '-219469000', 'netIncomeApplicableToCommonShares': '-121337000', 'preferredStockAndOtherAdjustments': 'None'}, {'fiscalDateEnding': '2016-09-30', 'reportedCurrency': 'USD', 'totalRevenue': '2298436000', 'totalOperatingExpense': '551113000', 'costOfRevenue': '1661701000', 'grossProfit': '636735000', 'ebit': '76724000', 'netIncome': '21878000', 'researchAndDevelopment': '214302000', 'effectOfAccountingCharges': '0', 'incomeBeforeTax': '30011000', 'minorityInterest': '2355525000', 'sellingGeneralAdministrative': '336811000', 'otherNonOperatingIncome': '-8898000', 'operatingIncome': '85622000', 'otherOperatingExpense': '0', 'interestExpense': '46713000', 'taxProvision': 'None', 'interestIncome': 'None', 'netInterestIncome': 'None', 'extraordinaryItems': '0', 'nonRecurring': '0', 'otherItems': '0', 'incomeTaxExpense': '8133000', 'totalOtherIncomeExpense': '0', 'discontinuedOperations': '0', 'netIncomeFromContinuingOperations': '21878000', 'netIncomeApplicableToCommonShares': '21878000', 'preferredStockAndOtherAdjustments': 'None'}, {'fiscalDateEnding': '2016-06-30', 'reportedCurrency': 'USD', 'totalRevenue': '1270017000', 'totalOperatingExpense': '512816000', 'costOfRevenue': '995241000', 'grossProfit': '274776000', 'ebit': '-243171000', 'netIncome': '-293188000', 'researchAndDevelopment': '191664000', 'effectOfAccountingCharges': '0', 'incomeBeforeTax': '-289539000', 'minorityInterest': '-2355525000', 'sellingGeneralAdministrative': '321152000', 'otherNonOperatingIncome': '-5131000', 'operatingIncome': '-238040000', 'otherOperatingExpense': '0', 'interestExpense': '46368000', 'taxProvision': 'None', 'interestIncome': 'None', 'netInterestIncome': 'None', 'extraordinaryItems': '0', 'nonRecurring': '0', 'otherItems': '0', 'incomeTaxExpense': '3649000', 'totalOtherIncomeExpense': '0', 'discontinuedOperations': '0', 'netIncomeFromContinuingOperations': '-293188000', 'netIncomeApplicableToCommonShares': '-293188000', 'preferredStockAndOtherAdjustments': 'None'}, {'fiscalDateEnding': '2016-03-31', 'reportedCurrency': 'USD', 'totalRevenue': '1147048000', 'totalOperatingExpense': '500692000', 'costOfRevenue': '894580000', 'grossProfit': '252468000', 'ebit': '-237796000', 'netIncome': '-282267000', 'researchAndDevelopment': '182482000', 'effectOfAccountingCharges': '0', 'incomeBeforeTax': '-278421000', 'minorityInterest': '785175000', 'sellingGeneralAdministrative': '318210000', 'otherNonOperatingIncome': '10428000', 'operatingIncome': '-248224000', 'otherOperatingExpense': '0', 'interestExpense': '40625000', 'taxProvision': 'None', 'interestIncome': 'None', 'netInterestIncome': 'None', 'extraordinaryItems': '0', 'nonRecurring': '0', 'otherItems': '0', 'incomeTaxExpense': '3846000', 'totalOtherIncomeExpense': '0', 'discontinuedOperations': '0', 'netIncomeFromContinuingOperations': '-282267000', 'netIncomeApplicableToCommonShares': '-282267000', 'preferredStockAndOtherAdjustments': 'None'}, {'fiscalDateEnding': '2015-12-31', 'reportedCurrency': 'USD', 'totalRevenue': '1214380000', 'totalOperatingExpense': '478897000', 'costOfRevenue': '995816000', 'grossProfit': '218564000', 'ebit': '-276732000', 'netIncome': '-320397000', 'researchAndDevelopment': '190243000', 'effectOfAccountingCharges': '0', 'incomeBeforeTax': '-315349000', 'minorityInterest': '1152214000', 'sellingGeneralAdministrative': '288654000', 'otherNonOperatingIncome': '-16399000', 'operatingIncome': '-260333000', 'otherOperatingExpense': '0', 'interestExpense': '38617000', 'taxProvision': 'None', 'interestIncome': 'None', 'netInterestIncome': 'None', 'extraordinaryItems': '0', 'nonRecurring': '0', 'otherItems': '0', 'incomeTaxExpense': '5048000', 'totalOtherIncomeExpense': '-158995000', 'discontinuedOperations': '0', 'netIncomeFromContinuingOperations': '-320397000', 'netIncomeApplicableToCommonShares': '-320397000', 'preferredStockAndOtherAdjustments': 'None'}, {'fiscalDateEnding': '2015-09-30', 'reportedCurrency': 'USD', 'totalRevenue': '936789000', 'totalOperatingExpense': '415158000', 'costOfRevenue': '705293000', 'grossProfit': '231496000', 'ebit': '-198766000', 'netIncome': '-229858000', 'researchAndDevelopment': '178791000', 'effectOfAccountingCharges': '0', 'incomeBeforeTax': '-228074000', 'minorityInterest': '0', 'sellingGeneralAdministrative': '236367000', 'otherNonOperatingIncome': '-15104000', 'operatingIncome': '-183662000', 'otherOperatingExpense': '0', 'interestExpense': '29308000', 'taxProvision': 'None', 'interestIncome': 'None', 'netInterestIncome': 'None', 'extraordinaryItems': '0', 'nonRecurring': '0', 'otherItems': '0', 'incomeTaxExpense': '1784000', 'totalOtherIncomeExpense': '0', 'discontinuedOperations': '0', 'netIncomeFromContinuingOperations': '-229858000', 'netIncomeApplicableToCommonShares': '-229858000', 'preferredStockAndOtherAdjustments': 'None'}]}\n"
     ]
    }
   ],
   "source": [
    "for stk in stkLst:\n",
    "    # Read the income statements\n",
    "    base_url = 'https://www.alphavantage.co/query?'\n",
    "    params = {'function': 'INCOME_STATEMENT',\n",
    "             'symbol': stk,\n",
    "             'output_format':'pandas',\n",
    "             'apikey':API_KEY}\n",
    "\n",
    "    AVThrottler.request(SOURCE)\n",
    "    response = requests.get(base_url, params=params)\n",
    "    saveIncome = response.json()\n",
    "print(saveIncome)"
   ]
  },
  {
   "cell_type": "code",
   "execution_count": null,
   "metadata": {},
   "outputs": [],
   "source": []
  }
 ],
 "metadata": {
  "kernelspec": {
   "display_name": "Python 3",
   "language": "python",
   "name": "python3"
  },
  "language_info": {
   "codemirror_mode": {
    "name": "ipython",
    "version": 3
   },
   "file_extension": ".py",
   "mimetype": "text/x-python",
   "name": "python",
   "nbconvert_exporter": "python",
   "pygments_lexer": "ipython3",
   "version": "3.8.3"
  }
 },
 "nbformat": 4,
 "nbformat_minor": 4
}
