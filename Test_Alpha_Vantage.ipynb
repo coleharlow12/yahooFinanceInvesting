{
 "cells": [
  {
   "cell_type": "code",
   "execution_count": 1,
   "metadata": {},
   "outputs": [],
   "source": [
    "import pandas as pd\n",
    "import requests\n",
    "import sys\n",
    "import subprocess\n",
    "import os"
   ]
  },
  {
   "cell_type": "code",
   "execution_count": 2,
   "metadata": {},
   "outputs": [
    {
     "name": "stdout",
     "output_type": "stream",
     "text": [
      "Running 'caffeinate' on MacOSX to prevent the system from sleeping\n"
     ]
    }
   ],
   "source": [
    "if 'darwin' in sys.platform:\n",
    "    print('Running \\'caffeinate\\' on MacOSX to prevent the system from sleeping')\n",
    "    subprocess.Popen('caffeinate')"
   ]
  },
  {
   "cell_type": "code",
   "execution_count": 3,
   "metadata": {},
   "outputs": [],
   "source": [
    "API_KEY = os.environ['ALPHAVANTAGE_API_KEY'] #Retrieves environemtnal variable holding the key location"
   ]
  },
  {
   "cell_type": "markdown",
   "metadata": {},
   "source": [
    "## To Get All Infor I would Need\n",
    "- 'INCOME_STATEMENT' (has an asset type, we want common stock)\n",
    "- 'EARNINGS'\n",
    "- 'OVERVIEW'\n",
    "- "
   ]
  },
  {
   "cell_type": "code",
   "execution_count": 4,
   "metadata": {},
   "outputs": [],
   "source": [
    "# Read the income statements\n",
    "base_url = 'https://www.alphavantage.co/query?'\n",
    "params = {'function': 'INCOME_STATEMENT',\n",
    "         'symbol': 'SAVE',\n",
    "         'output_format':'pandas',\n",
    "         'apikey':API_KEY}\n",
    "\n",
    "response = requests.get(base_url, params=params)\n",
    "saveIncome = response.json()\n",
    "\n",
    "params = {'function': 'BALANCE_SHEET',\n",
    "         'symbol': 'SAVE',\n",
    "         'output_format':'pandas',\n",
    "         'apikey':API_KEY}\n",
    "response = requests.get(base_url, params=params)\n",
    "saveBalSheet = response.json()\n",
    "\n",
    "params = {'function': 'CASH_FLOW',\n",
    "         'symbol': 'SAVE',\n",
    "         'output_format':'pandas',\n",
    "         'apikey':API_KEY}\n",
    "response = requests.get(base_url, params=params)\n",
    "saveCashFlow = response.json()"
   ]
  },
  {
   "cell_type": "code",
   "execution_count": 5,
   "metadata": {},
   "outputs": [],
   "source": [
    "if 'Note' in saveCashFlow:\n",
    "    print('wait')\n",
    "    print(saveCashFlow)"
   ]
  },
  {
   "cell_type": "code",
   "execution_count": 6,
   "metadata": {},
   "outputs": [
    {
     "name": "stdout",
     "output_type": "stream",
     "text": [
      "['2020-09-30', '2020-06-30', '2020-03-31', '2019-12-31', '2019-09-30', '2019-06-30', '2019-03-31', '2018-12-31', '2018-09-30', '2018-06-30', '2018-03-31', '2017-12-31', '2017-09-30', '2017-06-30', '2017-03-31', '2016-12-31', '2016-09-30', '2016-06-30', '2016-03-31', '2015-12-31', '2015-09-30']\n"
     ]
    }
   ],
   "source": [
    "quartIncome = saveIncome['quarterlyReports']\n",
    "quartIncome = pd.DataFrame(quartIncome)\n",
    "fDE = quartIncome['fiscalDateEnding']\n",
    "lFDE = list(fDE)\n",
    "print(lFDE)"
   ]
  },
  {
   "cell_type": "code",
   "execution_count": 7,
   "metadata": {},
   "outputs": [
    {
     "name": "stdout",
     "output_type": "stream",
     "text": [
      "Index(['fiscalDateEnding', 'reportedCurrency', 'totalRevenue',\n",
      "       'totalOperatingExpense', 'costOfRevenue', 'grossProfit', 'ebit',\n",
      "       'netIncome', 'researchAndDevelopment', 'effectOfAccountingCharges',\n",
      "       'incomeBeforeTax', 'minorityInterest', 'sellingGeneralAdministrative',\n",
      "       'otherNonOperatingIncome', 'operatingIncome', 'otherOperatingExpense',\n",
      "       'interestExpense', 'taxProvision', 'interestIncome',\n",
      "       'netInterestIncome', 'extraordinaryItems', 'nonRecurring', 'otherItems',\n",
      "       'incomeTaxExpense', 'totalOtherIncomeExpense', 'discontinuedOperations',\n",
      "       'netIncomeFromContinuingOperations',\n",
      "       'netIncomeApplicableToCommonShares',\n",
      "       'preferredStockAndOtherAdjustments'],\n",
      "      dtype='object')\n",
      "Index(['fiscalDateEnding', 'reportedCurrency', 'totalAssets',\n",
      "       'intangibleAssets', 'earningAssets', 'otherCurrentAssets',\n",
      "       'totalLiabilities', 'totalShareholderEquity',\n",
      "       'deferredLongTermLiabilities', 'otherCurrentLiabilities', 'commonStock',\n",
      "       'retainedEarnings', 'otherLiabilities', 'goodwill', 'otherAssets',\n",
      "       'cash', 'totalCurrentLiabilities', 'shortTermDebt',\n",
      "       'currentLongTermDebt', 'otherShareholderEquity',\n",
      "       'propertyPlantEquipment', 'totalCurrentAssets', 'longTermInvestments',\n",
      "       'netTangibleAssets', 'shortTermInvestments', 'netReceivables',\n",
      "       'longTermDebt', 'inventory', 'accountsPayable', 'totalPermanentEquity',\n",
      "       'additionalPaidInCapital', 'commonStockTotalEquity',\n",
      "       'preferredStockTotalEquity', 'retainedEarningsTotalEquity',\n",
      "       'treasuryStock', 'accumulatedAmortization', 'otherNonCurrrentAssets',\n",
      "       'deferredLongTermAssetCharges', 'totalNonCurrentAssets',\n",
      "       'capitalLeaseObligations', 'totalLongTermDebt',\n",
      "       'otherNonCurrentLiabilities', 'totalNonCurrentLiabilities',\n",
      "       'negativeGoodwill', 'warrants', 'preferredStockRedeemable',\n",
      "       'capitalSurplus', 'liabilitiesAndShareholderEquity',\n",
      "       'cashAndShortTermInvestments', 'accumulatedDepreciation',\n",
      "       'commonStockSharesOutstanding'],\n",
      "      dtype='object')\n",
      "Index(['fiscalDateEnding', 'reportedCurrency', 'investments',\n",
      "       'changeInLiabilities', 'cashflowFromInvestment',\n",
      "       'otherCashflowFromInvestment', 'netBorrowings', 'cashflowFromFinancing',\n",
      "       'otherCashflowFromFinancing', 'changeInOperatingActivities',\n",
      "       'netIncome', 'changeInCash', 'operatingCashflow',\n",
      "       'otherOperatingCashflow', 'depreciation', 'dividendPayout',\n",
      "       'stockSaleAndPurchase', 'changeInInventory',\n",
      "       'changeInAccountReceivables', 'changeInNetIncome',\n",
      "       'capitalExpenditures', 'changeInReceivables', 'changeInExchangeRate',\n",
      "       'changeInCashAndCashEquivalents'],\n",
      "      dtype='object')\n",
      "   fiscalDateEnding reportedCurrency investments changeInLiabilities  \\\n",
      "0        2020-09-30              USD   -55460000           -25160000   \n",
      "1        2020-06-30              USD    -3790000            41058000   \n",
      "2        2020-03-31              USD    -3296000           -60687000   \n",
      "3        2019-12-31              USD   -14773000           -46122000   \n",
      "4        2019-09-30              USD   -61597000           -42913000   \n",
      "5        2019-06-30              USD  -134508000            -8991000   \n",
      "6        2019-03-31              USD    -2667000            17169000   \n",
      "7        2018-12-31              USD    -3002000            26688000   \n",
      "8        2018-09-30              USD    -2309000          -140491000   \n",
      "9        2018-06-30              USD    -3052000           -14331000   \n",
      "10       2018-03-31              USD    -1849000           217489000   \n",
      "11       2017-12-31              USD    -4621000           -23406000   \n",
      "12       2017-09-30              USD    -2047000           -35587000   \n",
      "13       2017-06-30              USD    -5059000            14666000   \n",
      "14       2017-03-31              USD    -1918000           121442000   \n",
      "15       2016-12-31              USD    -4142000           -24250000   \n",
      "16       2016-09-30              USD  -102554000           -41588000   \n",
      "17       2016-06-30              USD    -1979000            10352000   \n",
      "18       2016-03-31              USD    -2575000            84472000   \n",
      "19       2015-12-31              USD   -10159000           -23933000   \n",
      "20       2015-09-30              USD        None           -60094000   \n",
      "\n",
      "   cashflowFromInvestment otherCashflowFromInvestment netBorrowings  \\\n",
      "0               -55460000                   -51145000     837436000   \n",
      "1              -133586000                  -129571000     380581000   \n",
      "2              -323768000                  -318415000     122725000   \n",
      "3              -156873000                  -122392000       9377000   \n",
      "4               -61597000                   -93374000    -133941000   \n",
      "5              -134508000                   -37913000     -13099000   \n",
      "6              -103951000                   -37913000      21406000   \n",
      "7              -233115000                   -43227000     265797000   \n",
      "8              -139758000                   -40092000      43915000   \n",
      "9              -130185000                   -41125000     169667000   \n",
      "10             -280650000                   -41580000     208080000   \n",
      "11             -233216000                   -27775000     176959000   \n",
      "12             -202934000                   -42345000     134724000   \n",
      "13             -196918000                   -34605000      98547000   \n",
      "14             -158935000                   -44752000     103017000   \n",
      "15             -162496000                   -64687000       3948000   \n",
      "16             -295322000                   -48488000      68024000   \n",
      "17             -155689000                   -10364000     216644000   \n",
      "18             -212762000                   -50358000      64131000   \n",
      "19             -161825000                   -54665000     109925000   \n",
      "20             -160323000                   -16687000     102908000   \n",
      "\n",
      "   cashflowFromFinancing otherCashflowFromFinancing  \\\n",
      "0              982883000                  -17570000   \n",
      "1              584362000                      53000   \n",
      "2               98454000                  -22751000   \n",
      "3                7228000                   -2066000   \n",
      "4             -130895000                    3154000   \n",
      "5              -12707000                     416000   \n",
      "6               16206000                      23000   \n",
      "7              266173000                     347000   \n",
      "8               43596000                    -163000   \n",
      "9              -35763000                 -205403000   \n",
      "10             207123000                    -201000   \n",
      "11             131617000                  -13740000   \n",
      "12             134719000                   -1732000   \n",
      "13              98393000                   -1890000   \n",
      "14             101983000                   -2274000   \n",
      "15               3855000                      27000   \n",
      "16              27926000                      14000   \n",
      "17             164238000                     267000   \n",
      "18              53840000                    -778000   \n",
      "19             109858000                      32000   \n",
      "20              70484000                     314000   \n",
      "\n",
      "   changeInOperatingActivities  ... depreciation dividendPayout  \\\n",
      "0                    -12101000  ...     71351000           None   \n",
      "1                     37180000  ...     71142000           None   \n",
      "2                   -113101000  ...     65991000           None   \n",
      "3                     71090000  ...     61913000           None   \n",
      "4                   -129275000  ...     57712000           None   \n",
      "5                    -83349000  ...     54913000           None   \n",
      "6                      4727000  ...     50726000           None   \n",
      "7                    -14163000  ...     47963000           None   \n",
      "8                    -96731000  ...     43773000           None   \n",
      "9                    -81656000  ...     45618000              0   \n",
      "10                    85423000  ...     39373000           None   \n",
      "11                  -135446000  ...     36472000           None   \n",
      "12                   -45286000  ...     36840000           None   \n",
      "13                   -14863000  ...     35331000              0   \n",
      "14                   -34774000  ...     31509000              0   \n",
      "15                   -76095000  ...     23929000              0   \n",
      "16                   -33001000  ...     26331000              0   \n",
      "17                   -33804000  ...     25799000              0   \n",
      "18                        None  ...     25077000              0   \n",
      "19                   -49317000  ...     22713000              0   \n",
      "20                        None  ...     19961000              0   \n",
      "\n",
      "   stockSaleAndPurchase changeInInventory changeInAccountReceivables  \\\n",
      "0                -43000              None                    4884000   \n",
      "1             203728000              None                  -22550000   \n",
      "2              -1520000              None                   39910000   \n",
      "3                -83000              None                   -2435000   \n",
      "4               -108000              None                    6753000   \n",
      "5                -25000              None                   -7180000   \n",
      "6              -5223000              None                  -23285000   \n",
      "7                 29000              None                   15865000   \n",
      "8               -156000              None                   -4979000   \n",
      "9                -27000                 0                   -6229000   \n",
      "10              -957000              None                   -2983000   \n",
      "11            -45342000              None                   -8134000   \n",
      "12                -5000              None                    1762000   \n",
      "13              -154000                 0                          0   \n",
      "14             -1034000                 0                          0   \n",
      "15              -120000                 0                  -12951000   \n",
      "16            -40112000                 0                          0   \n",
      "17            -52673000                 0                          0   \n",
      "18             -9513000                 0                          0   \n",
      "19               -99000                 0                   -5592000   \n",
      "20            -32738000                 0                          0   \n",
      "\n",
      "   changeInNetIncome capitalExpenditures changeInReceivables  \\\n",
      "0          -29597000            51145000             4884000   \n",
      "1           -2148000              225000           -22550000   \n",
      "2           39922000             2057000            39910000   \n",
      "3           33124000            81108000                None   \n",
      "4           57316000            34950000             6753000   \n",
      "5           36896000           132166000            -7180000   \n",
      "6           17067000            63371000           -23285000   \n",
      "7           30569000           186886000            15865000   \n",
      "8           42684000            97357000            -4979000   \n",
      "9            9635000            86008000            -6229000   \n",
      "10         -16370000           237221000            -2983000   \n",
      "11         -96550000           200820000            -3088000   \n",
      "12          43564000           158542000             1762000   \n",
      "13          48768000           157254000              718000   \n",
      "14          28254000           112265000            -7526000   \n",
      "15          18795000            93667000            -5111000   \n",
      "16          41185000           144280000             4822000   \n",
      "17          35636000           143346000            -8433000   \n",
      "18          39297000           159829000            -4229000   \n",
      "19         102673000            97001000             4782000   \n",
      "20          60898000           143636000            -2237000   \n",
      "\n",
      "   changeInExchangeRate changeInCashAndCashEquivalents  \n",
      "0                  None                      844997000  \n",
      "1                  None                      369235000  \n",
      "2                  None                     -190732000  \n",
      "3                  None                           None  \n",
      "4                  None                     -175119000  \n",
      "5                  None                      -11342000  \n",
      "6                  None                      117406000  \n",
      "7                  None                      231023000  \n",
      "8                  None                      -38652000  \n",
      "9                  None                      -86095000  \n",
      "10                 None                       97608000  \n",
      "11                 None                      -62831000  \n",
      "12                 None                       -5473000  \n",
      "13                 None                       51043000  \n",
      "14                 None                      117210000  \n",
      "15                 None                     -125004000  \n",
      "16                 None                     -188176000  \n",
      "17                 None                      111271000  \n",
      "18                 None                       99177000  \n",
      "19                 None                       54736000  \n",
      "20                 None                      -20428000  \n",
      "\n",
      "[21 rows x 24 columns]\n"
     ]
    },
    {
     "data": {
      "text/plain": [
       "'-25160000'"
      ]
     },
     "execution_count": 7,
     "metadata": {},
     "output_type": "execute_result"
    }
   ],
   "source": [
    "print(quartIncome.columns)\n",
    "\n",
    "quartBalSheet = saveBalSheet['quarterlyReports']\n",
    "quartBalSheet = pd.DataFrame(quartBalSheet)\n",
    "print(quartBalSheet.columns)\n",
    "\n",
    "quartCashFlow = saveCashFlow['quarterlyReports']\n",
    "quartCashFlow = pd.DataFrame(quartCashFlow)\n",
    "print(quartCashFlow.columns)\n",
    "print(quartCashFlow)\n",
    "quartCashFlow.index = quartCashFlow['fiscalDateEnding']\n",
    "\n",
    "#Things are actually acessed by inputting the column and then the row. Note vice versa.\n",
    "quartCashFlow['changeInLiabilities']['2020-09-30']"
   ]
  },
  {
   "cell_type": "code",
   "execution_count": 8,
   "metadata": {},
   "outputs": [
    {
     "name": "stdout",
     "output_type": "stream",
     "text": [
      "0      401922000\n",
      "1      138529000\n",
      "2      771081000\n",
      "3      969816000\n",
      "4      991968000\n",
      "5     1012956000\n",
      "6      855796000\n",
      "7      862795000\n",
      "8      904330000\n",
      "9      851771000\n",
      "10     704138000\n",
      "11     667007000\n",
      "12     687231000\n",
      "13     701682000\n",
      "14     591746000\n",
      "15     578351000\n",
      "16     621329000\n",
      "17     584133000\n",
      "18     538143000\n",
      "19     519846000\n",
      "20     574841000\n",
      "Name: totalRevenue, dtype: object\n",
      "0      -99140000\n",
      "1     -144428000\n",
      "2      -27828000\n",
      "3       81214000\n",
      "4       83464000\n",
      "5      114501000\n",
      "6       56076000\n",
      "7       91937000\n",
      "8       97480000\n",
      "9       11254000\n",
      "10     -44922000\n",
      "11     250338000\n",
      "12      60190000\n",
      "13      78143000\n",
      "14      31935000\n",
      "15      48493000\n",
      "16      81382000\n",
      "17      73084000\n",
      "18      61920000\n",
      "19      74400000\n",
      "20      97114000\n",
      "Name: netIncome, dtype: object\n"
     ]
    }
   ],
   "source": [
    "totRev = quartIncome['totalRevenue']\n",
    "netInc = quartIncome['netIncome']\n",
    "print(totRev)\n",
    "print(netInc[:])"
   ]
  },
  {
   "cell_type": "code",
   "execution_count": 9,
   "metadata": {},
   "outputs": [
    {
     "name": "stdout",
     "output_type": "stream",
     "text": [
      "Empty DataFrame\n",
      "Columns: [Earnings 2020-09-30, Earnings 2020-06-30, Earnings 2020-03-31, Earnings 2019-12-31, Earnings 2019-09-30, Earnings 2019-06-30, Earnings 2019-03-31, Earnings 2018-12-31, Earnings 2018-09-30, Earnings 2018-06-30, Earnings 2018-03-31, Earnings 2017-12-31, Earnings 2017-09-30, Earnings 2017-06-30, Earnings 2017-03-31, Earnings 2016-12-31, Earnings 2016-09-30, Earnings 2016-06-30, Earnings 2016-03-31, Earnings 2015-12-31, Earnings 2015-09-30]\n",
      "Index: []\n",
      "\n",
      "[0 rows x 21 columns]\n"
     ]
    }
   ],
   "source": [
    "appString = 'Earnings '\n",
    "lFDE = [appString+s for s in lFDE]\n",
    "stkEarn = pd.DataFrame(columns = lFDE)\n",
    "print(stkEarn)"
   ]
  },
  {
   "cell_type": "code",
   "execution_count": 10,
   "metadata": {},
   "outputs": [],
   "source": [
    "import numpy as np\n",
    "netInc = np.array(netInc)\n",
    "\n",
    "stkEarn = stkEarn.append(pd.Series(np.transpose(netInc),\n",
    "                                      index = stkEarn.columns),\n",
    "                            ignore_index=True)"
   ]
  },
  {
   "cell_type": "code",
   "execution_count": 11,
   "metadata": {},
   "outputs": [
    {
     "name": "stdout",
     "output_type": "stream",
     "text": [
      "  Earnings 2020-09-30 Earnings 2020-06-30 Earnings 2020-03-31  \\\n",
      "0           -99140000          -144428000           -27828000   \n",
      "\n",
      "  Earnings 2019-12-31 Earnings 2019-09-30 Earnings 2019-06-30  \\\n",
      "0            81214000            83464000           114501000   \n",
      "\n",
      "  Earnings 2019-03-31 Earnings 2018-12-31 Earnings 2018-09-30  \\\n",
      "0            56076000            91937000            97480000   \n",
      "\n",
      "  Earnings 2018-06-30  ... Earnings 2017-12-31 Earnings 2017-09-30  \\\n",
      "0            11254000  ...           250338000            60190000   \n",
      "\n",
      "  Earnings 2017-06-30 Earnings 2017-03-31 Earnings 2016-12-31  \\\n",
      "0            78143000            31935000            48493000   \n",
      "\n",
      "  Earnings 2016-09-30 Earnings 2016-06-30 Earnings 2016-03-31  \\\n",
      "0            81382000            73084000            61920000   \n",
      "\n",
      "  Earnings 2015-12-31 Earnings 2015-09-30  \n",
      "0            74400000            97114000  \n",
      "\n",
      "[1 rows x 21 columns]\n"
     ]
    }
   ],
   "source": [
    "print(stkEarn)"
   ]
  },
  {
   "cell_type": "code",
   "execution_count": 12,
   "metadata": {},
   "outputs": [
    {
     "name": "stdout",
     "output_type": "stream",
     "text": [
      "                 fiscalDateEnding reportedCurrency totalRevenue  \\\n",
      "fiscalDateEnding                                                  \n",
      "2020-09-30             2020-09-30              USD    401922000   \n",
      "2020-06-30             2020-06-30              USD    138529000   \n",
      "2020-03-31             2020-03-31              USD    771081000   \n",
      "2019-12-31             2019-12-31              USD    969816000   \n",
      "2019-09-30             2019-09-30              USD    991968000   \n",
      "2019-06-30             2019-06-30              USD   1012956000   \n",
      "2019-03-31             2019-03-31              USD    855796000   \n",
      "2018-12-31             2018-12-31              USD    862795000   \n",
      "2018-09-30             2018-09-30              USD    904330000   \n",
      "2018-06-30             2018-06-30              USD    851771000   \n",
      "2018-03-31             2018-03-31              USD    704138000   \n",
      "2017-12-31             2017-12-31              USD    667007000   \n",
      "2017-09-30             2017-09-30              USD    687231000   \n",
      "2017-06-30             2017-06-30              USD    701682000   \n",
      "2017-03-31             2017-03-31              USD    591746000   \n",
      "2016-12-31             2016-12-31              USD    578351000   \n",
      "2016-09-30             2016-09-30              USD    621329000   \n",
      "2016-06-30             2016-06-30              USD    584133000   \n",
      "2016-03-31             2016-03-31              USD    538143000   \n",
      "2015-12-31             2015-12-31              USD    519846000   \n",
      "2015-09-30             2015-09-30              USD    574841000   \n",
      "\n",
      "                 totalOperatingExpense costOfRevenue grossProfit        ebit  \\\n",
      "fiscalDateEnding                                                               \n",
      "2020-09-30                   649701000     548124000  -146202000   -30557000   \n",
      "2020-06-30                   480824000     328913000  -190384000  -188501000   \n",
      "2020-03-31                   829073000     829073000   -57992000   -54380000   \n",
      "2019-12-31                   843998000     681759000   288057000   180181000   \n",
      "2019-09-30                   853877000     680948000   311020000   188463000   \n",
      "2019-06-30                   847468000     682215000   330741000   225773000   \n",
      "2019-03-31                   767992000     621298000   855796000    94495000   \n",
      "2018-12-31                   726730000     557669000   862795000   141759000   \n",
      "2018-09-30                   759205000     587363000   904330000   147855000   \n",
      "2018-06-30                   743250000     575636000   851771000    33363000   \n",
      "2018-03-31                   742935000     519904000   704138000   -44065000   \n",
      "2017-12-31                   574461000     457668000   667007000    95391000   \n",
      "2017-09-30                   583127000     450179000   687231000   106595000   \n",
      "2017-06-30                   568946000     429164000   701682000   134460000   \n",
      "2017-03-31                   532341000     416522000   591746000    60715000   \n",
      "2016-12-31                   493040000     387315000   578351000    86231000   \n",
      "2016-09-30                   486113000     386754000   621329000   136258000   \n",
      "2016-06-30                   462298000     361249000   584133000   123125000   \n",
      "2016-03-31                   436844000     333274000   538143000   102795000   \n",
      "2015-12-31                   399509000     326131000   519846000   122185000   \n",
      "2015-09-30                   417622000     343629000   574841000   157286000   \n",
      "\n",
      "                   netIncome researchAndDevelopment effectOfAccountingCharges  \\\n",
      "fiscalDateEnding                                                                \n",
      "2020-09-30         -99140000                   None                      None   \n",
      "2020-06-30        -144428000                   None                      None   \n",
      "2020-03-31         -27828000                   None                      None   \n",
      "2019-12-31          81214000                   None                      None   \n",
      "2019-09-30          83464000                   None                      None   \n",
      "2019-06-30         114501000                   None                      None   \n",
      "2019-03-31          56076000                   None                      None   \n",
      "2018-12-31          91937000                      0                         0   \n",
      "2018-09-30          97480000                      0                         0   \n",
      "2018-06-30          11254000                      0                         0   \n",
      "2018-03-31         -44922000                      0                         0   \n",
      "2017-12-31         250338000                      0                         0   \n",
      "2017-09-30          60190000                      0                         0   \n",
      "2017-06-30          78143000                      0                         0   \n",
      "2017-03-31          31935000                      0                         0   \n",
      "2016-12-31          48493000                      0                         0   \n",
      "2016-09-30          81382000                      0                         0   \n",
      "2016-06-30          73084000                      0                         0   \n",
      "2016-03-31          61920000                      0                         0   \n",
      "2015-12-31          74400000                      0                         0   \n",
      "2015-09-30          97114000                      0                         0   \n",
      "\n",
      "                  ... netInterestIncome extraordinaryItems nonRecurring  \\\n",
      "fiscalDateEnding  ...                                                     \n",
      "2020-09-30        ...         -28972000               None         None   \n",
      "2020-06-30        ...         -22086000               None         None   \n",
      "2020-03-31        ...         -16621000               None         None   \n",
      "2019-12-31        ...         -17585000               None         None   \n",
      "2019-09-30        ...         -15446000               None     13410000   \n",
      "2019-06-30        ...         -15225000               None      1550000   \n",
      "2019-03-31        ...         -15490000               None      1913000   \n",
      "2018-12-31        ...              None                  0      3284000   \n",
      "2018-09-30        ...              None                  0       383000   \n",
      "2018-06-30        ...              None                  0      4818000   \n",
      "2018-03-31        ...              None                  0     90016000   \n",
      "2017-12-31        ...              None                  0      1054000   \n",
      "2017-09-30        ...              None                  0      8369000   \n",
      "2017-06-30        ...              None                  0      1493000   \n",
      "2017-03-31        ...              None                  0      5881000   \n",
      "2016-12-31        ...              None                  0      8601000   \n",
      "2016-09-30        ...              None                  0      7778000   \n",
      "2016-06-30        ...              None                  0      8581000   \n",
      "2016-03-31        ...              None                  0     16416000   \n",
      "2015-12-31        ...              None                  0       304000   \n",
      "2015-09-30        ...              None                  0       214000   \n",
      "\n",
      "                 otherItems incomeTaxExpense totalOtherIncomeExpense  \\\n",
      "fiscalDateEnding                                                       \n",
      "2020-09-30             None        -29380000               148231000   \n",
      "2020-06-30             None        -68108000               151845000   \n",
      "2020-03-31             None        -46766000                   19000   \n",
      "2019-12-31             None         25549000                -1470000   \n",
      "2019-09-30             None         25549000               -13632000   \n",
      "2019-06-30             None         34068000                -1694000   \n",
      "2019-03-31             None         16005000                -2146000   \n",
      "2018-12-31                0         28965000               -18447000   \n",
      "2018-09-30                0         31107000               -16921000   \n",
      "2018-06-30                0          3895000               -98190000   \n",
      "2018-03-31                0        -14740000              -110881000   \n",
      "2017-12-31                0       -167344000               -83032000   \n",
      "2017-09-30                0         34590000                39776000   \n",
      "2017-06-30                0         45913000                -1097000   \n",
      "2017-03-31                0         19887000                -7583000   \n",
      "2016-12-31                0         29214000               -58324000   \n",
      "2016-09-30                0         46581000                -1148000   \n",
      "2016-06-30                0         42646000                -2866000   \n",
      "2016-03-31                0         36140000                -3239000   \n",
      "2015-12-31                0         43746000                -6142000   \n",
      "2015-09-30                0         57251000                -1397000   \n",
      "\n",
      "                 discontinuedOperations netIncomeFromContinuingOperations  \\\n",
      "fiscalDateEnding                                                            \n",
      "2020-09-30                         None                         -99140000   \n",
      "2020-06-30                         None                        -144428000   \n",
      "2020-03-31                         None                         -27828000   \n",
      "2019-12-31                         None                          81214000   \n",
      "2019-09-30                         None                          83464000   \n",
      "2019-06-30                         None                         114501000   \n",
      "2019-03-31                         None                          56076000   \n",
      "2018-12-31                            0                          91937000   \n",
      "2018-09-30                            0                          97480000   \n",
      "2018-06-30                            0                          11254000   \n",
      "2018-03-31                            0                         -44922000   \n",
      "2017-12-31                            0                         250338000   \n",
      "2017-09-30                            0                          60190000   \n",
      "2017-06-30                            0                          78143000   \n",
      "2017-03-31                            0                          31935000   \n",
      "2016-12-31                            0                          48493000   \n",
      "2016-09-30                            0                          81382000   \n",
      "2016-06-30                            0                          73084000   \n",
      "2016-03-31                            0                          61920000   \n",
      "2015-12-31                            0                          74400000   \n",
      "2015-09-30                            0                          97114000   \n",
      "\n",
      "                 netIncomeApplicableToCommonShares  \\\n",
      "fiscalDateEnding                                     \n",
      "2020-09-30                               -99140000   \n",
      "2020-06-30                              -144428000   \n",
      "2020-03-31                               -27828000   \n",
      "2019-12-31                                81214000   \n",
      "2019-09-30                                83464000   \n",
      "2019-06-30                               114501000   \n",
      "2019-03-31                                56076000   \n",
      "2018-12-31                                91937000   \n",
      "2018-09-30                                97480000   \n",
      "2018-06-30                                11254000   \n",
      "2018-03-31                               -44922000   \n",
      "2017-12-31                               250338000   \n",
      "2017-09-30                                60190000   \n",
      "2017-06-30                                78143000   \n",
      "2017-03-31                                31935000   \n",
      "2016-12-31                                48493000   \n",
      "2016-09-30                                81382000   \n",
      "2016-06-30                                73084000   \n",
      "2016-03-31                                61920000   \n",
      "2015-12-31                                74400000   \n",
      "2015-09-30                                97114000   \n",
      "\n",
      "                 preferredStockAndOtherAdjustments  \n",
      "fiscalDateEnding                                    \n",
      "2020-09-30                                    None  \n",
      "2020-06-30                                    None  \n",
      "2020-03-31                                    None  \n",
      "2019-12-31                                    None  \n",
      "2019-09-30                                    None  \n",
      "2019-06-30                                    None  \n",
      "2019-03-31                                    None  \n",
      "2018-12-31                                    None  \n",
      "2018-09-30                                    None  \n",
      "2018-06-30                                    None  \n",
      "2018-03-31                                    None  \n",
      "2017-12-31                                    None  \n",
      "2017-09-30                                    None  \n",
      "2017-06-30                                    None  \n",
      "2017-03-31                                    None  \n",
      "2016-12-31                                    None  \n",
      "2016-09-30                                    None  \n",
      "2016-06-30                                    None  \n",
      "2016-03-31                                    None  \n",
      "2015-12-31                                    None  \n",
      "2015-09-30                                    None  \n",
      "\n",
      "[21 rows x 29 columns]\n"
     ]
    },
    {
     "data": {
      "text/plain": [
       "'401922000'"
      ]
     },
     "execution_count": 12,
     "metadata": {},
     "output_type": "execute_result"
    }
   ],
   "source": [
    "quartIncome.index = quartIncome['fiscalDateEnding']\n",
    "print(quartIncome)\n",
    "quartIncome['totalRevenue']['2020-09-30']"
   ]
  },
  {
   "cell_type": "code",
   "execution_count": 13,
   "metadata": {},
   "outputs": [
    {
     "name": "stdout",
     "output_type": "stream",
     "text": [
      "      A     B    C\n",
      "0     0   NaN  NaN\n",
      "1  None  36.0  NaN\n",
      "2     1  87.0  0.0\n"
     ]
    }
   ],
   "source": [
    "import pandas as pd\n",
    "A = [0,'None',1]\n",
    "B = [None,36,87]\n",
    "C = [None,None,0]\n",
    "\n",
    "#Ill just loop over all the columns in the dataset and create my dataframe this way. That way in for loops\n",
    "# I can simply \n",
    "testDF = pd.DataFrame()\n",
    "testDF['A'] = A\n",
    "testDF['B'] = B\n",
    "testDF['C'] = C\n",
    "\n",
    "print(testDF)"
   ]
  },
  {
   "cell_type": "code",
   "execution_count": 14,
   "metadata": {},
   "outputs": [
    {
     "data": {
      "text/plain": [
       "0"
      ]
     },
     "execution_count": 14,
     "metadata": {},
     "output_type": "execute_result"
    }
   ],
   "source": [
    "#More efficient way to \n",
    "testDF['A'][0]"
   ]
  },
  {
   "cell_type": "code",
   "execution_count": 15,
   "metadata": {},
   "outputs": [],
   "source": [
    "# EPS increase can be a useful measure of measuring earnings growth"
   ]
  },
  {
   "cell_type": "markdown",
   "metadata": {},
   "source": [
    "# Things to Include\n",
    "- Something to quantify Free Cash Flow changes [FCF](https://www.investopedia.com/articles/fundamental-analysis/09/five-must-have-metrics-value-investors.asp) According to investopedia increases in FCF can signal a company finding cost cutting methods or increasing sales and is usually indicitive of future increases. I'll plan to look at this quarter by quarter and see how it inreases or decreases (in percentage) from quarter to quarter\n",
    "- PE in order to calculate this TTM I will need to have quarterly earnings statements for 12 monthes back\n",
    "- Debt to equity ratio [D/E](https://www.investopedia.com/terms/d/debtequityratio.asp) total liabilities/shareholder equity\n",
    "- Price to book ratio and Tangible price to book ratio [TPBR](https://www.investopedia.com/terms/p/price-to-bookratio.asp)\n",
    "- To calculate book value [Book Value Calc](https://www.investopedia.com/terms/b/bookvalue.asp) Do shareholder equity - preferred stock / total shares of common stock\n",
    "- [PEG ration](https://www.investopedia.com/terms/p/pegratio.asp)\n",
    "- PE ratio\n",
    "- Current Ratio\n",
    "- EPS\n",
    "- EPS growth\n",
    "- Debt Load"
   ]
  },
  {
   "cell_type": "markdown",
   "metadata": {},
   "source": [
    "# Calculating TTM Earnings\n",
    "- Easiest [tutorial](https://stockanalysis.com/term/ttm-trailing-twelve-months/) I could find for doing this. All you do is add up earnings for last twelve monthes"
   ]
  },
  {
   "cell_type": "markdown",
   "metadata": {},
   "source": [
    "# Test Script\n",
    "- Step one list ten stocks in the example script"
   ]
  },
  {
   "cell_type": "code",
   "execution_count": 16,
   "metadata": {},
   "outputs": [],
   "source": [
    "stkLst = ['SAVE','DAL','MRO','MSFT','NCLH','AAL','AAPL','LUV','F','TSLA']"
   ]
  },
  {
   "cell_type": "code",
   "execution_count": 17,
   "metadata": {},
   "outputs": [
    {
     "name": "stdout",
     "output_type": "stream",
     "text": [
      "{'Note': 'Thank you for using Alpha Vantage! Our standard API call frequency is 5 calls per minute and 500 calls per day. Please visit https://www.alphavantage.co/premium/ if you would like to target a higher API call frequency.'}\n"
     ]
    }
   ],
   "source": [
    "for stk in stkLst:\n",
    "    # Read the income statements\n",
    "    base_url = 'https://www.alphavantage.co/query?'\n",
    "    params = {'function': 'BALANCE_SHEET',\n",
    "             'symbol': stk,\n",
    "             'output_format':'pandas',\n",
    "             'apikey':API_KEY}\n",
    "\n",
    "    response = requests.get(base_url, params=params)\n",
    "    saveIncome = response.json()\n",
    "print(saveIncome)"
   ]
  },
  {
   "cell_type": "markdown",
   "metadata": {},
   "source": [
    "# API Rate Limiting\n",
    "In the cell above the final print will show a note from Alpha Vantage stating that the number of API requests for the minute has been exceeded. A simple way to get around this would be to have the computer continue requesting information again and again in the for loop but this would lead to a lot of unnecessary looping when I could just have the computer sleep after the requests per minute have been exceeded"
   ]
  },
  {
   "cell_type": "code",
   "execution_count": 18,
   "metadata": {},
   "outputs": [],
   "source": [
    "#Quick experiment with the date time library. \n",
    "import datetime\n",
    "a = datetime.datetime.now() #Returns a datetime object which gives the (year,month,day,hour,minute,second,microsecond)"
   ]
  },
  {
   "cell_type": "code",
   "execution_count": 19,
   "metadata": {},
   "outputs": [
    {
     "name": "stdout",
     "output_type": "stream",
     "text": [
      "2020-12-26 19:27:26.662078\n",
      "2020-12-26 19:28:14.206944\n",
      "a<b\n",
      "0:00:47.544866\n"
     ]
    }
   ],
   "source": [
    "b = datetime.datetime.now() #This should ideally be called a couple seconds or so after a is called\n",
    "print(a)\n",
    "print(b)\n",
    "if a < b: #The datetime objects can be compared quite easily\n",
    "    print('a<b')\n",
    "    \n",
    "c = b-a\n",
    "print(c)"
   ]
  },
  {
   "cell_type": "code",
   "execution_count": 20,
   "metadata": {},
   "outputs": [],
   "source": [
    "import time as tm\n",
    "a = tm.time_ns()\n",
    "b = tm.time_ns() #returns the time(ns) since the epoch (sometime in 1970)"
   ]
  },
  {
   "cell_type": "code",
   "execution_count": 21,
   "metadata": {},
   "outputs": [],
   "source": [
    "import time\n",
    "import datetime\n",
    "\n",
    "class Throttler(object):\n",
    "\n",
    "    def __init__(self, max_rate, window, throttle_stop=False):\n",
    "        # Dict of max number of requests of the API rate limit for each source\n",
    "        self.max_rate = max_rate\n",
    "        # Dict of duration of the API rate limit for each source in seconds\n",
    "        self.window = window\n",
    "        # Whether to throw an error (when True) if the limit is reached, or wait until another request\n",
    "        self.throttle_stop = throttle_stop\n",
    "        # Initialization\n",
    "        self.next_reset_at = dict()\n",
    "        self.num_requests = dict()\n",
    "\n",
    "        now = datetime.datetime.now()\n",
    "        #Initializes the next reset time and sets number of requests equal to 0 \n",
    "        for source in self.max_rate:\n",
    "            self.next_reset_at[source] = now + datetime.timedelta(seconds=self.window.get(source))\n",
    "            self.num_requests[source] = 0\n",
    "            \n",
    "    def request(self, source):\n",
    "            now = datetime.datetime.now()\n",
    "            \n",
    "            #Resets the count if the time limit has passed\n",
    "            if now > self.next_reset_at.get(source):\n",
    "                self.num_requests[source] = 0\n",
    "                self.next_reset_at[source] = now + datetime.timedelta(seconds=self.window.get(source))\n",
    "\n",
    "            # throttle request\n",
    "            def halt(wait_time):\n",
    "                if self.throttle_stop:\n",
    "                    # If the throttle_stop flag is true this will stop the for loop and throw an error\n",
    "                    raise TooManyRequestsError()\n",
    "                else:\n",
    "                    # Wait the required time, plus a bit of extra padding time.\n",
    "                    time.sleep(wait_time)\n",
    "\n",
    "            # if exceed max rate, need to wait\n",
    "            if self.num_requests.get(source) >= self.max_rate.get(source):\n",
    "                wait = (self.next_reset_at.get(source) - now).seconds\n",
    "                halt(wait)\n",
    "\n",
    "            self.num_requests[source] += 1\n",
    "            return \n",
    "    "
   ]
  },
  {
   "cell_type": "markdown",
   "metadata": {},
   "source": [
    "- explanation of the self keyword [self](https://www.tutorialspoint.com/self-in-python-class)"
   ]
  },
  {
   "cell_type": "code",
   "execution_count": 22,
   "metadata": {},
   "outputs": [],
   "source": [
    "SOURCE = 'AV_API'\n",
    "MAX_RATE = {SOURCE:5}\n",
    "WINDOW = {SOURCE:60}\n",
    "\n",
    "AVThrottler = Throttler(MAX_RATE,WINDOW)\n",
    "AVThrottler.request(SOURCE)\n",
    "AVThrottler.request(SOURCE)"
   ]
  },
  {
   "cell_type": "markdown",
   "metadata": {},
   "source": [
    "With  the throttler defined above I will just have to call the request function before every API request. This time when I use the same for loop as above rather than printing the Alpha Vantage Note it posts the correct stock information"
   ]
  },
  {
   "cell_type": "code",
   "execution_count": null,
   "metadata": {},
   "outputs": [],
   "source": [
    "for stk in stkLst:\n",
    "    # Read the income statements\n",
    "    base_url = 'https://www.alphavantage.co/query?'\n",
    "    params = {'function': 'EARNINGS',\n",
    "             'symbol': stk,\n",
    "             'output_format':'pandas',\n",
    "             'apikey':API_KEY}\n",
    "\n",
    "    AVThrottler.request(SOURCE)\n",
    "    response = requests.get(base_url, params=params)\n",
    "    saveIncome = response.json()\n",
    "#print(saveIncome)"
   ]
  },
  {
   "cell_type": "markdown",
   "metadata": {},
   "source": [
    "## Whats Needed\n",
    "- Free Cash Flow (FCF) need capital expenditures (Provided quarterly in Cash Flow call) and operating cash flow (also from Cash Flow Call). I could potentially try making this a per share value and calculate growth. Calculation is 'operatingCashFlow'-'capitalExpenditures' both from cash flow. Details are [here](https://www.investopedia.com/ask/answers/033015/what-formula-calculating-free-cash-flow.asp) \n",
    "- PE ratio: I will need the price and the 12 monthes TTM (to get this I will call PE ratio = Price/EPS) EPS is is in the earnings call. Or I could use the raw earnings from the Income Statment earnings = netIncome = Profit\n",
    "- Debt to Equity (D/E) debt = total liabilities which is available in the balance sheet (totalLiabilities) and shareholder equity which is in balance sheet (totalShareholderEquity)\n",
    "- Price to Book (P2B): bookvalue = commonStockTotalEquity(BalSheet) - preferredStockTotalEquity(balSheet) / commonStockSharesOutstanding (BalSheet). This formula is described from [here](https://www.investopedia.com/terms/b/bookvalue.asp)\n",
    "- Price to Earnings to Growth (PEG). = Price/EPS/Growth. Available either in Earnings as 'reportedEPS' or from the income statement as 'netIncomeApplicableToCommonShares'/'commonStockSharesOutstanding'. The reason it has to be done using 'netIncomeApplicableToCommonShares' is because it is necessary to subtract preferred dividends before calculating Earnings. For details see [here](https://budgeting.thenest.com/dividends-preferred-stock-affect-computation-eps-29007.html). The growth section is calculated as Growth = EPS(last year)-EPS(this year). It seems like it would be a good idea to normalize the growth into a fraction. Then large companies with large earnings won't be disfavored over small companies with comparatively small earnings. \n",
    "- Current Ratio. This is calculated as 'totalCurrentAssets'/'totalCurrentLiabilities'. This one is already normalized\n",
    "- Debt Load. Calculated as 'totalLiabilities'/'totalAssets'. This one is already normalized.\n",
    "\n",
    "So in total what we need for each of the calls is quarterly information defining\n",
    "\n",
    "-__Earnings:__ 'reportedEPS' although i prefer to get it from the other information collected\n",
    "  \n",
    "  \n",
    "-__Income Statement:__ 'netIncomeApplicableToCommonShares', 'netIncome', \n",
    "  \n",
    "    \n",
    "-__BalanceSheet:__ 'totalLiabilities', 'totalAssets', 'totalCurrentAssets', 'totalCurrentLiabilities', 'commmonStockTotalEquity', 'totalShareholderEquity', 'commonStockTotalEquity', 'preferredStockTotalEquity', 'commonStockSharesOutstanding'\n",
    "\n",
    " \n",
    "-__Cash Flow:__ 'operatingCashFlow', 'capitalExpenditures'\n",
    "\n",
    "Just for some additional interests I would also like to include\n",
    "\n",
    "-__Earnings:__ \n",
    "  \n",
    "  \n",
    "-__Income Statement:__ 'costOfRevenue', 'grossProfit', 'researchAndDevelopment'\n",
    "  \n",
    "    \n",
    "-__BalanceSheet:__ 'retainedEarnings'\n",
    "\n",
    " \n",
    "-__Cash Flow:__ \n",
    "\n",
    "\n",
    "\n",
    "\n",
    "## Whats Columns Included In Each Call\n",
    "\n",
    "## Earnings\n",
    "- Earnings: Quarterly, Annual, {'fiscalDateEnding', 'reportedDate', 'reportedEPS', 'estimatedEPS','surprise', 'surprisePercentage', dtype='object'}  \n",
    "\n",
    " \n",
    " ## Income Statement\n",
    "- Income Statment:  Quarterly, Annual, {'fiscalDateEnding', 'reportedCurrency', 'totalRevenue', 'totalOperatingExpense', 'costOfRevenue', 'grossProfit', 'ebit', 'netIncome', 'researchAndDevelopment', 'effectOfAccountingCharges', 'incomeBeforeTax', 'minorityInterest', 'sellingGeneralAdministrative', 'otherNonOperatingIncome', 'operatingIncome', 'otherOperatingExpense', 'interestExpense', 'taxProvision', 'interestIncome', 'netInterestIncome', 'extraordinaryItems', 'nonRecurring', 'otherItems', 'incomeTaxExpense', 'totalOtherIncomeExpense', 'discontinuedOperations', 'netIncomeFromContinuingOperations', 'netIncomeApplicableToCommonShares', 'preferredStockAndOtherAdjustments'}  \n",
    "   \n",
    "## Cash Flow  \n",
    "- Cash Flow: Quarterly, Annual, {'fiscalDateEnding', 'reportedCurrency', 'investments', 'changeInLiabilities', 'cashflowFromInvestment', 'otherCashflowFromInvestment', 'netBorrowings', 'cashflowFromFinancing', 'otherCashflowFromFinancing', 'changeInOperatingActivities', 'netIncome', 'changeInCash', 'operatingCashflow', 'otherOperatingCashflow', 'depreciation', 'dividendPayout', 'stockSaleAndPurchase', 'changeInInventory', 'changeInAccountReceivables', 'changeInNetIncome', 'capitalExpenditures', 'changeInReceivables', 'changeInExchangeRate', 'changeInCashAndCashEquivalents'}\n",
    "  \n",
    "## Balance Sheet \n",
    "-  Quarterly, Annual, {'fiscalDateEnding', 'reportedCurrency', 'totalAssets', 'intangibleAssets', 'earningAssets', 'otherCurrentAssets', 'totalLiabilities', 'totalShareholderEquity', 'deferredLongTermLiabilities', 'otherCurrentLiabilities', 'commonStock', 'retainedEarnings', 'otherLiabilities', 'goodwill', 'otherAssets', 'cash', 'totalCurrentLiabilities', 'shortTermDebt', 'currentLongTermDebt', 'otherShareholderEquity', 'propertyPlantEquipment', 'totalCurrentAssets', 'longTermInvestments', 'netTangibleAssets', 'shortTermInvestments', 'netReceivables', 'longTermDebt', 'inventory', 'accountsPayable', 'totalPermanentEquity', 'additionalPaidInCapital', 'commonStockTotalEquity', 'preferredStockTotalEquity', 'retainedEarningsTotalEquity', 'treasuryStock', 'accumulatedAmortization', 'otherNonCurrrentAssets', 'deferredLongTermAssetCharges', 'totalNonCurrentAssets', 'capitalLeaseObligations', 'totalLongTermDebt', 'otherNonCurrentLiabilities', 'totalNonCurrentLiabilities', 'negativeGoodwill', 'warrants', 'preferredStockRedeemable', 'capitalSurplus', 'liabilitiesAndShareholderEquity', 'cashAndShortTermInvestments', 'accumulatedDepreciation', 'commonStockSharesOutstanding'"
   ]
  },
  {
   "cell_type": "code",
   "execution_count": null,
   "metadata": {
    "scrolled": true
   },
   "outputs": [],
   "source": [
    "\n",
    "# Read the income statements\n",
    "base_url = 'https://www.alphavantage.co/query?'\n",
    "params = {'function': 'BALANCE_SHEET',\n",
    "         'symbol': 'SAVE',\n",
    "         'output_format':'pandas',\n",
    "         'apikey':API_KEY}\n",
    "\n",
    "response = requests.get(base_url, params=params)\n",
    "saveIncome = response.json()\n",
    "quarterly = saveIncome['quarterlyReports']\n",
    "quarterly = pd.DataFrame(quarterly)\n",
    "print(quarterly.columns)"
   ]
  },
  {
   "cell_type": "code",
   "execution_count": null,
   "metadata": {},
   "outputs": [],
   "source": [
    "# Read the income statements\n",
    "base_url = 'https://www.alphavantage.co/query?'\n",
    "params = {'function': 'EARNINGS',\n",
    "         'symbol': 'SAVE',\n",
    "         'output_format':'pandas',\n",
    "         'apikey':API_KEY}\n",
    "\n",
    "response = requests.get(base_url, params=params)\n",
    "saveIncome = response.json()\n",
    "quarterly = saveIncome['quarterlyEarnings']\n",
    "quarterly = pd.DataFrame(quarterly)\n",
    "print(quarterly.columns)"
   ]
  },
  {
   "cell_type": "code",
   "execution_count": null,
   "metadata": {},
   "outputs": [],
   "source": [
    "# Read the income statements\n",
    "base_url = 'https://www.alphavantage.co/query?'\n",
    "params = {'function': 'BALANCE_SHEET',\n",
    "         'symbol': 'SAVE',\n",
    "         'output_format':'pandas',\n",
    "         'apikey':API_KEY}\n",
    "\n",
    "response = requests.get(base_url, params=params)\n",
    "saveIncome = response.json()\n",
    "print(saveIncome)\n",
    "quarterly = saveIncome['quarterlyReports']\n",
    "quarterly = pd.DataFrame(quarterly)\n",
    "print(quarterly.columns)"
   ]
  },
  {
   "cell_type": "markdown",
   "metadata": {},
   "source": [
    "# Get The Historical Price of the Stock\n",
    "The price of the stock, every single day. Includes open, close, high, low, and volume. Probably easiset to just use the average of all four has the mark for that day."
   ]
  },
  {
   "cell_type": "code",
   "execution_count": null,
   "metadata": {},
   "outputs": [],
   "source": [
    "# Read the income statements\n",
    "base_url = 'https://www.alphavantage.co/query?'\n",
    "params = {'function': 'TIME_SERIES_DAILY',\n",
    "         'symbol': 'SAVE',\n",
    "         'output_format':'pandas',\n",
    "         'apikey':API_KEY}\n",
    "response = requests.get(base_url, params=params)\n",
    "savePrice = response.json()\n",
    "print(savePrice)"
   ]
  },
  {
   "cell_type": "markdown",
   "metadata": {},
   "source": [
    "## Get Information for a Single Stock starting with Balance Sheet Info\n",
    "'totalLiabilities', 'totalAssets', 'totalCurrentAssets', 'totalCurrentLiabilities', 'commmonStockTotalEquity', 'totalShareholderEquity', 'commonStockTotalEquity', 'preferredStockTotalEquity', 'commonStockSharesOutstanding', 'retainedEarnings'"
   ]
  },
  {
   "cell_type": "code",
   "execution_count": null,
   "metadata": {},
   "outputs": [],
   "source": [
    "stk = 'SAVE'\n",
    "base_url = 'https://www.alphavantage.co/query?'\n",
    "params = {'function': 'BALANCE_SHEET',\n",
    "         'symbol': stk, #test comment\n",
    "         'output_format':'pandas',\n",
    "         'apikey':API_KEY}\n",
    "response = requests.get(base_url, params=params)\n",
    "saveBalSheet = response.json()"
   ]
  },
  {
   "cell_type": "code",
   "execution_count": null,
   "metadata": {},
   "outputs": [],
   "source": [
    "saveBalSheetQuar = saveBalSheet['quarterlyReports'] #selects the quarterly balance sheet\n",
    "saveBalSheetQuar = pd.DataFrame(saveBalSheetQuar) #Converts from list into a pandas dataframe\n",
    "saveBalSheetQuar.index = saveBalSheetQuar['fiscalDateEnding']\n",
    "fiscalDateEnd = saveBalSheetQuar['fiscalDateEnding'] #Grabs all of the fiscal years for the data\n",
    "for date in fiscalDateEnd:\n",
    "    print(saveBalSheetQuar['totalAssets'][date])\n",
    "    \n",
    "#Makes call withoout needing inner for loop\n",
    "a = saveBalSheetQuar['totalAssets'][fiscalDateEnd]\n",
    "print(a)\n",
    "\n",
    "# Doing it using the two lines below does not work and would probably be awkward anyways\n",
    "#Needed = ['totalAssets','totalLiabilities']\n",
    "#b = saveBalSheetQuar[Needed][fiscalDateEnd]"
   ]
  },
  {
   "cell_type": "markdown",
   "metadata": {},
   "source": [
    "see link [here](https://medium.com/@rodwan.bakkar/initializing-pandas-dataframes-e49349306089)"
   ]
  },
  {
   "cell_type": "code",
   "execution_count": null,
   "metadata": {},
   "outputs": [],
   "source": [
    "needEnt = ['totalLiabilities', 'totalAssets', 'totalCurrentAssets', \n",
    "           'totalCurrentLiabilities', 'commmonStockTotalEquity', \n",
    "           'totalShareholderEquity', 'commonStockTotalEquity', \n",
    "           'preferredStockTotalEquity', 'commonStockSharesOutstanding',\n",
    "           'retainedEarnings']\n",
    "# Creates all the columns we need from the balance sheet for each of the quarters available\n",
    "columns = []\n",
    "for entry in needEnt:\n",
    "    columns = columns+[entry+' '+date for date in fiscalDateEnd]\n",
    "    \n",
    "print(columns)\n",
    "# list of the stocks I will be using for the demo\n",
    "stkList = ['SAVE','MSFT','DAL']\n",
    "\n",
    "# Initilize the DataFrame\n",
    "df = pd.DataFrame(columns=columns, \n",
    "                  index = stkList)\n",
    "\n",
    "print(df.columns)\n",
    "print(df)\n",
    "\n",
    "\n",
    "\n",
    "#for date in fiscalDateEnd:\n",
    "#    if date in saveBalSheetQuar.index:\n",
    "#        print(date)\n",
    "#appString = 'Earnings '\n",
    "#lFDE = [appString+s for s in lFDE]\n",
    "#stkEarn = pd.DataFrame(columns = lFDE)\n",
    "#print(stkEarn)\n",
    "        "
   ]
  },
  {
   "cell_type": "code",
   "execution_count": null,
   "metadata": {},
   "outputs": [],
   "source": []
  }
 ],
 "metadata": {
  "kernelspec": {
   "display_name": "Python 3",
   "language": "python",
   "name": "python3"
  },
  "language_info": {
   "codemirror_mode": {
    "name": "ipython",
    "version": 3
   },
   "file_extension": ".py",
   "mimetype": "text/x-python",
   "name": "python",
   "nbconvert_exporter": "python",
   "pygments_lexer": "ipython3",
   "version": "3.8.3"
  }
 },
 "nbformat": 4,
 "nbformat_minor": 4
}
