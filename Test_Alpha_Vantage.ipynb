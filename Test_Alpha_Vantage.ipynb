{
 "cells": [
  {
   "cell_type": "code",
   "execution_count": 1,
   "metadata": {},
   "outputs": [],
   "source": [
    "from alpha_vantage.timeseries import TimeSeries\n",
    "from alpha_vantage.techindicators import TechIndicators\n",
    "import pandas as pd\n",
    "import requests"
   ]
  },
  {
   "cell_type": "code",
   "execution_count": 2,
   "metadata": {},
   "outputs": [
    {
     "name": "stdout",
     "output_type": "stream",
     "text": [
      "Running 'caffeinate' on MacOSX to prevent the system from sleeping\n"
     ]
    }
   ],
   "source": [
    "import sys\n",
    "import subprocess\n",
    "\n",
    "if 'darwin' in sys.platform:\n",
    "    print('Running \\'caffeinate\\' on MacOSX to prevent the system from sleeping')\n",
    "    subprocess.Popen('caffeinate')"
   ]
  },
  {
   "cell_type": "code",
   "execution_count": 3,
   "metadata": {},
   "outputs": [],
   "source": [
    "import os\n",
    "import pandas as pd\n",
    "\n",
    "API_KEY = os.environ['ALPHAVANTAGE_API_KEY'] #Retrieves environemtnal variable holding the key location"
   ]
  },
  {
   "cell_type": "markdown",
   "metadata": {},
   "source": [
    "## To Get All Infor I would Need\n",
    "- 'INCOME_STATEMENT' (has an asset type, we want common stock)\n",
    "- 'EARNINGS'\n",
    "- 'OVERVIEW'\n",
    "- "
   ]
  },
  {
   "cell_type": "code",
   "execution_count": 31,
   "metadata": {},
   "outputs": [],
   "source": [
    "# Read the income statements\n",
    "base_url = 'https://www.alphavantage.co/query?'\n",
    "params = {'function': 'INCOME_STATEMENT',\n",
    "         'symbol': 'SAVE',\n",
    "         'output_format':'pandas',\n",
    "         'apikey':API_KEY}\n",
    "\n",
    "response = requests.get(base_url, params=params)\n",
    "saveIncome = response.json()\n",
    "\n",
    "params = {'function': 'BALANCE_SHEET',\n",
    "         'symbol': 'SAVE',\n",
    "         'output_format':'pandas',\n",
    "         'apikey':API_KEY}\n",
    "response = requests.get(base_url, params=params)\n",
    "saveBalSheet = response.json()\n",
    "\n",
    "params = {'function': 'CASH_FLOW',\n",
    "         'symbol': 'SAVE',\n",
    "         'output_format':'pandas',\n",
    "         'apikey':API_KEY}\n",
    "response = requests.get(base_url, params=params)\n",
    "saveCashFlow = response.json()"
   ]
  },
  {
   "cell_type": "code",
   "execution_count": 35,
   "metadata": {},
   "outputs": [
    {
     "name": "stdout",
     "output_type": "stream",
     "text": [
      "wait\n",
      "{'Note': 'Thank you for using Alpha Vantage! Our standard API call frequency is 5 calls per minute and 500 calls per day. Please visit https://www.alphavantage.co/premium/ if you would like to target a higher API call frequency.'}\n"
     ]
    }
   ],
   "source": [
    "if 'Note' in saveCashFlow:\n",
    "    print('wait')\n",
    "    print(saveCashFlow)"
   ]
  },
  {
   "cell_type": "code",
   "execution_count": 14,
   "metadata": {},
   "outputs": [
    {
     "name": "stdout",
     "output_type": "stream",
     "text": [
      "['2020-09-30', '2020-06-30', '2020-03-31', '2019-12-31', '2019-09-30', '2019-06-30', '2019-03-31', '2018-12-31', '2018-09-30', '2018-06-30', '2018-03-31', '2017-12-31', '2017-09-30', '2017-06-30', '2017-03-31', '2016-12-31', '2016-09-30', '2016-06-30', '2016-03-31', '2015-12-31', '2015-09-30']\n"
     ]
    }
   ],
   "source": [
    "quartIncome = saveIncome['quarterlyReports']\n",
    "quartIncome = pd.DataFrame(quartIncome)\n",
    "fDE = quartIncome['fiscalDateEnding']\n",
    "lFDE = list(fDE)\n",
    "print(lFDE)"
   ]
  },
  {
   "cell_type": "code",
   "execution_count": 29,
   "metadata": {},
   "outputs": [
    {
     "name": "stdout",
     "output_type": "stream",
     "text": [
      "Index(['fiscalDateEnding', 'reportedCurrency', 'totalRevenue',\n",
      "       'totalOperatingExpense', 'costOfRevenue', 'grossProfit', 'ebit',\n",
      "       'netIncome', 'researchAndDevelopment', 'effectOfAccountingCharges',\n",
      "       'incomeBeforeTax', 'minorityInterest', 'sellingGeneralAdministrative',\n",
      "       'otherNonOperatingIncome', 'operatingIncome', 'otherOperatingExpense',\n",
      "       'interestExpense', 'taxProvision', 'interestIncome',\n",
      "       'netInterestIncome', 'extraordinaryItems', 'nonRecurring', 'otherItems',\n",
      "       'incomeTaxExpense', 'totalOtherIncomeExpense', 'discontinuedOperations',\n",
      "       'netIncomeFromContinuingOperations',\n",
      "       'netIncomeApplicableToCommonShares',\n",
      "       'preferredStockAndOtherAdjustments'],\n",
      "      dtype='object')\n",
      "Index(['fiscalDateEnding', 'reportedCurrency', 'totalAssets',\n",
      "       'intangibleAssets', 'earningAssets', 'otherCurrentAssets',\n",
      "       'totalLiabilities', 'totalShareholderEquity',\n",
      "       'deferredLongTermLiabilities', 'otherCurrentLiabilities', 'commonStock',\n",
      "       'retainedEarnings', 'otherLiabilities', 'goodwill', 'otherAssets',\n",
      "       'cash', 'totalCurrentLiabilities', 'shortTermDebt',\n",
      "       'currentLongTermDebt', 'otherShareholderEquity',\n",
      "       'propertyPlantEquipment', 'totalCurrentAssets', 'longTermInvestments',\n",
      "       'netTangibleAssets', 'shortTermInvestments', 'netReceivables',\n",
      "       'longTermDebt', 'inventory', 'accountsPayable', 'totalPermanentEquity',\n",
      "       'additionalPaidInCapital', 'commonStockTotalEquity',\n",
      "       'preferredStockTotalEquity', 'retainedEarningsTotalEquity',\n",
      "       'treasuryStock', 'accumulatedAmortization', 'otherNonCurrrentAssets',\n",
      "       'deferredLongTermAssetCharges', 'totalNonCurrentAssets',\n",
      "       'capitalLeaseObligations', 'totalLongTermDebt',\n",
      "       'otherNonCurrentLiabilities', 'totalNonCurrentLiabilities',\n",
      "       'negativeGoodwill', 'warrants', 'preferredStockRedeemable',\n",
      "       'capitalSurplus', 'liabilitiesAndShareholderEquity',\n",
      "       'cashAndShortTermInvestments', 'accumulatedDepreciation',\n",
      "       'commonStockSharesOutstanding'],\n",
      "      dtype='object')\n",
      "Index(['fiscalDateEnding', 'reportedCurrency', 'investments',\n",
      "       'changeInLiabilities', 'cashflowFromInvestment',\n",
      "       'otherCashflowFromInvestment', 'netBorrowings', 'cashflowFromFinancing',\n",
      "       'otherCashflowFromFinancing', 'changeInOperatingActivities',\n",
      "       'netIncome', 'changeInCash', 'operatingCashflow',\n",
      "       'otherOperatingCashflow', 'depreciation', 'dividendPayout',\n",
      "       'stockSaleAndPurchase', 'changeInInventory',\n",
      "       'changeInAccountReceivables', 'changeInNetIncome',\n",
      "       'capitalExpenditures', 'changeInReceivables', 'changeInExchangeRate',\n",
      "       'changeInCashAndCashEquivalents'],\n",
      "      dtype='object')\n",
      "   fiscalDateEnding reportedCurrency investments changeInLiabilities  \\\n",
      "0        2020-09-30              USD   -55460000           -25160000   \n",
      "1        2020-06-30              USD    -3790000            41058000   \n",
      "2        2020-03-31              USD    -3296000           -60687000   \n",
      "3        2019-12-31              USD   -14773000           -46122000   \n",
      "4        2019-09-30              USD   -61597000           -42913000   \n",
      "5        2019-06-30              USD  -134508000            -8991000   \n",
      "6        2019-03-31              USD    -2667000            17169000   \n",
      "7        2018-12-31              USD    -3002000            26688000   \n",
      "8        2018-09-30              USD    -2309000          -140491000   \n",
      "9        2018-06-30              USD    -3052000           -14331000   \n",
      "10       2018-03-31              USD    -1849000           217489000   \n",
      "11       2017-12-31              USD    -4621000           -23406000   \n",
      "12       2017-09-30              USD    -2047000           -35587000   \n",
      "13       2017-06-30              USD    -5059000            14666000   \n",
      "14       2017-03-31              USD    -1918000           121442000   \n",
      "15       2016-12-31              USD    -4142000           -24250000   \n",
      "16       2016-09-30              USD  -102554000           -41588000   \n",
      "17       2016-06-30              USD    -1979000            10352000   \n",
      "18       2016-03-31              USD    -2575000            84472000   \n",
      "19       2015-12-31              USD   -10159000           -23933000   \n",
      "20       2015-09-30              USD        None           -60094000   \n",
      "\n",
      "   cashflowFromInvestment otherCashflowFromInvestment netBorrowings  \\\n",
      "0               -55460000                   -51145000     837436000   \n",
      "1              -133586000                  -129571000     380581000   \n",
      "2              -323768000                  -318415000     122725000   \n",
      "3              -156873000                  -122392000       9377000   \n",
      "4               -61597000                   -93374000    -133941000   \n",
      "5              -134508000                   -37913000     -13099000   \n",
      "6              -103951000                   -37913000      21406000   \n",
      "7              -233115000                   -43227000     265797000   \n",
      "8              -139758000                   -40092000      43915000   \n",
      "9              -130185000                   -41125000     169667000   \n",
      "10             -280650000                   -41580000     208080000   \n",
      "11             -233216000                   -27775000     176959000   \n",
      "12             -202934000                   -42345000     134724000   \n",
      "13             -196918000                   -34605000      98547000   \n",
      "14             -158935000                   -44752000     103017000   \n",
      "15             -162496000                   -64687000       3948000   \n",
      "16             -295322000                   -48488000      68024000   \n",
      "17             -155689000                   -10364000     216644000   \n",
      "18             -212762000                   -50358000      64131000   \n",
      "19             -161825000                   -54665000     109925000   \n",
      "20             -160323000                   -16687000     102908000   \n",
      "\n",
      "   cashflowFromFinancing otherCashflowFromFinancing  \\\n",
      "0              982883000                  -17570000   \n",
      "1              584362000                      53000   \n",
      "2               98454000                  -22751000   \n",
      "3                7228000                   -2066000   \n",
      "4             -130895000                    3154000   \n",
      "5              -12707000                     416000   \n",
      "6               16206000                      23000   \n",
      "7              266173000                     347000   \n",
      "8               43596000                    -163000   \n",
      "9              -35763000                 -205403000   \n",
      "10             207123000                    -201000   \n",
      "11             131617000                  -13740000   \n",
      "12             134719000                   -1732000   \n",
      "13              98393000                   -1890000   \n",
      "14             101983000                   -2274000   \n",
      "15               3855000                      27000   \n",
      "16              27926000                      14000   \n",
      "17             164238000                     267000   \n",
      "18              53840000                    -778000   \n",
      "19             109858000                      32000   \n",
      "20              70484000                     314000   \n",
      "\n",
      "   changeInOperatingActivities  ... depreciation dividendPayout  \\\n",
      "0                    -12101000  ...     71351000           None   \n",
      "1                     37180000  ...     71142000           None   \n",
      "2                   -113101000  ...     65991000           None   \n",
      "3                     71090000  ...     61913000           None   \n",
      "4                   -129275000  ...     57712000           None   \n",
      "5                    -83349000  ...     54913000           None   \n",
      "6                      4727000  ...     50726000           None   \n",
      "7                    -14163000  ...     47963000           None   \n",
      "8                    -96731000  ...     43773000           None   \n",
      "9                    -81656000  ...     45618000              0   \n",
      "10                    85423000  ...     39373000           None   \n",
      "11                  -135446000  ...     36472000           None   \n",
      "12                   -45286000  ...     36840000           None   \n",
      "13                   -14863000  ...     35331000              0   \n",
      "14                   -34774000  ...     31509000              0   \n",
      "15                   -76095000  ...     23929000              0   \n",
      "16                   -33001000  ...     26331000              0   \n",
      "17                   -33804000  ...     25799000              0   \n",
      "18                        None  ...     25077000              0   \n",
      "19                   -49317000  ...     22713000              0   \n",
      "20                        None  ...     19961000              0   \n",
      "\n",
      "   stockSaleAndPurchase changeInInventory changeInAccountReceivables  \\\n",
      "0                -43000              None                    4884000   \n",
      "1             203728000              None                  -22550000   \n",
      "2              -1520000              None                   39910000   \n",
      "3                -83000              None                   -2435000   \n",
      "4               -108000              None                    6753000   \n",
      "5                -25000              None                   -7180000   \n",
      "6              -5223000              None                  -23285000   \n",
      "7                 29000              None                   15865000   \n",
      "8               -156000              None                   -4979000   \n",
      "9                -27000                 0                   -6229000   \n",
      "10              -957000              None                   -2983000   \n",
      "11            -45342000              None                   -8134000   \n",
      "12                -5000              None                    1762000   \n",
      "13              -154000                 0                          0   \n",
      "14             -1034000                 0                          0   \n",
      "15              -120000                 0                  -12951000   \n",
      "16            -40112000                 0                          0   \n",
      "17            -52673000                 0                          0   \n",
      "18             -9513000                 0                          0   \n",
      "19               -99000                 0                   -5592000   \n",
      "20            -32738000                 0                          0   \n",
      "\n",
      "   changeInNetIncome capitalExpenditures changeInReceivables  \\\n",
      "0          -29597000            51145000             4884000   \n",
      "1           -2148000              225000           -22550000   \n",
      "2           39922000             2057000            39910000   \n",
      "3           33124000            81108000                None   \n",
      "4           57316000            34950000             6753000   \n",
      "5           36896000           132166000            -7180000   \n",
      "6           17067000            63371000           -23285000   \n",
      "7           30569000           186886000            15865000   \n",
      "8           42684000            97357000            -4979000   \n",
      "9            9635000            86008000            -6229000   \n",
      "10         -16370000           237221000            -2983000   \n",
      "11         -96550000           200820000            -3088000   \n",
      "12          43564000           158542000             1762000   \n",
      "13          48768000           157254000              718000   \n",
      "14          28254000           112265000            -7526000   \n",
      "15          18795000            93667000            -5111000   \n",
      "16          41185000           144280000             4822000   \n",
      "17          35636000           143346000            -8433000   \n",
      "18          39297000           159829000            -4229000   \n",
      "19         102673000            97001000             4782000   \n",
      "20          60898000           143636000            -2237000   \n",
      "\n",
      "   changeInExchangeRate changeInCashAndCashEquivalents  \n",
      "0                  None                      844997000  \n",
      "1                  None                      369235000  \n",
      "2                  None                     -190732000  \n",
      "3                  None                           None  \n",
      "4                  None                     -175119000  \n",
      "5                  None                      -11342000  \n",
      "6                  None                      117406000  \n",
      "7                  None                      231023000  \n",
      "8                  None                      -38652000  \n",
      "9                  None                      -86095000  \n",
      "10                 None                       97608000  \n",
      "11                 None                      -62831000  \n",
      "12                 None                       -5473000  \n",
      "13                 None                       51043000  \n",
      "14                 None                      117210000  \n",
      "15                 None                     -125004000  \n",
      "16                 None                     -188176000  \n",
      "17                 None                      111271000  \n",
      "18                 None                       99177000  \n",
      "19                 None                       54736000  \n",
      "20                 None                      -20428000  \n",
      "\n",
      "[21 rows x 24 columns]\n"
     ]
    },
    {
     "data": {
      "text/plain": [
       "'-25160000'"
      ]
     },
     "execution_count": 29,
     "metadata": {},
     "output_type": "execute_result"
    }
   ],
   "source": [
    "print(quartIncome.columns)\n",
    "\n",
    "quartBalSheet = saveBalSheet['quarterlyReports']\n",
    "quartBalSheet = pd.DataFrame(quartBalSheet)\n",
    "print(quartBalSheet.columns)\n",
    "\n",
    "quartCashFlow = saveCashFlow['quarterlyReports']\n",
    "quartCashFlow = pd.DataFrame(quartCashFlow)\n",
    "print(quartCashFlow.columns)\n",
    "print(quartCashFlow)\n",
    "quartCashFlow.index = quartCashFlow['fiscalDateEnding']\n",
    "\n",
    "#Things are actually acessed by inputting the column and then the row. Note vice versa.\n",
    "quartCashFlow['changeInLiabilities']['2020-09-30']"
   ]
  },
  {
   "cell_type": "code",
   "execution_count": 8,
   "metadata": {},
   "outputs": [
    {
     "name": "stdout",
     "output_type": "stream",
     "text": [
      "0      401922000\n",
      "1      138529000\n",
      "2      771081000\n",
      "3      969816000\n",
      "4      991968000\n",
      "5     1012956000\n",
      "6      855796000\n",
      "7      862795000\n",
      "8      904330000\n",
      "9      851771000\n",
      "10     704138000\n",
      "11     667007000\n",
      "12     687231000\n",
      "13     701682000\n",
      "14     591746000\n",
      "15     578351000\n",
      "16     621329000\n",
      "17     584133000\n",
      "18     538143000\n",
      "19     519846000\n",
      "20     574841000\n",
      "Name: totalRevenue, dtype: object\n",
      "0      -99140000\n",
      "1     -144428000\n",
      "2      -27828000\n",
      "3       81214000\n",
      "4       83464000\n",
      "5      114501000\n",
      "6       56076000\n",
      "7       91937000\n",
      "8       97480000\n",
      "9       11254000\n",
      "10     -44922000\n",
      "11     250338000\n",
      "12      60190000\n",
      "13      78143000\n",
      "14      31935000\n",
      "15      48493000\n",
      "16      81382000\n",
      "17      73084000\n",
      "18      61920000\n",
      "19      74400000\n",
      "20      97114000\n",
      "Name: netIncome, dtype: object\n"
     ]
    }
   ],
   "source": [
    "totRev = quartIncome['totalRevenue']\n",
    "netInc = quartIncome['netIncome']\n",
    "print(totRev)\n",
    "print(netInc[:])"
   ]
  },
  {
   "cell_type": "code",
   "execution_count": 12,
   "metadata": {},
   "outputs": [
    {
     "name": "stdout",
     "output_type": "stream",
     "text": [
      "Empty DataFrame\n",
      "Columns: [Earnings 2020-09-30, Earnings 2020-06-30, Earnings 2020-03-31, Earnings 2019-12-31, Earnings 2019-09-30, Earnings 2019-06-30, Earnings 2019-03-31, Earnings 2018-12-31, Earnings 2018-09-30, Earnings 2018-06-30, Earnings 2018-03-31, Earnings 2017-12-31, Earnings 2017-09-30, Earnings 2017-06-30, Earnings 2017-03-31, Earnings 2016-12-31, Earnings 2016-09-30, Earnings 2016-06-30, Earnings 2016-03-31, Earnings 2015-12-31, Earnings 2015-09-30]\n",
      "Index: []\n",
      "\n",
      "[0 rows x 21 columns]\n"
     ]
    }
   ],
   "source": [
    "appString = 'Earnings '\n",
    "lFDE = [appString+s for s in lFDE]\n",
    "stkEarn = pd.DataFrame(columns = lFDE)\n",
    "print(stkEarn)"
   ]
  },
  {
   "cell_type": "code",
   "execution_count": 13,
   "metadata": {},
   "outputs": [],
   "source": [
    "import numpy as np\n",
    "netInc = np.array(netInc)\n",
    "\n",
    "stkEarn = stkEarn.append(pd.Series(np.transpose(netInc),\n",
    "                                      index = stkEarn.columns),\n",
    "                            ignore_index=True)"
   ]
  },
  {
   "cell_type": "code",
   "execution_count": 14,
   "metadata": {},
   "outputs": [
    {
     "name": "stdout",
     "output_type": "stream",
     "text": [
      "  Earnings 2020-09-30 Earnings 2020-06-30 Earnings 2020-03-31  \\\n",
      "0           -99140000          -144428000           -27828000   \n",
      "\n",
      "  Earnings 2019-12-31 Earnings 2019-09-30 Earnings 2019-06-30  \\\n",
      "0            81214000            83464000           114501000   \n",
      "\n",
      "  Earnings 2019-03-31 Earnings 2018-12-31 Earnings 2018-09-30  \\\n",
      "0            56076000            91937000            97480000   \n",
      "\n",
      "  Earnings 2018-06-30  ... Earnings 2017-12-31 Earnings 2017-09-30  \\\n",
      "0            11254000  ...           250338000            60190000   \n",
      "\n",
      "  Earnings 2017-06-30 Earnings 2017-03-31 Earnings 2016-12-31  \\\n",
      "0            78143000            31935000            48493000   \n",
      "\n",
      "  Earnings 2016-09-30 Earnings 2016-06-30 Earnings 2016-03-31  \\\n",
      "0            81382000            73084000            61920000   \n",
      "\n",
      "  Earnings 2015-12-31 Earnings 2015-09-30  \n",
      "0            74400000            97114000  \n",
      "\n",
      "[1 rows x 21 columns]\n"
     ]
    }
   ],
   "source": [
    "print(stkEarn)"
   ]
  },
  {
   "cell_type": "code",
   "execution_count": 18,
   "metadata": {},
   "outputs": [
    {
     "name": "stdout",
     "output_type": "stream",
     "text": [
      "                 fiscalDateEnding reportedCurrency totalRevenue  \\\n",
      "fiscalDateEnding                                                  \n",
      "2020-09-30             2020-09-30              USD    401922000   \n",
      "2020-06-30             2020-06-30              USD    138529000   \n",
      "2020-03-31             2020-03-31              USD    771081000   \n",
      "2019-12-31             2019-12-31              USD    969816000   \n",
      "2019-09-30             2019-09-30              USD    991968000   \n",
      "2019-06-30             2019-06-30              USD   1012956000   \n",
      "2019-03-31             2019-03-31              USD    855796000   \n",
      "2018-12-31             2018-12-31              USD    862795000   \n",
      "2018-09-30             2018-09-30              USD    904330000   \n",
      "2018-06-30             2018-06-30              USD    851771000   \n",
      "2018-03-31             2018-03-31              USD    704138000   \n",
      "2017-12-31             2017-12-31              USD    667007000   \n",
      "2017-09-30             2017-09-30              USD    687231000   \n",
      "2017-06-30             2017-06-30              USD    701682000   \n",
      "2017-03-31             2017-03-31              USD    591746000   \n",
      "2016-12-31             2016-12-31              USD    578351000   \n",
      "2016-09-30             2016-09-30              USD    621329000   \n",
      "2016-06-30             2016-06-30              USD    584133000   \n",
      "2016-03-31             2016-03-31              USD    538143000   \n",
      "2015-12-31             2015-12-31              USD    519846000   \n",
      "2015-09-30             2015-09-30              USD    574841000   \n",
      "\n",
      "                 totalOperatingExpense costOfRevenue grossProfit        ebit  \\\n",
      "fiscalDateEnding                                                               \n",
      "2020-09-30                   649701000     548124000  -146202000   -30557000   \n",
      "2020-06-30                   480824000     328913000  -190384000  -188501000   \n",
      "2020-03-31                   829073000     829073000   -57992000   -54380000   \n",
      "2019-12-31                   843998000     681759000   288057000   180181000   \n",
      "2019-09-30                   853877000     680948000   311020000   188463000   \n",
      "2019-06-30                   847468000     682215000   330741000   225773000   \n",
      "2019-03-31                   767992000     621298000   855796000    94495000   \n",
      "2018-12-31                   726730000     557669000   862795000   141759000   \n",
      "2018-09-30                   759205000     587363000   904330000   147855000   \n",
      "2018-06-30                   743250000     575636000   851771000    33363000   \n",
      "2018-03-31                   742935000     519904000   704138000   -44065000   \n",
      "2017-12-31                   574461000     457668000   667007000    95391000   \n",
      "2017-09-30                   583127000     450179000   687231000   106595000   \n",
      "2017-06-30                   568946000     429164000   701682000   134460000   \n",
      "2017-03-31                   532341000     416522000   591746000    60715000   \n",
      "2016-12-31                   493040000     387315000   578351000    86231000   \n",
      "2016-09-30                   486113000     386754000   621329000   136258000   \n",
      "2016-06-30                   462298000     361249000   584133000   123125000   \n",
      "2016-03-31                   436844000     333274000   538143000   102795000   \n",
      "2015-12-31                   399509000     326131000   519846000   122185000   \n",
      "2015-09-30                   417622000     343629000   574841000   157286000   \n",
      "\n",
      "                   netIncome researchAndDevelopment effectOfAccountingCharges  \\\n",
      "fiscalDateEnding                                                                \n",
      "2020-09-30         -99140000                   None                      None   \n",
      "2020-06-30        -144428000                   None                      None   \n",
      "2020-03-31         -27828000                   None                      None   \n",
      "2019-12-31          81214000                   None                      None   \n",
      "2019-09-30          83464000                   None                      None   \n",
      "2019-06-30         114501000                   None                      None   \n",
      "2019-03-31          56076000                   None                      None   \n",
      "2018-12-31          91937000                      0                         0   \n",
      "2018-09-30          97480000                      0                         0   \n",
      "2018-06-30          11254000                      0                         0   \n",
      "2018-03-31         -44922000                      0                         0   \n",
      "2017-12-31         250338000                      0                         0   \n",
      "2017-09-30          60190000                      0                         0   \n",
      "2017-06-30          78143000                      0                         0   \n",
      "2017-03-31          31935000                      0                         0   \n",
      "2016-12-31          48493000                      0                         0   \n",
      "2016-09-30          81382000                      0                         0   \n",
      "2016-06-30          73084000                      0                         0   \n",
      "2016-03-31          61920000                      0                         0   \n",
      "2015-12-31          74400000                      0                         0   \n",
      "2015-09-30          97114000                      0                         0   \n",
      "\n",
      "                  ... netInterestIncome extraordinaryItems nonRecurring  \\\n",
      "fiscalDateEnding  ...                                                     \n",
      "2020-09-30        ...         -28972000               None         None   \n",
      "2020-06-30        ...         -22086000               None         None   \n",
      "2020-03-31        ...         -16621000               None         None   \n",
      "2019-12-31        ...         -17585000               None         None   \n",
      "2019-09-30        ...         -15446000               None     13410000   \n",
      "2019-06-30        ...         -15225000               None      1550000   \n",
      "2019-03-31        ...         -15490000               None      1913000   \n",
      "2018-12-31        ...              None                  0      3284000   \n",
      "2018-09-30        ...              None                  0       383000   \n",
      "2018-06-30        ...              None                  0      4818000   \n",
      "2018-03-31        ...              None                  0     90016000   \n",
      "2017-12-31        ...              None                  0      1054000   \n",
      "2017-09-30        ...              None                  0      8369000   \n",
      "2017-06-30        ...              None                  0      1493000   \n",
      "2017-03-31        ...              None                  0      5881000   \n",
      "2016-12-31        ...              None                  0      8601000   \n",
      "2016-09-30        ...              None                  0      7778000   \n",
      "2016-06-30        ...              None                  0      8581000   \n",
      "2016-03-31        ...              None                  0     16416000   \n",
      "2015-12-31        ...              None                  0       304000   \n",
      "2015-09-30        ...              None                  0       214000   \n",
      "\n",
      "                 otherItems incomeTaxExpense totalOtherIncomeExpense  \\\n",
      "fiscalDateEnding                                                       \n",
      "2020-09-30             None        -29380000               148231000   \n",
      "2020-06-30             None        -68108000               151845000   \n",
      "2020-03-31             None        -46766000                   19000   \n",
      "2019-12-31             None         25549000                -1470000   \n",
      "2019-09-30             None         25549000               -13632000   \n",
      "2019-06-30             None         34068000                -1694000   \n",
      "2019-03-31             None         16005000                -2146000   \n",
      "2018-12-31                0         28965000               -18447000   \n",
      "2018-09-30                0         31107000               -16921000   \n",
      "2018-06-30                0          3895000               -98190000   \n",
      "2018-03-31                0        -14740000              -110881000   \n",
      "2017-12-31                0       -167344000               -83032000   \n",
      "2017-09-30                0         34590000                39776000   \n",
      "2017-06-30                0         45913000                -1097000   \n",
      "2017-03-31                0         19887000                -7583000   \n",
      "2016-12-31                0         29214000               -58324000   \n",
      "2016-09-30                0         46581000                -1148000   \n",
      "2016-06-30                0         42646000                -2866000   \n",
      "2016-03-31                0         36140000                -3239000   \n",
      "2015-12-31                0         43746000                -6142000   \n",
      "2015-09-30                0         57251000                -1397000   \n",
      "\n",
      "                 discontinuedOperations netIncomeFromContinuingOperations  \\\n",
      "fiscalDateEnding                                                            \n",
      "2020-09-30                         None                         -99140000   \n",
      "2020-06-30                         None                        -144428000   \n",
      "2020-03-31                         None                         -27828000   \n",
      "2019-12-31                         None                          81214000   \n",
      "2019-09-30                         None                          83464000   \n",
      "2019-06-30                         None                         114501000   \n",
      "2019-03-31                         None                          56076000   \n",
      "2018-12-31                            0                          91937000   \n",
      "2018-09-30                            0                          97480000   \n",
      "2018-06-30                            0                          11254000   \n",
      "2018-03-31                            0                         -44922000   \n",
      "2017-12-31                            0                         250338000   \n",
      "2017-09-30                            0                          60190000   \n",
      "2017-06-30                            0                          78143000   \n",
      "2017-03-31                            0                          31935000   \n",
      "2016-12-31                            0                          48493000   \n",
      "2016-09-30                            0                          81382000   \n",
      "2016-06-30                            0                          73084000   \n",
      "2016-03-31                            0                          61920000   \n",
      "2015-12-31                            0                          74400000   \n",
      "2015-09-30                            0                          97114000   \n",
      "\n",
      "                 netIncomeApplicableToCommonShares  \\\n",
      "fiscalDateEnding                                     \n",
      "2020-09-30                               -99140000   \n",
      "2020-06-30                              -144428000   \n",
      "2020-03-31                               -27828000   \n",
      "2019-12-31                                81214000   \n",
      "2019-09-30                                83464000   \n",
      "2019-06-30                               114501000   \n",
      "2019-03-31                                56076000   \n",
      "2018-12-31                                91937000   \n",
      "2018-09-30                                97480000   \n",
      "2018-06-30                                11254000   \n",
      "2018-03-31                               -44922000   \n",
      "2017-12-31                               250338000   \n",
      "2017-09-30                                60190000   \n",
      "2017-06-30                                78143000   \n",
      "2017-03-31                                31935000   \n",
      "2016-12-31                                48493000   \n",
      "2016-09-30                                81382000   \n",
      "2016-06-30                                73084000   \n",
      "2016-03-31                                61920000   \n",
      "2015-12-31                                74400000   \n",
      "2015-09-30                                97114000   \n",
      "\n",
      "                 preferredStockAndOtherAdjustments  \n",
      "fiscalDateEnding                                    \n",
      "2020-09-30                                    None  \n",
      "2020-06-30                                    None  \n",
      "2020-03-31                                    None  \n",
      "2019-12-31                                    None  \n",
      "2019-09-30                                    None  \n",
      "2019-06-30                                    None  \n",
      "2019-03-31                                    None  \n",
      "2018-12-31                                    None  \n",
      "2018-09-30                                    None  \n",
      "2018-06-30                                    None  \n",
      "2018-03-31                                    None  \n",
      "2017-12-31                                    None  \n",
      "2017-09-30                                    None  \n",
      "2017-06-30                                    None  \n",
      "2017-03-31                                    None  \n",
      "2016-12-31                                    None  \n",
      "2016-09-30                                    None  \n",
      "2016-06-30                                    None  \n",
      "2016-03-31                                    None  \n",
      "2015-12-31                                    None  \n",
      "2015-09-30                                    None  \n",
      "\n",
      "[21 rows x 29 columns]\n"
     ]
    },
    {
     "data": {
      "text/plain": [
       "'401922000'"
      ]
     },
     "execution_count": 18,
     "metadata": {},
     "output_type": "execute_result"
    }
   ],
   "source": [
    "quartIncome.index = quartIncome['fiscalDateEnding']\n",
    "print(quartIncome)\n",
    "quartIncome['totalRevenue']['2020-09-30']"
   ]
  },
  {
   "cell_type": "code",
   "execution_count": 14,
   "metadata": {},
   "outputs": [
    {
     "name": "stdout",
     "output_type": "stream",
     "text": [
      "      A     B    C\n",
      "0     0   NaN  NaN\n",
      "1  None  36.0  NaN\n",
      "2     1  87.0  0.0\n"
     ]
    }
   ],
   "source": [
    "import pandas as pd\n",
    "A = [0,'None',1]\n",
    "B = [None,36,87]\n",
    "C = [None,None,0]\n",
    "\n",
    "#Ill just loop over all the columns in the dataset and create my dataframe this way. That way in for loops\n",
    "# I can simply \n",
    "testDF = pd.DataFrame()\n",
    "testDF['A'] = A\n",
    "testDF['B'] = B\n",
    "testDF['C'] = C\n",
    "\n",
    "print(testDF)"
   ]
  },
  {
   "cell_type": "code",
   "execution_count": 15,
   "metadata": {},
   "outputs": [
    {
     "data": {
      "text/plain": [
       "0"
      ]
     },
     "execution_count": 15,
     "metadata": {},
     "output_type": "execute_result"
    }
   ],
   "source": [
    "#More efficient way to \n",
    "testDF['A'][0]"
   ]
  },
  {
   "cell_type": "code",
   "execution_count": null,
   "metadata": {},
   "outputs": [],
   "source": [
    "# EPS increase can be a useful measure of measuring earnings growth"
   ]
  },
  {
   "cell_type": "markdown",
   "metadata": {},
   "source": [
    "# Things to Include\n",
    "- Something to quantify Free Cash Flow changes [FCF](https://www.investopedia.com/articles/fundamental-analysis/09/five-must-have-metrics-value-investors.asp) According to investopedia increases in FCF can signal a company finding cost cutting methods or increasing sales and is usually indicitive of future increases. I'll plan to look at this quarter by quarter and see how it inreases or decreases (in percentage) from quarter to quarter\n",
    "- PE in order to calculate this TTM I will need to have quarterly earnings statements for 12 monthes back\n",
    "- Debt to equity ratio [D/E](https://www.investopedia.com/terms/d/debtequityratio.asp) total liabilities/shareholder equity\n",
    "- Price to book ratio and Tangible price to book ratio [TPBR](https://www.investopedia.com/terms/p/price-to-bookratio.asp)\n",
    "- To calculate book value [Book Value Calc](https://www.investopedia.com/terms/b/bookvalue.asp) Do shareholder equity - preferred stock / total shares of common stock\n",
    "- [PEG ration](https://www.investopedia.com/terms/p/pegratio.asp)\n",
    "- PE ratio\n",
    "- Current Ratio\n",
    "- EPS\n",
    "- EPS growth\n",
    "- Current Ratio\n",
    "- Debt Load"
   ]
  },
  {
   "cell_type": "markdown",
   "metadata": {},
   "source": [
    "# Calculating TTM Earnings\n",
    "- Easiest [tutorial](https://stockanalysis.com/term/ttm-trailing-twelve-months/) I could find for doing this. All you do is add up earnings for last twelve monthes"
   ]
  },
  {
   "cell_type": "markdown",
   "metadata": {},
   "source": [
    "# Test Script\n",
    "- Step one list ten stocks in the example script"
   ]
  },
  {
   "cell_type": "code",
   "execution_count": 17,
   "metadata": {},
   "outputs": [],
   "source": [
    "stkLst = ['SAVE','DAL','MRO','MSFT','NCLH','AAL','AAPL','LUV','F','TSLA']"
   ]
  },
  {
   "cell_type": "code",
   "execution_count": 28,
   "metadata": {},
   "outputs": [
    {
     "name": "stdout",
     "output_type": "stream",
     "text": [
      "{'Note': 'Thank you for using Alpha Vantage! Our standard API call frequency is 5 calls per minute and 500 calls per day. Please visit https://www.alphavantage.co/premium/ if you would like to target a higher API call frequency.'}\n"
     ]
    }
   ],
   "source": [
    "for stk in stkLst:\n",
    "    # Read the income statements\n",
    "    base_url = 'https://www.alphavantage.co/query?'\n",
    "    params = {'function': 'BALANCE_SHEET',\n",
    "             'symbol': stk,\n",
    "             'output_format':'pandas',\n",
    "             'apikey':API_KEY}\n",
    "\n",
    "    response = requests.get(base_url, params=params)\n",
    "    saveIncome = response.json()\n",
    "print(saveIncome)"
   ]
  },
  {
   "cell_type": "markdown",
   "metadata": {},
   "source": [
    "# API Rate Limiting\n",
    "In the cell above the final print will show a note from Alpha Vantage stating that the number of API requests for the minute has been exceeded. A simple way to get around this would be to have the computer continue requesting information again and again in the for loop but this would lead to a lot of unnecessary looping when I could just have the computer sleep after the requests per minute have been exceeded"
   ]
  },
  {
   "cell_type": "code",
   "execution_count": 62,
   "metadata": {},
   "outputs": [],
   "source": [
    "#Quick experiment with the date time library. \n",
    "import datetime\n",
    "a = datetime.datetime.now() #Returns a datetime object which gives the (year,month,day,hour,minute,second,microsecond)"
   ]
  },
  {
   "cell_type": "code",
   "execution_count": 74,
   "metadata": {},
   "outputs": [
    {
     "name": "stdout",
     "output_type": "stream",
     "text": [
      "2020-12-20 23:03:55.866867\n",
      "2020-12-20 23:23:46.742877\n",
      "a<b\n",
      "0:19:50.876010\n"
     ]
    }
   ],
   "source": [
    "b = datetime.datetime.now() #This should ideally be called a couple seconds or so after a is called\n",
    "print(a)\n",
    "print(b)\n",
    "if a < b: #The datetime objects can be compared quite easily\n",
    "    print('a<b')\n",
    "    \n",
    "c = b-a\n",
    "print(c)"
   ]
  },
  {
   "cell_type": "code",
   "execution_count": 77,
   "metadata": {},
   "outputs": [],
   "source": [
    "import time as tm\n",
    "a = tm.time_ns()\n",
    "b = tm.time_ns() #returns the time(ns) since the epoch (sometime in 1970)"
   ]
  },
  {
   "cell_type": "code",
   "execution_count": 20,
   "metadata": {},
   "outputs": [],
   "source": [
    "import time\n",
    "import datetime\n",
    "\n",
    "class Throttler(object):\n",
    "\n",
    "    def __init__(self, max_rate, window, throttle_stop=False):\n",
    "        # Dict of max number of requests of the API rate limit for each source\n",
    "        self.max_rate = max_rate\n",
    "        # Dict of duration of the API rate limit for each source in seconds\n",
    "        self.window = window\n",
    "        # Whether to throw an error (when True) if the limit is reached, or wait until another request\n",
    "        self.throttle_stop = throttle_stop\n",
    "        # Initialization\n",
    "        self.next_reset_at = dict()\n",
    "        self.num_requests = dict()\n",
    "\n",
    "        now = datetime.datetime.now()\n",
    "        #Initializes the next reset time and sets number of requests equal to 0 \n",
    "        for source in self.max_rate:\n",
    "            self.next_reset_at[source] = now + datetime.timedelta(seconds=self.window.get(source))\n",
    "            self.num_requests[source] = 0\n",
    "            \n",
    "    def request(self, source):\n",
    "            now = datetime.datetime.now()\n",
    "            \n",
    "            #Resets the count if the time limit has passed\n",
    "            if now > self.next_reset_at.get(source):\n",
    "                self.num_requests[source] = 0\n",
    "                self.next_reset_at[source] = now + datetime.timedelta(seconds=self.window.get(source))\n",
    "\n",
    "            # throttle request\n",
    "            def halt(wait_time):\n",
    "                if self.throttle_stop:\n",
    "                    # If the throttle_stop flag is true this will stop the for loop and throw an error\n",
    "                    raise TooManyRequestsError()\n",
    "                else:\n",
    "                    # Wait the required time, plus a bit of extra padding time.\n",
    "                    time.sleep(wait_time)\n",
    "\n",
    "            # if exceed max rate, need to wait\n",
    "            if self.num_requests.get(source) >= self.max_rate.get(source):\n",
    "                wait = (self.next_reset_at.get(source) - now).seconds\n",
    "                halt(wait)\n",
    "\n",
    "            self.num_requests[source] += 1\n",
    "            return \n",
    "    "
   ]
  },
  {
   "cell_type": "markdown",
   "metadata": {},
   "source": [
    "- explanation of the self keyword [self](https://www.tutorialspoint.com/self-in-python-class)"
   ]
  },
  {
   "cell_type": "code",
   "execution_count": 21,
   "metadata": {},
   "outputs": [],
   "source": [
    "SOURCE = 'AV_API'\n",
    "MAX_RATE = {SOURCE:5}\n",
    "WINDOW = {SOURCE:60}\n",
    "\n",
    "AVThrottler = Throttler(MAX_RATE,WINDOW)\n",
    "AVThrottler.request(SOURCE)\n",
    "AVThrottler.request(SOURCE)"
   ]
  },
  {
   "cell_type": "markdown",
   "metadata": {},
   "source": [
    "With  the throttler defined above I will just have to call the request function before every API request. This time when I use the same for loop as above rather than printing the Alpha Vantage Note it posts the correct stock information"
   ]
  },
  {
   "cell_type": "code",
   "execution_count": 23,
   "metadata": {},
   "outputs": [
    {
     "name": "stdout",
     "output_type": "stream",
     "text": [
      "{'symbol': 'TSLA', 'annualEarnings': [{'fiscalDateEnding': '2020-09-30', 'reportedEPS': '1.4241'}, {'fiscalDateEnding': '2019-12-31', 'reportedEPS': '-0.0192'}, {'fiscalDateEnding': '2018-12-31', 'reportedEPS': '-0.316'}, {'fiscalDateEnding': '2017-12-31', 'reportedEPS': '-1.724'}, {'fiscalDateEnding': '2016-12-31', 'reportedEPS': '-0.322'}, {'fiscalDateEnding': '2015-12-31', 'reportedEPS': '-0.516'}, {'fiscalDateEnding': '2014-12-31', 'reportedEPS': '0.024'}, {'fiscalDateEnding': '2013-12-31', 'reportedEPS': '0.41'}, {'fiscalDateEnding': '2012-12-31', 'reportedEPS': '-3.22'}, {'fiscalDateEnding': '2011-12-31', 'reportedEPS': '-2.21'}, {'fiscalDateEnding': '2010-12-31', 'reportedEPS': '-0.9212'}], 'quarterlyEarnings': [{'fiscalDateEnding': '2020-09-30', 'reportedDate': '2020-10-21', 'reportedEPS': '0.76', 'estimatedEPS': '0.6042', 'surprise': '0.1558', 'surprisePercentage': '25.7862'}, {'fiscalDateEnding': '2020-06-30', 'reportedDate': '2020-07-22', 'reportedEPS': '0.436', 'estimatedEPS': '-0.0321', 'surprise': '0.4681', 'surprisePercentage': '1458.2555'}, {'fiscalDateEnding': '2020-03-31', 'reportedDate': '2020-04-29', 'reportedEPS': '0.2281', 'estimatedEPS': '-0.0415', 'surprise': '0.2696', 'surprisePercentage': '649.6386'}, {'fiscalDateEnding': '2019-12-31', 'reportedDate': '2020-01-29', 'reportedEPS': '0.4128', 'estimatedEPS': '0.3506', 'surprise': '0.0622', 'surprisePercentage': '17.741'}, {'fiscalDateEnding': '2019-09-30', 'reportedDate': '2019-10-23', 'reportedEPS': '0.372', 'estimatedEPS': '-0.0463', 'surprise': '0.4183', 'surprisePercentage': '903.4557'}, {'fiscalDateEnding': '2019-06-30', 'reportedDate': '2019-07-24', 'reportedEPS': '-0.224', 'estimatedEPS': '-0.0794', 'surprise': '-0.1446', 'surprisePercentage': '-182.1159'}, {'fiscalDateEnding': '2019-03-31', 'reportedDate': '2019-04-24', 'reportedEPS': '-0.58', 'estimatedEPS': '-0.1873', 'surprise': '-0.3927', 'surprisePercentage': '-209.6636'}, {'fiscalDateEnding': '2018-12-31', 'reportedDate': '2019-01-30', 'reportedEPS': '0.386', 'estimatedEPS': '0.4035', 'surprise': '-0.0175', 'surprisePercentage': '-4.3371'}, {'fiscalDateEnding': '2018-09-30', 'reportedDate': '2018-10-24', 'reportedEPS': '0.58', 'estimatedEPS': '-0.0181', 'surprise': '0.5981', 'surprisePercentage': '3304.4199'}, {'fiscalDateEnding': '2018-06-30', 'reportedDate': '2018-08-01', 'reportedEPS': '-0.612', 'estimatedEPS': '-0.5639', 'surprise': '-0.0481', 'surprisePercentage': '-8.5299'}, {'fiscalDateEnding': '2018-03-31', 'reportedDate': '2018-05-02', 'reportedEPS': '-0.67', 'estimatedEPS': '-0.7051', 'surprise': '0.0351', 'surprisePercentage': '4.978'}, {'fiscalDateEnding': '2017-12-31', 'reportedDate': '2018-02-07', 'reportedEPS': '-0.608', 'estimatedEPS': '-0.6297', 'surprise': '0.0217', 'surprisePercentage': '3.4461'}, {'fiscalDateEnding': '2017-09-30', 'reportedDate': '2017-11-01', 'reportedEPS': '-0.584', 'estimatedEPS': '-0.458', 'surprise': '-0.126', 'surprisePercentage': '-27.5109'}, {'fiscalDateEnding': '2017-06-30', 'reportedDate': '2017-08-02', 'reportedEPS': '-0.266', 'estimatedEPS': '-0.3837', 'surprise': '0.1177', 'surprisePercentage': '30.675'}, {'fiscalDateEnding': '2017-03-31', 'reportedDate': '2017-05-03', 'reportedEPS': '-0.266', 'estimatedEPS': '-0.1603', 'surprise': '-0.1057', 'surprisePercentage': '-65.9389'}, {'fiscalDateEnding': '2016-12-31', 'reportedDate': '2017-02-22', 'reportedEPS': '-0.138', 'estimatedEPS': '-0.0981', 'surprise': '-0.0399', 'surprisePercentage': '-40.6728'}, {'fiscalDateEnding': '2016-09-30', 'reportedDate': '2016-10-26', 'reportedEPS': '0.142', 'estimatedEPS': '0.0045', 'surprise': '0.1375', 'surprisePercentage': '3055.5556'}, {'fiscalDateEnding': '2016-06-30', 'reportedDate': '2016-08-03', 'reportedEPS': '-0.212', 'estimatedEPS': '-0.1246', 'surprise': '-0.0874', 'surprisePercentage': '-70.1445'}, {'fiscalDateEnding': '2016-03-31', 'reportedDate': '2016-05-04', 'reportedEPS': '-0.114', 'estimatedEPS': '-0.1344', 'surprise': '0.0204', 'surprisePercentage': '15.1786'}, {'fiscalDateEnding': '2015-12-31', 'reportedDate': '2016-02-10', 'reportedEPS': '-0.174', 'estimatedEPS': '0.0219', 'surprise': '-0.1959', 'surprisePercentage': '-894.5205'}, {'fiscalDateEnding': '2015-09-30', 'reportedDate': '2015-11-03', 'reportedEPS': '-0.174', 'estimatedEPS': '-0.1', 'surprise': '-0.074', 'surprisePercentage': '-74'}, {'fiscalDateEnding': '2015-06-30', 'reportedDate': '2015-08-05', 'reportedEPS': '-0.096', 'estimatedEPS': '-0.12', 'surprise': '0.024', 'surprisePercentage': '20'}, {'fiscalDateEnding': '2015-03-31', 'reportedDate': '2015-05-06', 'reportedEPS': '-0.072', 'estimatedEPS': '-0.1', 'surprise': '0.028', 'surprisePercentage': '28'}, {'fiscalDateEnding': '2014-12-31', 'reportedDate': '2015-02-11', 'reportedEPS': '-0.026', 'estimatedEPS': '0.062', 'surprise': '-0.088', 'surprisePercentage': '-141.9355'}, {'fiscalDateEnding': '2014-09-30', 'reportedDate': '2014-11-05', 'reportedEPS': '0.004', 'estimatedEPS': '-0.002', 'surprise': '0.006', 'surprisePercentage': '300'}, {'fiscalDateEnding': '2014-06-30', 'reportedDate': '2014-07-31', 'reportedEPS': '0.022', 'estimatedEPS': '0.008', 'surprise': '0.014', 'surprisePercentage': '175'}, {'fiscalDateEnding': '2014-03-31', 'reportedDate': '2014-05-07', 'reportedEPS': '0.024', 'estimatedEPS': '0.02', 'surprise': '0.004', 'surprisePercentage': '20'}, {'fiscalDateEnding': '2013-12-31', 'reportedDate': '2014-02-19', 'reportedEPS': '0.066', 'estimatedEPS': '0.042', 'surprise': '0.024', 'surprisePercentage': '57.1429'}, {'fiscalDateEnding': '2013-09-30', 'reportedDate': '2013-11-05', 'reportedEPS': '0.024', 'estimatedEPS': '0.022', 'surprise': '0.002', 'surprisePercentage': '9.0909'}, {'fiscalDateEnding': '2013-06-30', 'reportedDate': '2013-08-07', 'reportedEPS': '0.2', 'estimatedEPS': '-0.17', 'surprise': '0.37', 'surprisePercentage': '217.6471'}, {'fiscalDateEnding': '2013-03-31', 'reportedDate': '2013-05-08', 'reportedEPS': '0.12', 'estimatedEPS': '0.04', 'surprise': '0.08', 'surprisePercentage': '200'}, {'fiscalDateEnding': '2012-12-31', 'reportedDate': '2013-02-20', 'reportedEPS': '-0.65', 'estimatedEPS': '-0.53', 'surprise': '-0.12', 'surprisePercentage': '-22.6415'}, {'fiscalDateEnding': '2012-09-30', 'reportedDate': '2012-11-05', 'reportedEPS': '-0.92', 'estimatedEPS': '-0.9', 'surprise': '-0.02', 'surprisePercentage': '-2.2222'}, {'fiscalDateEnding': '2012-06-30', 'reportedDate': '2012-07-25', 'reportedEPS': '-0.89', 'estimatedEPS': '-0.92', 'surprise': '0.03', 'surprisePercentage': '3.2609'}, {'fiscalDateEnding': '2012-03-31', 'reportedDate': '2012-05-09', 'reportedEPS': '-0.76', 'estimatedEPS': '-0.69', 'surprise': '-0.07', 'surprisePercentage': '-10.1449'}, {'fiscalDateEnding': '2011-12-31', 'reportedDate': '2012-02-15', 'reportedEPS': '-0.69', 'estimatedEPS': '-0.63', 'surprise': '-0.06', 'surprisePercentage': '-9.5238'}, {'fiscalDateEnding': '2011-09-30', 'reportedDate': '2011-11-02', 'reportedEPS': '-0.55', 'estimatedEPS': '-0.59', 'surprise': '0.04', 'surprisePercentage': '6.7797'}, {'fiscalDateEnding': '2011-06-30', 'reportedDate': '2011-08-03', 'reportedEPS': '-0.53', 'estimatedEPS': '-0.51', 'surprise': '-0.02', 'surprisePercentage': '-3.9216'}, {'fiscalDateEnding': '2011-03-31', 'reportedDate': '2011-05-04', 'reportedEPS': '-0.44', 'estimatedEPS': '-0.51', 'surprise': '0.07', 'surprisePercentage': '13.7255'}, {'fiscalDateEnding': '2010-12-31', 'reportedDate': '2011-02-15', 'reportedEPS': '-0.47', 'estimatedEPS': '-0.5', 'surprise': '0.03', 'surprisePercentage': '6'}, {'fiscalDateEnding': '2010-09-30', 'reportedDate': '2010-11-09', 'reportedEPS': '-0.37', 'estimatedEPS': '-0.43', 'surprise': '0.06', 'surprisePercentage': '13.9535'}, {'fiscalDateEnding': '2010-06-30', 'reportedDate': '2010-08-05', 'reportedEPS': '-0.0812', 'estimatedEPS': 'None', 'surprise': 'None', 'surprisePercentage': 'None'}]}\n"
     ]
    }
   ],
   "source": [
    "for stk in stkLst:\n",
    "    # Read the income statements\n",
    "    base_url = 'https://www.alphavantage.co/query?'\n",
    "    params = {'function': 'EARNINGS',\n",
    "             'symbol': stk,\n",
    "             'output_format':'pandas',\n",
    "             'apikey':API_KEY}\n",
    "\n",
    "    AVThrottler.request(SOURCE)\n",
    "    response = requests.get(base_url, params=params)\n",
    "    saveIncome = response.json()\n",
    "print(saveIncome)"
   ]
  },
  {
   "cell_type": "markdown",
   "metadata": {},
   "source": [
    "## Whats Needed\n",
    "- Free Cash Flow (FCF) need capital expenditures (Provided quarterly in Cash Flow call) and operating cash flow (also from Cash Flow Call) \n",
    "- PE ratio: I will need the price and the 12 monthes TTM (to get this I will call\n",
    "\n",
    "\n",
    "## Whats Columns Included In Each Call\n",
    "## Earnings\n",
    "- Earnings: Quarterly, Annual, {'fiscalDateEnding', 'reportedDate', 'reportedEPS', 'estimatedEPS','surprise', 'surprisePercentage', dtype='object'}  \n",
    "\n",
    " \n",
    " ## Income Statement\n",
    "- Income Statment:  Quarterly, Annual, {'fiscalDateEnding', 'reportedCurrency', 'totalRevenue', 'totalOperatingExpense', 'costOfRevenue', 'grossProfit', 'ebit', 'netIncome', 'researchAndDevelopment', 'effectOfAccountingCharges', 'incomeBeforeTax', 'minorityInterest', 'sellingGeneralAdministrative', 'otherNonOperatingIncome', 'operatingIncome', 'otherOperatingExpense', 'interestExpense', 'taxProvision', 'interestIncome', 'netInterestIncome', 'extraordinaryItems', 'nonRecurring', 'otherItems', 'incomeTaxExpense', 'totalOtherIncomeExpense', 'discontinuedOperations', 'netIncomeFromContinuingOperations', 'netIncomeApplicableToCommonShares', 'preferredStockAndOtherAdjustments'}  \n",
    "   \n",
    "## Cash Flow  \n",
    "- Cash Flow: Quarterly, Annual, {'fiscalDateEnding', 'reportedCurrency', 'investments', 'changeInLiabilities', 'cashflowFromInvestment', 'otherCashflowFromInvestment', 'netBorrowings', 'cashflowFromFinancing', 'otherCashflowFromFinancing', 'changeInOperatingActivities', 'netIncome', 'changeInCash', 'operatingCashflow', 'otherOperatingCashflow', 'depreciation', 'dividendPayout', 'stockSaleAndPurchase', 'changeInInventory', 'changeInAccountReceivables', 'changeInNetIncome', 'capitalExpenditures', 'changeInReceivables', 'changeInExchangeRate', 'changeInCashAndCashEquivalents'}\n",
    "  \n",
    "## Balance Sheet \n",
    "-  Quarterly, Annual, {'fiscalDateEnding', 'reportedCurrency', 'totalAssets', 'intangibleAssets', 'earningAssets', 'otherCurrentAssets', 'totalLiabilities', 'totalShareholderEquity', 'deferredLongTermLiabilities', 'otherCurrentLiabilities', 'commonStock', 'retainedEarnings', 'otherLiabilities', 'goodwill', 'otherAssets', 'cash', 'totalCurrentLiabilities', 'shortTermDebt', 'currentLongTermDebt', 'otherShareholderEquity', 'propertyPlantEquipment', 'totalCurrentAssets', 'longTermInvestments', 'netTangibleAssets', 'shortTermInvestments', 'netReceivables', 'longTermDebt', 'inventory', 'accountsPayable', 'totalPermanentEquity', 'additionalPaidInCapital', 'commonStockTotalEquity', 'preferredStockTotalEquity', 'retainedEarningsTotalEquity', 'treasuryStock', 'accumulatedAmortization', 'otherNonCurrrentAssets', 'deferredLongTermAssetCharges', 'totalNonCurrentAssets', 'capitalLeaseObligations', 'totalLongTermDebt', 'otherNonCurrentLiabilities', 'totalNonCurrentLiabilities', 'negativeGoodwill', 'warrants', 'preferredStockRedeemable', 'capitalSurplus', 'liabilitiesAndShareholderEquity', 'cashAndShortTermInvestments', 'accumulatedDepreciation', 'commonStockSharesOutstanding'"
   ]
  },
  {
   "cell_type": "code",
   "execution_count": 33,
   "metadata": {
    "scrolled": true
   },
   "outputs": [
    {
     "name": "stdout",
     "output_type": "stream",
     "text": [
      "Index(['fiscalDateEnding', 'reportedCurrency', 'totalAssets',\n",
      "       'intangibleAssets', 'earningAssets', 'otherCurrentAssets',\n",
      "       'totalLiabilities', 'totalShareholderEquity',\n",
      "       'deferredLongTermLiabilities', 'otherCurrentLiabilities', 'commonStock',\n",
      "       'retainedEarnings', 'otherLiabilities', 'goodwill', 'otherAssets',\n",
      "       'cash', 'totalCurrentLiabilities', 'shortTermDebt',\n",
      "       'currentLongTermDebt', 'otherShareholderEquity',\n",
      "       'propertyPlantEquipment', 'totalCurrentAssets', 'longTermInvestments',\n",
      "       'netTangibleAssets', 'shortTermInvestments', 'netReceivables',\n",
      "       'longTermDebt', 'inventory', 'accountsPayable', 'totalPermanentEquity',\n",
      "       'additionalPaidInCapital', 'commonStockTotalEquity',\n",
      "       'preferredStockTotalEquity', 'retainedEarningsTotalEquity',\n",
      "       'treasuryStock', 'accumulatedAmortization', 'otherNonCurrrentAssets',\n",
      "       'deferredLongTermAssetCharges', 'totalNonCurrentAssets',\n",
      "       'capitalLeaseObligations', 'totalLongTermDebt',\n",
      "       'otherNonCurrentLiabilities', 'totalNonCurrentLiabilities',\n",
      "       'negativeGoodwill', 'warrants', 'preferredStockRedeemable',\n",
      "       'capitalSurplus', 'liabilitiesAndShareholderEquity',\n",
      "       'cashAndShortTermInvestments', 'accumulatedDepreciation',\n",
      "       'commonStockSharesOutstanding'],\n",
      "      dtype='object')\n"
     ]
    }
   ],
   "source": [
    "\n",
    "# Read the income statements\n",
    "base_url = 'https://www.alphavantage.co/query?'\n",
    "params = {'function': 'BALANCE_SHEET',\n",
    "         'symbol': 'SAVE',\n",
    "         'output_format':'pandas',\n",
    "         'apikey':API_KEY}\n",
    "\n",
    "response = requests.get(base_url, params=params)\n",
    "saveIncome = response.json()\n",
    "quarterly = saveIncome['quarterlyReports']\n",
    "quarterly = pd.DataFrame(quarterly)\n",
    "print(quarterly.columns)"
   ]
  },
  {
   "cell_type": "code",
   "execution_count": 27,
   "metadata": {},
   "outputs": [
    {
     "name": "stdout",
     "output_type": "stream",
     "text": [
      "Index(['fiscalDateEnding', 'reportedDate', 'reportedEPS', 'estimatedEPS',\n",
      "       'surprise', 'surprisePercentage'],\n",
      "      dtype='object')\n"
     ]
    }
   ],
   "source": [
    "# Read the income statements\n",
    "base_url = 'https://www.alphavantage.co/query?'\n",
    "params = {'function': 'EARNINGS',\n",
    "         'symbol': 'SAVE',\n",
    "         'output_format':'pandas',\n",
    "         'apikey':API_KEY}\n",
    "\n",
    "response = requests.get(base_url, params=params)\n",
    "saveIncome = response.json()\n",
    "quarterly = saveIncome['quarterlyEarnings']\n",
    "quarterly = pd.DataFrame(quarterly)\n",
    "print(quarterly.columns)"
   ]
  },
  {
   "cell_type": "code",
   "execution_count": 31,
   "metadata": {},
   "outputs": [
    {
     "name": "stdout",
     "output_type": "stream",
     "text": [
      "{'symbol': 'SAVE', 'annualReports': [{'fiscalDateEnding': '2019-12-31', 'reportedCurrency': 'USD', 'totalAssets': '7043412000', 'intangibleAssets': 'None', 'earningAssets': 'None', 'otherCurrentAssets': '105206000', 'totalLiabilities': '4782080000', 'totalShareholderEquity': '2261332000', 'deferredLongTermLiabilities': '361603000', 'otherCurrentLiabilities': '315408000', 'commonStock': '7000', 'retainedEarnings': '1955187000', 'otherLiabilities': '491569000', 'goodwill': 'None', 'otherAssets': '758112000', 'cash': '978957000', 'totalCurrentLiabilities': '1112044000', 'shortTermDebt': '258852000', 'currentLongTermDebt': '258852000', 'otherShareholderEquity': '-787000', 'propertyPlantEquipment': '4899857000', 'totalCurrentAssets': '1385443000', 'longTermInvestments': 'None', 'netTangibleAssets': '2261332000', 'shortTermInvestments': '105321000', 'netReceivables': '94820000', 'longTermDebt': '1960453000', 'inventory': 'None', 'accountsPayable': '43601000', 'totalPermanentEquity': 'None', 'additionalPaidInCapital': 'None', 'commonStockTotalEquity': 'None', 'preferredStockTotalEquity': 'None', 'retainedEarningsTotalEquity': 'None', 'treasuryStock': '-72455000', 'accumulatedAmortization': 'None', 'otherNonCurrrentAssets': '36897000', 'deferredLongTermAssetCharges': 'None', 'totalNonCurrentAssets': '5657969000', 'capitalLeaseObligations': '1359332000', 'totalLongTermDebt': '1960453000', 'otherNonCurrentLiabilities': 'None', 'totalNonCurrentLiabilities': '3670036000', 'negativeGoodwill': 'None', 'warrants': 'None', 'preferredStockRedeemable': 'None', 'capitalSurplus': '379380000', 'liabilitiesAndShareholderEquity': 'None', 'cashAndShortTermInvestments': '1084278000', 'accumulatedDepreciation': 'None', 'commonStockSharesOutstanding': '69000000'}, {'fiscalDateEnding': '2018-12-31', 'reportedCurrency': 'USD', 'totalAssets': '5165457000', 'intangibleAssets': 'None', 'earningAssets': 'None', 'otherCurrentAssets': '814807000', 'totalLiabilities': '3236953000', 'totalShareholderEquity': '1928504000', 'deferredLongTermLiabilities': '249010000', 'otherCurrentLiabilities': '339677000', 'commonStock': '7000', 'retainedEarnings': '1625481000', 'otherLiabilities': '377644000', 'goodwill': 'None', 'otherAssets': '703979000', 'cash': '1004733000', 'totalCurrentLiabilities': '834535000', 'shortTermDebt': '163557000', 'currentLongTermDebt': '163557000', 'otherShareholderEquity': '-1193000', 'propertyPlantEquipment': '3116012000', 'totalCurrentAssets': '1345466000', 'longTermInvestments': 'None', 'netTangibleAssets': '1928504000', 'shortTermInvestments': '102789000', 'netReceivables': '47660000', 'longTermDebt': '2024774000', 'inventory': 'None', 'accountsPayable': '39320000', 'totalPermanentEquity': 'None', 'additionalPaidInCapital': 'None', 'commonStockTotalEquity': '7000', 'preferredStockTotalEquity': 'None', 'retainedEarningsTotalEquity': '1625481000', 'treasuryStock': '-67016000', 'accumulatedAmortization': 'None', 'otherNonCurrrentAssets': '79456000', 'deferredLongTermAssetCharges': 'None', 'totalNonCurrentAssets': '3819991000', 'capitalLeaseObligations': '15149000', 'totalLongTermDebt': '2024774000', 'otherNonCurrentLiabilities': 'None', 'totalNonCurrentLiabilities': '2402418000', 'negativeGoodwill': 'None', 'warrants': 'None', 'preferredStockRedeemable': 'None', 'capitalSurplus': '371225000', 'liabilitiesAndShareholderEquity': '5165457000', 'cashAndShortTermInvestments': '1107522000', 'accumulatedDepreciation': 'None', 'commonStockSharesOutstanding': '68269567'}, {'fiscalDateEnding': '2017-12-31', 'reportedCurrency': 'USD', 'totalAssets': '4143950000', 'intangibleAssets': 'None', 'earningAssets': 'None', 'otherCurrentAssets': '763526000', 'totalLiabilities': '2366869000', 'totalShareholderEquity': '1777081000', 'deferredLongTermLiabilities': '99915000', 'otherCurrentLiabilities': '275854000', 'commonStock': '7000', 'retainedEarnings': '1484239000', 'otherLiabilities': '331395000', 'goodwill': 'None', 'otherAssets': '625222000', 'cash': '800849000', 'totalCurrentLiabilities': '647026000', 'shortTermDebt': '115430000', 'currentLongTermDebt': '115430000', 'otherShareholderEquity': '-1464000', 'propertyPlantEquipment': '2238468000', 'totalCurrentAssets': '1280260000', 'longTermInvestments': 'None', 'netTangibleAssets': '1762574000', 'shortTermInvestments': '100937000', 'netReceivables': '49323000', 'longTermDebt': '1387498000', 'inventory': 'None', 'accountsPayable': '22822000', 'totalPermanentEquity': 'None', 'additionalPaidInCapital': 'None', 'commonStockTotalEquity': '7000', 'preferredStockTotalEquity': 'None', 'retainedEarningsTotalEquity': '1484239000', 'treasuryStock': '-65854000', 'accumulatedAmortization': 'None', 'otherNonCurrrentAssets': '121003000', 'deferredLongTermAssetCharges': 'None', 'totalNonCurrentAssets': '2863690000', 'capitalLeaseObligations': '16992000', 'totalLongTermDebt': '1387498000', 'otherNonCurrentLiabilities': 'None', 'totalNonCurrentLiabilities': '1719843000', 'negativeGoodwill': 'None', 'warrants': 'None', 'preferredStockRedeemable': 'None', 'capitalSurplus': '360153000', 'liabilitiesAndShareholderEquity': '4143950000', 'cashAndShortTermInvestments': '901786000', 'accumulatedDepreciation': 'None', 'commonStockSharesOutstanding': '68196964'}, {'fiscalDateEnding': '2016-12-31', 'reportedCurrency': 'USD', 'totalAssets': '3151927000', 'intangibleAssets': '0', 'earningAssets': 'None', 'otherCurrentAssets': '734291000', 'totalLiabilities': '1757320000', 'totalShareholderEquity': '1394607000', 'deferredLongTermLiabilities': '75534000', 'otherCurrentLiabilities': '226011000', 'commonStock': '7000', 'retainedEarnings': '1063633000', 'otherLiabilities': '328011000', 'goodwill': '0', 'otherAssets': '710860000', 'cash': '700900000', 'totalCurrentLiabilities': '531950000', 'shortTermDebt': '84354000', 'currentLongTermDebt': '84354000', 'otherShareholderEquity': '-1345000', 'propertyPlantEquipment': '1465222000', 'totalCurrentAssets': '975845000', 'longTermInvestments': 'None', 'netTangibleAssets': '1394607000', 'shortTermInvestments': '100155000', 'netReceivables': '41136000', 'longTermDebt': '897359000', 'inventory': '0', 'accountsPayable': '15193000', 'totalPermanentEquity': '0', 'additionalPaidInCapital': '0', 'commonStockTotalEquity': '7000', 'preferredStockTotalEquity': '0', 'retainedEarningsTotalEquity': '1063633000', 'treasuryStock': '-218692000', 'accumulatedAmortization': 'None', 'otherNonCurrrentAssets': '110223000', 'deferredLongTermAssetCharges': 'None', 'totalNonCurrentAssets': '2176082000', 'capitalLeaseObligations': '10378000', 'totalLongTermDebt': '897359000', 'otherNonCurrentLiabilities': 'None', 'totalNonCurrentLiabilities': '1225370000', 'negativeGoodwill': 'None', 'warrants': 'None', 'preferredStockRedeemable': 'None', 'capitalSurplus': '551004000', 'liabilitiesAndShareholderEquity': '3151927000', 'cashAndShortTermInvestments': '801055000', 'accumulatedDepreciation': 'None', 'commonStockSharesOutstanding': '71000000'}, {'fiscalDateEnding': '2015-12-31', 'reportedCurrency': 'USD', 'totalAssets': '2530545000', 'intangibleAssets': '0', 'earningAssets': 'None', 'otherCurrentAssets': '73415000', 'totalLiabilities': '1305235000', 'totalShareholderEquity': '1225310000', 'deferredLongTermLiabilities': '242302000', 'otherCurrentLiabilities': '399560000', 'commonStock': '7000', 'retainedEarnings': '798754000', 'otherLiabilities': '242302000', 'goodwill': '0', 'otherAssets': '659988000', 'cash': '803632000', 'totalCurrentLiabilities': '466240000', 'shortTermDebt': '49637000', 'currentLongTermDebt': '49637000', 'otherShareholderEquity': '-1546000', 'propertyPlantEquipment': '844217000', 'totalCurrentAssets': '1026340000', 'longTermInvestments': 'None', 'netTangibleAssets': '1225310000', 'shortTermInvestments': '0', 'netReceivables': '28266000', 'longTermDebt': '596693000', 'inventory': '0', 'accountsPayable': '17043000', 'totalPermanentEquity': '0', 'additionalPaidInCapital': '0', 'commonStockTotalEquity': '0', 'preferredStockTotalEquity': '0', 'retainedEarningsTotalEquity': '0', 'treasuryStock': '-116182000', 'accumulatedAmortization': 'None', 'otherNonCurrrentAssets': 'None', 'deferredLongTermAssetCharges': 'None', 'totalNonCurrentAssets': '844217000', 'capitalLeaseObligations': 'None', 'totalLongTermDebt': '596693000', 'otherNonCurrentLiabilities': 'None', 'totalNonCurrentLiabilities': '838995000', 'negativeGoodwill': 'None', 'warrants': 'None', 'preferredStockRedeemable': 'None', 'capitalSurplus': '544277000', 'liabilitiesAndShareholderEquity': '2530545000', 'cashAndShortTermInvestments': '803632000', 'accumulatedDepreciation': 'None', 'commonStockSharesOutstanding': '72000000'}], 'quarterlyReports': [{'fiscalDateEnding': '2020-09-30', 'reportedCurrency': 'USD', 'totalAssets': '8557294000', 'intangibleAssets': 'None', 'earningAssets': 'None', 'otherCurrentAssets': '128072000', 'totalLiabilities': '6153191000', 'totalShareholderEquity': '2404103000', 'deferredLongTermLiabilities': '362596000', 'otherCurrentLiabilities': '429892000', 'commonStock': '28000', 'retainedEarnings': '1682182000', 'otherLiabilities': '538745000', 'goodwill': 'None', 'otherAssets': '827368000', 'cash': '1947619000', 'totalCurrentLiabilities': '1296703000', 'shortTermDebt': '373300000', 'currentLongTermDebt': '373300000', 'otherShareholderEquity': '-608000', 'propertyPlantEquipment': '5230816000', 'totalCurrentAssets': '2499110000', 'longTermInvestments': 'None', 'netTangibleAssets': '2404103000', 'shortTermInvestments': '106324000', 'netReceivables': '198143000', 'longTermDebt': '3074900000', 'inventory': 'None', 'accountsPayable': '36068000', 'totalPermanentEquity': 'None', 'additionalPaidInCapital': 'None', 'commonStockTotalEquity': '28000', 'preferredStockTotalEquity': 'None', 'retainedEarningsTotalEquity': '1682182000', 'treasuryStock': '-74052000', 'accumulatedAmortization': 'None', 'otherNonCurrrentAssets': '35895000', 'deferredLongTermAssetCharges': 'None', 'totalNonCurrentAssets': '6058184000', 'capitalLeaseObligations': '1424165000', 'totalLongTermDebt': '3074900000', 'otherNonCurrentLiabilities': 'None', 'totalNonCurrentLiabilities': '4856488000', 'negativeGoodwill': 'None', 'warrants': 'None', 'preferredStockRedeemable': 'None', 'capitalSurplus': '796553000', 'liabilitiesAndShareholderEquity': '8557294000', 'cashAndShortTermInvestments': '2053943000', 'accumulatedDepreciation': 'None', 'commonStockSharesOutstanding': 'None'}, {'fiscalDateEnding': '2020-06-30', 'reportedCurrency': 'USD', 'totalAssets': '7767944000', 'intangibleAssets': 'None', 'earningAssets': 'None', 'otherCurrentAssets': '1054218000', 'totalLiabilities': '4155112000', 'totalShareholderEquity': '2343162000', 'deferredLongTermLiabilities': '550330000', 'otherCurrentLiabilities': '941624000', 'commonStock': '27000', 'retainedEarnings': '1781322000', 'otherLiabilities': '550330000', 'goodwill': 'None', 'otherAssets': '858679000', 'cash': '1127460000', 'totalCurrentLiabilities': '1271182000', 'shortTermDebt': '288498000', 'currentLongTermDebt': '288498000', 'otherShareholderEquity': '-495000', 'propertyPlantEquipment': '3810408000', 'totalCurrentAssets': '1667960000', 'longTermInvestments': 'None', 'netTangibleAssets': '3612832000', 'shortTermInvestments': '106298000', 'netReceivables': '238663000', 'longTermDebt': '2333600000', 'inventory': 'None', 'accountsPayable': '41060000', 'totalPermanentEquity': 'None', 'additionalPaidInCapital': 'None', 'commonStockTotalEquity': '27000', 'preferredStockTotalEquity': 'None', 'retainedEarningsTotalEquity': '1781322000', 'treasuryStock': '-74009000', 'accumulatedAmortization': 'None', 'otherNonCurrrentAssets': '1430897000', 'deferredLongTermAssetCharges': 'None', 'totalNonCurrentAssets': '5241305000', 'capitalLeaseObligations': '1419369000', 'totalLongTermDebt': '2333600000', 'otherNonCurrentLiabilities': 'None', 'totalNonCurrentLiabilities': '2883930000', 'negativeGoodwill': 'None', 'warrants': 'None', 'preferredStockRedeemable': 'None', 'capitalSurplus': '636317000', 'liabilitiesAndShareholderEquity': '7767944000', 'cashAndShortTermInvestments': '1233758000', 'accumulatedDepreciation': 'None', 'commonStockSharesOutstanding': 'None'}, {'fiscalDateEnding': '2020-03-31', 'reportedCurrency': 'USD', 'totalAssets': '7235261000', 'intangibleAssets': 'None', 'earningAssets': 'None', 'otherCurrentAssets': '1009318000', 'totalLiabilities': '3732760000', 'totalShareholderEquity': '2234391000', 'deferredLongTermLiabilities': '535750000', 'otherCurrentLiabilities': '833606000', 'commonStock': '7000', 'retainedEarnings': '1925750000', 'otherLiabilities': '535750000', 'goodwill': 'None', 'otherAssets': '845840000', 'cash': '788225000', 'totalCurrentLiabilities': '1231486000', 'shortTermDebt': '334931000', 'currentLongTermDebt': '334931000', 'otherShareholderEquity': '-561000', 'propertyPlantEquipment': '3733085000', 'totalCurrentAssets': '1231165000', 'longTermInvestments': 'None', 'netTangibleAssets': '3502501000', 'shortTermInvestments': '106208000', 'netReceivables': '173254000', 'longTermDebt': '1965524000', 'inventory': 'None', 'accountsPayable': '62949000', 'totalPermanentEquity': 'None', 'additionalPaidInCapital': 'None', 'commonStockTotalEquity': '7000', 'preferredStockTotalEquity': 'None', 'retainedEarningsTotalEquity': '1925750000', 'treasuryStock': '-73991000', 'accumulatedAmortization': 'None', 'otherNonCurrrentAssets': '1425171000', 'deferredLongTermAssetCharges': 'None', 'totalNonCurrentAssets': '5158256000', 'capitalLeaseObligations': '1413865000', 'totalLongTermDebt': '1965524000', 'otherNonCurrentLiabilities': 'None', 'totalNonCurrentLiabilities': '2501274000', 'negativeGoodwill': 'None', 'warrants': 'None', 'preferredStockRedeemable': 'None', 'capitalSurplus': '383186000', 'liabilitiesAndShareholderEquity': '7235261000', 'cashAndShortTermInvestments': '894433000', 'accumulatedDepreciation': 'None', 'commonStockSharesOutstanding': '69000000'}, {'fiscalDateEnding': '2019-12-31', 'reportedCurrency': 'USD', 'totalAssets': '7043412000', 'intangibleAssets': 'None', 'earningAssets': 'None', 'otherCurrentAssets': '105206000', 'totalLiabilities': '4782080000', 'totalShareholderEquity': '2261332000', 'deferredLongTermLiabilities': '361603000', 'otherCurrentLiabilities': '315408000', 'commonStock': '7000', 'retainedEarnings': '1955187000', 'otherLiabilities': '491569000', 'goodwill': 'None', 'otherAssets': '758112000', 'cash': '978957000', 'totalCurrentLiabilities': '1112044000', 'shortTermDebt': '258852000', 'currentLongTermDebt': '258852000', 'otherShareholderEquity': '-787000', 'propertyPlantEquipment': '4899857000', 'totalCurrentAssets': '1385443000', 'longTermInvestments': 'None', 'netTangibleAssets': '2261332000', 'shortTermInvestments': '105321000', 'netReceivables': '94820000', 'longTermDebt': '1960453000', 'inventory': 'None', 'accountsPayable': '43601000', 'totalPermanentEquity': 'None', 'additionalPaidInCapital': 'None', 'commonStockTotalEquity': 'None', 'preferredStockTotalEquity': 'None', 'retainedEarningsTotalEquity': 'None', 'treasuryStock': '-72455000', 'accumulatedAmortization': 'None', 'otherNonCurrrentAssets': '36897000', 'deferredLongTermAssetCharges': 'None', 'totalNonCurrentAssets': '5657969000', 'capitalLeaseObligations': '1359332000', 'totalLongTermDebt': '1960453000', 'otherNonCurrentLiabilities': 'None', 'totalNonCurrentLiabilities': '3670036000', 'negativeGoodwill': 'None', 'warrants': 'None', 'preferredStockRedeemable': 'None', 'capitalSurplus': '379380000', 'liabilitiesAndShareholderEquity': 'None', 'cashAndShortTermInvestments': '1084278000', 'accumulatedDepreciation': 'None', 'commonStockSharesOutstanding': '69000000'}, {'fiscalDateEnding': '2019-09-30', 'reportedCurrency': 'USD', 'totalAssets': '6575214000', 'intangibleAssets': 'None', 'earningAssets': 'None', 'otherCurrentAssets': '1008168000', 'totalLiabilities': '4395127000', 'totalShareholderEquity': '2180087000', 'deferredLongTermLiabilities': '328109000', 'otherCurrentLiabilities': '816279000', 'commonStock': '7000', 'retainedEarnings': '1873973000', 'otherLiabilities': '457473000', 'goodwill': 'None', 'otherAssets': '778534000', 'cash': '935678000', 'totalCurrentLiabilities': '1052776000', 'shortTermDebt': '194582000', 'currentLongTermDebt': '194582000', 'otherShareholderEquity': '-875000', 'propertyPlantEquipment': '4393398000', 'totalCurrentAssets': '1403282000', 'longTermInvestments': 'None', 'netTangibleAssets': '2180087000', 'shortTermInvestments': '104792000', 'netReceivables': '71372000', 'longTermDebt': '1968901000', 'inventory': 'None', 'accountsPayable': '41915000', 'totalPermanentEquity': 'None', 'additionalPaidInCapital': 'None', 'commonStockTotalEquity': '7000', 'preferredStockTotalEquity': 'None', 'retainedEarningsTotalEquity': '1873973000', 'treasuryStock': '-72372000', 'accumulatedAmortization': 'None', 'otherNonCurrrentAssets': '40113000', 'deferredLongTermAssetCharges': 'None', 'totalNonCurrentAssets': '5171932000', 'capitalLeaseObligations': '1055160000', 'totalLongTermDebt': '1968901000', 'otherNonCurrentLiabilities': 'None', 'totalNonCurrentLiabilities': '3342351000', 'negativeGoodwill': 'None', 'warrants': 'None', 'preferredStockRedeemable': 'None', 'capitalSurplus': '379354000', 'liabilitiesAndShareholderEquity': '6575214000', 'cashAndShortTermInvestments': '1040470000', 'accumulatedDepreciation': 'None', 'commonStockSharesOutstanding': '69000000'}, {'fiscalDateEnding': '2019-06-30', 'reportedCurrency': 'USD', 'totalAssets': '6662781000', 'intangibleAssets': 'None', 'earningAssets': 'None', 'otherCurrentAssets': '911501000', 'totalLiabilities': '4567754000', 'totalShareholderEquity': '2095027000', 'deferredLongTermLiabilities': '416120000', 'otherCurrentLiabilities': '896908000', 'commonStock': '7000', 'retainedEarnings': '1790509000', 'otherLiabilities': '416120000', 'goodwill': 'None', 'otherAssets': '722082000', 'cash': '1110797000', 'totalCurrentLiabilities': '1211163000', 'shortTermDebt': '270407000', 'currentLongTermDebt': '270407000', 'otherShareholderEquity': '-864000', 'propertyPlantEquipment': '3362166000', 'totalCurrentAssets': '1520687000', 'longTermInvestments': 'None', 'netTangibleAssets': '3010315000', 'shortTermInvestments': '104228000', 'netReceivables': '78125000', 'longTermDebt': '2025183000', 'inventory': 'None', 'accountsPayable': '43848000', 'totalPermanentEquity': 'None', 'additionalPaidInCapital': 'None', 'commonStockTotalEquity': '7000', 'preferredStockTotalEquity': 'None', 'retainedEarningsTotalEquity': '1790509000', 'treasuryStock': '-72264000', 'accumulatedAmortization': 'None', 'otherNonCurrrentAssets': '38118000', 'deferredLongTermAssetCharges': 'None', 'totalNonCurrentAssets': '5142094000', 'capitalLeaseObligations': '1050442000', 'totalLongTermDebt': '2025183000', 'otherNonCurrentLiabilities': 'None', 'totalNonCurrentLiabilities': '3356591000', 'negativeGoodwill': 'None', 'warrants': 'None', 'preferredStockRedeemable': 'None', 'capitalSurplus': '377639000', 'liabilitiesAndShareholderEquity': '6662781000', 'cashAndShortTermInvestments': '1215025000', 'accumulatedDepreciation': 'None', 'commonStockSharesOutstanding': '69000000'}, {'fiscalDateEnding': '2019-03-31', 'reportedCurrency': 'USD', 'totalAssets': '6423939000', 'intangibleAssets': 'None', 'earningAssets': 'None', 'otherCurrentAssets': '883080000', 'totalLiabilities': '3551227000', 'totalShareholderEquity': '1977656000', 'deferredLongTermLiabilities': '384939000', 'otherCurrentLiabilities': '926543000', 'commonStock': '7000', 'retainedEarnings': '1676008000', 'otherLiabilities': '384939000', 'goodwill': 'None', 'otherAssets': '706125000', 'cash': '1122139000', 'totalCurrentLiabilities': '1126669000', 'shortTermDebt': '173413000', 'currentLongTermDebt': '173413000', 'otherShareholderEquity': '-1016000', 'propertyPlantEquipment': '3154792000', 'totalCurrentAssets': '1516760000', 'longTermInvestments': 'None', 'netTangibleAssets': '2872712000', 'shortTermInvestments': '103491000', 'netReceivables': '114175000', 'longTermDebt': '2039619000', 'inventory': 'None', 'accountsPayable': '26713000', 'totalPermanentEquity': 'None', 'additionalPaidInCapital': 'None', 'commonStockTotalEquity': '7000', 'preferredStockTotalEquity': 'None', 'retainedEarningsTotalEquity': '1676008000', 'treasuryStock': '-72239000', 'accumulatedAmortization': 'None', 'otherNonCurrrentAssets': '1046262000', 'deferredLongTermAssetCharges': 'None', 'totalNonCurrentAssets': '4201054000', 'capitalLeaseObligations': '1043824000', 'totalLongTermDebt': '2039619000', 'otherNonCurrentLiabilities': 'None', 'totalNonCurrentLiabilities': '2424558000', 'negativeGoodwill': 'None', 'warrants': 'None', 'preferredStockRedeemable': 'None', 'capitalSurplus': '374896000', 'liabilitiesAndShareholderEquity': '6423939000', 'cashAndShortTermInvestments': '1225630000', 'accumulatedDepreciation': 'None', 'commonStockSharesOutstanding': '69000000'}, {'fiscalDateEnding': '2018-12-31', 'reportedCurrency': 'USD', 'totalAssets': '5165457000', 'intangibleAssets': 'None', 'earningAssets': 'None', 'otherCurrentAssets': '814807000', 'totalLiabilities': '3236953000', 'totalShareholderEquity': '1928504000', 'deferredLongTermLiabilities': '377644000', 'otherCurrentLiabilities': '631658000', 'commonStock': '7000', 'retainedEarnings': '1625481000', 'otherLiabilities': '377644000', 'goodwill': 'None', 'otherAssets': '703979000', 'cash': '1004733000', 'totalCurrentLiabilities': '834535000', 'shortTermDebt': '163557000', 'currentLongTermDebt': '162836000', 'otherShareholderEquity': '-1193000', 'propertyPlantEquipment': '3116012000', 'totalCurrentAssets': '1345466000', 'longTermInvestments': 'None', 'netTangibleAssets': '1928504000', 'shortTermInvestments': '102789000', 'netReceivables': '127116000', 'longTermDebt': '2023940000', 'inventory': 'None', 'accountsPayable': '39320000', 'totalPermanentEquity': 'None', 'additionalPaidInCapital': 'None', 'commonStockTotalEquity': '7000', 'preferredStockTotalEquity': 'None', 'retainedEarningsTotalEquity': '1625481000', 'treasuryStock': '-67016000', 'accumulatedAmortization': 'None', 'otherNonCurrrentAssets': 'None', 'deferredLongTermAssetCharges': 'None', 'totalNonCurrentAssets': '3116012000', 'capitalLeaseObligations': 'None', 'totalLongTermDebt': '2024774000', 'otherNonCurrentLiabilities': 'None', 'totalNonCurrentLiabilities': '2402418000', 'negativeGoodwill': 'None', 'warrants': 'None', 'preferredStockRedeemable': 'None', 'capitalSurplus': '371225000', 'liabilitiesAndShareholderEquity': '5165457000', 'cashAndShortTermInvestments': '1107522000', 'accumulatedDepreciation': 'None', 'commonStockSharesOutstanding': '68269567'}, {'fiscalDateEnding': '2018-09-30', 'reportedCurrency': 'USD', 'totalAssets': '4781731000', 'intangibleAssets': 'None', 'earningAssets': 'None', 'otherCurrentAssets': '778263000', 'totalLiabilities': '2947949000', 'totalShareholderEquity': '1833782000', 'deferredLongTermLiabilities': '352224000', 'otherCurrentLiabilities': '610769000', 'commonStock': '7000', 'retainedEarnings': '1533545000', 'otherLiabilities': '352224000', 'goodwill': 'None', 'otherAssets': '669544000', 'cash': '773710000', 'totalCurrentLiabilities': '824821000', 'shortTermDebt': '150862000', 'currentLongTermDebt': '150266000', 'otherShareholderEquity': '-1222000', 'propertyPlantEquipment': '2906080000', 'totalCurrentAssets': '1206107000', 'longTermInvestments': 'None', 'netTangibleAssets': '1833782000', 'shortTermInvestments': '102201000', 'netReceivables': '221477000', 'longTermDebt': '1770482000', 'inventory': 'None', 'accountsPayable': '63190000', 'totalPermanentEquity': 'None', 'additionalPaidInCapital': 'None', 'commonStockTotalEquity': '7000', 'preferredStockTotalEquity': 'None', 'retainedEarningsTotalEquity': '1533545000', 'treasuryStock': '-66999000', 'accumulatedAmortization': 'None', 'otherNonCurrrentAssets': 'None', 'deferredLongTermAssetCharges': 'None', 'totalNonCurrentAssets': '2906080000', 'capitalLeaseObligations': 'None', 'totalLongTermDebt': '1770904000', 'otherNonCurrentLiabilities': 'None', 'totalNonCurrentLiabilities': '2123128000', 'negativeGoodwill': 'None', 'warrants': 'None', 'preferredStockRedeemable': 'None', 'capitalSurplus': '368451000', 'liabilitiesAndShareholderEquity': '4781731000', 'cashAndShortTermInvestments': '875911000', 'accumulatedDepreciation': 'None', 'commonStockSharesOutstanding': '69000000'}, {'fiscalDateEnding': '2018-06-30', 'reportedCurrency': 'USD', 'totalAssets': '4681725000', 'intangibleAssets': '0', 'earningAssets': 'None', 'otherCurrentAssets': '741246000', 'totalLiabilities': '2948258000', 'totalShareholderEquity': '1733501000', 'deferredLongTermLiabilities': '316231000', 'otherCurrentLiabilities': '704052000', 'commonStock': '7000', 'retainedEarnings': '1436064000', 'otherLiabilities': '316231000', 'goodwill': '0', 'otherAssets': '633287000', 'cash': '812362000', 'totalCurrentLiabilities': '900227000', 'shortTermDebt': '145865000', 'currentLongTermDebt': '145266000', 'otherShareholderEquity': '-1266000', 'propertyPlantEquipment': '2818103000', 'totalCurrentAssets': '1230335000', 'longTermInvestments': 'None', 'netTangibleAssets': '1733467000', 'shortTermInvestments': '101714000', 'netReceivables': '208300000', 'longTermDebt': '1731800000', 'inventory': '0', 'accountsPayable': '50310000', 'totalPermanentEquity': '0', 'additionalPaidInCapital': '0', 'commonStockTotalEquity': '7000', 'preferredStockTotalEquity': '0', 'retainedEarningsTotalEquity': '1436064000', 'treasuryStock': '-66840000', 'accumulatedAmortization': 'None', 'otherNonCurrrentAssets': 'None', 'deferredLongTermAssetCharges': 'None', 'totalNonCurrentAssets': '2818103000', 'capitalLeaseObligations': 'None', 'totalLongTermDebt': '1731800000', 'otherNonCurrentLiabilities': 'None', 'totalNonCurrentLiabilities': '2048031000', 'negativeGoodwill': 'None', 'warrants': 'None', 'preferredStockRedeemable': 'None', 'capitalSurplus': '365536000', 'liabilitiesAndShareholderEquity': '4681725000', 'cashAndShortTermInvestments': '914076000', 'accumulatedDepreciation': 'None', 'commonStockSharesOutstanding': '68000000'}, {'fiscalDateEnding': '2018-03-31', 'reportedCurrency': 'USD', 'totalAssets': '4654431000', 'intangibleAssets': 'None', 'earningAssets': 'None', 'otherCurrentAssets': '670706000', 'totalLiabilities': '2934626000', 'totalShareholderEquity': '1719805000', 'deferredLongTermLiabilities': '316374000', 'otherCurrentLiabilities': '735371000', 'commonStock': '7000', 'retainedEarnings': '1424810000', 'otherLiabilities': '23486000', 'goodwill': 'None', 'otherAssets': '371253000', 'cash': '898457000', 'totalCurrentLiabilities': '1047326000', 'shortTermDebt': '280281000', 'currentLongTermDebt': '136500000', 'otherShareholderEquity': '-1429000', 'propertyPlantEquipment': '2779297000', 'totalCurrentAssets': '1298841000', 'longTermInvestments': 'None', 'netTangibleAssets': '1719805000', 'shortTermInvestments': '101254000', 'netReceivables': '204717000', 'longTermDebt': '1570926000', 'inventory': 'None', 'accountsPayable': '31674000', 'totalPermanentEquity': 'None', 'additionalPaidInCapital': 'None', 'commonStockTotalEquity': '7000', 'preferredStockTotalEquity': 'None', 'retainedEarningsTotalEquity': '1424810000', 'treasuryStock': '-66813000', 'accumulatedAmortization': 'None', 'otherNonCurrrentAssets': 'None', 'deferredLongTermAssetCharges': 'None', 'totalNonCurrentAssets': '2779297000', 'capitalLeaseObligations': 'None', 'totalLongTermDebt': '1570926000', 'otherNonCurrentLiabilities': 'None', 'totalNonCurrentLiabilities': '1887300000', 'negativeGoodwill': 'None', 'warrants': 'None', 'preferredStockRedeemable': 'None', 'capitalSurplus': '363230000', 'liabilitiesAndShareholderEquity': '4654431000', 'cashAndShortTermInvestments': '999711000', 'accumulatedDepreciation': 'None', 'commonStockSharesOutstanding': '68000000'}, {'fiscalDateEnding': '2017-12-31', 'reportedCurrency': 'USD', 'totalAssets': '4143950000', 'intangibleAssets': 'None', 'earningAssets': 'None', 'otherCurrentAssets': '763526000', 'totalLiabilities': '2366869000', 'totalShareholderEquity': '1777081000', 'deferredLongTermLiabilities': '332345000', 'otherCurrentLiabilities': '508774000', 'commonStock': '7000', 'retainedEarnings': '1484239000', 'otherLiabilities': '18518000', 'goodwill': 'None', 'otherAssets': '371535000', 'cash': '800849000', 'totalCurrentLiabilities': '647026000', 'shortTermDebt': '115430000', 'currentLongTermDebt': '115430000', 'otherShareholderEquity': '-1464000', 'propertyPlantEquipment': '2238468000', 'totalCurrentAssets': '1280260000', 'longTermInvestments': 'None', 'netTangibleAssets': '1777081000', 'shortTermInvestments': '100937000', 'netReceivables': '240170000', 'longTermDebt': '1387498000', 'inventory': 'None', 'accountsPayable': '22822000', 'totalPermanentEquity': 'None', 'additionalPaidInCapital': 'None', 'commonStockTotalEquity': '7000', 'preferredStockTotalEquity': 'None', 'retainedEarningsTotalEquity': '1484239000', 'treasuryStock': '-65854000', 'accumulatedAmortization': 'None', 'otherNonCurrrentAssets': 'None', 'deferredLongTermAssetCharges': 'None', 'totalNonCurrentAssets': '2238468000', 'capitalLeaseObligations': 'None', 'totalLongTermDebt': '1387498000', 'otherNonCurrentLiabilities': 'None', 'totalNonCurrentLiabilities': '1719843000', 'negativeGoodwill': 'None', 'warrants': 'None', 'preferredStockRedeemable': 'None', 'capitalSurplus': '360153000', 'liabilitiesAndShareholderEquity': '4143950000', 'cashAndShortTermInvestments': '901786000', 'accumulatedDepreciation': 'None', 'commonStockSharesOutstanding': '68196964'}, {'fiscalDateEnding': '2017-09-30', 'reportedCurrency': 'USD', 'totalAssets': '3870942000', 'intangibleAssets': 'None', 'earningAssets': 'None', 'otherCurrentAssets': '765063000', 'totalLiabilities': '2300406000', 'totalShareholderEquity': '1570536000', 'deferredLongTermLiabilities': '423284000', 'otherCurrentLiabilities': '526065000', 'commonStock': '7000', 'retainedEarnings': '1233901000', 'otherLiabilities': '17204000', 'goodwill': 'None', 'otherAssets': '338323000', 'cash': '863680000', 'totalCurrentLiabilities': '662984000', 'shortTermDebt': '105958000', 'currentLongTermDebt': '105958000', 'otherShareholderEquity': '-1214000', 'propertyPlantEquipment': '1983147000', 'totalCurrentAssets': '1244740000', 'longTermInvestments': 'None', 'netTangibleAssets': '1570536000', 'shortTermInvestments': '100732000', 'netReceivables': '158320000', 'longTermDebt': '1214138000', 'inventory': 'None', 'accountsPayable': '30961000', 'totalPermanentEquity': 'None', 'additionalPaidInCapital': 'None', 'commonStockTotalEquity': '7000', 'preferredStockTotalEquity': 'None', 'retainedEarningsTotalEquity': '1233901000', 'treasuryStock': '-219930000', 'accumulatedAmortization': 'None', 'otherNonCurrrentAssets': 'None', 'deferredLongTermAssetCharges': 'None', 'totalNonCurrentAssets': '1983147000', 'capitalLeaseObligations': 'None', 'totalLongTermDebt': '1214138000', 'otherNonCurrentLiabilities': 'None', 'totalNonCurrentLiabilities': '1637422000', 'negativeGoodwill': 'None', 'warrants': 'None', 'preferredStockRedeemable': 'None', 'capitalSurplus': '557772000', 'liabilitiesAndShareholderEquity': '3870942000', 'cashAndShortTermInvestments': '964412000', 'accumulatedDepreciation': 'None', 'commonStockSharesOutstanding': '69000000'}, {'fiscalDateEnding': '2017-06-30', 'reportedCurrency': 'USD', 'totalAssets': '3674345000', 'intangibleAssets': '0', 'earningAssets': 'None', 'otherCurrentAssets': '752778000', 'totalLiabilities': '2166112000', 'totalShareholderEquity': '1508233000', 'deferredLongTermLiabilities': '391123000', 'otherCurrentLiabilities': '557216000', 'commonStock': '7000', 'retainedEarnings': '1173711000', 'otherLiabilities': '18125000', 'goodwill': '0', 'otherAssets': '336464000', 'cash': '869153000', 'totalCurrentLiabilities': '685830000', 'shortTermDebt': '95428000', 'currentLongTermDebt': '1184587000', 'otherShareholderEquity': '-1280000', 'propertyPlantEquipment': '1789510000', 'totalCurrentAssets': '1230504000', 'longTermInvestments': 'None', 'netTangibleAssets': '1508233000', 'shortTermInvestments': '100464000', 'netReceivables': '162440000', 'longTermDebt': '1089159000', 'inventory': '0', 'accountsPayable': '33186000', 'totalPermanentEquity': '0', 'additionalPaidInCapital': '0', 'commonStockTotalEquity': '7000', 'preferredStockTotalEquity': '0', 'retainedEarningsTotalEquity': '1173711000', 'treasuryStock': '-219909000', 'accumulatedAmortization': 'None', 'otherNonCurrrentAssets': 'None', 'deferredLongTermAssetCharges': 'None', 'totalNonCurrentAssets': '1789510000', 'capitalLeaseObligations': 'None', 'totalLongTermDebt': '1089159000', 'otherNonCurrentLiabilities': 'None', 'totalNonCurrentLiabilities': '1480282000', 'negativeGoodwill': 'None', 'warrants': 'None', 'preferredStockRedeemable': 'None', 'capitalSurplus': '555704000', 'liabilitiesAndShareholderEquity': '3674345000', 'cashAndShortTermInvestments': '969617000', 'accumulatedDepreciation': 'None', 'commonStockSharesOutstanding': '70000000'}, {'fiscalDateEnding': '2017-03-31', 'reportedCurrency': 'USD', 'totalAssets': '3438614000', 'intangibleAssets': '0', 'earningAssets': 'None', 'otherCurrentAssets': '752459000', 'totalLiabilities': '2010246000', 'totalShareholderEquity': '1428346000', 'deferredLongTermLiabilities': '345372000', 'otherCurrentLiabilities': '540890000', 'commonStock': '7000', 'retainedEarnings': '1095568000', 'otherLiabilities': '17712000', 'goodwill': '0', 'otherAssets': '357010000', 'cash': '818110000', 'totalCurrentLiabilities': '673174000', 'shortTermDebt': '92672000', 'currentLongTermDebt': '92672000', 'otherShareholderEquity': '-1323000', 'propertyPlantEquipment': '1604550000', 'totalCurrentAssets': '1146531000', 'longTermInvestments': 'None', 'netTangibleAssets': '1428368000', 'shortTermInvestments': '100294000', 'netReceivables': '163201000', 'longTermDebt': '991700000', 'inventory': '0', 'accountsPayable': '39612000', 'totalPermanentEquity': '0', 'additionalPaidInCapital': '0', 'commonStockTotalEquity': '7000', 'preferredStockTotalEquity': '0', 'retainedEarningsTotalEquity': '1095568000', 'treasuryStock': '-219726000', 'accumulatedAmortization': 'None', 'otherNonCurrrentAssets': 'None', 'deferredLongTermAssetCharges': 'None', 'totalNonCurrentAssets': '1604550000', 'capitalLeaseObligations': 'None', 'totalLongTermDebt': '991700000', 'otherNonCurrentLiabilities': 'None', 'totalNonCurrentLiabilities': '1337072000', 'negativeGoodwill': 'None', 'warrants': 'None', 'preferredStockRedeemable': 'None', 'capitalSurplus': '553820000', 'liabilitiesAndShareholderEquity': '3438614000', 'cashAndShortTermInvestments': '918404000', 'accumulatedDepreciation': 'None', 'commonStockSharesOutstanding': '70000000'}, {'fiscalDateEnding': '2016-12-31', 'reportedCurrency': 'USD', 'totalAssets': '3151927000', 'intangibleAssets': '0', 'earningAssets': 'None', 'otherCurrentAssets': '734291000', 'totalLiabilities': '1757320000', 'totalShareholderEquity': '1394607000', 'deferredLongTermLiabilities': '328011000', 'otherCurrentLiabilities': '432403000', 'commonStock': '7000', 'retainedEarnings': '1063633000', 'otherLiabilities': '19868000', 'goodwill': '0', 'otherAssets': '385172000', 'cash': '700900000', 'totalCurrentLiabilities': '531950000', 'shortTermDebt': '84354000', 'currentLongTermDebt': '84354000', 'otherShareholderEquity': '-1345000', 'propertyPlantEquipment': '1465222000', 'totalCurrentAssets': '975845000', 'longTermInvestments': 'None', 'netTangibleAssets': '1394607000', 'shortTermInvestments': '100155000', 'netReceivables': '151359000', 'longTermDebt': '897359000', 'inventory': '0', 'accountsPayable': '15193000', 'totalPermanentEquity': '0', 'additionalPaidInCapital': '0', 'commonStockTotalEquity': '7000', 'preferredStockTotalEquity': '0', 'retainedEarningsTotalEquity': '1063633000', 'treasuryStock': '-218692000', 'accumulatedAmortization': 'None', 'otherNonCurrrentAssets': 'None', 'deferredLongTermAssetCharges': 'None', 'totalNonCurrentAssets': '1465222000', 'capitalLeaseObligations': 'None', 'totalLongTermDebt': '897359000', 'otherNonCurrentLiabilities': 'None', 'totalNonCurrentLiabilities': '1225370000', 'negativeGoodwill': 'None', 'warrants': 'None', 'preferredStockRedeemable': 'None', 'capitalSurplus': '551004000', 'liabilitiesAndShareholderEquity': '3151927000', 'cashAndShortTermInvestments': '801055000', 'accumulatedDepreciation': 'None', 'commonStockSharesOutstanding': '71000000'}, {'fiscalDateEnding': '2016-09-30', 'reportedCurrency': 'USD', 'totalAssets': '3129625000', 'intangibleAssets': '0', 'earningAssets': 'None', 'otherCurrentAssets': '692614000', 'totalLiabilities': '1785069000', 'totalShareholderEquity': '1344556000', 'deferredLongTermLiabilities': '319339000', 'otherCurrentLiabilities': '456572000', 'commonStock': '7000', 'retainedEarnings': '1015140000', 'otherLiabilities': '20108000', 'goodwill': '0', 'otherAssets': '363328000', 'cash': '825904000', 'totalCurrentLiabilities': '570921000', 'shortTermDebt': '84443000', 'currentLongTermDebt': '84443000', 'otherShareholderEquity': '-1400000', 'propertyPlantEquipment': '1390108000', 'totalCurrentAssets': '1103499000', 'longTermInvestments': 'None', 'netTangibleAssets': '1344556000', 'shortTermInvestments': '100000000', 'netReceivables': '120916000', 'longTermDebt': '894809000', 'inventory': '0', 'accountsPayable': '29906000', 'totalPermanentEquity': '0', 'additionalPaidInCapital': '0', 'commonStockTotalEquity': '7000', 'preferredStockTotalEquity': '0', 'retainedEarningsTotalEquity': '1015140000', 'treasuryStock': '-218572000', 'accumulatedAmortization': 'None', 'otherNonCurrrentAssets': 'None', 'deferredLongTermAssetCharges': 'None', 'totalNonCurrentAssets': '1390108000', 'capitalLeaseObligations': 'None', 'totalLongTermDebt': '894809000', 'otherNonCurrentLiabilities': 'None', 'totalNonCurrentLiabilities': '1214148000', 'negativeGoodwill': 'None', 'warrants': 'None', 'preferredStockRedeemable': 'None', 'capitalSurplus': '549375000', 'liabilitiesAndShareholderEquity': '3129625000', 'cashAndShortTermInvestments': '925904000', 'accumulatedDepreciation': '-105653000', 'commonStockSharesOutstanding': '70000000'}, {'fiscalDateEnding': '2016-06-30', 'reportedCurrency': 'USD', 'totalAssets': '3030200000', 'intangibleAssets': '0', 'earningAssets': 'None', 'otherCurrentAssets': '655506000', 'totalLiabilities': '1730883000', 'totalShareholderEquity': '1299317000', 'deferredLongTermLiabilities': '286920000', 'otherCurrentLiabilities': '501221000', 'commonStock': '7000', 'retainedEarnings': '933758000', 'otherLiabilities': '19541000', 'goodwill': '0', 'otherAssets': '358433000', 'cash': '1014080000', 'totalCurrentLiabilities': '607545000', 'shortTermDebt': '78596000', 'currentLongTermDebt': '78596000', 'otherShareholderEquity': '-1455000', 'propertyPlantEquipment': '1238628000', 'totalCurrentAssets': '1183779000', 'longTermInvestments': 'None', 'netTangibleAssets': '1299317000', 'shortTermInvestments': '0', 'netReceivables': '121986000', 'longTermDebt': '836418000', 'inventory': '0', 'accountsPayable': '27728000', 'totalPermanentEquity': '0', 'additionalPaidInCapital': '0', 'commonStockTotalEquity': '7000', 'preferredStockTotalEquity': '0', 'retainedEarningsTotalEquity': '933758000', 'treasuryStock': '-180756000', 'accumulatedAmortization': 'None', 'otherNonCurrrentAssets': 'None', 'deferredLongTermAssetCharges': 'None', 'totalNonCurrentAssets': '1238628000', 'capitalLeaseObligations': 'None', 'totalLongTermDebt': '836418000', 'otherNonCurrentLiabilities': 'None', 'totalNonCurrentLiabilities': '1123338000', 'negativeGoodwill': 'None', 'warrants': 'None', 'preferredStockRedeemable': 'None', 'capitalSurplus': '547763000', 'liabilitiesAndShareholderEquity': '3030200000', 'cashAndShortTermInvestments': '1014080000', 'accumulatedDepreciation': '-90577000', 'commonStockSharesOutstanding': '71000000'}, {'fiscalDateEnding': '2016-03-31', 'reportedCurrency': 'USD', 'totalAssets': '2763248000', 'intangibleAssets': '0', 'earningAssets': 'None', 'otherCurrentAssets': '410650000', 'totalLiabilities': '1485480000', 'totalShareholderEquity': '1277768000', 'deferredLongTermLiabilities': '262781000', 'otherCurrentLiabilities': '491567000', 'commonStock': '7000', 'retainedEarnings': '860674000', 'otherLiabilities': '20179000', 'goodwill': '0', 'otherAssets': '355192000', 'cash': '902809000', 'totalCurrentLiabilities': '567596000', 'shortTermDebt': '53012000', 'currentLongTermDebt': 'None', 'otherShareholderEquity': '-1511000', 'propertyPlantEquipment': '1338742000', 'totalCurrentAssets': '1069314000', 'longTermInvestments': 'None', 'netTangibleAssets': '1277768000', 'shortTermInvestments': '0', 'netReceivables': '111047000', 'longTermDebt': '655103000', 'inventory': '0', 'accountsPayable': '23017000', 'totalPermanentEquity': '0', 'additionalPaidInCapital': '0', 'commonStockTotalEquity': '7000', 'preferredStockTotalEquity': '0', 'retainedEarningsTotalEquity': '860674000', 'treasuryStock': '-126779000', 'accumulatedAmortization': 'None', 'otherNonCurrrentAssets': 'None', 'deferredLongTermAssetCharges': 'None', 'totalNonCurrentAssets': '1338742000', 'capitalLeaseObligations': 'None', 'totalLongTermDebt': '655103000', 'otherNonCurrentLiabilities': 'None', 'totalNonCurrentLiabilities': '917884000', 'negativeGoodwill': 'None', 'warrants': 'None', 'preferredStockRedeemable': 'None', 'capitalSurplus': '545377000', 'liabilitiesAndShareholderEquity': '2763248000', 'cashAndShortTermInvestments': '902809000', 'accumulatedDepreciation': '-76703000', 'commonStockSharesOutstanding': '72000000'}, {'fiscalDateEnding': '2015-12-31', 'reportedCurrency': 'USD', 'totalAssets': '2530545000', 'intangibleAssets': '0', 'earningAssets': 'None', 'otherCurrentAssets': '776891000', 'totalLiabilities': '1305235000', 'totalShareholderEquity': '1225310000', 'deferredLongTermLiabilities': '242302000', 'otherCurrentLiabilities': '392660000', 'commonStock': '7000', 'retainedEarnings': '797208000', 'otherLiabilities': '20821000', 'goodwill': '0', 'otherAssets': '373151000', 'cash': '803632000', 'totalCurrentLiabilities': '466240000', 'shortTermDebt': '49637000', 'currentLongTermDebt': '49637000', 'otherShareholderEquity': '-1546000', 'propertyPlantEquipment': '844217000', 'totalCurrentAssets': '1026340000', 'longTermInvestments': 'None', 'netTangibleAssets': '1225310000', 'shortTermInvestments': '0', 'netReceivables': '105805000', 'longTermDebt': '596693000', 'inventory': '0', 'accountsPayable': '17043000', 'totalPermanentEquity': '0', 'additionalPaidInCapital': '0', 'commonStockTotalEquity': '7000', 'preferredStockTotalEquity': '0', 'retainedEarningsTotalEquity': '798754000', 'treasuryStock': '-116182000', 'accumulatedAmortization': 'None', 'otherNonCurrrentAssets': 'None', 'deferredLongTermAssetCharges': 'None', 'totalNonCurrentAssets': '844217000', 'capitalLeaseObligations': 'None', 'totalLongTermDebt': '596693000', 'otherNonCurrentLiabilities': 'None', 'totalNonCurrentLiabilities': '838995000', 'negativeGoodwill': 'None', 'warrants': 'None', 'preferredStockRedeemable': 'None', 'capitalSurplus': '544277000', 'liabilitiesAndShareholderEquity': '2530545000', 'cashAndShortTermInvestments': '803632000', 'accumulatedDepreciation': 'None', 'commonStockSharesOutstanding': '72000000'}, {'fiscalDateEnding': '2015-09-30', 'reportedCurrency': 'USD', 'totalAssets': '2276922000', 'intangibleAssets': '0', 'earningAssets': 'None', 'otherCurrentAssets': '701254000', 'totalLiabilities': '1128249000', 'totalShareholderEquity': '1148673000', 'deferredLongTermLiabilities': '161219000', 'otherCurrentLiabilities': '413302000', 'commonStock': '7000', 'retainedEarnings': '724354000', 'otherLiabilities': '21760000', 'goodwill': '0', 'otherAssets': '372588000', 'cash': '748896000', 'totalCurrentLiabilities': '466883000', 'shortTermDebt': '37758000', 'currentLongTermDebt': 'None', 'otherShareholderEquity': '-1627000', 'propertyPlantEquipment': '710218000', 'totalCurrentAssets': '918572000', 'longTermInvestments': 'None', 'netTangibleAssets': '1148673000', 'shortTermInvestments': '0', 'netReceivables': '116554000', 'longTermDebt': '500147000', 'inventory': '0', 'accountsPayable': '15823000', 'totalPermanentEquity': '0', 'additionalPaidInCapital': '0', 'commonStockTotalEquity': '7000', 'preferredStockTotalEquity': '0', 'retainedEarningsTotalEquity': '724354000', 'treasuryStock': '-116083000', 'accumulatedAmortization': 'None', 'otherNonCurrrentAssets': 'None', 'deferredLongTermAssetCharges': 'None', 'totalNonCurrentAssets': '710218000', 'capitalLeaseObligations': 'None', 'totalLongTermDebt': '500147000', 'otherNonCurrentLiabilities': 'None', 'totalNonCurrentLiabilities': '661366000', 'negativeGoodwill': 'None', 'warrants': 'None', 'preferredStockRedeemable': 'None', 'capitalSurplus': '542022000', 'liabilitiesAndShareholderEquity': '2276922000', 'cashAndShortTermInvestments': '748896000', 'accumulatedDepreciation': 'None', 'commonStockSharesOutstanding': '72000000'}]}\n",
      "Index(['fiscalDateEnding', 'reportedCurrency', 'totalAssets',\n",
      "       'intangibleAssets', 'earningAssets', 'otherCurrentAssets',\n",
      "       'totalLiabilities', 'totalShareholderEquity',\n",
      "       'deferredLongTermLiabilities', 'otherCurrentLiabilities', 'commonStock',\n",
      "       'retainedEarnings', 'otherLiabilities', 'goodwill', 'otherAssets',\n",
      "       'cash', 'totalCurrentLiabilities', 'shortTermDebt',\n",
      "       'currentLongTermDebt', 'otherShareholderEquity',\n",
      "       'propertyPlantEquipment', 'totalCurrentAssets', 'longTermInvestments',\n",
      "       'netTangibleAssets', 'shortTermInvestments', 'netReceivables',\n",
      "       'longTermDebt', 'inventory', 'accountsPayable', 'totalPermanentEquity',\n",
      "       'additionalPaidInCapital', 'commonStockTotalEquity',\n",
      "       'preferredStockTotalEquity', 'retainedEarningsTotalEquity',\n",
      "       'treasuryStock', 'accumulatedAmortization', 'otherNonCurrrentAssets',\n",
      "       'deferredLongTermAssetCharges', 'totalNonCurrentAssets',\n",
      "       'capitalLeaseObligations', 'totalLongTermDebt',\n",
      "       'otherNonCurrentLiabilities', 'totalNonCurrentLiabilities',\n",
      "       'negativeGoodwill', 'warrants', 'preferredStockRedeemable',\n",
      "       'capitalSurplus', 'liabilitiesAndShareholderEquity',\n",
      "       'cashAndShortTermInvestments', 'accumulatedDepreciation',\n",
      "       'commonStockSharesOutstanding'],\n",
      "      dtype='object')\n"
     ]
    }
   ],
   "source": [
    "# Read the income statements\n",
    "base_url = 'https://www.alphavantage.co/query?'\n",
    "params = {'function': 'BALANCE_SHEET',\n",
    "         'symbol': 'SAVE',\n",
    "         'output_format':'pandas',\n",
    "         'apikey':API_KEY}\n",
    "\n",
    "response = requests.get(base_url, params=params)\n",
    "saveIncome = response.json()\n",
    "print(saveIncome)\n",
    "quarterly = saveIncome['quarterlyReports']\n",
    "quarterly = pd.DataFrame(quarterly)\n",
    "print(quarterly.columns)"
   ]
  },
  {
   "cell_type": "code",
   "execution_count": null,
   "metadata": {},
   "outputs": [],
   "source": []
  }
 ],
 "metadata": {
  "kernelspec": {
   "display_name": "Python 3",
   "language": "python",
   "name": "python3"
  },
  "language_info": {
   "codemirror_mode": {
    "name": "ipython",
    "version": 3
   },
   "file_extension": ".py",
   "mimetype": "text/x-python",
   "name": "python",
   "nbconvert_exporter": "python",
   "pygments_lexer": "ipython3",
   "version": "3.8.3"
  }
 },
 "nbformat": 4,
 "nbformat_minor": 4
}
